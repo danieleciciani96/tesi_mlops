{
 "cells": [
  {
   "cell_type": "code",
   "execution_count": 12,
   "id": "d2f8e575-5fed-4078-942e-a8c6d2fac8f6",
   "metadata": {},
   "outputs": [],
   "source": [
    "import numpy as np\n",
    "from sklearn import preprocessing\n",
    "import matplotlib.pyplot as plt\n",
    "import seaborn as sns \n",
    "\n",
    "from utils import *\n",
    "\n",
    "from sklearn import preprocessing\n",
    "from sklearn.preprocessing import MinMaxScaler\n",
    "from sklearn.linear_model import LogisticRegression\n",
    "from sklearn.linear_model import SGDClassifier\n",
    "from sklearn.model_selection import GridSearchCV\n",
    "from sklearn.metrics import f1_score\n",
    "from sklearn.model_selection import TimeSeriesSplit\n",
    "from sklearn.metrics import confusion_matrix\n",
    "from sklearn.ensemble import RandomForestClassifier\n",
    "from xgboost import XGBClassifier\n",
    "#from prettytable import PrettyTable\n",
    "\n",
    "import warnings\n",
    "warnings.filterwarnings(\"ignore\")"
   ]
  },
  {
   "cell_type": "code",
   "execution_count": 19,
   "id": "65985337-2e84-40b6-bea5-e4e18133efcb",
   "metadata": {},
   "outputs": [
    {
     "data": {
      "text/html": [
       "<div>\n",
       "<style scoped>\n",
       "    .dataframe tbody tr th:only-of-type {\n",
       "        vertical-align: middle;\n",
       "    }\n",
       "\n",
       "    .dataframe tbody tr th {\n",
       "        vertical-align: top;\n",
       "    }\n",
       "\n",
       "    .dataframe thead th {\n",
       "        text-align: right;\n",
       "    }\n",
       "</style>\n",
       "<table border=\"1\" class=\"dataframe\">\n",
       "  <thead>\n",
       "    <tr style=\"text-align: right;\">\n",
       "      <th></th>\n",
       "      <th>sensor_00</th>\n",
       "      <th>sensor_02</th>\n",
       "      <th>sensor_04</th>\n",
       "      <th>sensor_06</th>\n",
       "      <th>sensor_07</th>\n",
       "      <th>sensor_08</th>\n",
       "      <th>sensor_09</th>\n",
       "      <th>sensor_10</th>\n",
       "      <th>sensor_11</th>\n",
       "      <th>sensor_51</th>\n",
       "      <th>machine_status</th>\n",
       "    </tr>\n",
       "  </thead>\n",
       "  <tbody>\n",
       "    <tr>\n",
       "      <th>0</th>\n",
       "      <td>0.045434</td>\n",
       "      <td>1.57934</td>\n",
       "      <td>8.758089</td>\n",
       "      <td>-0.453763</td>\n",
       "      <td>-0.034163</td>\n",
       "      <td>0.089913</td>\n",
       "      <td>-0.032542</td>\n",
       "      <td>-7.029266</td>\n",
       "      <td>2.770839</td>\n",
       "      <td>4.999103</td>\n",
       "      <td>1.0</td>\n",
       "    </tr>\n",
       "    <tr>\n",
       "      <th>1</th>\n",
       "      <td>0.045434</td>\n",
       "      <td>1.57934</td>\n",
       "      <td>8.758089</td>\n",
       "      <td>-0.453763</td>\n",
       "      <td>-0.034163</td>\n",
       "      <td>0.089913</td>\n",
       "      <td>-0.032542</td>\n",
       "      <td>-7.029266</td>\n",
       "      <td>2.770839</td>\n",
       "      <td>4.999103</td>\n",
       "      <td>1.0</td>\n",
       "    </tr>\n",
       "    <tr>\n",
       "      <th>2</th>\n",
       "      <td>0.024774</td>\n",
       "      <td>1.57934</td>\n",
       "      <td>13.271989</td>\n",
       "      <td>-0.540573</td>\n",
       "      <td>-0.128193</td>\n",
       "      <td>0.140553</td>\n",
       "      <td>-0.075942</td>\n",
       "      <td>-6.388896</td>\n",
       "      <td>3.423849</td>\n",
       "      <td>7.313903</td>\n",
       "      <td>1.0</td>\n",
       "    </tr>\n",
       "    <tr>\n",
       "      <th>3</th>\n",
       "      <td>0.040514</td>\n",
       "      <td>1.53594</td>\n",
       "      <td>2.508089</td>\n",
       "      <td>-0.547803</td>\n",
       "      <td>0.081587</td>\n",
       "      <td>0.220123</td>\n",
       "      <td>-0.003602</td>\n",
       "      <td>-5.676896</td>\n",
       "      <td>3.902689</td>\n",
       "      <td>6.735203</td>\n",
       "      <td>1.0</td>\n",
       "    </tr>\n",
       "    <tr>\n",
       "      <th>4</th>\n",
       "      <td>0.025758</td>\n",
       "      <td>1.57934</td>\n",
       "      <td>10.841389</td>\n",
       "      <td>-0.511633</td>\n",
       "      <td>0.045417</td>\n",
       "      <td>0.220123</td>\n",
       "      <td>-0.003602</td>\n",
       "      <td>-4.767276</td>\n",
       "      <td>4.309599</td>\n",
       "      <td>4.999103</td>\n",
       "      <td>1.0</td>\n",
       "    </tr>\n",
       "  </tbody>\n",
       "</table>\n",
       "</div>"
      ],
      "text/plain": [
       "   sensor_00  sensor_02  sensor_04  sensor_06  sensor_07  sensor_08  \\\n",
       "0   0.045434    1.57934   8.758089  -0.453763  -0.034163   0.089913   \n",
       "1   0.045434    1.57934   8.758089  -0.453763  -0.034163   0.089913   \n",
       "2   0.024774    1.57934  13.271989  -0.540573  -0.128193   0.140553   \n",
       "3   0.040514    1.53594   2.508089  -0.547803   0.081587   0.220123   \n",
       "4   0.025758    1.57934  10.841389  -0.511633   0.045417   0.220123   \n",
       "\n",
       "   sensor_09  sensor_10  sensor_11  sensor_51  machine_status  \n",
       "0  -0.032542  -7.029266   2.770839   4.999103             1.0  \n",
       "1  -0.032542  -7.029266   2.770839   4.999103             1.0  \n",
       "2  -0.075942  -6.388896   3.423849   7.313903             1.0  \n",
       "3  -0.003602  -5.676896   3.902689   6.735203             1.0  \n",
       "4  -0.003602  -4.767276   4.309599   4.999103             1.0  "
      ]
     },
     "execution_count": 19,
     "metadata": {},
     "output_type": "execute_result"
    }
   ],
   "source": [
    "path_data = \"./data/pump_sensors_processed.csv\"\n",
    "data = pd.read_csv(path_data)\n",
    "data.head()"
   ]
  },
  {
   "cell_type": "code",
   "execution_count": 20,
   "id": "2ac6f7c4-03e8-43bc-b66d-f8ff48a828b1",
   "metadata": {},
   "outputs": [
    {
     "name": "stdout",
     "output_type": "stream",
     "text": [
      "(208775, 11)\n",
      "Index(['sensor_00', 'sensor_02', 'sensor_04', 'sensor_06', 'sensor_07',\n",
      "       'sensor_08', 'sensor_09', 'sensor_10', 'sensor_11', 'sensor_51',\n",
      "       'machine_status'],\n",
      "      dtype='object')\n"
     ]
    }
   ],
   "source": [
    "import pandas as pd\n",
    "\n",
    "print(data.shape)\n",
    "print(data.keys())"
   ]
  },
  {
   "cell_type": "code",
   "execution_count": 21,
   "id": "ce3d5c5c-5303-4663-9318-7b4ec67c7929",
   "metadata": {},
   "outputs": [
    {
     "data": {
      "text/html": [
       "<div>\n",
       "<style scoped>\n",
       "    .dataframe tbody tr th:only-of-type {\n",
       "        vertical-align: middle;\n",
       "    }\n",
       "\n",
       "    .dataframe tbody tr th {\n",
       "        vertical-align: top;\n",
       "    }\n",
       "\n",
       "    .dataframe thead th {\n",
       "        text-align: right;\n",
       "    }\n",
       "</style>\n",
       "<table border=\"1\" class=\"dataframe\">\n",
       "  <thead>\n",
       "    <tr style=\"text-align: right;\">\n",
       "      <th></th>\n",
       "      <th>sensor_00</th>\n",
       "      <th>sensor_02</th>\n",
       "      <th>sensor_04</th>\n",
       "      <th>sensor_06</th>\n",
       "      <th>sensor_07</th>\n",
       "      <th>sensor_08</th>\n",
       "      <th>sensor_09</th>\n",
       "      <th>sensor_10</th>\n",
       "      <th>sensor_11</th>\n",
       "      <th>sensor_51</th>\n",
       "      <th>machine_status</th>\n",
       "    </tr>\n",
       "  </thead>\n",
       "  <tbody>\n",
       "    <tr>\n",
       "      <th>0</th>\n",
       "      <td>0.045434</td>\n",
       "      <td>1.57934</td>\n",
       "      <td>8.758089</td>\n",
       "      <td>-0.453763</td>\n",
       "      <td>-0.034163</td>\n",
       "      <td>0.089913</td>\n",
       "      <td>-0.032542</td>\n",
       "      <td>-7.029266</td>\n",
       "      <td>2.770839</td>\n",
       "      <td>4.999103</td>\n",
       "      <td>1.0</td>\n",
       "    </tr>\n",
       "    <tr>\n",
       "      <th>1</th>\n",
       "      <td>0.045434</td>\n",
       "      <td>1.57934</td>\n",
       "      <td>8.758089</td>\n",
       "      <td>-0.453763</td>\n",
       "      <td>-0.034163</td>\n",
       "      <td>0.089913</td>\n",
       "      <td>-0.032542</td>\n",
       "      <td>-7.029266</td>\n",
       "      <td>2.770839</td>\n",
       "      <td>4.999103</td>\n",
       "      <td>1.0</td>\n",
       "    </tr>\n",
       "    <tr>\n",
       "      <th>2</th>\n",
       "      <td>0.024774</td>\n",
       "      <td>1.57934</td>\n",
       "      <td>13.271989</td>\n",
       "      <td>-0.540573</td>\n",
       "      <td>-0.128193</td>\n",
       "      <td>0.140553</td>\n",
       "      <td>-0.075942</td>\n",
       "      <td>-6.388896</td>\n",
       "      <td>3.423849</td>\n",
       "      <td>7.313903</td>\n",
       "      <td>1.0</td>\n",
       "    </tr>\n",
       "    <tr>\n",
       "      <th>3</th>\n",
       "      <td>0.040514</td>\n",
       "      <td>1.53594</td>\n",
       "      <td>2.508089</td>\n",
       "      <td>-0.547803</td>\n",
       "      <td>0.081587</td>\n",
       "      <td>0.220123</td>\n",
       "      <td>-0.003602</td>\n",
       "      <td>-5.676896</td>\n",
       "      <td>3.902689</td>\n",
       "      <td>6.735203</td>\n",
       "      <td>1.0</td>\n",
       "    </tr>\n",
       "    <tr>\n",
       "      <th>4</th>\n",
       "      <td>0.025758</td>\n",
       "      <td>1.57934</td>\n",
       "      <td>10.841389</td>\n",
       "      <td>-0.511633</td>\n",
       "      <td>0.045417</td>\n",
       "      <td>0.220123</td>\n",
       "      <td>-0.003602</td>\n",
       "      <td>-4.767276</td>\n",
       "      <td>4.309599</td>\n",
       "      <td>4.999103</td>\n",
       "      <td>1.0</td>\n",
       "    </tr>\n",
       "  </tbody>\n",
       "</table>\n",
       "</div>"
      ],
      "text/plain": [
       "   sensor_00  sensor_02  sensor_04  sensor_06  sensor_07  sensor_08  \\\n",
       "0   0.045434    1.57934   8.758089  -0.453763  -0.034163   0.089913   \n",
       "1   0.045434    1.57934   8.758089  -0.453763  -0.034163   0.089913   \n",
       "2   0.024774    1.57934  13.271989  -0.540573  -0.128193   0.140553   \n",
       "3   0.040514    1.53594   2.508089  -0.547803   0.081587   0.220123   \n",
       "4   0.025758    1.57934  10.841389  -0.511633   0.045417   0.220123   \n",
       "\n",
       "   sensor_09  sensor_10  sensor_11  sensor_51  machine_status  \n",
       "0  -0.032542  -7.029266   2.770839   4.999103             1.0  \n",
       "1  -0.032542  -7.029266   2.770839   4.999103             1.0  \n",
       "2  -0.075942  -6.388896   3.423849   7.313903             1.0  \n",
       "3  -0.003602  -5.676896   3.902689   6.735203             1.0  \n",
       "4  -0.003602  -4.767276   4.309599   4.999103             1.0  "
      ]
     },
     "execution_count": 21,
     "metadata": {},
     "output_type": "execute_result"
    }
   ],
   "source": [
    "data.head()"
   ]
  },
  {
   "cell_type": "code",
   "execution_count": null,
   "id": "f4a91ccd-409b-4f89-b1b3-1c0fb794db05",
   "metadata": {},
   "outputs": [],
   "source": []
  },
  {
   "cell_type": "markdown",
   "id": "46516387-5a22-4683-a6fe-8a83acb8a0ae",
   "metadata": {},
   "source": [
    "## LSTM"
   ]
  },
  {
   "cell_type": "code",
   "execution_count": 22,
   "id": "2e1f2418-4d8d-4913-b958-262449779a01",
   "metadata": {},
   "outputs": [],
   "source": [
    "def series_to_supervised(data, n_in=1, n_out=1, dropnan=True):\n",
    "    n_vars = 1 if type(data) is list else data.shape[1]\n",
    "    dff = pd.DataFrame(data)\n",
    "    cols, names = list(), list()\n",
    "    for i in range(n_in, 0, -1):\n",
    "        cols.append(dff.shift(-i))\n",
    "        names += [('var%d(t-%d)' % (j+1, i)) for j in range(n_vars)]\n",
    "    for i in range(0, n_out):\n",
    "        cols.append(dff.shift(-i))\n",
    "        if i==0:\n",
    "            names += [('var%d(t)' % (j+1)) for j in range(n_vars)]\n",
    "        else:\n",
    "            names += [('var%d(t+%d)' % (j+1)) for j in range(n_vars)]        \n",
    "        agg = pd.concat(cols, axis=1)\n",
    "        agg.columns = names\n",
    "        if dropnan:\n",
    "            agg.dropna(inplace=True)\n",
    "        return agg"
   ]
  },
  {
   "cell_type": "code",
   "execution_count": 23,
   "id": "8b4cc5f1-c72b-42b6-b6ae-0d4c57d1c7a0",
   "metadata": {
    "tags": []
   },
   "outputs": [],
   "source": [
    "values_2 = datafull.values\n",
    "n_train_time = 130000\n",
    "train = values_2[:n_train_time, :]\n",
    "test = values_2[n_train_time:, :]\n",
    "train_x, train_y = train[:, :-1], train[:, -1]\n",
    "test_x, test_y = test[:, :-1], test[:, -1]\n",
    "train_x = train_x.reshape((train_x.shape[0], 1, train_x.shape[1]))\n",
    "test_x = test_x.reshape((test_x.shape[0], 1, test_x.shape[1]))"
   ]
  },
  {
   "cell_type": "code",
   "execution_count": 24,
   "id": "13e1d896-0f92-4e7e-9aaa-f41829e40b2d",
   "metadata": {},
   "outputs": [
    {
     "data": {
      "text/html": [
       "<div>\n",
       "<style scoped>\n",
       "    .dataframe tbody tr th:only-of-type {\n",
       "        vertical-align: middle;\n",
       "    }\n",
       "\n",
       "    .dataframe tbody tr th {\n",
       "        vertical-align: top;\n",
       "    }\n",
       "\n",
       "    .dataframe thead th {\n",
       "        text-align: right;\n",
       "    }\n",
       "</style>\n",
       "<table border=\"1\" class=\"dataframe\">\n",
       "  <thead>\n",
       "    <tr style=\"text-align: right;\">\n",
       "      <th></th>\n",
       "      <th>var1(t-1)</th>\n",
       "      <th>var2(t-1)</th>\n",
       "      <th>var3(t-1)</th>\n",
       "      <th>var4(t-1)</th>\n",
       "      <th>var5(t-1)</th>\n",
       "      <th>var6(t-1)</th>\n",
       "      <th>var7(t-1)</th>\n",
       "      <th>var8(t-1)</th>\n",
       "      <th>var9(t-1)</th>\n",
       "      <th>var10(t-1)</th>\n",
       "      <th>var11(t-1)</th>\n",
       "      <th>var1(t)</th>\n",
       "    </tr>\n",
       "  </thead>\n",
       "  <tbody>\n",
       "    <tr>\n",
       "      <th>0</th>\n",
       "      <td>0.967194</td>\n",
       "      <td>0.873046</td>\n",
       "      <td>0.792242</td>\n",
       "      <td>0.626734</td>\n",
       "      <td>0.683630</td>\n",
       "      <td>0.638905</td>\n",
       "      <td>0.602026</td>\n",
       "      <td>0.489146</td>\n",
       "      <td>0.792070</td>\n",
       "      <td>0.395641</td>\n",
       "      <td>1.0</td>\n",
       "      <td>0.967194</td>\n",
       "    </tr>\n",
       "    <tr>\n",
       "      <th>1</th>\n",
       "      <td>0.959089</td>\n",
       "      <td>0.873046</td>\n",
       "      <td>0.797904</td>\n",
       "      <td>0.622673</td>\n",
       "      <td>0.679645</td>\n",
       "      <td>0.640988</td>\n",
       "      <td>0.600290</td>\n",
       "      <td>0.497561</td>\n",
       "      <td>0.802954</td>\n",
       "      <td>0.400925</td>\n",
       "      <td>1.0</td>\n",
       "      <td>0.967194</td>\n",
       "    </tr>\n",
       "    <tr>\n",
       "      <th>2</th>\n",
       "      <td>0.965264</td>\n",
       "      <td>0.871093</td>\n",
       "      <td>0.784402</td>\n",
       "      <td>0.622335</td>\n",
       "      <td>0.688535</td>\n",
       "      <td>0.644259</td>\n",
       "      <td>0.603184</td>\n",
       "      <td>0.506916</td>\n",
       "      <td>0.810935</td>\n",
       "      <td>0.399604</td>\n",
       "      <td>1.0</td>\n",
       "      <td>0.959089</td>\n",
       "    </tr>\n",
       "    <tr>\n",
       "      <th>3</th>\n",
       "      <td>0.959475</td>\n",
       "      <td>0.873046</td>\n",
       "      <td>0.794855</td>\n",
       "      <td>0.624027</td>\n",
       "      <td>0.687002</td>\n",
       "      <td>0.644259</td>\n",
       "      <td>0.603184</td>\n",
       "      <td>0.518868</td>\n",
       "      <td>0.817716</td>\n",
       "      <td>0.395641</td>\n",
       "      <td>1.0</td>\n",
       "      <td>0.965264</td>\n",
       "    </tr>\n",
       "    <tr>\n",
       "      <th>4</th>\n",
       "      <td>0.962563</td>\n",
       "      <td>0.871093</td>\n",
       "      <td>0.796307</td>\n",
       "      <td>0.626734</td>\n",
       "      <td>0.685162</td>\n",
       "      <td>0.652290</td>\n",
       "      <td>0.606368</td>\n",
       "      <td>0.516301</td>\n",
       "      <td>0.822842</td>\n",
       "      <td>0.396301</td>\n",
       "      <td>1.0</td>\n",
       "      <td>0.959475</td>\n",
       "    </tr>\n",
       "  </tbody>\n",
       "</table>\n",
       "</div>"
      ],
      "text/plain": [
       "   var1(t-1)  var2(t-1)  var3(t-1)  var4(t-1)  var5(t-1)  var6(t-1)  \\\n",
       "0   0.967194   0.873046   0.792242   0.626734   0.683630   0.638905   \n",
       "1   0.959089   0.873046   0.797904   0.622673   0.679645   0.640988   \n",
       "2   0.965264   0.871093   0.784402   0.622335   0.688535   0.644259   \n",
       "3   0.959475   0.873046   0.794855   0.624027   0.687002   0.644259   \n",
       "4   0.962563   0.871093   0.796307   0.626734   0.685162   0.652290   \n",
       "\n",
       "   var7(t-1)  var8(t-1)  var9(t-1)  var10(t-1)  var11(t-1)   var1(t)  \n",
       "0   0.602026   0.489146   0.792070    0.395641         1.0  0.967194  \n",
       "1   0.600290   0.497561   0.802954    0.400925         1.0  0.967194  \n",
       "2   0.603184   0.506916   0.810935    0.399604         1.0  0.959089  \n",
       "3   0.603184   0.518868   0.817716    0.395641         1.0  0.965264  \n",
       "4   0.606368   0.516301   0.822842    0.396301         1.0  0.959475  "
      ]
     },
     "execution_count": 24,
     "metadata": {},
     "output_type": "execute_result"
    }
   ],
   "source": [
    "from sklearn.preprocessing import MinMaxScaler\n",
    "\n",
    "values = datafull.values\n",
    "scaler = MinMaxScaler(feature_range=(0, 1))\n",
    "scaled = scaler.fit_transform(values)\n",
    "reframed = series_to_supervised(scaled, 1, 1)\n",
    "r = list(range(datafull.shape[1]+1, 2*datafull.shape[1]))\n",
    "reframed.drop(reframed.columns[r], axis=1, inplace=True)\n",
    "reframed.head()"
   ]
  },
  {
   "cell_type": "code",
   "execution_count": 25,
   "id": "3af2f588-8102-4951-9078-dc28bd1fa71e",
   "metadata": {},
   "outputs": [],
   "source": [
    "# Data spliting into train and test data series.\n",
    "values = reframed.values\n",
    "n_train_time = 130000\n",
    "train = values[:n_train_time, :]\n",
    "test = values[n_train_time:, :]\n",
    "train_x, train_y = train[:, :-1], train[:, -1]\n",
    "test_x, test_y = test[:, :-1], test[:, -1]\n",
    "train_x = train_x.reshape((train_x.shape[0], 1, train_x.shape[1]))\n",
    "test_x = test_x.reshape((test_x.shape[0], 1, test_x.shape[1]))"
   ]
  },
  {
   "cell_type": "code",
   "execution_count": 26,
   "id": "44ad4431-53da-4a4b-b4a4-0625b2d7d620",
   "metadata": {},
   "outputs": [
    {
     "data": {
      "text/plain": [
       "array([0.30760329, 0.30837515, 0.30953301, ..., 0.94326517, 0.94172143,\n",
       "       0.94326517])"
      ]
     },
     "execution_count": 26,
     "metadata": {},
     "output_type": "execute_result"
    }
   ],
   "source": [
    "test_y"
   ]
  },
  {
   "cell_type": "code",
   "execution_count": 27,
   "id": "0e864fd1-c25c-43bb-8c62-ab4c5861be6c",
   "metadata": {},
   "outputs": [
    {
     "data": {
      "text/plain": [
       "(78774, 12)"
      ]
     },
     "execution_count": 27,
     "metadata": {},
     "output_type": "execute_result"
    }
   ],
   "source": [
    "test.shape"
   ]
  },
  {
   "cell_type": "code",
   "execution_count": 28,
   "id": "086b8d70-29d6-431e-9769-3944ca5af290",
   "metadata": {},
   "outputs": [
    {
     "data": {
      "text/plain": [
       "(78774, 1, 11)"
      ]
     },
     "execution_count": 28,
     "metadata": {},
     "output_type": "execute_result"
    }
   ],
   "source": [
    "test_x.shape"
   ]
  },
  {
   "cell_type": "code",
   "execution_count": 29,
   "id": "7f2279ee-aa4b-4561-aee5-9bbba49b9b87",
   "metadata": {},
   "outputs": [
    {
     "data": {
      "text/plain": [
       "(130000,)"
      ]
     },
     "execution_count": 29,
     "metadata": {},
     "output_type": "execute_result"
    }
   ],
   "source": [
    "train_y.shape"
   ]
  },
  {
   "cell_type": "code",
   "execution_count": 30,
   "id": "cd370104-3061-40c2-a0a9-677fa7c5f5d4",
   "metadata": {},
   "outputs": [
    {
     "data": {
      "text/plain": [
       "(78774,)"
      ]
     },
     "execution_count": 30,
     "metadata": {},
     "output_type": "execute_result"
    }
   ],
   "source": [
    "test_y.shape"
   ]
  },
  {
   "cell_type": "code",
   "execution_count": 31,
   "id": "79c4ddbf-641d-4745-abd6-195a4b448a72",
   "metadata": {},
   "outputs": [],
   "source": [
    "def recall_m(y_true, y_pred):\n",
    "    true_positives = K.sum(K.round(K.clip(y_true * y_pred, 0, 1)))\n",
    "    possible_positives = K.sum(K.round(K.clip(y_true, 0, 1)))\n",
    "    recall = true_positives / (possible_positives + K.epsilon())\n",
    "    return recall\n",
    "\n",
    "def precision_m(y_true, y_pred):\n",
    "    true_positives = K.sum(K.round(K.clip(y_true * y_pred, 0, 1)))\n",
    "    predicted_positives = K.sum(K.round(K.clip(y_pred, 0, 1)))\n",
    "    precision = true_positives / (predicted_positives + K.epsilon())\n",
    "    return precision\n",
    "\n",
    "def f1_m(y_true, y_pred):\n",
    "    precision = precision_m(y_true, y_pred)\n",
    "    recall = recall_m(y_true, y_pred)\n",
    "    return 2*((precision*recall)/(precision+recall+K.epsilon()))"
   ]
  },
  {
   "cell_type": "code",
   "execution_count": 32,
   "id": "da2df2d3-b235-4e5a-9b9b-e5e916ae9f8c",
   "metadata": {},
   "outputs": [
    {
     "name": "stderr",
     "output_type": "stream",
     "text": [
      "2022-10-12 13:42:39.207929: I tensorflow/core/platform/cpu_feature_guard.cc:193] This TensorFlow binary is optimized with oneAPI Deep Neural Network Library (oneDNN) to use the following CPU instructions in performance-critical operations:  AVX2 AVX512F FMA\n",
      "To enable them in other operations, rebuild TensorFlow with the appropriate compiler flags.\n",
      "2022-10-12 13:42:41.973758: W tensorflow/stream_executor/platform/default/dso_loader.cc:64] Could not load dynamic library 'libcudart.so.11.0'; dlerror: libcudart.so.11.0: cannot open shared object file: No such file or directory; LD_LIBRARY_PATH: :/usr/lib/hadoop/lib/native\n",
      "2022-10-12 13:42:41.973786: I tensorflow/stream_executor/cuda/cudart_stub.cc:29] Ignore above cudart dlerror if you do not have a GPU set up on your machine.\n",
      "2022-10-12 13:42:42.046388: E tensorflow/stream_executor/cuda/cuda_blas.cc:2981] Unable to register cuBLAS factory: Attempting to register factory for plugin cuBLAS when one has already been registered\n",
      "2022-10-12 13:42:49.552808: W tensorflow/stream_executor/platform/default/dso_loader.cc:64] Could not load dynamic library 'libnvinfer.so.7'; dlerror: libnvinfer.so.7: cannot open shared object file: No such file or directory; LD_LIBRARY_PATH: :/usr/lib/hadoop/lib/native\n",
      "2022-10-12 13:42:49.558988: W tensorflow/stream_executor/platform/default/dso_loader.cc:64] Could not load dynamic library 'libnvinfer_plugin.so.7'; dlerror: libnvinfer_plugin.so.7: cannot open shared object file: No such file or directory; LD_LIBRARY_PATH: :/usr/lib/hadoop/lib/native\n",
      "2022-10-12 13:42:49.559001: W tensorflow/compiler/tf2tensorrt/utils/py_utils.cc:38] TF-TRT Warning: Cannot dlopen some TensorRT libraries. If you would like to use Nvidia GPU with TensorRT, please make sure the missing libraries mentioned above are installed properly.\n",
      "2022-10-12 13:43:02.214136: W tensorflow/stream_executor/platform/default/dso_loader.cc:64] Could not load dynamic library 'libcuda.so.1'; dlerror: libcuda.so.1: cannot open shared object file: No such file or directory; LD_LIBRARY_PATH: :/usr/lib/hadoop/lib/native\n",
      "2022-10-12 13:43:02.214169: W tensorflow/stream_executor/cuda/cuda_driver.cc:263] failed call to cuInit: UNKNOWN ERROR (303)\n",
      "2022-10-12 13:43:02.214189: I tensorflow/stream_executor/cuda/cuda_diagnostics.cc:156] kernel driver does not appear to be running on this host (6g3dit2qpj53kfhe): /proc/driver/nvidia/version does not exist\n",
      "2022-10-12 13:43:02.214640: I tensorflow/core/platform/cpu_feature_guard.cc:193] This TensorFlow binary is optimized with oneAPI Deep Neural Network Library (oneDNN) to use the following CPU instructions in performance-critical operations:  AVX2 AVX512F FMA\n",
      "To enable them in other operations, rebuild TensorFlow with the appropriate compiler flags.\n"
     ]
    },
    {
     "name": "stdout",
     "output_type": "stream",
     "text": [
      "Epoch 1/50\n",
      "1858/1858 - 9s - loss: 0.2135 - f1_m: 0.9471 - val_loss: 0.1483 - val_f1_m: 0.9908 - 9s/epoch - 5ms/step\n",
      "Epoch 2/50\n",
      "1858/1858 - 5s - loss: 0.1839 - f1_m: 0.9488 - val_loss: 0.1414 - val_f1_m: 0.9907 - 5s/epoch - 3ms/step\n",
      "Epoch 3/50\n",
      "1858/1858 - 5s - loss: 0.1814 - f1_m: 0.9490 - val_loss: 0.1422 - val_f1_m: 0.9909 - 5s/epoch - 3ms/step\n",
      "Epoch 4/50\n",
      "1858/1858 - 5s - loss: 0.1806 - f1_m: 0.9490 - val_loss: 0.1441 - val_f1_m: 0.9909 - 5s/epoch - 3ms/step\n",
      "Epoch 5/50\n",
      "1858/1858 - 5s - loss: 0.1803 - f1_m: 0.9491 - val_loss: 0.1447 - val_f1_m: 0.9910 - 5s/epoch - 3ms/step\n",
      "Epoch 6/50\n",
      "1858/1858 - 5s - loss: 0.1802 - f1_m: 0.9491 - val_loss: 0.1453 - val_f1_m: 0.9910 - 5s/epoch - 3ms/step\n",
      "Epoch 7/50\n",
      "1858/1858 - 5s - loss: 0.1800 - f1_m: 0.9491 - val_loss: 0.1455 - val_f1_m: 0.9910 - 5s/epoch - 3ms/step\n",
      "Epoch 8/50\n",
      "1858/1858 - 5s - loss: 0.1799 - f1_m: 0.9492 - val_loss: 0.1453 - val_f1_m: 0.9910 - 5s/epoch - 3ms/step\n",
      "Epoch 9/50\n",
      "1858/1858 - 5s - loss: 0.1798 - f1_m: 0.9492 - val_loss: 0.1448 - val_f1_m: 0.9910 - 5s/epoch - 3ms/step\n",
      "Epoch 10/50\n",
      "1858/1858 - 5s - loss: 0.1797 - f1_m: 0.9492 - val_loss: 0.1446 - val_f1_m: 0.9909 - 5s/epoch - 3ms/step\n",
      "Epoch 11/50\n",
      "1858/1858 - 5s - loss: 0.1796 - f1_m: 0.9492 - val_loss: 0.1447 - val_f1_m: 0.9908 - 5s/epoch - 3ms/step\n",
      "Epoch 12/50\n",
      "1858/1858 - 5s - loss: 0.1795 - f1_m: 0.9493 - val_loss: 0.1445 - val_f1_m: 0.9907 - 5s/epoch - 3ms/step\n",
      "Epoch 13/50\n",
      "1858/1858 - 5s - loss: 0.1794 - f1_m: 0.9493 - val_loss: 0.1440 - val_f1_m: 0.9906 - 5s/epoch - 3ms/step\n",
      "Epoch 14/50\n",
      "1858/1858 - 5s - loss: 0.1793 - f1_m: 0.9493 - val_loss: 0.1436 - val_f1_m: 0.9905 - 5s/epoch - 3ms/step\n",
      "Epoch 15/50\n",
      "1858/1858 - 5s - loss: 0.1792 - f1_m: 0.9493 - val_loss: 0.1437 - val_f1_m: 0.9904 - 5s/epoch - 3ms/step\n",
      "Epoch 16/50\n",
      "1858/1858 - 5s - loss: 0.1792 - f1_m: 0.9495 - val_loss: 0.1437 - val_f1_m: 0.9903 - 5s/epoch - 3ms/step\n",
      "Epoch 17/50\n",
      "1858/1858 - 5s - loss: 0.1792 - f1_m: 0.9495 - val_loss: 0.1435 - val_f1_m: 0.9902 - 5s/epoch - 3ms/step\n",
      "Epoch 18/50\n",
      "1858/1858 - 5s - loss: 0.1791 - f1_m: 0.9496 - val_loss: 0.1433 - val_f1_m: 0.9902 - 5s/epoch - 3ms/step\n",
      "Epoch 19/50\n",
      "1858/1858 - 5s - loss: 0.1790 - f1_m: 0.9497 - val_loss: 0.1433 - val_f1_m: 0.9901 - 5s/epoch - 3ms/step\n",
      "Epoch 20/50\n",
      "1858/1858 - 5s - loss: 0.1790 - f1_m: 0.9497 - val_loss: 0.1434 - val_f1_m: 0.9901 - 5s/epoch - 3ms/step\n",
      "Epoch 21/50\n",
      "1858/1858 - 5s - loss: 0.1789 - f1_m: 0.9498 - val_loss: 0.1431 - val_f1_m: 0.9901 - 5s/epoch - 3ms/step\n",
      "Epoch 22/50\n",
      "1858/1858 - 5s - loss: 0.1789 - f1_m: 0.9498 - val_loss: 0.1431 - val_f1_m: 0.9900 - 5s/epoch - 3ms/step\n",
      "Epoch 23/50\n",
      "1858/1858 - 5s - loss: 0.1789 - f1_m: 0.9499 - val_loss: 0.1432 - val_f1_m: 0.9900 - 5s/epoch - 3ms/step\n",
      "Epoch 24/50\n",
      "1858/1858 - 5s - loss: 0.1788 - f1_m: 0.9500 - val_loss: 0.1431 - val_f1_m: 0.9900 - 5s/epoch - 3ms/step\n",
      "Epoch 25/50\n",
      "1858/1858 - 5s - loss: 0.1788 - f1_m: 0.9500 - val_loss: 0.1431 - val_f1_m: 0.9900 - 5s/epoch - 3ms/step\n",
      "Epoch 26/50\n",
      "1858/1858 - 5s - loss: 0.1788 - f1_m: 0.9500 - val_loss: 0.1431 - val_f1_m: 0.9900 - 5s/epoch - 3ms/step\n",
      "Epoch 27/50\n",
      "1858/1858 - 5s - loss: 0.1787 - f1_m: 0.9500 - val_loss: 0.1431 - val_f1_m: 0.9900 - 5s/epoch - 3ms/step\n",
      "Epoch 28/50\n",
      "1858/1858 - 5s - loss: 0.1787 - f1_m: 0.9501 - val_loss: 0.1431 - val_f1_m: 0.9900 - 5s/epoch - 3ms/step\n",
      "Epoch 29/50\n",
      "1858/1858 - 5s - loss: 0.1787 - f1_m: 0.9501 - val_loss: 0.1431 - val_f1_m: 0.9900 - 5s/epoch - 3ms/step\n",
      "Epoch 30/50\n",
      "1858/1858 - 5s - loss: 0.1787 - f1_m: 0.9502 - val_loss: 0.1429 - val_f1_m: 0.9900 - 5s/epoch - 3ms/step\n",
      "Epoch 31/50\n",
      "1858/1858 - 5s - loss: 0.1786 - f1_m: 0.9502 - val_loss: 0.1430 - val_f1_m: 0.9900 - 5s/epoch - 3ms/step\n",
      "Epoch 32/50\n",
      "1858/1858 - 5s - loss: 0.1786 - f1_m: 0.9502 - val_loss: 0.1427 - val_f1_m: 0.9900 - 5s/epoch - 3ms/step\n",
      "Epoch 33/50\n",
      "1858/1858 - 5s - loss: 0.1786 - f1_m: 0.9502 - val_loss: 0.1428 - val_f1_m: 0.9900 - 5s/epoch - 3ms/step\n",
      "Epoch 34/50\n",
      "1858/1858 - 5s - loss: 0.1786 - f1_m: 0.9503 - val_loss: 0.1429 - val_f1_m: 0.9900 - 5s/epoch - 3ms/step\n",
      "Epoch 35/50\n",
      "1858/1858 - 5s - loss: 0.1785 - f1_m: 0.9503 - val_loss: 0.1428 - val_f1_m: 0.9900 - 5s/epoch - 3ms/step\n",
      "Epoch 36/50\n",
      "1858/1858 - 5s - loss: 0.1785 - f1_m: 0.9503 - val_loss: 0.1428 - val_f1_m: 0.9900 - 5s/epoch - 3ms/step\n",
      "Epoch 37/50\n",
      "1858/1858 - 5s - loss: 0.1785 - f1_m: 0.9503 - val_loss: 0.1426 - val_f1_m: 0.9899 - 5s/epoch - 3ms/step\n",
      "Epoch 38/50\n",
      "1858/1858 - 5s - loss: 0.1785 - f1_m: 0.9502 - val_loss: 0.1427 - val_f1_m: 0.9899 - 5s/epoch - 3ms/step\n",
      "Epoch 39/50\n",
      "1858/1858 - 5s - loss: 0.1784 - f1_m: 0.9504 - val_loss: 0.1424 - val_f1_m: 0.9899 - 5s/epoch - 3ms/step\n",
      "Epoch 40/50\n",
      "1858/1858 - 5s - loss: 0.1784 - f1_m: 0.9502 - val_loss: 0.1425 - val_f1_m: 0.9899 - 5s/epoch - 3ms/step\n",
      "Epoch 41/50\n",
      "1858/1858 - 5s - loss: 0.1784 - f1_m: 0.9503 - val_loss: 0.1423 - val_f1_m: 0.9899 - 5s/epoch - 3ms/step\n",
      "Epoch 42/50\n",
      "1858/1858 - 5s - loss: 0.1784 - f1_m: 0.9503 - val_loss: 0.1424 - val_f1_m: 0.9899 - 5s/epoch - 3ms/step\n",
      "Epoch 43/50\n",
      "1858/1858 - 5s - loss: 0.1783 - f1_m: 0.9503 - val_loss: 0.1422 - val_f1_m: 0.9899 - 5s/epoch - 3ms/step\n",
      "Epoch 44/50\n",
      "1858/1858 - 5s - loss: 0.1783 - f1_m: 0.9503 - val_loss: 0.1422 - val_f1_m: 0.9899 - 5s/epoch - 3ms/step\n",
      "Epoch 45/50\n",
      "1858/1858 - 5s - loss: 0.1783 - f1_m: 0.9503 - val_loss: 0.1422 - val_f1_m: 0.9899 - 5s/epoch - 3ms/step\n",
      "Epoch 46/50\n",
      "1858/1858 - 5s - loss: 0.1783 - f1_m: 0.9503 - val_loss: 0.1421 - val_f1_m: 0.9899 - 5s/epoch - 3ms/step\n",
      "Epoch 47/50\n",
      "1858/1858 - 5s - loss: 0.1782 - f1_m: 0.9504 - val_loss: 0.1420 - val_f1_m: 0.9899 - 5s/epoch - 3ms/step\n",
      "Epoch 48/50\n",
      "1858/1858 - 5s - loss: 0.1782 - f1_m: 0.9504 - val_loss: 0.1418 - val_f1_m: 0.9899 - 5s/epoch - 3ms/step\n",
      "Epoch 49/50\n",
      "1858/1858 - 5s - loss: 0.1782 - f1_m: 0.9503 - val_loss: 0.1420 - val_f1_m: 0.9899 - 5s/epoch - 3ms/step\n",
      "Epoch 50/50\n",
      "1858/1858 - 5s - loss: 0.1781 - f1_m: 0.9502 - val_loss: 0.1418 - val_f1_m: 0.9899 - 5s/epoch - 3ms/step\n"
     ]
    },
    {
     "data": {
      "image/png": "[encoded data removed]",
      "text/plain": [
       "<Figure size 432x288 with 1 Axes>"
      ]
     },
     "metadata": {
      "needs_background": "light"
     },
     "output_type": "display_data"
    }
   ],
   "source": [
    "from keras.models import Sequential\n",
    "from keras.layers import LSTM\n",
    "from keras.layers import Dropout\n",
    "from keras.layers import Dense\n",
    "from sklearn.metrics import mean_squared_error, r2_score\n",
    "import matplotlib.pyplot as plt\n",
    "import numpy as np\n",
    "from keras import backend as K\n",
    "\n",
    "\n",
    "model = Sequential()\n",
    "model.add(LSTM(100, input_shape=(train_x.shape[1], train_x.shape[2])))\n",
    "model.add(Dropout(0.2))\n",
    "model.add(Dense(1, activation='sigmoid') )\n",
    "model.compile(loss='binary_crossentropy', optimizer='adam', metrics=[f1_m])\n",
    "\n",
    "# Network fitting\n",
    "history = model.fit(train_x, train_y, epochs=50, batch_size=70, validation_data=(test_x, test_y), verbose=2, shuffle=False)\n",
    "\n",
    "# Loss history plot\n",
    "plt.plot(history.history['loss'])\n",
    "plt.plot(history.history['val_loss'])\n",
    "plt.title('model loss')\n",
    "plt.ylabel('loss')\n",
    "plt.xlabel('epoch')\n",
    "plt.legend(['train', 'test'], loc='upper right')\n",
    "plt.show()"
   ]
  },
  {
   "cell_type": "code",
   "execution_count": 33,
   "id": "fd3f5dbb-9abf-43a8-88c8-9ae527ede0bb",
   "metadata": {},
   "outputs": [
    {
     "data": {
      "image/png": "[encoded data removed]",
      "text/plain": [
       "<Figure size 432x288 with 1 Axes>"
      ]
     },
     "metadata": {
      "needs_background": "light"
     },
     "output_type": "display_data"
    }
   ],
   "source": [
    "# Loss history plot\n",
    "plt.plot(history.history['loss'])\n",
    "plt.plot(history.history['val_loss'])\n",
    "plt.title('model loss')\n",
    "plt.ylabel('loss')\n",
    "plt.xlabel('epoch')\n",
    "plt.legend(['train', 'test'], loc='upper right')\n",
    "plt.show()"
   ]
  },
  {
   "cell_type": "code",
   "execution_count": 34,
   "id": "c78c6cdd-7cc2-44c6-b989-eafe0377210b",
   "metadata": {},
   "outputs": [
    {
     "data": {
      "text/plain": [
       "11"
      ]
     },
     "execution_count": 34,
     "metadata": {},
     "output_type": "execute_result"
    }
   ],
   "source": [
    "size = datafull.shape[1]\n",
    "size"
   ]
  },
  {
   "cell_type": "code",
   "execution_count": 35,
   "id": "ca816aa5-0011-49d4-b714-ee42f33e1a7d",
   "metadata": {},
   "outputs": [
    {
     "data": {
      "text/plain": [
       "(78774,)"
      ]
     },
     "execution_count": 35,
     "metadata": {},
     "output_type": "execute_result"
    }
   ],
   "source": [
    "test_y.reshape((len(test_y))).shape"
   ]
  },
  {
   "cell_type": "code",
   "execution_count": 36,
   "id": "d7a3f9ae-bac5-403a-abe2-5bfdd5be7aff",
   "metadata": {},
   "outputs": [
    {
     "name": "stdout",
     "output_type": "stream",
     "text": [
      "F1-Score: 99.00%\n",
      "2462/2462 [==============================] - 3s 1ms/step\n"
     ]
    }
   ],
   "source": [
    "#test_x = test_x.reshape((test_x.shape[0], size))\n",
    "#test_y = test_y.reshape((len(test_y), 1))\n",
    "\n",
    "scores = model.evaluate(test_x, test_y, verbose=0)\n",
    "print(\"F1-Score: %.2f%%\" % (scores[1]*100))\n",
    "\n",
    "pred =  model.predict(test_x)"
   ]
  },
  {
   "cell_type": "code",
   "execution_count": 37,
   "id": "39af8e3b-fa0a-473b-915b-96a0d7a89fc1",
   "metadata": {},
   "outputs": [],
   "source": [
    "def get_confusion_mat( y_true , y_pred):\n",
    "    \"\"\"\n",
    "    Function to plot confusion matrix\n",
    "    \"\"\"\n",
    "    # counfusion matrix\n",
    "    confusion_mat = confusion_matrix(y_true , y_pred)\n",
    "        \n",
    "    labels = [\"Broken\", \"Normal\"]\n",
    "\n",
    "    # plot heat map of confusion matrix\n",
    "    sns.heatmap(confusion_mat, annot=True, fmt='', cmap='Greens',\n",
    "                xticklabels=labels, \n",
    "                yticklabels=labels)\n",
    "    plt.xlabel('Predicted Class')\n",
    "    plt.ylabel('Original Class')\n",
    "    plt.show()"
   ]
  },
  {
   "cell_type": "code",
   "execution_count": 297,
   "id": "c6716cc7-b59b-446b-99cc-7511b2195938",
   "metadata": {},
   "outputs": [
    {
     "ename": "ValueError",
     "evalue": "continuous is not supported",
     "output_type": "error",
     "traceback": [
      "\u001b[0;31m---------------------------------------------------------------------------\u001b[0m",
      "\u001b[0;31mValueError\u001b[0m                                Traceback (most recent call last)",
      "\u001b[0;32m/tmp/ipykernel_199/4237131726.py\u001b[0m in \u001b[0;36m<module>\u001b[0;34m\u001b[0m\n\u001b[0;32m----> 1\u001b[0;31m \u001b[0mget_confusion_mat\u001b[0m\u001b[0;34m(\u001b[0m\u001b[0mtest_y\u001b[0m\u001b[0;34m,\u001b[0m \u001b[0mpred\u001b[0m\u001b[0;34m)\u001b[0m\u001b[0;34m\u001b[0m\u001b[0;34m\u001b[0m\u001b[0m\n\u001b[0m",
      "\u001b[0;32m/tmp/ipykernel_199/3371893394.py\u001b[0m in \u001b[0;36mget_confusion_mat\u001b[0;34m(y_true, y_pred)\u001b[0m\n\u001b[1;32m      4\u001b[0m     \"\"\"\n\u001b[1;32m      5\u001b[0m     \u001b[0;31m# counfusion matrix\u001b[0m\u001b[0;34m\u001b[0m\u001b[0;34m\u001b[0m\u001b[0;34m\u001b[0m\u001b[0m\n\u001b[0;32m----> 6\u001b[0;31m     \u001b[0mconfusion_mat\u001b[0m \u001b[0;34m=\u001b[0m \u001b[0mconfusion_matrix\u001b[0m\u001b[0;34m(\u001b[0m\u001b[0my_true\u001b[0m \u001b[0;34m,\u001b[0m \u001b[0my_pred\u001b[0m\u001b[0;34m)\u001b[0m\u001b[0;34m\u001b[0m\u001b[0;34m\u001b[0m\u001b[0m\n\u001b[0m\u001b[1;32m      7\u001b[0m \u001b[0;34m\u001b[0m\u001b[0m\n\u001b[1;32m      8\u001b[0m     \u001b[0mlabels\u001b[0m \u001b[0;34m=\u001b[0m \u001b[0;34m[\u001b[0m\u001b[0;34m\"Broken\"\u001b[0m\u001b[0;34m,\u001b[0m \u001b[0;34m\"Normal\"\u001b[0m\u001b[0;34m]\u001b[0m\u001b[0;34m\u001b[0m\u001b[0;34m\u001b[0m\u001b[0m\n",
      "\u001b[0;32m~/.local/lib/python3.8/site-packages/sklearn/metrics/_classification.py\u001b[0m in \u001b[0;36mconfusion_matrix\u001b[0;34m(y_true, y_pred, labels, sample_weight, normalize)\u001b[0m\n\u001b[1;32m    305\u001b[0m     \u001b[0;34m(\u001b[0m\u001b[0;36m0\u001b[0m\u001b[0;34m,\u001b[0m \u001b[0;36m2\u001b[0m\u001b[0;34m,\u001b[0m \u001b[0;36m1\u001b[0m\u001b[0;34m,\u001b[0m \u001b[0;36m1\u001b[0m\u001b[0;34m)\u001b[0m\u001b[0;34m\u001b[0m\u001b[0;34m\u001b[0m\u001b[0m\n\u001b[1;32m    306\u001b[0m     \"\"\"\n\u001b[0;32m--> 307\u001b[0;31m     \u001b[0my_type\u001b[0m\u001b[0;34m,\u001b[0m \u001b[0my_true\u001b[0m\u001b[0;34m,\u001b[0m \u001b[0my_pred\u001b[0m \u001b[0;34m=\u001b[0m \u001b[0m_check_targets\u001b[0m\u001b[0;34m(\u001b[0m\u001b[0my_true\u001b[0m\u001b[0;34m,\u001b[0m \u001b[0my_pred\u001b[0m\u001b[0;34m)\u001b[0m\u001b[0;34m\u001b[0m\u001b[0;34m\u001b[0m\u001b[0m\n\u001b[0m\u001b[1;32m    308\u001b[0m     \u001b[0;32mif\u001b[0m \u001b[0my_type\u001b[0m \u001b[0;32mnot\u001b[0m \u001b[0;32min\u001b[0m \u001b[0;34m(\u001b[0m\u001b[0;34m\"binary\"\u001b[0m\u001b[0;34m,\u001b[0m \u001b[0;34m\"multiclass\"\u001b[0m\u001b[0;34m)\u001b[0m\u001b[0;34m:\u001b[0m\u001b[0;34m\u001b[0m\u001b[0;34m\u001b[0m\u001b[0m\n\u001b[1;32m    309\u001b[0m         \u001b[0;32mraise\u001b[0m \u001b[0mValueError\u001b[0m\u001b[0;34m(\u001b[0m\u001b[0;34m\"%s is not supported\"\u001b[0m \u001b[0;34m%\u001b[0m \u001b[0my_type\u001b[0m\u001b[0;34m)\u001b[0m\u001b[0;34m\u001b[0m\u001b[0;34m\u001b[0m\u001b[0m\n",
      "\u001b[0;32m~/.local/lib/python3.8/site-packages/sklearn/metrics/_classification.py\u001b[0m in \u001b[0;36m_check_targets\u001b[0;34m(y_true, y_pred)\u001b[0m\n\u001b[1;32m    102\u001b[0m     \u001b[0;31m# No metrics support \"multiclass-multioutput\" format\u001b[0m\u001b[0;34m\u001b[0m\u001b[0;34m\u001b[0m\u001b[0;34m\u001b[0m\u001b[0m\n\u001b[1;32m    103\u001b[0m     \u001b[0;32mif\u001b[0m \u001b[0my_type\u001b[0m \u001b[0;32mnot\u001b[0m \u001b[0;32min\u001b[0m \u001b[0;34m[\u001b[0m\u001b[0;34m\"binary\"\u001b[0m\u001b[0;34m,\u001b[0m \u001b[0;34m\"multiclass\"\u001b[0m\u001b[0;34m,\u001b[0m \u001b[0;34m\"multilabel-indicator\"\u001b[0m\u001b[0;34m]\u001b[0m\u001b[0;34m:\u001b[0m\u001b[0;34m\u001b[0m\u001b[0;34m\u001b[0m\u001b[0m\n\u001b[0;32m--> 104\u001b[0;31m         \u001b[0;32mraise\u001b[0m \u001b[0mValueError\u001b[0m\u001b[0;34m(\u001b[0m\u001b[0;34m\"{0} is not supported\"\u001b[0m\u001b[0;34m.\u001b[0m\u001b[0mformat\u001b[0m\u001b[0;34m(\u001b[0m\u001b[0my_type\u001b[0m\u001b[0;34m)\u001b[0m\u001b[0;34m)\u001b[0m\u001b[0;34m\u001b[0m\u001b[0;34m\u001b[0m\u001b[0m\n\u001b[0m\u001b[1;32m    105\u001b[0m \u001b[0;34m\u001b[0m\u001b[0m\n\u001b[1;32m    106\u001b[0m     \u001b[0;32mif\u001b[0m \u001b[0my_type\u001b[0m \u001b[0;32min\u001b[0m \u001b[0;34m[\u001b[0m\u001b[0;34m\"binary\"\u001b[0m\u001b[0;34m,\u001b[0m \u001b[0;34m\"multiclass\"\u001b[0m\u001b[0;34m]\u001b[0m\u001b[0;34m:\u001b[0m\u001b[0;34m\u001b[0m\u001b[0;34m\u001b[0m\u001b[0m\n",
      "\u001b[0;31mValueError\u001b[0m: continuous is not supported"
     ]
    }
   ],
   "source": [
    "get_confusion_mat(test_y, pred)"
   ]
  },
  {
   "cell_type": "code",
   "execution_count": 313,
   "id": "5c7fbc7b-c848-4969-b452-e8e737dc6290",
   "metadata": {},
   "outputs": [
    {
     "data": {
      "text/plain": [
       "array([[0.00901443],\n",
       "       [0.00888398],\n",
       "       [0.00905844],\n",
       "       ...,\n",
       "       [0.899867  ],\n",
       "       [0.9024158 ],\n",
       "       [0.9025468 ]], dtype=float32)"
      ]
     },
     "execution_count": 313,
     "metadata": {},
     "output_type": "execute_result"
    }
   ],
   "source": [
    "pred"
   ]
  },
  {
   "cell_type": "code",
   "execution_count": null,
   "id": "45ac0804-023a-472c-8894-2fdd8873d0da",
   "metadata": {},
   "outputs": [],
   "source": []
  },
  {
   "cell_type": "code",
   "execution_count": 130,
   "id": "13b43bf2-27cb-4fcb-95c2-f4a31d5076d7",
   "metadata": {},
   "outputs": [
    {
     "name": "stderr",
     "output_type": "stream",
     "text": [
      "2022-10-06 21:30:59.855578: W tensorflow/core/framework/op_kernel.cc:1780] OP_REQUIRES failed at transpose_op.cc:142 : INVALID_ARGUMENT: transpose expects a vector of size 2. But input(1) is a vector of size 3\n"
     ]
    },
    {
     "ename": "InvalidArgumentError",
     "evalue": "Graph execution error:\n\ntranspose expects a vector of size 2. But input(1) is a vector of size 3\n\t [[{{node transpose}}]]\n\t [[sequential_5/lstm_5/PartitionedCall]] [Op:__inference_predict_function_667113]",
     "output_type": "error",
     "traceback": [
      "\u001b[0;31m---------------------------------------------------------------------------\u001b[0m",
      "\u001b[0;31mInvalidArgumentError\u001b[0m                      Traceback (most recent call last)",
      "\u001b[0;32m/tmp/ipykernel_199/947811761.py\u001b[0m in \u001b[0;36m<module>\u001b[0;34m\u001b[0m\n\u001b[1;32m      2\u001b[0m \u001b[0;34m\u001b[0m\u001b[0m\n\u001b[1;32m      3\u001b[0m \u001b[0;31m# Prediction test\u001b[0m\u001b[0;34m\u001b[0m\u001b[0;34m\u001b[0m\u001b[0;34m\u001b[0m\u001b[0m\n\u001b[0;32m----> 4\u001b[0;31m \u001b[0myhat\u001b[0m \u001b[0;34m=\u001b[0m \u001b[0mmodel\u001b[0m\u001b[0;34m.\u001b[0m\u001b[0mpredict\u001b[0m\u001b[0;34m(\u001b[0m\u001b[0mtest_x\u001b[0m\u001b[0;34m)\u001b[0m\u001b[0;34m\u001b[0m\u001b[0;34m\u001b[0m\u001b[0m\n\u001b[0m\u001b[1;32m      5\u001b[0m \u001b[0mtest_x\u001b[0m \u001b[0;34m=\u001b[0m \u001b[0mtest_x\u001b[0m\u001b[0;34m.\u001b[0m\u001b[0mreshape\u001b[0m\u001b[0;34m(\u001b[0m\u001b[0;34m(\u001b[0m\u001b[0mtest_x\u001b[0m\u001b[0;34m.\u001b[0m\u001b[0mshape\u001b[0m\u001b[0;34m[\u001b[0m\u001b[0;36m0\u001b[0m\u001b[0;34m]\u001b[0m\u001b[0;34m,\u001b[0m \u001b[0msize\u001b[0m\u001b[0;34m)\u001b[0m\u001b[0;34m)\u001b[0m\u001b[0;34m\u001b[0m\u001b[0;34m\u001b[0m\u001b[0m\n\u001b[1;32m      6\u001b[0m \u001b[0;34m\u001b[0m\u001b[0m\n",
      "\u001b[0;32m~/.local/lib/python3.8/site-packages/keras/utils/traceback_utils.py\u001b[0m in \u001b[0;36merror_handler\u001b[0;34m(*args, **kwargs)\u001b[0m\n\u001b[1;32m     68\u001b[0m             \u001b[0;31m# To get the full stack trace, call:\u001b[0m\u001b[0;34m\u001b[0m\u001b[0;34m\u001b[0m\u001b[0;34m\u001b[0m\u001b[0m\n\u001b[1;32m     69\u001b[0m             \u001b[0;31m# `tf.debugging.disable_traceback_filtering()`\u001b[0m\u001b[0;34m\u001b[0m\u001b[0;34m\u001b[0m\u001b[0;34m\u001b[0m\u001b[0m\n\u001b[0;32m---> 70\u001b[0;31m             \u001b[0;32mraise\u001b[0m \u001b[0me\u001b[0m\u001b[0;34m.\u001b[0m\u001b[0mwith_traceback\u001b[0m\u001b[0;34m(\u001b[0m\u001b[0mfiltered_tb\u001b[0m\u001b[0;34m)\u001b[0m \u001b[0;32mfrom\u001b[0m \u001b[0;32mNone\u001b[0m\u001b[0;34m\u001b[0m\u001b[0;34m\u001b[0m\u001b[0m\n\u001b[0m\u001b[1;32m     71\u001b[0m         \u001b[0;32mfinally\u001b[0m\u001b[0;34m:\u001b[0m\u001b[0;34m\u001b[0m\u001b[0;34m\u001b[0m\u001b[0m\n\u001b[1;32m     72\u001b[0m             \u001b[0;32mdel\u001b[0m \u001b[0mfiltered_tb\u001b[0m\u001b[0;34m\u001b[0m\u001b[0;34m\u001b[0m\u001b[0m\n",
      "\u001b[0;32m~/.local/lib/python3.8/site-packages/tensorflow/python/eager/execute.py\u001b[0m in \u001b[0;36mquick_execute\u001b[0;34m(op_name, num_outputs, inputs, attrs, ctx, name)\u001b[0m\n\u001b[1;32m     52\u001b[0m   \u001b[0;32mtry\u001b[0m\u001b[0;34m:\u001b[0m\u001b[0;34m\u001b[0m\u001b[0;34m\u001b[0m\u001b[0m\n\u001b[1;32m     53\u001b[0m     \u001b[0mctx\u001b[0m\u001b[0;34m.\u001b[0m\u001b[0mensure_initialized\u001b[0m\u001b[0;34m(\u001b[0m\u001b[0;34m)\u001b[0m\u001b[0;34m\u001b[0m\u001b[0;34m\u001b[0m\u001b[0m\n\u001b[0;32m---> 54\u001b[0;31m     tensors = pywrap_tfe.TFE_Py_Execute(ctx._handle, device_name, op_name,\n\u001b[0m\u001b[1;32m     55\u001b[0m                                         inputs, attrs, num_outputs)\n\u001b[1;32m     56\u001b[0m   \u001b[0;32mexcept\u001b[0m \u001b[0mcore\u001b[0m\u001b[0;34m.\u001b[0m\u001b[0m_NotOkStatusException\u001b[0m \u001b[0;32mas\u001b[0m \u001b[0me\u001b[0m\u001b[0;34m:\u001b[0m\u001b[0;34m\u001b[0m\u001b[0;34m\u001b[0m\u001b[0m\n",
      "\u001b[0;31mInvalidArgumentError\u001b[0m: Graph execution error:\n\ntranspose expects a vector of size 2. But input(1) is a vector of size 3\n\t [[{{node transpose}}]]\n\t [[sequential_5/lstm_5/PartitionedCall]] [Op:__inference_predict_function_667113]"
     ]
    }
   ],
   "source": [
    "size = datafull.shape[1]\n",
    "\n",
    "# Prediction test\n",
    "yhat = model.predict(test_x)\n",
    "test_x = test_x.reshape((test_x.shape[0], size))\n",
    "\n",
    "# invert scaling for prediction\n",
    "inv_yhat = np.concatenate((yhat, test_x[:, 1-size:]), axis=1)\n",
    "inv_yhat = scaler.inverse_transform(inv_yhat)\n",
    "inv_yhat = inv_yhat[:,0]\n",
    "\n",
    "# invert scaling for actual\n",
    "test_y = test_y.reshape((len(test_y), 1))\n",
    "inv_y = np.concatenate((test_y, test_x[:, 1-size:]), axis=1)\n",
    "inv_y = scaler.inverse_transform(inv_y)\n",
    "inv_y = inv_y[:,0]\n",
    "\n",
    "# calculate RMSE\n",
    "#rmse = np.sqrt(mean_squared_error(inv_y, inv_yhat))\n",
    "#print('Test RMSE: %.3f' % rmse)"
   ]
  },
  {
   "cell_type": "code",
   "execution_count": 128,
   "id": "e347b3e3-47f9-4b56-bf54-0960e7d2d90c",
   "metadata": {},
   "outputs": [
    {
     "ename": "ValueError",
     "evalue": "continuous is not supported",
     "output_type": "error",
     "traceback": [
      "\u001b[0;31m---------------------------------------------------------------------------\u001b[0m",
      "\u001b[0;31mValueError\u001b[0m                                Traceback (most recent call last)",
      "\u001b[0;32m/tmp/ipykernel_199/3362578265.py\u001b[0m in \u001b[0;36m<module>\u001b[0;34m\u001b[0m\n\u001b[0;32m----> 1\u001b[0;31m \u001b[0mf1_macro\u001b[0m \u001b[0;34m=\u001b[0m \u001b[0mf1_score\u001b[0m\u001b[0;34m(\u001b[0m\u001b[0minv_y\u001b[0m\u001b[0;34m,\u001b[0m \u001b[0minv_yhat\u001b[0m\u001b[0;34m,\u001b[0m \u001b[0maverage\u001b[0m\u001b[0;34m=\u001b[0m\u001b[0;34m'macro'\u001b[0m\u001b[0;34m)\u001b[0m\u001b[0;34m\u001b[0m\u001b[0;34m\u001b[0m\u001b[0m\n\u001b[0m\u001b[1;32m      2\u001b[0m \u001b[0mf1_macro\u001b[0m\u001b[0;34m\u001b[0m\u001b[0;34m\u001b[0m\u001b[0m\n",
      "\u001b[0;32m~/.local/lib/python3.8/site-packages/sklearn/metrics/_classification.py\u001b[0m in \u001b[0;36mf1_score\u001b[0;34m(y_true, y_pred, labels, pos_label, average, sample_weight, zero_division)\u001b[0m\n\u001b[1;32m   1134\u001b[0m     \u001b[0marray\u001b[0m\u001b[0;34m(\u001b[0m\u001b[0;34m[\u001b[0m\u001b[0;36m0.66666667\u001b[0m\u001b[0;34m,\u001b[0m \u001b[0;36m1.\u001b[0m        \u001b[0;34m,\u001b[0m \u001b[0;36m0.66666667\u001b[0m\u001b[0;34m]\u001b[0m\u001b[0;34m)\u001b[0m\u001b[0;34m\u001b[0m\u001b[0;34m\u001b[0m\u001b[0m\n\u001b[1;32m   1135\u001b[0m     \"\"\"\n\u001b[0;32m-> 1136\u001b[0;31m     return fbeta_score(\n\u001b[0m\u001b[1;32m   1137\u001b[0m         \u001b[0my_true\u001b[0m\u001b[0;34m,\u001b[0m\u001b[0;34m\u001b[0m\u001b[0;34m\u001b[0m\u001b[0m\n\u001b[1;32m   1138\u001b[0m         \u001b[0my_pred\u001b[0m\u001b[0;34m,\u001b[0m\u001b[0;34m\u001b[0m\u001b[0;34m\u001b[0m\u001b[0m\n",
      "\u001b[0;32m~/.local/lib/python3.8/site-packages/sklearn/metrics/_classification.py\u001b[0m in \u001b[0;36mfbeta_score\u001b[0;34m(y_true, y_pred, beta, labels, pos_label, average, sample_weight, zero_division)\u001b[0m\n\u001b[1;32m   1275\u001b[0m     \"\"\"\n\u001b[1;32m   1276\u001b[0m \u001b[0;34m\u001b[0m\u001b[0m\n\u001b[0;32m-> 1277\u001b[0;31m     _, _, f, _ = precision_recall_fscore_support(\n\u001b[0m\u001b[1;32m   1278\u001b[0m         \u001b[0my_true\u001b[0m\u001b[0;34m,\u001b[0m\u001b[0;34m\u001b[0m\u001b[0;34m\u001b[0m\u001b[0m\n\u001b[1;32m   1279\u001b[0m         \u001b[0my_pred\u001b[0m\u001b[0;34m,\u001b[0m\u001b[0;34m\u001b[0m\u001b[0;34m\u001b[0m\u001b[0m\n",
      "\u001b[0;32m~/.local/lib/python3.8/site-packages/sklearn/metrics/_classification.py\u001b[0m in \u001b[0;36mprecision_recall_fscore_support\u001b[0;34m(y_true, y_pred, beta, labels, pos_label, average, warn_for, sample_weight, zero_division)\u001b[0m\n\u001b[1;32m   1561\u001b[0m     \u001b[0;32mif\u001b[0m \u001b[0mbeta\u001b[0m \u001b[0;34m<\u001b[0m \u001b[0;36m0\u001b[0m\u001b[0;34m:\u001b[0m\u001b[0;34m\u001b[0m\u001b[0;34m\u001b[0m\u001b[0m\n\u001b[1;32m   1562\u001b[0m         \u001b[0;32mraise\u001b[0m \u001b[0mValueError\u001b[0m\u001b[0;34m(\u001b[0m\u001b[0;34m\"beta should be >=0 in the F-beta score\"\u001b[0m\u001b[0;34m)\u001b[0m\u001b[0;34m\u001b[0m\u001b[0;34m\u001b[0m\u001b[0m\n\u001b[0;32m-> 1563\u001b[0;31m     \u001b[0mlabels\u001b[0m \u001b[0;34m=\u001b[0m \u001b[0m_check_set_wise_labels\u001b[0m\u001b[0;34m(\u001b[0m\u001b[0my_true\u001b[0m\u001b[0;34m,\u001b[0m \u001b[0my_pred\u001b[0m\u001b[0;34m,\u001b[0m \u001b[0maverage\u001b[0m\u001b[0;34m,\u001b[0m \u001b[0mlabels\u001b[0m\u001b[0;34m,\u001b[0m \u001b[0mpos_label\u001b[0m\u001b[0;34m)\u001b[0m\u001b[0;34m\u001b[0m\u001b[0;34m\u001b[0m\u001b[0m\n\u001b[0m\u001b[1;32m   1564\u001b[0m \u001b[0;34m\u001b[0m\u001b[0m\n\u001b[1;32m   1565\u001b[0m     \u001b[0;31m# Calculate tp_sum, pred_sum, true_sum ###\u001b[0m\u001b[0;34m\u001b[0m\u001b[0;34m\u001b[0m\u001b[0;34m\u001b[0m\u001b[0m\n",
      "\u001b[0;32m~/.local/lib/python3.8/site-packages/sklearn/metrics/_classification.py\u001b[0m in \u001b[0;36m_check_set_wise_labels\u001b[0;34m(y_true, y_pred, average, labels, pos_label)\u001b[0m\n\u001b[1;32m   1362\u001b[0m         \u001b[0;32mraise\u001b[0m \u001b[0mValueError\u001b[0m\u001b[0;34m(\u001b[0m\u001b[0;34m\"average has to be one of \"\u001b[0m \u001b[0;34m+\u001b[0m \u001b[0mstr\u001b[0m\u001b[0;34m(\u001b[0m\u001b[0maverage_options\u001b[0m\u001b[0;34m)\u001b[0m\u001b[0;34m)\u001b[0m\u001b[0;34m\u001b[0m\u001b[0;34m\u001b[0m\u001b[0m\n\u001b[1;32m   1363\u001b[0m \u001b[0;34m\u001b[0m\u001b[0m\n\u001b[0;32m-> 1364\u001b[0;31m     \u001b[0my_type\u001b[0m\u001b[0;34m,\u001b[0m \u001b[0my_true\u001b[0m\u001b[0;34m,\u001b[0m \u001b[0my_pred\u001b[0m \u001b[0;34m=\u001b[0m \u001b[0m_check_targets\u001b[0m\u001b[0;34m(\u001b[0m\u001b[0my_true\u001b[0m\u001b[0;34m,\u001b[0m \u001b[0my_pred\u001b[0m\u001b[0;34m)\u001b[0m\u001b[0;34m\u001b[0m\u001b[0;34m\u001b[0m\u001b[0m\n\u001b[0m\u001b[1;32m   1365\u001b[0m     \u001b[0;31m# Convert to Python primitive type to avoid NumPy type / Python str\u001b[0m\u001b[0;34m\u001b[0m\u001b[0;34m\u001b[0m\u001b[0;34m\u001b[0m\u001b[0m\n\u001b[1;32m   1366\u001b[0m     \u001b[0;31m# comparison. See https://github.com/numpy/numpy/issues/6784\u001b[0m\u001b[0;34m\u001b[0m\u001b[0;34m\u001b[0m\u001b[0;34m\u001b[0m\u001b[0m\n",
      "\u001b[0;32m~/.local/lib/python3.8/site-packages/sklearn/metrics/_classification.py\u001b[0m in \u001b[0;36m_check_targets\u001b[0;34m(y_true, y_pred)\u001b[0m\n\u001b[1;32m    102\u001b[0m     \u001b[0;31m# No metrics support \"multiclass-multioutput\" format\u001b[0m\u001b[0;34m\u001b[0m\u001b[0;34m\u001b[0m\u001b[0;34m\u001b[0m\u001b[0m\n\u001b[1;32m    103\u001b[0m     \u001b[0;32mif\u001b[0m \u001b[0my_type\u001b[0m \u001b[0;32mnot\u001b[0m \u001b[0;32min\u001b[0m \u001b[0;34m[\u001b[0m\u001b[0;34m\"binary\"\u001b[0m\u001b[0;34m,\u001b[0m \u001b[0;34m\"multiclass\"\u001b[0m\u001b[0;34m,\u001b[0m \u001b[0;34m\"multilabel-indicator\"\u001b[0m\u001b[0;34m]\u001b[0m\u001b[0;34m:\u001b[0m\u001b[0;34m\u001b[0m\u001b[0;34m\u001b[0m\u001b[0m\n\u001b[0;32m--> 104\u001b[0;31m         \u001b[0;32mraise\u001b[0m \u001b[0mValueError\u001b[0m\u001b[0;34m(\u001b[0m\u001b[0;34m\"{0} is not supported\"\u001b[0m\u001b[0;34m.\u001b[0m\u001b[0mformat\u001b[0m\u001b[0;34m(\u001b[0m\u001b[0my_type\u001b[0m\u001b[0;34m)\u001b[0m\u001b[0;34m)\u001b[0m\u001b[0;34m\u001b[0m\u001b[0;34m\u001b[0m\u001b[0m\n\u001b[0m\u001b[1;32m    105\u001b[0m \u001b[0;34m\u001b[0m\u001b[0m\n\u001b[1;32m    106\u001b[0m     \u001b[0;32mif\u001b[0m \u001b[0my_type\u001b[0m \u001b[0;32min\u001b[0m \u001b[0;34m[\u001b[0m\u001b[0;34m\"binary\"\u001b[0m\u001b[0;34m,\u001b[0m \u001b[0;34m\"multiclass\"\u001b[0m\u001b[0;34m]\u001b[0m\u001b[0;34m:\u001b[0m\u001b[0;34m\u001b[0m\u001b[0;34m\u001b[0m\u001b[0m\n",
      "\u001b[0;31mValueError\u001b[0m: continuous is not supported"
     ]
    }
   ],
   "source": [
    "f1_macro = f1_score(inv_y, inv_yhat, average='macro')\n",
    "f1_macro"
   ]
  },
  {
   "cell_type": "code",
   "execution_count": 109,
   "id": "b8b509fa-2545-413c-9210-2505a1581d77",
   "metadata": {},
   "outputs": [
    {
     "data": {
      "text/plain": [
       "(90319,)"
      ]
     },
     "execution_count": 109,
     "metadata": {},
     "output_type": "execute_result"
    }
   ],
   "source": [
    "inv_y.shape"
   ]
  },
  {
   "cell_type": "code",
   "execution_count": 108,
   "id": "53d978f7-b2af-41fe-b985-67a00acbc4eb",
   "metadata": {},
   "outputs": [
    {
     "data": {
      "text/plain": [
       "(90319,)"
      ]
     },
     "execution_count": 108,
     "metadata": {},
     "output_type": "execute_result"
    }
   ],
   "source": [
    "inv_yhat.shape"
   ]
  },
  {
   "cell_type": "code",
   "execution_count": null,
   "id": "0200c513-2419-4aa1-a819-e7f8d3589339",
   "metadata": {},
   "outputs": [],
   "source": []
  },
  {
   "cell_type": "code",
   "execution_count": null,
   "id": "9c477f65-81f8-4194-8ce0-99d332d51119",
   "metadata": {},
   "outputs": [],
   "source": []
  },
  {
   "cell_type": "code",
   "execution_count": null,
   "id": "72cb6380-323c-4075-ae1e-66d39c0edb21",
   "metadata": {},
   "outputs": [],
   "source": []
  }
 ],
 "metadata": {
  "kernelspec": {
   "display_name": "Python 3 (ipykernel)",
   "language": "python",
   "name": "python3"
  },
  "language_info": {
   "codemirror_mode": {
    "name": "ipython",
    "version": 3
   },
   "file_extension": ".py",
   "mimetype": "text/x-python",
   "name": "python",
   "nbconvert_exporter": "python",
   "pygments_lexer": "ipython3",
   "version": "3.8.13"
  }
 },
 "nbformat": 4,
 "nbformat_minor": 5
}
