{
 "cells": [
  {
   "cell_type": "code",
   "execution_count": 214,
   "id": "d2f8e575-5fed-4078-942e-a8c6d2fac8f6",
   "metadata": {},
   "outputs": [],
   "source": [
    "import numpy as np\n",
    "from sklearn import preprocessing\n",
    "import matplotlib.pyplot as plt\n",
    "import seaborn as sns \n",
    "\n",
    "from utils import *\n",
    "\n",
    "from sklearn import preprocessing\n",
    "from sklearn.preprocessing import MinMaxScaler\n",
    "from sklearn.linear_model import LogisticRegression\n",
    "from sklearn.linear_model import SGDClassifier\n",
    "from sklearn.model_selection import GridSearchCV\n",
    "from sklearn.metrics import f1_score\n",
    "from sklearn.model_selection import TimeSeriesSplit\n",
    "from sklearn.metrics import confusion_matrix\n",
    "from sklearn.ensemble import RandomForestClassifier\n",
    "from xgboost import XGBClassifier\n",
    "#from prettytable import PrettyTable\n",
    "\n",
    "import warnings\n",
    "warnings.filterwarnings(\"ignore\")"
   ]
  },
  {
   "cell_type": "code",
   "execution_count": 215,
   "id": "65985337-2e84-40b6-bea5-e4e18133efcb",
   "metadata": {},
   "outputs": [],
   "source": [
    "path_data = 'data/pump_sensor.csv'"
   ]
  },
  {
   "cell_type": "code",
   "execution_count": 216,
   "id": "2ac6f7c4-03e8-43bc-b66d-f8ff48a828b1",
   "metadata": {},
   "outputs": [
    {
     "name": "stdout",
     "output_type": "stream",
     "text": [
      "(220320, 52)\n",
      "Index(['sensor_00', 'sensor_01', 'sensor_02', 'sensor_03', 'sensor_04',\n",
      "       'sensor_05', 'sensor_06', 'sensor_07', 'sensor_08', 'sensor_09',\n",
      "       'sensor_10', 'sensor_11', 'sensor_12', 'sensor_13', 'sensor_14',\n",
      "       'sensor_15', 'sensor_16', 'sensor_17', 'sensor_18', 'sensor_19',\n",
      "       'sensor_20', 'sensor_21', 'sensor_22', 'sensor_23', 'sensor_24',\n",
      "       'sensor_25', 'sensor_26', 'sensor_27', 'sensor_28', 'sensor_29',\n",
      "       'sensor_30', 'sensor_31', 'sensor_32', 'sensor_33', 'sensor_34',\n",
      "       'sensor_35', 'sensor_36', 'sensor_37', 'sensor_38', 'sensor_39',\n",
      "       'sensor_40', 'sensor_41', 'sensor_42', 'sensor_43', 'sensor_44',\n",
      "       'sensor_45', 'sensor_46', 'sensor_47', 'sensor_48', 'sensor_49',\n",
      "       'sensor_50', 'sensor_51'],\n",
      "      dtype='object')\n"
     ]
    }
   ],
   "source": [
    "import pandas as pd\n",
    "\n",
    "datafull=pd.read_csv(path_data)\n",
    "\n",
    "data = datafull.iloc[:,2:-1]\n",
    "\n",
    "print(data.shape)\n",
    "print(data.keys())"
   ]
  },
  {
   "cell_type": "code",
   "execution_count": 217,
   "id": "ce3d5c5c-5303-4663-9318-7b4ec67c7929",
   "metadata": {},
   "outputs": [
    {
     "data": {
      "text/html": [
       "<div>\n",
       "<style scoped>\n",
       "    .dataframe tbody tr th:only-of-type {\n",
       "        vertical-align: middle;\n",
       "    }\n",
       "\n",
       "    .dataframe tbody tr th {\n",
       "        vertical-align: top;\n",
       "    }\n",
       "\n",
       "    .dataframe thead th {\n",
       "        text-align: right;\n",
       "    }\n",
       "</style>\n",
       "<table border=\"1\" class=\"dataframe\">\n",
       "  <thead>\n",
       "    <tr style=\"text-align: right;\">\n",
       "      <th></th>\n",
       "      <th>sensor_00</th>\n",
       "      <th>sensor_01</th>\n",
       "      <th>sensor_02</th>\n",
       "      <th>sensor_03</th>\n",
       "      <th>sensor_04</th>\n",
       "      <th>sensor_05</th>\n",
       "      <th>sensor_06</th>\n",
       "      <th>sensor_07</th>\n",
       "      <th>sensor_08</th>\n",
       "      <th>sensor_09</th>\n",
       "      <th>...</th>\n",
       "      <th>sensor_42</th>\n",
       "      <th>sensor_43</th>\n",
       "      <th>sensor_44</th>\n",
       "      <th>sensor_45</th>\n",
       "      <th>sensor_46</th>\n",
       "      <th>sensor_47</th>\n",
       "      <th>sensor_48</th>\n",
       "      <th>sensor_49</th>\n",
       "      <th>sensor_50</th>\n",
       "      <th>sensor_51</th>\n",
       "    </tr>\n",
       "  </thead>\n",
       "  <tbody>\n",
       "    <tr>\n",
       "      <th>0</th>\n",
       "      <td>2.465394</td>\n",
       "      <td>47.09201</td>\n",
       "      <td>53.2118</td>\n",
       "      <td>46.310760</td>\n",
       "      <td>634.3750</td>\n",
       "      <td>76.45975</td>\n",
       "      <td>13.41146</td>\n",
       "      <td>16.13136</td>\n",
       "      <td>15.56713</td>\n",
       "      <td>15.05353</td>\n",
       "      <td>...</td>\n",
       "      <td>31.770832</td>\n",
       "      <td>41.92708</td>\n",
       "      <td>39.641200</td>\n",
       "      <td>65.68287</td>\n",
       "      <td>50.92593</td>\n",
       "      <td>38.194440</td>\n",
       "      <td>157.9861</td>\n",
       "      <td>67.70834</td>\n",
       "      <td>243.0556</td>\n",
       "      <td>201.3889</td>\n",
       "    </tr>\n",
       "    <tr>\n",
       "      <th>1</th>\n",
       "      <td>2.465394</td>\n",
       "      <td>47.09201</td>\n",
       "      <td>53.2118</td>\n",
       "      <td>46.310760</td>\n",
       "      <td>634.3750</td>\n",
       "      <td>76.45975</td>\n",
       "      <td>13.41146</td>\n",
       "      <td>16.13136</td>\n",
       "      <td>15.56713</td>\n",
       "      <td>15.05353</td>\n",
       "      <td>...</td>\n",
       "      <td>31.770832</td>\n",
       "      <td>41.92708</td>\n",
       "      <td>39.641200</td>\n",
       "      <td>65.68287</td>\n",
       "      <td>50.92593</td>\n",
       "      <td>38.194440</td>\n",
       "      <td>157.9861</td>\n",
       "      <td>67.70834</td>\n",
       "      <td>243.0556</td>\n",
       "      <td>201.3889</td>\n",
       "    </tr>\n",
       "    <tr>\n",
       "      <th>2</th>\n",
       "      <td>2.444734</td>\n",
       "      <td>47.35243</td>\n",
       "      <td>53.2118</td>\n",
       "      <td>46.397570</td>\n",
       "      <td>638.8889</td>\n",
       "      <td>73.54598</td>\n",
       "      <td>13.32465</td>\n",
       "      <td>16.03733</td>\n",
       "      <td>15.61777</td>\n",
       "      <td>15.01013</td>\n",
       "      <td>...</td>\n",
       "      <td>31.770830</td>\n",
       "      <td>41.66666</td>\n",
       "      <td>39.351852</td>\n",
       "      <td>65.39352</td>\n",
       "      <td>51.21528</td>\n",
       "      <td>38.194443</td>\n",
       "      <td>155.9606</td>\n",
       "      <td>67.12963</td>\n",
       "      <td>241.3194</td>\n",
       "      <td>203.7037</td>\n",
       "    </tr>\n",
       "    <tr>\n",
       "      <th>3</th>\n",
       "      <td>2.460474</td>\n",
       "      <td>47.09201</td>\n",
       "      <td>53.1684</td>\n",
       "      <td>46.397568</td>\n",
       "      <td>628.1250</td>\n",
       "      <td>76.98898</td>\n",
       "      <td>13.31742</td>\n",
       "      <td>16.24711</td>\n",
       "      <td>15.69734</td>\n",
       "      <td>15.08247</td>\n",
       "      <td>...</td>\n",
       "      <td>31.510420</td>\n",
       "      <td>40.88541</td>\n",
       "      <td>39.062500</td>\n",
       "      <td>64.81481</td>\n",
       "      <td>51.21528</td>\n",
       "      <td>38.194440</td>\n",
       "      <td>155.9606</td>\n",
       "      <td>66.84028</td>\n",
       "      <td>240.4514</td>\n",
       "      <td>203.1250</td>\n",
       "    </tr>\n",
       "    <tr>\n",
       "      <th>4</th>\n",
       "      <td>2.445718</td>\n",
       "      <td>47.13541</td>\n",
       "      <td>53.2118</td>\n",
       "      <td>46.397568</td>\n",
       "      <td>636.4583</td>\n",
       "      <td>76.58897</td>\n",
       "      <td>13.35359</td>\n",
       "      <td>16.21094</td>\n",
       "      <td>15.69734</td>\n",
       "      <td>15.08247</td>\n",
       "      <td>...</td>\n",
       "      <td>31.510420</td>\n",
       "      <td>41.40625</td>\n",
       "      <td>38.773150</td>\n",
       "      <td>65.10416</td>\n",
       "      <td>51.79398</td>\n",
       "      <td>38.773150</td>\n",
       "      <td>158.2755</td>\n",
       "      <td>66.55093</td>\n",
       "      <td>242.1875</td>\n",
       "      <td>201.3889</td>\n",
       "    </tr>\n",
       "  </tbody>\n",
       "</table>\n",
       "<p>5 rows × 52 columns</p>\n",
       "</div>"
      ],
      "text/plain": [
       "   sensor_00  sensor_01  sensor_02  sensor_03  sensor_04  sensor_05  \\\n",
       "0   2.465394   47.09201    53.2118  46.310760   634.3750   76.45975   \n",
       "1   2.465394   47.09201    53.2118  46.310760   634.3750   76.45975   \n",
       "2   2.444734   47.35243    53.2118  46.397570   638.8889   73.54598   \n",
       "3   2.460474   47.09201    53.1684  46.397568   628.1250   76.98898   \n",
       "4   2.445718   47.13541    53.2118  46.397568   636.4583   76.58897   \n",
       "\n",
       "   sensor_06  sensor_07  sensor_08  sensor_09  ...  sensor_42  sensor_43  \\\n",
       "0   13.41146   16.13136   15.56713   15.05353  ...  31.770832   41.92708   \n",
       "1   13.41146   16.13136   15.56713   15.05353  ...  31.770832   41.92708   \n",
       "2   13.32465   16.03733   15.61777   15.01013  ...  31.770830   41.66666   \n",
       "3   13.31742   16.24711   15.69734   15.08247  ...  31.510420   40.88541   \n",
       "4   13.35359   16.21094   15.69734   15.08247  ...  31.510420   41.40625   \n",
       "\n",
       "   sensor_44  sensor_45  sensor_46  sensor_47  sensor_48  sensor_49  \\\n",
       "0  39.641200   65.68287   50.92593  38.194440   157.9861   67.70834   \n",
       "1  39.641200   65.68287   50.92593  38.194440   157.9861   67.70834   \n",
       "2  39.351852   65.39352   51.21528  38.194443   155.9606   67.12963   \n",
       "3  39.062500   64.81481   51.21528  38.194440   155.9606   66.84028   \n",
       "4  38.773150   65.10416   51.79398  38.773150   158.2755   66.55093   \n",
       "\n",
       "   sensor_50  sensor_51  \n",
       "0   243.0556   201.3889  \n",
       "1   243.0556   201.3889  \n",
       "2   241.3194   203.7037  \n",
       "3   240.4514   203.1250  \n",
       "4   242.1875   201.3889  \n",
       "\n",
       "[5 rows x 52 columns]"
      ]
     },
     "execution_count": 217,
     "metadata": {},
     "output_type": "execute_result"
    }
   ],
   "source": [
    "data.head()"
   ]
  },
  {
   "cell_type": "code",
   "execution_count": null,
   "id": "f4a91ccd-409b-4f89-b1b3-1c0fb794db05",
   "metadata": {},
   "outputs": [],
   "source": []
  },
  {
   "cell_type": "code",
   "execution_count": 218,
   "id": "d9e09647-3322-45f5-b6ee-87abb6dce9e8",
   "metadata": {},
   "outputs": [
    {
     "name": "stdout",
     "output_type": "stream",
     "text": [
      "<class 'pandas.core.frame.DataFrame'>\n",
      "RangeIndex: 220320 entries, 0 to 220319\n",
      "Data columns (total 52 columns):\n",
      " #   Column     Non-Null Count   Dtype  \n",
      "---  ------     --------------   -----  \n",
      " 0   sensor_00  210112 non-null  float64\n",
      " 1   sensor_01  219951 non-null  float64\n",
      " 2   sensor_02  220301 non-null  float64\n",
      " 3   sensor_03  220301 non-null  float64\n",
      " 4   sensor_04  220301 non-null  float64\n",
      " 5   sensor_05  220301 non-null  float64\n",
      " 6   sensor_06  215522 non-null  float64\n",
      " 7   sensor_07  214869 non-null  float64\n",
      " 8   sensor_08  215213 non-null  float64\n",
      " 9   sensor_09  215725 non-null  float64\n",
      " 10  sensor_10  220301 non-null  float64\n",
      " 11  sensor_11  220301 non-null  float64\n",
      " 12  sensor_12  220301 non-null  float64\n",
      " 13  sensor_13  220301 non-null  float64\n",
      " 14  sensor_14  220299 non-null  float64\n",
      " 15  sensor_15  0 non-null       float64\n",
      " 16  sensor_16  220289 non-null  float64\n",
      " 17  sensor_17  220274 non-null  float64\n",
      " 18  sensor_18  220274 non-null  float64\n",
      " 19  sensor_19  220304 non-null  float64\n",
      " 20  sensor_20  220304 non-null  float64\n",
      " 21  sensor_21  220304 non-null  float64\n",
      " 22  sensor_22  220279 non-null  float64\n",
      " 23  sensor_23  220304 non-null  float64\n",
      " 24  sensor_24  220304 non-null  float64\n",
      " 25  sensor_25  220284 non-null  float64\n",
      " 26  sensor_26  220300 non-null  float64\n",
      " 27  sensor_27  220304 non-null  float64\n",
      " 28  sensor_28  220304 non-null  float64\n",
      " 29  sensor_29  220248 non-null  float64\n",
      " 30  sensor_30  220059 non-null  float64\n",
      " 31  sensor_31  220304 non-null  float64\n",
      " 32  sensor_32  220252 non-null  float64\n",
      " 33  sensor_33  220304 non-null  float64\n",
      " 34  sensor_34  220304 non-null  float64\n",
      " 35  sensor_35  220304 non-null  float64\n",
      " 36  sensor_36  220304 non-null  float64\n",
      " 37  sensor_37  220304 non-null  float64\n",
      " 38  sensor_38  220293 non-null  float64\n",
      " 39  sensor_39  220293 non-null  float64\n",
      " 40  sensor_40  220293 non-null  float64\n",
      " 41  sensor_41  220293 non-null  float64\n",
      " 42  sensor_42  220293 non-null  float64\n",
      " 43  sensor_43  220293 non-null  float64\n",
      " 44  sensor_44  220293 non-null  float64\n",
      " 45  sensor_45  220293 non-null  float64\n",
      " 46  sensor_46  220293 non-null  float64\n",
      " 47  sensor_47  220293 non-null  float64\n",
      " 48  sensor_48  220293 non-null  float64\n",
      " 49  sensor_49  220293 non-null  float64\n",
      " 50  sensor_50  143303 non-null  float64\n",
      " 51  sensor_51  204937 non-null  float64\n",
      "dtypes: float64(52)\n",
      "memory usage: 87.4 MB\n"
     ]
    }
   ],
   "source": [
    "data.info()"
   ]
  },
  {
   "cell_type": "code",
   "execution_count": 219,
   "id": "b65282ad-f4e7-403d-b74e-4a44f3ef8533",
   "metadata": {},
   "outputs": [
    {
     "name": "stdout",
     "output_type": "stream",
     "text": [
      "status options: \n",
      "['NORMAL' 'BROKEN' 'RECOVERING']\n",
      "\n",
      "NORMAL        205836\n",
      "RECOVERING     14477\n",
      "BROKEN             7\n",
      "Name: machine_status, dtype: int64\n",
      "\n"
     ]
    }
   ],
   "source": [
    "''' \n",
    "Get some info on the target-data\n",
    "'''\n",
    "\n",
    "print( 'status options: ');  print( datafull['machine_status'].unique()); print() # Get the unique values for class\n",
    "print (datafull['machine_status'].value_counts()); print() # Count the Classes to see how many we got from each"
   ]
  },
  {
   "cell_type": "code",
   "execution_count": 220,
   "id": "4fa440c8-8749-4ad7-9103-f7f1d80fd5ca",
   "metadata": {},
   "outputs": [
    {
     "name": "stdout",
     "output_type": "stream",
     "text": [
      "{'BROKEN': 0, 'NORMAL': 1, 'RECOVERING': 2}\n"
     ]
    }
   ],
   "source": [
    "'''\n",
    "Convert the classes from string to values by using the scikit-learn mapper\n",
    "'''\n",
    "\n",
    "le = preprocessing.LabelEncoder() #get the label Encoder\n",
    "le.fit(datafull.machine_status) #fit it to the data that the encoder knows what to do\n",
    "encoded_y=le.transform(datafull.machine_status) #finally transform the data and put it into a pandas data frame for easier use\n",
    "\n",
    "#Get the Label map\n",
    "le_name_mapping = dict(zip(le.classes_, le.transform(le.classes_))) # To be able to later indentify what is what, create a label map\n",
    "print(le_name_mapping)"
   ]
  },
  {
   "cell_type": "code",
   "execution_count": 221,
   "id": "8b76de43-1a64-4b79-839c-31c7e8c40296",
   "metadata": {},
   "outputs": [
    {
     "data": {
      "image/png": "[encoded data removed]",
      "text/plain": [
       "<Figure size 432x288 with 1 Axes>"
      ]
     },
     "metadata": {
      "needs_background": "light"
     },
     "output_type": "display_data"
    }
   ],
   "source": [
    "'''\n",
    "Plot the  target data\n",
    "'''\n",
    "\n",
    "x = np.linspace(1, len(encoded_y), len(encoded_y))# create x-axis (could also be the converted timestamp column)\n",
    "plt.plot(x, encoded_y) \n",
    "plt.ylabel('class')\n",
    "plt.title('Target')\n",
    "labels = ['Normal','Broken','Recovering'] # Give the y-axis the Class lables we found earlier\n",
    "plt.yticks([1,0,2], labels, rotation='vertical') # Set the y-ticks to three to only show the classnames\n",
    "plt.show()  "
   ]
  },
  {
   "cell_type": "code",
   "execution_count": 222,
   "id": "690acf53-3937-4f4f-892d-dfd04b8e3342",
   "metadata": {},
   "outputs": [],
   "source": [
    "datafull['machine_status'].loc[datafull['machine_status'] =='BROKEN'] = 0\n",
    "datafull['machine_status'].loc[datafull['machine_status'] =='NORMAL'] = 1\n",
    "datafull['machine_status'].loc[datafull['machine_status'] =='RECOVERING'] = 2"
   ]
  },
  {
   "cell_type": "code",
   "execution_count": 223,
   "id": "1dc34e3b-1cbd-487a-b7f4-42641b4cabea",
   "metadata": {},
   "outputs": [
    {
     "data": {
      "text/plain": [
       "1    205836\n",
       "2     14477\n",
       "0         7\n",
       "Name: machine_status, dtype: int64"
      ]
     },
     "execution_count": 223,
     "metadata": {},
     "output_type": "execute_result"
    }
   ],
   "source": [
    "datafull['machine_status'].value_counts()"
   ]
  },
  {
   "cell_type": "markdown",
   "id": "da173134-96e0-449d-98ce-f6d009e2b711",
   "metadata": {},
   "source": [
    "#### Rimuoviamo le righe duplicate"
   ]
  },
  {
   "cell_type": "code",
   "execution_count": 224,
   "id": "4795558d-2801-4cab-9bbe-b86852fab3ca",
   "metadata": {},
   "outputs": [],
   "source": [
    "data.drop_duplicates(inplace=True)\n",
    "datafull.drop_duplicates(inplace=True)"
   ]
  },
  {
   "cell_type": "markdown",
   "id": "93f117e6-33d4-4d40-b8d8-e86b49568cf5",
   "metadata": {},
   "source": [
    "#### Removing NaNs"
   ]
  },
  {
   "cell_type": "code",
   "execution_count": 225,
   "id": "4520e225-09dc-4146-8c7f-d9d370d90abb",
   "metadata": {},
   "outputs": [
    {
     "data": {
      "text/plain": [
       "Text(0.5, 1.0, 'Count NaN')"
      ]
     },
     "execution_count": 225,
     "metadata": {},
     "output_type": "execute_result"
    },
    {
     "data": {
      "image/png": "[encoded data removed]",
      "text/plain": [
       "<Figure size 1152x432 with 1 Axes>"
      ]
     },
     "metadata": {
      "needs_background": "light"
     },
     "output_type": "display_data"
    }
   ],
   "source": [
    "plt.figure(figsize=(16,6))\n",
    "data.isna().sum()[data.isna().sum()>0].plot(kind='bar')\n",
    "plt.title('Count NaN')"
   ]
  },
  {
   "cell_type": "code",
   "execution_count": 226,
   "id": "db58f4d9-16b6-41d6-8d46-402be868cbbb",
   "metadata": {},
   "outputs": [
    {
     "data": {
      "text/plain": [
       "Text(0.5, 1.0, 'Removing Sensor 15')"
      ]
     },
     "execution_count": 226,
     "metadata": {},
     "output_type": "execute_result"
    },
    {
     "data": {
      "image/png": "[encoded data removed]",
      "text/plain": [
       "<Figure size 1152x432 with 1 Axes>"
      ]
     },
     "metadata": {
      "needs_background": "light"
     },
     "output_type": "display_data"
    }
   ],
   "source": [
    "plt.figure(figsize=(16,6))\n",
    "\n",
    "data.drop('sensor_15', inplace=True, axis=1)\n",
    "datafull.drop('sensor_15', inplace=True, axis=1)\n",
    "\n",
    "data.isna().sum()[data.isna().sum()>0].plot(kind='bar')\n",
    "plt.title('Removing Sensor 15')"
   ]
  },
  {
   "cell_type": "code",
   "execution_count": null,
   "id": "745656f7-6e9f-45ff-93ca-0265195a09e1",
   "metadata": {},
   "outputs": [],
   "source": []
  },
  {
   "cell_type": "code",
   "execution_count": 227,
   "id": "4f93def5-9327-453a-b129-3cc5e97a3578",
   "metadata": {},
   "outputs": [
    {
     "data": {
      "text/plain": [
       "Text(0.5, 1.0, 'Focus sensos 50')"
      ]
     },
     "execution_count": 227,
     "metadata": {},
     "output_type": "execute_result"
    },
    {
     "data": {
      "image/png": "[encoded data removed]",
      "text/plain": [
       "<Figure size 1152x432 with 1 Axes>"
      ]
     },
     "metadata": {
      "needs_background": "light"
     },
     "output_type": "display_data"
    }
   ],
   "source": [
    "from sklearn.preprocessing import MinMaxScaler\n",
    "plt.figure(figsize=(16,6))\n",
    "\n",
    "scaler = MinMaxScaler()\n",
    "scaled_dat = pd.DataFrame(scaler.fit_transform(data), columns=data.columns)\n",
    "plt.plot(scaled_dat.sensor_50)\n",
    "\n",
    "x = np.linspace(1, len(encoded_y), len(encoded_y))# create x-axis (could also be the converted timestamp column)\n",
    "plt.plot(x, encoded_y)\n",
    "plt.title('Focus sensos 50')\n"
   ]
  },
  {
   "cell_type": "code",
   "execution_count": 228,
   "id": "9fb496ec-e921-4314-8c86-4b55faf836e6",
   "metadata": {},
   "outputs": [
    {
     "data": {
      "text/plain": [
       "Text(0.5, 1.0, 'Focus sensos 51')"
      ]
     },
     "execution_count": 228,
     "metadata": {},
     "output_type": "execute_result"
    },
    {
     "data": {
      "image/png": "[encoded data removed]",
      "text/plain": [
       "<Figure size 1152x432 with 1 Axes>"
      ]
     },
     "metadata": {
      "needs_background": "light"
     },
     "output_type": "display_data"
    }
   ],
   "source": [
    "from sklearn.preprocessing import MinMaxScaler\n",
    "plt.figure(figsize=(16,6))\n",
    "\n",
    "scaler = MinMaxScaler()\n",
    "scaled_dat = pd.DataFrame(scaler.fit_transform(data), columns=data.columns)\n",
    "plt.plot(scaled_dat.sensor_51)\n",
    "\n",
    "x = np.linspace(1, len(encoded_y), len(encoded_y))# create x-axis (could also be the converted timestamp column)\n",
    "plt.plot(x, encoded_y) \n",
    "plt.title('Focus sensos 51')\n"
   ]
  },
  {
   "cell_type": "code",
   "execution_count": 229,
   "id": "087835ff-8adf-4c1c-a055-e3015e700e52",
   "metadata": {},
   "outputs": [
    {
     "data": {
      "text/plain": [
       "[<matplotlib.lines.Line2D at 0x7f0894f60f40>]"
      ]
     },
     "execution_count": 229,
     "metadata": {},
     "output_type": "execute_result"
    },
    {
     "data": {
      "image/png": "[encoded data removed]",
      "text/plain": [
       "<Figure size 1152x432 with 1 Axes>"
      ]
     },
     "metadata": {
      "needs_background": "light"
     },
     "output_type": "display_data"
    }
   ],
   "source": [
    "plt.figure(figsize=(16,6))\n",
    "\n",
    "# repair sensor 50 with 51 data\n",
    "data.sensor_51[110000:140000]=data.sensor_50[110000:140000] # repair sensor 51\n",
    "datafull.sensor_51[110000:140000]=datafull.sensor_50[110000:140000] # repair sensor 51\n",
    "\n",
    "# drop sensor 50\n",
    "data.drop('sensor_50', inplace=True, axis=1)\n",
    "datafull.drop('sensor_50', inplace=True, axis=1)\n",
    "\n",
    "plt.plot(data.sensor_51)"
   ]
  },
  {
   "cell_type": "code",
   "execution_count": 230,
   "id": "0635c2c0-aa5c-4217-8d34-535d7c542d10",
   "metadata": {},
   "outputs": [
    {
     "data": {
      "text/plain": [
       "Index(['sensor_00', 'sensor_01', 'sensor_02', 'sensor_03', 'sensor_04',\n",
       "       'sensor_05', 'sensor_06', 'sensor_07', 'sensor_08', 'sensor_09',\n",
       "       'sensor_10', 'sensor_11', 'sensor_12', 'sensor_13', 'sensor_14',\n",
       "       'sensor_16', 'sensor_17', 'sensor_18', 'sensor_19', 'sensor_20',\n",
       "       'sensor_21', 'sensor_22', 'sensor_23', 'sensor_24', 'sensor_25',\n",
       "       'sensor_26', 'sensor_27', 'sensor_28', 'sensor_29', 'sensor_30',\n",
       "       'sensor_31', 'sensor_32', 'sensor_33', 'sensor_34', 'sensor_35',\n",
       "       'sensor_36', 'sensor_37', 'sensor_38', 'sensor_39', 'sensor_40',\n",
       "       'sensor_41', 'sensor_42', 'sensor_43', 'sensor_44', 'sensor_45',\n",
       "       'sensor_46', 'sensor_47', 'sensor_48', 'sensor_49', 'sensor_51'],\n",
       "      dtype='object')"
      ]
     },
     "execution_count": 230,
     "metadata": {},
     "output_type": "execute_result"
    }
   ],
   "source": [
    "data.columns"
   ]
  },
  {
   "cell_type": "code",
   "execution_count": 231,
   "id": "ee55f283-5b89-413b-972d-b6cc672aa112",
   "metadata": {},
   "outputs": [
    {
     "data": {
      "text/plain": [
       "Text(0.5, 1.0, 'Dropped sensor 15, 50 and fixed 51')"
      ]
     },
     "execution_count": 231,
     "metadata": {},
     "output_type": "execute_result"
    },
    {
     "data": {
      "image/png": "[encoded data removed]",
      "text/plain": [
       "<Figure size 1152x432 with 1 Axes>"
      ]
     },
     "metadata": {
      "needs_background": "light"
     },
     "output_type": "display_data"
    }
   ],
   "source": [
    "plt.figure(figsize=(16,6))\n",
    "data.isna().sum()[data.isna().sum()>0].plot(kind='bar')\n",
    "plt.title('Dropped sensor 15, 50 and fixed 51')"
   ]
  },
  {
   "cell_type": "code",
   "execution_count": 232,
   "id": "3853daad-72df-4823-b458-888f20f00c53",
   "metadata": {},
   "outputs": [
    {
     "data": {
      "text/plain": [
       "<AxesSubplot:title={'center':'Var'}>"
      ]
     },
     "execution_count": 232,
     "metadata": {},
     "output_type": "execute_result"
    },
    {
     "data": {
      "image/png": "[encoded data removed]",
      "text/plain": [
       "<Figure size 1152x432 with 1 Axes>"
      ]
     },
     "metadata": {
      "needs_background": "light"
     },
     "output_type": "display_data"
    }
   ],
   "source": [
    "plt.figure(figsize=(16,6))\n",
    "plt.title('Var')\n",
    "data.var().plot(kind='bar')"
   ]
  },
  {
   "cell_type": "markdown",
   "id": "5231d624-4759-4268-af99-d8383a249010",
   "metadata": {},
   "source": [
    "si osserva come i senso 00 e 06-09 pur avendo dei valori mancando non hanno molta varianza, pe cui dediciamo allora di rimuoverli siccome non penso portino molta informzione"
   ]
  },
  {
   "cell_type": "code",
   "execution_count": 233,
   "id": "d3900637-fbc2-43f7-b220-fe0fcb17c69b",
   "metadata": {},
   "outputs": [
    {
     "data": {
      "text/plain": [
       "\"\\ndata.drop('sensor_00', inplace=True, axis=1)\\ndata.drop('sensor_06', inplace=True, axis=1)\\ndata.drop('sensor_07', inplace=True, axis=1)\\ndata.drop('sensor_08', inplace=True, axis=1)\\ndata.drop('sensor_09', inplace=True, axis=1)\\n\\ndatafull.drop('sensor_00', inplace=True, axis=1)\\ndatafull.drop('sensor_06', inplace=True, axis=1)\\ndatafull.drop('sensor_07', inplace=True, axis=1)\\ndatafull.drop('sensor_08', inplace=True, axis=1)\\ndatafull.drop('sensor_09', inplace=True, axis=1)\\n\""
      ]
     },
     "execution_count": 233,
     "metadata": {},
     "output_type": "execute_result"
    }
   ],
   "source": [
    "\"\"\"\n",
    "data.drop('sensor_00', inplace=True, axis=1)\n",
    "data.drop('sensor_06', inplace=True, axis=1)\n",
    "data.drop('sensor_07', inplace=True, axis=1)\n",
    "data.drop('sensor_08', inplace=True, axis=1)\n",
    "data.drop('sensor_09', inplace=True, axis=1)\n",
    "\n",
    "datafull.drop('sensor_00', inplace=True, axis=1)\n",
    "datafull.drop('sensor_06', inplace=True, axis=1)\n",
    "datafull.drop('sensor_07', inplace=True, axis=1)\n",
    "datafull.drop('sensor_08', inplace=True, axis=1)\n",
    "datafull.drop('sensor_09', inplace=True, axis=1)\n",
    "\"\"\""
   ]
  },
  {
   "cell_type": "code",
   "execution_count": 234,
   "id": "a7a4080e-e7d2-4397-9cbd-b7fc98b00067",
   "metadata": {},
   "outputs": [
    {
     "data": {
      "text/plain": [
       "<AxesSubplot:>"
      ]
     },
     "execution_count": 234,
     "metadata": {},
     "output_type": "execute_result"
    },
    {
     "data": {
      "image/png": "[encoded data removed]",
      "text/plain": [
       "<Figure size 1152x432 with 1 Axes>"
      ]
     },
     "metadata": {
      "needs_background": "light"
     },
     "output_type": "display_data"
    }
   ],
   "source": [
    "plt.figure(figsize=(16,6))\n",
    "data.isna().sum()[data.isna().sum()>0].plot(kind='bar')"
   ]
  },
  {
   "cell_type": "code",
   "execution_count": 235,
   "id": "01122c0d-1a51-48a7-b7a3-85ec58763db9",
   "metadata": {},
   "outputs": [
    {
     "data": {
      "text/plain": [
       "<Figure size 1152x432 with 0 Axes>"
      ]
     },
     "metadata": {},
     "output_type": "display_data"
    }
   ],
   "source": [
    "\"\"\"\n",
    "plt.figure(figsize=(16,6))\n",
    "\n",
    "data.fillna(method=\"pad\", limit=30, inplace=True) # fill degli na con PAD mode e fino a 30 na consecutivi, il resto lascia na\n",
    "data.dropna(inplace=True)\n",
    "\n",
    "datafull.fillna(method=\"pad\",limit=30, inplace=True) # fill degli na con PAD mode e fino a 30 na consecutivi, il resto lascia na\n",
    "datafull.dropna(inplace=True)\n",
    "\"\"\"\n",
    "\n",
    "plt.figure(figsize=(16,6))\n",
    "\n",
    "data.fillna(-1, inplace=True) # fill degli na con PAD mode e fino a 30 na consecutivi, il resto lascia na\n",
    "data.dropna(inplace=True)\n",
    "\n",
    "datafull.fillna(-1, inplace=True) # fill degli na con PAD mode e fino a 30 na consecutivi, il resto lascia na\n",
    "datafull.dropna(inplace=True)"
   ]
  },
  {
   "cell_type": "markdown",
   "id": "0bc62283-4857-4c75-b94f-dbc182556eaf",
   "metadata": {},
   "source": [
    "#### Feature Engineering"
   ]
  },
  {
   "cell_type": "code",
   "execution_count": 236,
   "id": "fda7d4fa-b7fe-4419-8911-bb628b01f1a8",
   "metadata": {},
   "outputs": [],
   "source": [
    "datafull.reset_index(inplace=True)\n",
    "datafull.drop('id', inplace=True, axis=1)"
   ]
  },
  {
   "cell_type": "code",
   "execution_count": 237,
   "id": "3e37c5c6-a423-4fa5-b8bf-0d693faf29d1",
   "metadata": {},
   "outputs": [
    {
     "data": {
      "text/html": [
       "<div>\n",
       "<style scoped>\n",
       "    .dataframe tbody tr th:only-of-type {\n",
       "        vertical-align: middle;\n",
       "    }\n",
       "\n",
       "    .dataframe tbody tr th {\n",
       "        vertical-align: top;\n",
       "    }\n",
       "\n",
       "    .dataframe thead th {\n",
       "        text-align: right;\n",
       "    }\n",
       "</style>\n",
       "<table border=\"1\" class=\"dataframe\">\n",
       "  <thead>\n",
       "    <tr style=\"text-align: right;\">\n",
       "      <th></th>\n",
       "      <th>index</th>\n",
       "      <th>timestamp</th>\n",
       "      <th>sensor_00</th>\n",
       "      <th>sensor_01</th>\n",
       "      <th>sensor_02</th>\n",
       "      <th>sensor_03</th>\n",
       "      <th>sensor_04</th>\n",
       "      <th>sensor_05</th>\n",
       "      <th>sensor_06</th>\n",
       "      <th>sensor_07</th>\n",
       "      <th>...</th>\n",
       "      <th>sensor_42</th>\n",
       "      <th>sensor_43</th>\n",
       "      <th>sensor_44</th>\n",
       "      <th>sensor_45</th>\n",
       "      <th>sensor_46</th>\n",
       "      <th>sensor_47</th>\n",
       "      <th>sensor_48</th>\n",
       "      <th>sensor_49</th>\n",
       "      <th>sensor_51</th>\n",
       "      <th>machine_status</th>\n",
       "    </tr>\n",
       "  </thead>\n",
       "  <tbody>\n",
       "    <tr>\n",
       "      <th>0</th>\n",
       "      <td>0</td>\n",
       "      <td>2018-04-01 00:00:00</td>\n",
       "      <td>2.465394</td>\n",
       "      <td>47.09201</td>\n",
       "      <td>53.2118</td>\n",
       "      <td>46.310760</td>\n",
       "      <td>634.3750</td>\n",
       "      <td>76.45975</td>\n",
       "      <td>13.41146</td>\n",
       "      <td>16.13136</td>\n",
       "      <td>...</td>\n",
       "      <td>31.770832</td>\n",
       "      <td>41.92708</td>\n",
       "      <td>39.641200</td>\n",
       "      <td>65.68287</td>\n",
       "      <td>50.92593</td>\n",
       "      <td>38.194440</td>\n",
       "      <td>157.9861</td>\n",
       "      <td>67.70834</td>\n",
       "      <td>201.3889</td>\n",
       "      <td>1</td>\n",
       "    </tr>\n",
       "    <tr>\n",
       "      <th>1</th>\n",
       "      <td>1</td>\n",
       "      <td>2018-04-01 00:01:00</td>\n",
       "      <td>2.465394</td>\n",
       "      <td>47.09201</td>\n",
       "      <td>53.2118</td>\n",
       "      <td>46.310760</td>\n",
       "      <td>634.3750</td>\n",
       "      <td>76.45975</td>\n",
       "      <td>13.41146</td>\n",
       "      <td>16.13136</td>\n",
       "      <td>...</td>\n",
       "      <td>31.770832</td>\n",
       "      <td>41.92708</td>\n",
       "      <td>39.641200</td>\n",
       "      <td>65.68287</td>\n",
       "      <td>50.92593</td>\n",
       "      <td>38.194440</td>\n",
       "      <td>157.9861</td>\n",
       "      <td>67.70834</td>\n",
       "      <td>201.3889</td>\n",
       "      <td>1</td>\n",
       "    </tr>\n",
       "    <tr>\n",
       "      <th>2</th>\n",
       "      <td>2</td>\n",
       "      <td>2018-04-01 00:02:00</td>\n",
       "      <td>2.444734</td>\n",
       "      <td>47.35243</td>\n",
       "      <td>53.2118</td>\n",
       "      <td>46.397570</td>\n",
       "      <td>638.8889</td>\n",
       "      <td>73.54598</td>\n",
       "      <td>13.32465</td>\n",
       "      <td>16.03733</td>\n",
       "      <td>...</td>\n",
       "      <td>31.770830</td>\n",
       "      <td>41.66666</td>\n",
       "      <td>39.351852</td>\n",
       "      <td>65.39352</td>\n",
       "      <td>51.21528</td>\n",
       "      <td>38.194443</td>\n",
       "      <td>155.9606</td>\n",
       "      <td>67.12963</td>\n",
       "      <td>203.7037</td>\n",
       "      <td>1</td>\n",
       "    </tr>\n",
       "    <tr>\n",
       "      <th>3</th>\n",
       "      <td>3</td>\n",
       "      <td>2018-04-01 00:03:00</td>\n",
       "      <td>2.460474</td>\n",
       "      <td>47.09201</td>\n",
       "      <td>53.1684</td>\n",
       "      <td>46.397568</td>\n",
       "      <td>628.1250</td>\n",
       "      <td>76.98898</td>\n",
       "      <td>13.31742</td>\n",
       "      <td>16.24711</td>\n",
       "      <td>...</td>\n",
       "      <td>31.510420</td>\n",
       "      <td>40.88541</td>\n",
       "      <td>39.062500</td>\n",
       "      <td>64.81481</td>\n",
       "      <td>51.21528</td>\n",
       "      <td>38.194440</td>\n",
       "      <td>155.9606</td>\n",
       "      <td>66.84028</td>\n",
       "      <td>203.1250</td>\n",
       "      <td>1</td>\n",
       "    </tr>\n",
       "    <tr>\n",
       "      <th>4</th>\n",
       "      <td>4</td>\n",
       "      <td>2018-04-01 00:04:00</td>\n",
       "      <td>2.445718</td>\n",
       "      <td>47.13541</td>\n",
       "      <td>53.2118</td>\n",
       "      <td>46.397568</td>\n",
       "      <td>636.4583</td>\n",
       "      <td>76.58897</td>\n",
       "      <td>13.35359</td>\n",
       "      <td>16.21094</td>\n",
       "      <td>...</td>\n",
       "      <td>31.510420</td>\n",
       "      <td>41.40625</td>\n",
       "      <td>38.773150</td>\n",
       "      <td>65.10416</td>\n",
       "      <td>51.79398</td>\n",
       "      <td>38.773150</td>\n",
       "      <td>158.2755</td>\n",
       "      <td>66.55093</td>\n",
       "      <td>201.3889</td>\n",
       "      <td>1</td>\n",
       "    </tr>\n",
       "  </tbody>\n",
       "</table>\n",
       "<p>5 rows × 53 columns</p>\n",
       "</div>"
      ],
      "text/plain": [
       "   index            timestamp  sensor_00  sensor_01  sensor_02  sensor_03  \\\n",
       "0      0  2018-04-01 00:00:00   2.465394   47.09201    53.2118  46.310760   \n",
       "1      1  2018-04-01 00:01:00   2.465394   47.09201    53.2118  46.310760   \n",
       "2      2  2018-04-01 00:02:00   2.444734   47.35243    53.2118  46.397570   \n",
       "3      3  2018-04-01 00:03:00   2.460474   47.09201    53.1684  46.397568   \n",
       "4      4  2018-04-01 00:04:00   2.445718   47.13541    53.2118  46.397568   \n",
       "\n",
       "   sensor_04  sensor_05  sensor_06  sensor_07  ...  sensor_42  sensor_43  \\\n",
       "0   634.3750   76.45975   13.41146   16.13136  ...  31.770832   41.92708   \n",
       "1   634.3750   76.45975   13.41146   16.13136  ...  31.770832   41.92708   \n",
       "2   638.8889   73.54598   13.32465   16.03733  ...  31.770830   41.66666   \n",
       "3   628.1250   76.98898   13.31742   16.24711  ...  31.510420   40.88541   \n",
       "4   636.4583   76.58897   13.35359   16.21094  ...  31.510420   41.40625   \n",
       "\n",
       "   sensor_44  sensor_45  sensor_46  sensor_47  sensor_48  sensor_49  \\\n",
       "0  39.641200   65.68287   50.92593  38.194440   157.9861   67.70834   \n",
       "1  39.641200   65.68287   50.92593  38.194440   157.9861   67.70834   \n",
       "2  39.351852   65.39352   51.21528  38.194443   155.9606   67.12963   \n",
       "3  39.062500   64.81481   51.21528  38.194440   155.9606   66.84028   \n",
       "4  38.773150   65.10416   51.79398  38.773150   158.2755   66.55093   \n",
       "\n",
       "   sensor_51  machine_status  \n",
       "0   201.3889               1  \n",
       "1   201.3889               1  \n",
       "2   203.7037               1  \n",
       "3   203.1250               1  \n",
       "4   201.3889               1  \n",
       "\n",
       "[5 rows x 53 columns]"
      ]
     },
     "execution_count": 237,
     "metadata": {},
     "output_type": "execute_result"
    }
   ],
   "source": [
    "datafull.head()"
   ]
  },
  {
   "cell_type": "markdown",
   "id": "a79964d9-d946-4df3-a3f9-1c0b7f846184",
   "metadata": {},
   "source": [
    "Moreover, plot of machine status variation with time shows that Recovering state follows Broken state and in Recovering state pump is trying to recover from Broken state so Recovering state is considered as Broken state."
   ]
  },
  {
   "cell_type": "code",
   "execution_count": 238,
   "id": "812d20e0-bf61-4795-bf08-6250a1219ac1",
   "metadata": {},
   "outputs": [],
   "source": [
    "\n",
    "datafull['machine_status'].loc[(datafull['machine_status'] == 0) | (datafull['machine_status'] == 2) ] = 0"
   ]
  },
  {
   "cell_type": "code",
   "execution_count": 239,
   "id": "3df0861c-b77e-4b36-895c-b858f5b6e558",
   "metadata": {},
   "outputs": [
    {
     "data": {
      "text/plain": [
       "1    205836\n",
       "0     14484\n",
       "Name: machine_status, dtype: int64"
      ]
     },
     "execution_count": 239,
     "metadata": {},
     "output_type": "execute_result"
    }
   ],
   "source": [
    "datafull['machine_status'].value_counts()"
   ]
  },
  {
   "cell_type": "markdown",
   "id": "8406afa7-a0c0-4d5d-9bdf-a4705baffd55",
   "metadata": {},
   "source": [
    "Because of limited availability data, selected time window of 10 minute for prediction i. e. given a data point predict the machine status after 10 minute. Therefore data is pre-processed by shifting the labels by 10 minute."
   ]
  },
  {
   "cell_type": "code",
   "execution_count": 240,
   "id": "777b0ced-a0e9-4b3b-81ba-79df5bf79bff",
   "metadata": {},
   "outputs": [],
   "source": [
    "#final_sensors = ['sensor_04', 'sensor_19', 'sensor_20', 'sensor_21', \n",
    "#                 'sensor_38', 'sensor_39', 'sensor_40', 'sensor_41', \n",
    "#                 'sensor_42']\n",
    "\n",
    "final_sensors = ['sensor_00', 'sensor_02', 'sensor_04', 'sensor_06',  'sensor_07', 'sensor_08', 'sensor_09', 'sensor_10', 'sensor_11', 'sensor_51' ]"
   ]
  },
  {
   "cell_type": "code",
   "execution_count": 241,
   "id": "0a094a2b-a727-4fa4-a007-25998bbb8507",
   "metadata": {},
   "outputs": [
    {
     "data": {
      "text/html": [
       "<div>\n",
       "<style scoped>\n",
       "    .dataframe tbody tr th:only-of-type {\n",
       "        vertical-align: middle;\n",
       "    }\n",
       "\n",
       "    .dataframe tbody tr th {\n",
       "        vertical-align: top;\n",
       "    }\n",
       "\n",
       "    .dataframe thead th {\n",
       "        text-align: right;\n",
       "    }\n",
       "</style>\n",
       "<table border=\"1\" class=\"dataframe\">\n",
       "  <thead>\n",
       "    <tr style=\"text-align: right;\">\n",
       "      <th></th>\n",
       "      <th>sensor_00</th>\n",
       "      <th>sensor_02</th>\n",
       "      <th>sensor_04</th>\n",
       "      <th>sensor_06</th>\n",
       "      <th>sensor_07</th>\n",
       "      <th>sensor_08</th>\n",
       "      <th>sensor_09</th>\n",
       "      <th>sensor_10</th>\n",
       "      <th>sensor_11</th>\n",
       "      <th>sensor_51</th>\n",
       "    </tr>\n",
       "  </thead>\n",
       "  <tbody>\n",
       "    <tr>\n",
       "      <th>0</th>\n",
       "      <td>2.465394</td>\n",
       "      <td>53.2118</td>\n",
       "      <td>634.3750</td>\n",
       "      <td>13.41146</td>\n",
       "      <td>16.13136</td>\n",
       "      <td>15.56713</td>\n",
       "      <td>15.05353</td>\n",
       "      <td>37.22740</td>\n",
       "      <td>47.52422</td>\n",
       "      <td>201.3889</td>\n",
       "    </tr>\n",
       "    <tr>\n",
       "      <th>1</th>\n",
       "      <td>2.465394</td>\n",
       "      <td>53.2118</td>\n",
       "      <td>634.3750</td>\n",
       "      <td>13.41146</td>\n",
       "      <td>16.13136</td>\n",
       "      <td>15.56713</td>\n",
       "      <td>15.05353</td>\n",
       "      <td>37.22740</td>\n",
       "      <td>47.52422</td>\n",
       "      <td>201.3889</td>\n",
       "    </tr>\n",
       "    <tr>\n",
       "      <th>2</th>\n",
       "      <td>2.444734</td>\n",
       "      <td>53.2118</td>\n",
       "      <td>638.8889</td>\n",
       "      <td>13.32465</td>\n",
       "      <td>16.03733</td>\n",
       "      <td>15.61777</td>\n",
       "      <td>15.01013</td>\n",
       "      <td>37.86777</td>\n",
       "      <td>48.17723</td>\n",
       "      <td>203.7037</td>\n",
       "    </tr>\n",
       "    <tr>\n",
       "      <th>3</th>\n",
       "      <td>2.460474</td>\n",
       "      <td>53.1684</td>\n",
       "      <td>628.1250</td>\n",
       "      <td>13.31742</td>\n",
       "      <td>16.24711</td>\n",
       "      <td>15.69734</td>\n",
       "      <td>15.08247</td>\n",
       "      <td>38.57977</td>\n",
       "      <td>48.65607</td>\n",
       "      <td>203.1250</td>\n",
       "    </tr>\n",
       "    <tr>\n",
       "      <th>4</th>\n",
       "      <td>2.445718</td>\n",
       "      <td>53.2118</td>\n",
       "      <td>636.4583</td>\n",
       "      <td>13.35359</td>\n",
       "      <td>16.21094</td>\n",
       "      <td>15.69734</td>\n",
       "      <td>15.08247</td>\n",
       "      <td>39.48939</td>\n",
       "      <td>49.06298</td>\n",
       "      <td>201.3889</td>\n",
       "    </tr>\n",
       "  </tbody>\n",
       "</table>\n",
       "</div>"
      ],
      "text/plain": [
       "   sensor_00  sensor_02  sensor_04  sensor_06  sensor_07  sensor_08  \\\n",
       "0   2.465394    53.2118   634.3750   13.41146   16.13136   15.56713   \n",
       "1   2.465394    53.2118   634.3750   13.41146   16.13136   15.56713   \n",
       "2   2.444734    53.2118   638.8889   13.32465   16.03733   15.61777   \n",
       "3   2.460474    53.1684   628.1250   13.31742   16.24711   15.69734   \n",
       "4   2.445718    53.2118   636.4583   13.35359   16.21094   15.69734   \n",
       "\n",
       "   sensor_09  sensor_10  sensor_11  sensor_51  \n",
       "0   15.05353   37.22740   47.52422   201.3889  \n",
       "1   15.05353   37.22740   47.52422   201.3889  \n",
       "2   15.01013   37.86777   48.17723   203.7037  \n",
       "3   15.08247   38.57977   48.65607   203.1250  \n",
       "4   15.08247   39.48939   49.06298   201.3889  "
      ]
     },
     "execution_count": 241,
     "metadata": {},
     "output_type": "execute_result"
    }
   ],
   "source": [
    "datafull = datafull[final_sensors]\n",
    "datafull.head()"
   ]
  },
  {
   "cell_type": "markdown",
   "id": "46516387-5a22-4683-a6fe-8a83acb8a0ae",
   "metadata": {},
   "source": [
    "## LSTM"
   ]
  },
  {
   "cell_type": "code",
   "execution_count": 242,
   "id": "2e1f2418-4d8d-4913-b958-262449779a01",
   "metadata": {},
   "outputs": [],
   "source": [
    "def series_to_supervised(data, n_in=1, n_out=1, dropnan=True):\n",
    "    n_vars = 1 if type(data) is list else data.shape[1]\n",
    "    dff = pd.DataFrame(data)\n",
    "    cols, names = list(), list()\n",
    "    for i in range(n_in, 0, -1):\n",
    "        cols.append(dff.shift(-i))\n",
    "        names += [('var%d(t-%d)' % (j+1, i)) for j in range(n_vars)]\n",
    "    for i in range(0, n_out):\n",
    "        cols.append(dff.shift(-i))\n",
    "        if i==0:\n",
    "            names += [('var%d(t)' % (j+1)) for j in range(n_vars)]\n",
    "        else:\n",
    "            names += [('var%d(t+%d)' % (j+1)) for j in range(n_vars)]        \n",
    "        agg = pd.concat(cols, axis=1)\n",
    "        agg.columns = names\n",
    "        if dropnan:\n",
    "            agg.dropna(inplace=True)\n",
    "        return agg"
   ]
  },
  {
   "cell_type": "code",
   "execution_count": 307,
   "id": "8b4cc5f1-c72b-42b6-b6ae-0d4c57d1c7a0",
   "metadata": {
    "tags": []
   },
   "outputs": [],
   "source": [
    "values_2 = datafull.values\n",
    "n_train_time = 130000\n",
    "train = values_2[:n_train_time, :]\n",
    "test = values_2[n_train_time:, :]\n",
    "train_x, train_y = train[:, :-1], train[:, -1]\n",
    "test_x, test_y = test[:, :-1], test[:, -1]\n",
    "train_x = train_x.reshape((train_x.shape[0], 1, train_x.shape[1]))\n",
    "test_x = test_x.reshape((test_x.shape[0], 1, test_x.shape[1]))"
   ]
  },
  {
   "cell_type": "code",
   "execution_count": 309,
   "id": "13e1d896-0f92-4e7e-9aaa-f41829e40b2d",
   "metadata": {},
   "outputs": [
    {
     "data": {
      "text/html": [
       "<div>\n",
       "<style scoped>\n",
       "    .dataframe tbody tr th:only-of-type {\n",
       "        vertical-align: middle;\n",
       "    }\n",
       "\n",
       "    .dataframe tbody tr th {\n",
       "        vertical-align: top;\n",
       "    }\n",
       "\n",
       "    .dataframe thead th {\n",
       "        text-align: right;\n",
       "    }\n",
       "</style>\n",
       "<table border=\"1\" class=\"dataframe\">\n",
       "  <thead>\n",
       "    <tr style=\"text-align: right;\">\n",
       "      <th></th>\n",
       "      <th>var1(t-1)</th>\n",
       "      <th>var2(t-1)</th>\n",
       "      <th>var3(t-1)</th>\n",
       "      <th>var4(t-1)</th>\n",
       "      <th>var5(t-1)</th>\n",
       "      <th>var6(t-1)</th>\n",
       "      <th>var7(t-1)</th>\n",
       "      <th>var8(t-1)</th>\n",
       "      <th>var9(t-1)</th>\n",
       "      <th>var10(t-1)</th>\n",
       "      <th>var1(t)</th>\n",
       "    </tr>\n",
       "  </thead>\n",
       "  <tbody>\n",
       "    <tr>\n",
       "      <th>0</th>\n",
       "      <td>0.976438</td>\n",
       "      <td>0.950534</td>\n",
       "      <td>0.793227</td>\n",
       "      <td>0.619817</td>\n",
       "      <td>0.696492</td>\n",
       "      <td>0.653563</td>\n",
       "      <td>0.617443</td>\n",
       "      <td>0.495772</td>\n",
       "      <td>0.795479</td>\n",
       "      <td>0.433246</td>\n",
       "      <td>0.976438</td>\n",
       "    </tr>\n",
       "    <tr>\n",
       "      <th>1</th>\n",
       "      <td>0.970617</td>\n",
       "      <td>0.950534</td>\n",
       "      <td>0.798863</td>\n",
       "      <td>0.616083</td>\n",
       "      <td>0.692669</td>\n",
       "      <td>0.655560</td>\n",
       "      <td>0.615774</td>\n",
       "      <td>0.504077</td>\n",
       "      <td>0.806184</td>\n",
       "      <td>0.438201</td>\n",
       "      <td>0.976438</td>\n",
       "    </tr>\n",
       "    <tr>\n",
       "      <th>2</th>\n",
       "      <td>0.975052</td>\n",
       "      <td>0.949773</td>\n",
       "      <td>0.785424</td>\n",
       "      <td>0.615772</td>\n",
       "      <td>0.701198</td>\n",
       "      <td>0.658699</td>\n",
       "      <td>0.618557</td>\n",
       "      <td>0.513311</td>\n",
       "      <td>0.814034</td>\n",
       "      <td>0.436962</td>\n",
       "      <td>0.970617</td>\n",
       "    </tr>\n",
       "    <tr>\n",
       "      <th>3</th>\n",
       "      <td>0.970894</td>\n",
       "      <td>0.950534</td>\n",
       "      <td>0.795828</td>\n",
       "      <td>0.617328</td>\n",
       "      <td>0.699727</td>\n",
       "      <td>0.658699</td>\n",
       "      <td>0.618557</td>\n",
       "      <td>0.525107</td>\n",
       "      <td>0.820705</td>\n",
       "      <td>0.433246</td>\n",
       "      <td>0.975052</td>\n",
       "    </tr>\n",
       "    <tr>\n",
       "      <th>4</th>\n",
       "      <td>0.973111</td>\n",
       "      <td>0.949773</td>\n",
       "      <td>0.797273</td>\n",
       "      <td>0.619817</td>\n",
       "      <td>0.697962</td>\n",
       "      <td>0.666404</td>\n",
       "      <td>0.621617</td>\n",
       "      <td>0.522574</td>\n",
       "      <td>0.825746</td>\n",
       "      <td>0.433865</td>\n",
       "      <td>0.970894</td>\n",
       "    </tr>\n",
       "  </tbody>\n",
       "</table>\n",
       "</div>"
      ],
      "text/plain": [
       "   var1(t-1)  var2(t-1)  var3(t-1)  var4(t-1)  var5(t-1)  var6(t-1)  \\\n",
       "0   0.976438   0.950534   0.793227   0.619817   0.696492   0.653563   \n",
       "1   0.970617   0.950534   0.798863   0.616083   0.692669   0.655560   \n",
       "2   0.975052   0.949773   0.785424   0.615772   0.701198   0.658699   \n",
       "3   0.970894   0.950534   0.795828   0.617328   0.699727   0.658699   \n",
       "4   0.973111   0.949773   0.797273   0.619817   0.697962   0.666404   \n",
       "\n",
       "   var7(t-1)  var8(t-1)  var9(t-1)  var10(t-1)   var1(t)  \n",
       "0   0.617443   0.495772   0.795479    0.433246  0.976438  \n",
       "1   0.615774   0.504077   0.806184    0.438201  0.976438  \n",
       "2   0.618557   0.513311   0.814034    0.436962  0.970617  \n",
       "3   0.618557   0.525107   0.820705    0.433246  0.975052  \n",
       "4   0.621617   0.522574   0.825746    0.433865  0.970894  "
      ]
     },
     "execution_count": 309,
     "metadata": {},
     "output_type": "execute_result"
    }
   ],
   "source": [
    "from sklearn.preprocessing import MinMaxScaler\n",
    "\n",
    "values = datafull.values\n",
    "scaler = MinMaxScaler(feature_range=(0, 1))\n",
    "scaled = scaler.fit_transform(values)\n",
    "reframed = series_to_supervised(scaled, 1, 1)\n",
    "r = list(range(datafull.shape[1]+1, 2*datafull.shape[1]))\n",
    "reframed.drop(reframed.columns[r], axis=1, inplace=True)\n",
    "reframed.head()"
   ]
  },
  {
   "cell_type": "code",
   "execution_count": 310,
   "id": "3af2f588-8102-4951-9078-dc28bd1fa71e",
   "metadata": {},
   "outputs": [],
   "source": [
    "# Data spliting into train and test data series.\n",
    "values = reframed.values\n",
    "n_train_time = 130000\n",
    "train = values[:n_train_time, :]\n",
    "test = values[n_train_time:, :]\n",
    "train_x, train_y = train[:, :-1], train[:, -1]\n",
    "test_x, test_y = test[:, :-1], test[:, -1]\n",
    "train_x = train_x.reshape((train_x.shape[0], 1, train_x.shape[1]))\n",
    "test_x = test_x.reshape((test_x.shape[0], 1, test_x.shape[1]))"
   ]
  },
  {
   "cell_type": "code",
   "execution_count": 311,
   "id": "44ad4431-53da-4a4b-b4a4-0625b2d7d620",
   "metadata": {},
   "outputs": [
    {
     "data": {
      "text/plain": [
       "array([0.        , 0.        , 0.        , ..., 0.95814248, 0.95703372,\n",
       "       0.95980576])"
      ]
     },
     "execution_count": 311,
     "metadata": {},
     "output_type": "execute_result"
    }
   ],
   "source": [
    "test_y"
   ]
  },
  {
   "cell_type": "code",
   "execution_count": 245,
   "id": "0e864fd1-c25c-43bb-8c62-ab4c5861be6c",
   "metadata": {},
   "outputs": [
    {
     "data": {
      "text/plain": [
       "(90319, 11)"
      ]
     },
     "execution_count": 245,
     "metadata": {},
     "output_type": "execute_result"
    }
   ],
   "source": [
    "test.shape"
   ]
  },
  {
   "cell_type": "code",
   "execution_count": 246,
   "id": "086b8d70-29d6-431e-9769-3944ca5af290",
   "metadata": {},
   "outputs": [
    {
     "data": {
      "text/plain": [
       "(90319, 1, 10)"
      ]
     },
     "execution_count": 246,
     "metadata": {},
     "output_type": "execute_result"
    }
   ],
   "source": [
    "test_x.shape"
   ]
  },
  {
   "cell_type": "code",
   "execution_count": 247,
   "id": "7f2279ee-aa4b-4561-aee5-9bbba49b9b87",
   "metadata": {},
   "outputs": [
    {
     "data": {
      "text/plain": [
       "(130000,)"
      ]
     },
     "execution_count": 247,
     "metadata": {},
     "output_type": "execute_result"
    }
   ],
   "source": [
    "train_y.shape"
   ]
  },
  {
   "cell_type": "code",
   "execution_count": 248,
   "id": "cd370104-3061-40c2-a0a9-677fa7c5f5d4",
   "metadata": {},
   "outputs": [
    {
     "data": {
      "text/plain": [
       "(90319,)"
      ]
     },
     "execution_count": 248,
     "metadata": {},
     "output_type": "execute_result"
    }
   ],
   "source": [
    "test_y.shape"
   ]
  },
  {
   "cell_type": "code",
   "execution_count": 249,
   "id": "79c4ddbf-641d-4745-abd6-195a4b448a72",
   "metadata": {},
   "outputs": [],
   "source": [
    "def recall_m(y_true, y_pred):\n",
    "    true_positives = K.sum(K.round(K.clip(y_true * y_pred, 0, 1)))\n",
    "    possible_positives = K.sum(K.round(K.clip(y_true, 0, 1)))\n",
    "    recall = true_positives / (possible_positives + K.epsilon())\n",
    "    return recall\n",
    "\n",
    "def precision_m(y_true, y_pred):\n",
    "    true_positives = K.sum(K.round(K.clip(y_true * y_pred, 0, 1)))\n",
    "    predicted_positives = K.sum(K.round(K.clip(y_pred, 0, 1)))\n",
    "    precision = true_positives / (predicted_positives + K.epsilon())\n",
    "    return precision\n",
    "\n",
    "def f1_m(y_true, y_pred):\n",
    "    precision = precision_m(y_true, y_pred)\n",
    "    recall = recall_m(y_true, y_pred)\n",
    "    return 2*((precision*recall)/(precision+recall+K.epsilon()))"
   ]
  },
  {
   "cell_type": "code",
   "execution_count": null,
   "id": "da2df2d3-b235-4e5a-9b9b-e5e916ae9f8c",
   "metadata": {},
   "outputs": [
    {
     "name": "stdout",
     "output_type": "stream",
     "text": [
      "Epoch 1/50\n",
      "1858/1858 - 9s - loss: 0.1902 - f1_m: 0.9200 - val_loss: 0.4589 - val_f1_m: 0.9044 - 9s/epoch - 5ms/step\n",
      "Epoch 2/50\n",
      "1858/1858 - 6s - loss: 0.1576 - f1_m: 0.9223 - val_loss: 0.2752 - val_f1_m: 0.9139 - 6s/epoch - 3ms/step\n",
      "Epoch 3/50\n",
      "1858/1858 - 6s - loss: 0.1545 - f1_m: 0.9225 - val_loss: 0.2717 - val_f1_m: 0.9143 - 6s/epoch - 3ms/step\n",
      "Epoch 4/50\n",
      "1858/1858 - 6s - loss: 0.1533 - f1_m: 0.9230 - val_loss: 0.2606 - val_f1_m: 0.9147 - 6s/epoch - 3ms/step\n",
      "Epoch 5/50\n",
      "1858/1858 - 6s - loss: 0.1525 - f1_m: 0.9234 - val_loss: 0.2478 - val_f1_m: 0.9149 - 6s/epoch - 3ms/step\n",
      "Epoch 6/50\n",
      "1858/1858 - 6s - loss: 0.1520 - f1_m: 0.9237 - val_loss: 0.2389 - val_f1_m: 0.9151 - 6s/epoch - 3ms/step\n",
      "Epoch 7/50\n",
      "1858/1858 - 6s - loss: 0.1516 - f1_m: 0.9237 - val_loss: 0.2340 - val_f1_m: 0.9155 - 6s/epoch - 3ms/step\n",
      "Epoch 8/50\n",
      "1858/1858 - 6s - loss: 0.1512 - f1_m: 0.9236 - val_loss: 0.2329 - val_f1_m: 0.9156 - 6s/epoch - 3ms/step\n",
      "Epoch 9/50\n",
      "1858/1858 - 6s - loss: 0.1509 - f1_m: 0.9236 - val_loss: 0.2321 - val_f1_m: 0.9156 - 6s/epoch - 3ms/step\n",
      "Epoch 10/50\n",
      "1858/1858 - 6s - loss: 0.1506 - f1_m: 0.9234 - val_loss: 0.2291 - val_f1_m: 0.9157 - 6s/epoch - 3ms/step\n",
      "Epoch 11/50\n",
      "1858/1858 - 6s - loss: 0.1504 - f1_m: 0.9231 - val_loss: 0.2265 - val_f1_m: 0.9157 - 6s/epoch - 3ms/step\n",
      "Epoch 12/50\n",
      "1858/1858 - 6s - loss: 0.1502 - f1_m: 0.9230 - val_loss: 0.2270 - val_f1_m: 0.9156 - 6s/epoch - 3ms/step\n",
      "Epoch 13/50\n",
      "1858/1858 - 6s - loss: 0.1500 - f1_m: 0.9229 - val_loss: 0.2270 - val_f1_m: 0.9154 - 6s/epoch - 3ms/step\n",
      "Epoch 14/50\n",
      "1858/1858 - 6s - loss: 0.1499 - f1_m: 0.9229 - val_loss: 0.2234 - val_f1_m: 0.9155 - 6s/epoch - 3ms/step\n",
      "Epoch 15/50\n",
      "1858/1858 - 6s - loss: 0.1498 - f1_m: 0.9228 - val_loss: 0.2248 - val_f1_m: 0.9151 - 6s/epoch - 3ms/step\n",
      "Epoch 16/50\n",
      "1858/1858 - 6s - loss: 0.1497 - f1_m: 0.9228 - val_loss: 0.2231 - val_f1_m: 0.9150 - 6s/epoch - 3ms/step\n",
      "Epoch 17/50\n",
      "1858/1858 - 6s - loss: 0.1496 - f1_m: 0.9228 - val_loss: 0.2213 - val_f1_m: 0.9150 - 6s/epoch - 3ms/step\n",
      "Epoch 18/50\n",
      "1858/1858 - 6s - loss: 0.1495 - f1_m: 0.9229 - val_loss: 0.2240 - val_f1_m: 0.9149 - 6s/epoch - 3ms/step\n",
      "Epoch 19/50\n",
      "1858/1858 - 6s - loss: 0.1494 - f1_m: 0.9229 - val_loss: 0.2206 - val_f1_m: 0.9149 - 6s/epoch - 3ms/step\n",
      "Epoch 20/50\n",
      "1858/1858 - 6s - loss: 0.1493 - f1_m: 0.9229 - val_loss: 0.2223 - val_f1_m: 0.9146 - 6s/epoch - 3ms/step\n",
      "Epoch 21/50\n",
      "1858/1858 - 6s - loss: 0.1493 - f1_m: 0.9227 - val_loss: 0.2215 - val_f1_m: 0.9146 - 6s/epoch - 3ms/step\n",
      "Epoch 22/50\n",
      "1858/1858 - 6s - loss: 0.1492 - f1_m: 0.9226 - val_loss: 0.2232 - val_f1_m: 0.9145 - 6s/epoch - 3ms/step\n",
      "Epoch 23/50\n",
      "1858/1858 - 6s - loss: 0.1492 - f1_m: 0.9228 - val_loss: 0.2196 - val_f1_m: 0.9145 - 6s/epoch - 3ms/step\n",
      "Epoch 24/50\n",
      "1858/1858 - 6s - loss: 0.1491 - f1_m: 0.9227 - val_loss: 0.2164 - val_f1_m: 0.9147 - 6s/epoch - 3ms/step\n",
      "Epoch 25/50\n",
      "1858/1858 - 6s - loss: 0.1490 - f1_m: 0.9228 - val_loss: 0.2181 - val_f1_m: 0.9145 - 6s/epoch - 3ms/step\n",
      "Epoch 26/50\n",
      "1858/1858 - 6s - loss: 0.1490 - f1_m: 0.9228 - val_loss: 0.2168 - val_f1_m: 0.9145 - 6s/epoch - 3ms/step\n",
      "Epoch 27/50\n",
      "1858/1858 - 6s - loss: 0.1489 - f1_m: 0.9226 - val_loss: 0.2152 - val_f1_m: 0.9145 - 6s/epoch - 3ms/step\n",
      "Epoch 28/50\n",
      "1858/1858 - 6s - loss: 0.1489 - f1_m: 0.9228 - val_loss: 0.2118 - val_f1_m: 0.9146 - 6s/epoch - 3ms/step\n",
      "Epoch 29/50\n",
      "1858/1858 - 6s - loss: 0.1488 - f1_m: 0.9227 - val_loss: 0.2106 - val_f1_m: 0.9146 - 6s/epoch - 3ms/step\n",
      "Epoch 30/50\n",
      "1858/1858 - 6s - loss: 0.1488 - f1_m: 0.9227 - val_loss: 0.2070 - val_f1_m: 0.9148 - 6s/epoch - 3ms/step\n",
      "Epoch 31/50\n",
      "1858/1858 - 6s - loss: 0.1487 - f1_m: 0.9226 - val_loss: 0.2063 - val_f1_m: 0.9147 - 6s/epoch - 3ms/step\n",
      "Epoch 32/50\n",
      "1858/1858 - 6s - loss: 0.1487 - f1_m: 0.9226 - val_loss: 0.2036 - val_f1_m: 0.9149 - 6s/epoch - 3ms/step\n",
      "Epoch 33/50\n",
      "1858/1858 - 6s - loss: 0.1486 - f1_m: 0.9227 - val_loss: 0.2019 - val_f1_m: 0.9150 - 6s/epoch - 3ms/step\n",
      "Epoch 34/50\n",
      "1858/1858 - 6s - loss: 0.1486 - f1_m: 0.9226 - val_loss: 0.1994 - val_f1_m: 0.9152 - 6s/epoch - 3ms/step\n",
      "Epoch 35/50\n",
      "1858/1858 - 6s - loss: 0.1486 - f1_m: 0.9226 - val_loss: 0.1966 - val_f1_m: 0.9153 - 6s/epoch - 3ms/step\n",
      "Epoch 36/50\n",
      "1858/1858 - 6s - loss: 0.1485 - f1_m: 0.9226 - val_loss: 0.1952 - val_f1_m: 0.9154 - 6s/epoch - 3ms/step\n",
      "Epoch 37/50\n",
      "1858/1858 - 6s - loss: 0.1485 - f1_m: 0.9226 - val_loss: 0.1926 - val_f1_m: 0.9155 - 6s/epoch - 3ms/step\n",
      "Epoch 38/50\n"
     ]
    }
   ],
   "source": [
    "from keras.models import Sequential\n",
    "from keras.layers import LSTM\n",
    "from keras.layers import Dropout\n",
    "from keras.layers import Dense\n",
    "from sklearn.metrics import mean_squared_error, r2_score\n",
    "import matplotlib.pyplot as plt\n",
    "import numpy as np\n",
    "from keras import backend as K\n",
    "\n",
    "\n",
    "model = Sequential()\n",
    "model.add(LSTM(100, input_shape=(train_x.shape[1], train_x.shape[2])))\n",
    "model.add(Dropout(0.2))\n",
    "model.add(Dense(1, activation='sigmoid') )\n",
    "model.compile(loss='binary_crossentropy', optimizer='adam', metrics=[f1_m])\n",
    "\n",
    "# Network fitting\n",
    "history = model.fit(train_x, train_y, epochs=50, batch_size=70, validation_data=(test_x, test_y), verbose=2, shuffle=False)\n",
    "\n",
    "# Loss history plot\n",
    "plt.plot(history.history['loss'])\n",
    "plt.plot(history.history['val_loss'])\n",
    "plt.title('model loss')\n",
    "plt.ylabel('loss')\n",
    "plt.xlabel('epoch')\n",
    "plt.legend(['train', 'test'], loc='upper right')\n",
    "plt.show()"
   ]
  },
  {
   "cell_type": "code",
   "execution_count": 250,
   "id": "fd3f5dbb-9abf-43a8-88c8-9ae527ede0bb",
   "metadata": {},
   "outputs": [
    {
     "data": {
      "image/png": "[encoded data removed]",
      "text/plain": [
       "<Figure size 432x288 with 1 Axes>"
      ]
     },
     "metadata": {
      "needs_background": "light"
     },
     "output_type": "display_data"
    }
   ],
   "source": [
    "# Loss history plot\n",
    "plt.plot(history.history['loss'])\n",
    "plt.plot(history.history['val_loss'])\n",
    "plt.title('model loss')\n",
    "plt.ylabel('loss')\n",
    "plt.xlabel('epoch')\n",
    "plt.legend(['train', 'test'], loc='upper right')\n",
    "plt.show()"
   ]
  },
  {
   "cell_type": "code",
   "execution_count": 251,
   "id": "c78c6cdd-7cc2-44c6-b989-eafe0377210b",
   "metadata": {},
   "outputs": [
    {
     "data": {
      "text/plain": [
       "10"
      ]
     },
     "execution_count": 251,
     "metadata": {},
     "output_type": "execute_result"
    }
   ],
   "source": [
    "size = datafull.shape[1]\n",
    "size"
   ]
  },
  {
   "cell_type": "code",
   "execution_count": 257,
   "id": "ca816aa5-0011-49d4-b714-ee42f33e1a7d",
   "metadata": {},
   "outputs": [
    {
     "data": {
      "text/plain": [
       "(90319,)"
      ]
     },
     "execution_count": 257,
     "metadata": {},
     "output_type": "execute_result"
    }
   ],
   "source": [
    "test_y.reshape((len(test_y))).shape"
   ]
  },
  {
   "cell_type": "code",
   "execution_count": 312,
   "id": "d7a3f9ae-bac5-403a-abe2-5bfdd5be7aff",
   "metadata": {},
   "outputs": [
    {
     "name": "stdout",
     "output_type": "stream",
     "text": [
      "F1-Score: 91.55%\n",
      "2823/2823 [==============================] - 3s 1ms/step\n"
     ]
    }
   ],
   "source": [
    "#test_x = test_x.reshape((test_x.shape[0], size))\n",
    "#test_y = test_y.reshape((len(test_y), 1))\n",
    "\n",
    "scores = model.evaluate(test_x, test_y, verbose=0)\n",
    "print(\"F1-Score: %.2f%%\" % (scores[1]*100))\n",
    "\n",
    "pred =  model.predict(test_x)"
   ]
  },
  {
   "cell_type": "code",
   "execution_count": 211,
   "id": "39af8e3b-fa0a-473b-915b-96a0d7a89fc1",
   "metadata": {},
   "outputs": [],
   "source": [
    "def get_confusion_mat( y_true , y_pred):\n",
    "    \"\"\"\n",
    "    Function to plot confusion matrix\n",
    "    \"\"\"\n",
    "    # counfusion matrix\n",
    "    confusion_mat = confusion_matrix(y_true , y_pred)\n",
    "        \n",
    "    labels = [\"Broken\", \"Normal\"]\n",
    "\n",
    "    # plot heat map of confusion matrix\n",
    "    sns.heatmap(confusion_mat, annot=True, fmt='', cmap='Greens',\n",
    "                xticklabels=labels, \n",
    "                yticklabels=labels)\n",
    "    plt.xlabel('Predicted Class')\n",
    "    plt.ylabel('Original Class')\n",
    "    plt.show()"
   ]
  },
  {
   "cell_type": "code",
   "execution_count": 297,
   "id": "c6716cc7-b59b-446b-99cc-7511b2195938",
   "metadata": {},
   "outputs": [
    {
     "ename": "ValueError",
     "evalue": "continuous is not supported",
     "output_type": "error",
     "traceback": [
      "\u001b[0;31m---------------------------------------------------------------------------\u001b[0m",
      "\u001b[0;31mValueError\u001b[0m                                Traceback (most recent call last)",
      "\u001b[0;32m/tmp/ipykernel_199/4237131726.py\u001b[0m in \u001b[0;36m<module>\u001b[0;34m\u001b[0m\n\u001b[0;32m----> 1\u001b[0;31m \u001b[0mget_confusion_mat\u001b[0m\u001b[0;34m(\u001b[0m\u001b[0mtest_y\u001b[0m\u001b[0;34m,\u001b[0m \u001b[0mpred\u001b[0m\u001b[0;34m)\u001b[0m\u001b[0;34m\u001b[0m\u001b[0;34m\u001b[0m\u001b[0m\n\u001b[0m",
      "\u001b[0;32m/tmp/ipykernel_199/3371893394.py\u001b[0m in \u001b[0;36mget_confusion_mat\u001b[0;34m(y_true, y_pred)\u001b[0m\n\u001b[1;32m      4\u001b[0m     \"\"\"\n\u001b[1;32m      5\u001b[0m     \u001b[0;31m# counfusion matrix\u001b[0m\u001b[0;34m\u001b[0m\u001b[0;34m\u001b[0m\u001b[0;34m\u001b[0m\u001b[0m\n\u001b[0;32m----> 6\u001b[0;31m     \u001b[0mconfusion_mat\u001b[0m \u001b[0;34m=\u001b[0m \u001b[0mconfusion_matrix\u001b[0m\u001b[0;34m(\u001b[0m\u001b[0my_true\u001b[0m \u001b[0;34m,\u001b[0m \u001b[0my_pred\u001b[0m\u001b[0;34m)\u001b[0m\u001b[0;34m\u001b[0m\u001b[0;34m\u001b[0m\u001b[0m\n\u001b[0m\u001b[1;32m      7\u001b[0m \u001b[0;34m\u001b[0m\u001b[0m\n\u001b[1;32m      8\u001b[0m     \u001b[0mlabels\u001b[0m \u001b[0;34m=\u001b[0m \u001b[0;34m[\u001b[0m\u001b[0;34m\"Broken\"\u001b[0m\u001b[0;34m,\u001b[0m \u001b[0;34m\"Normal\"\u001b[0m\u001b[0;34m]\u001b[0m\u001b[0;34m\u001b[0m\u001b[0;34m\u001b[0m\u001b[0m\n",
      "\u001b[0;32m~/.local/lib/python3.8/site-packages/sklearn/metrics/_classification.py\u001b[0m in \u001b[0;36mconfusion_matrix\u001b[0;34m(y_true, y_pred, labels, sample_weight, normalize)\u001b[0m\n\u001b[1;32m    305\u001b[0m     \u001b[0;34m(\u001b[0m\u001b[0;36m0\u001b[0m\u001b[0;34m,\u001b[0m \u001b[0;36m2\u001b[0m\u001b[0;34m,\u001b[0m \u001b[0;36m1\u001b[0m\u001b[0;34m,\u001b[0m \u001b[0;36m1\u001b[0m\u001b[0;34m)\u001b[0m\u001b[0;34m\u001b[0m\u001b[0;34m\u001b[0m\u001b[0m\n\u001b[1;32m    306\u001b[0m     \"\"\"\n\u001b[0;32m--> 307\u001b[0;31m     \u001b[0my_type\u001b[0m\u001b[0;34m,\u001b[0m \u001b[0my_true\u001b[0m\u001b[0;34m,\u001b[0m \u001b[0my_pred\u001b[0m \u001b[0;34m=\u001b[0m \u001b[0m_check_targets\u001b[0m\u001b[0;34m(\u001b[0m\u001b[0my_true\u001b[0m\u001b[0;34m,\u001b[0m \u001b[0my_pred\u001b[0m\u001b[0;34m)\u001b[0m\u001b[0;34m\u001b[0m\u001b[0;34m\u001b[0m\u001b[0m\n\u001b[0m\u001b[1;32m    308\u001b[0m     \u001b[0;32mif\u001b[0m \u001b[0my_type\u001b[0m \u001b[0;32mnot\u001b[0m \u001b[0;32min\u001b[0m \u001b[0;34m(\u001b[0m\u001b[0;34m\"binary\"\u001b[0m\u001b[0;34m,\u001b[0m \u001b[0;34m\"multiclass\"\u001b[0m\u001b[0;34m)\u001b[0m\u001b[0;34m:\u001b[0m\u001b[0;34m\u001b[0m\u001b[0;34m\u001b[0m\u001b[0m\n\u001b[1;32m    309\u001b[0m         \u001b[0;32mraise\u001b[0m \u001b[0mValueError\u001b[0m\u001b[0;34m(\u001b[0m\u001b[0;34m\"%s is not supported\"\u001b[0m \u001b[0;34m%\u001b[0m \u001b[0my_type\u001b[0m\u001b[0;34m)\u001b[0m\u001b[0;34m\u001b[0m\u001b[0;34m\u001b[0m\u001b[0m\n",
      "\u001b[0;32m~/.local/lib/python3.8/site-packages/sklearn/metrics/_classification.py\u001b[0m in \u001b[0;36m_check_targets\u001b[0;34m(y_true, y_pred)\u001b[0m\n\u001b[1;32m    102\u001b[0m     \u001b[0;31m# No metrics support \"multiclass-multioutput\" format\u001b[0m\u001b[0;34m\u001b[0m\u001b[0;34m\u001b[0m\u001b[0;34m\u001b[0m\u001b[0m\n\u001b[1;32m    103\u001b[0m     \u001b[0;32mif\u001b[0m \u001b[0my_type\u001b[0m \u001b[0;32mnot\u001b[0m \u001b[0;32min\u001b[0m \u001b[0;34m[\u001b[0m\u001b[0;34m\"binary\"\u001b[0m\u001b[0;34m,\u001b[0m \u001b[0;34m\"multiclass\"\u001b[0m\u001b[0;34m,\u001b[0m \u001b[0;34m\"multilabel-indicator\"\u001b[0m\u001b[0;34m]\u001b[0m\u001b[0;34m:\u001b[0m\u001b[0;34m\u001b[0m\u001b[0;34m\u001b[0m\u001b[0m\n\u001b[0;32m--> 104\u001b[0;31m         \u001b[0;32mraise\u001b[0m \u001b[0mValueError\u001b[0m\u001b[0;34m(\u001b[0m\u001b[0;34m\"{0} is not supported\"\u001b[0m\u001b[0;34m.\u001b[0m\u001b[0mformat\u001b[0m\u001b[0;34m(\u001b[0m\u001b[0my_type\u001b[0m\u001b[0;34m)\u001b[0m\u001b[0;34m)\u001b[0m\u001b[0;34m\u001b[0m\u001b[0;34m\u001b[0m\u001b[0m\n\u001b[0m\u001b[1;32m    105\u001b[0m \u001b[0;34m\u001b[0m\u001b[0m\n\u001b[1;32m    106\u001b[0m     \u001b[0;32mif\u001b[0m \u001b[0my_type\u001b[0m \u001b[0;32min\u001b[0m \u001b[0;34m[\u001b[0m\u001b[0;34m\"binary\"\u001b[0m\u001b[0;34m,\u001b[0m \u001b[0;34m\"multiclass\"\u001b[0m\u001b[0;34m]\u001b[0m\u001b[0;34m:\u001b[0m\u001b[0;34m\u001b[0m\u001b[0;34m\u001b[0m\u001b[0m\n",
      "\u001b[0;31mValueError\u001b[0m: continuous is not supported"
     ]
    }
   ],
   "source": [
    "get_confusion_mat(test_y, pred)"
   ]
  },
  {
   "cell_type": "code",
   "execution_count": 313,
   "id": "5c7fbc7b-c848-4969-b452-e8e737dc6290",
   "metadata": {},
   "outputs": [
    {
     "data": {
      "text/plain": [
       "array([[0.00901443],\n",
       "       [0.00888398],\n",
       "       [0.00905844],\n",
       "       ...,\n",
       "       [0.899867  ],\n",
       "       [0.9024158 ],\n",
       "       [0.9025468 ]], dtype=float32)"
      ]
     },
     "execution_count": 313,
     "metadata": {},
     "output_type": "execute_result"
    }
   ],
   "source": [
    "pred"
   ]
  },
  {
   "cell_type": "code",
   "execution_count": null,
   "id": "45ac0804-023a-472c-8894-2fdd8873d0da",
   "metadata": {},
   "outputs": [],
   "source": []
  },
  {
   "cell_type": "code",
   "execution_count": 130,
   "id": "13b43bf2-27cb-4fcb-95c2-f4a31d5076d7",
   "metadata": {},
   "outputs": [
    {
     "name": "stderr",
     "output_type": "stream",
     "text": [
      "2022-10-06 21:30:59.855578: W tensorflow/core/framework/op_kernel.cc:1780] OP_REQUIRES failed at transpose_op.cc:142 : INVALID_ARGUMENT: transpose expects a vector of size 2. But input(1) is a vector of size 3\n"
     ]
    },
    {
     "ename": "InvalidArgumentError",
     "evalue": "Graph execution error:\n\ntranspose expects a vector of size 2. But input(1) is a vector of size 3\n\t [[{{node transpose}}]]\n\t [[sequential_5/lstm_5/PartitionedCall]] [Op:__inference_predict_function_667113]",
     "output_type": "error",
     "traceback": [
      "\u001b[0;31m---------------------------------------------------------------------------\u001b[0m",
      "\u001b[0;31mInvalidArgumentError\u001b[0m                      Traceback (most recent call last)",
      "\u001b[0;32m/tmp/ipykernel_199/947811761.py\u001b[0m in \u001b[0;36m<module>\u001b[0;34m\u001b[0m\n\u001b[1;32m      2\u001b[0m \u001b[0;34m\u001b[0m\u001b[0m\n\u001b[1;32m      3\u001b[0m \u001b[0;31m# Prediction test\u001b[0m\u001b[0;34m\u001b[0m\u001b[0;34m\u001b[0m\u001b[0;34m\u001b[0m\u001b[0m\n\u001b[0;32m----> 4\u001b[0;31m \u001b[0myhat\u001b[0m \u001b[0;34m=\u001b[0m \u001b[0mmodel\u001b[0m\u001b[0;34m.\u001b[0m\u001b[0mpredict\u001b[0m\u001b[0;34m(\u001b[0m\u001b[0mtest_x\u001b[0m\u001b[0;34m)\u001b[0m\u001b[0;34m\u001b[0m\u001b[0;34m\u001b[0m\u001b[0m\n\u001b[0m\u001b[1;32m      5\u001b[0m \u001b[0mtest_x\u001b[0m \u001b[0;34m=\u001b[0m \u001b[0mtest_x\u001b[0m\u001b[0;34m.\u001b[0m\u001b[0mreshape\u001b[0m\u001b[0;34m(\u001b[0m\u001b[0;34m(\u001b[0m\u001b[0mtest_x\u001b[0m\u001b[0;34m.\u001b[0m\u001b[0mshape\u001b[0m\u001b[0;34m[\u001b[0m\u001b[0;36m0\u001b[0m\u001b[0;34m]\u001b[0m\u001b[0;34m,\u001b[0m \u001b[0msize\u001b[0m\u001b[0;34m)\u001b[0m\u001b[0;34m)\u001b[0m\u001b[0;34m\u001b[0m\u001b[0;34m\u001b[0m\u001b[0m\n\u001b[1;32m      6\u001b[0m \u001b[0;34m\u001b[0m\u001b[0m\n",
      "\u001b[0;32m~/.local/lib/python3.8/site-packages/keras/utils/traceback_utils.py\u001b[0m in \u001b[0;36merror_handler\u001b[0;34m(*args, **kwargs)\u001b[0m\n\u001b[1;32m     68\u001b[0m             \u001b[0;31m# To get the full stack trace, call:\u001b[0m\u001b[0;34m\u001b[0m\u001b[0;34m\u001b[0m\u001b[0;34m\u001b[0m\u001b[0m\n\u001b[1;32m     69\u001b[0m             \u001b[0;31m# `tf.debugging.disable_traceback_filtering()`\u001b[0m\u001b[0;34m\u001b[0m\u001b[0;34m\u001b[0m\u001b[0;34m\u001b[0m\u001b[0m\n\u001b[0;32m---> 70\u001b[0;31m             \u001b[0;32mraise\u001b[0m \u001b[0me\u001b[0m\u001b[0;34m.\u001b[0m\u001b[0mwith_traceback\u001b[0m\u001b[0;34m(\u001b[0m\u001b[0mfiltered_tb\u001b[0m\u001b[0;34m)\u001b[0m \u001b[0;32mfrom\u001b[0m \u001b[0;32mNone\u001b[0m\u001b[0;34m\u001b[0m\u001b[0;34m\u001b[0m\u001b[0m\n\u001b[0m\u001b[1;32m     71\u001b[0m         \u001b[0;32mfinally\u001b[0m\u001b[0;34m:\u001b[0m\u001b[0;34m\u001b[0m\u001b[0;34m\u001b[0m\u001b[0m\n\u001b[1;32m     72\u001b[0m             \u001b[0;32mdel\u001b[0m \u001b[0mfiltered_tb\u001b[0m\u001b[0;34m\u001b[0m\u001b[0;34m\u001b[0m\u001b[0m\n",
      "\u001b[0;32m~/.local/lib/python3.8/site-packages/tensorflow/python/eager/execute.py\u001b[0m in \u001b[0;36mquick_execute\u001b[0;34m(op_name, num_outputs, inputs, attrs, ctx, name)\u001b[0m\n\u001b[1;32m     52\u001b[0m   \u001b[0;32mtry\u001b[0m\u001b[0;34m:\u001b[0m\u001b[0;34m\u001b[0m\u001b[0;34m\u001b[0m\u001b[0m\n\u001b[1;32m     53\u001b[0m     \u001b[0mctx\u001b[0m\u001b[0;34m.\u001b[0m\u001b[0mensure_initialized\u001b[0m\u001b[0;34m(\u001b[0m\u001b[0;34m)\u001b[0m\u001b[0;34m\u001b[0m\u001b[0;34m\u001b[0m\u001b[0m\n\u001b[0;32m---> 54\u001b[0;31m     tensors = pywrap_tfe.TFE_Py_Execute(ctx._handle, device_name, op_name,\n\u001b[0m\u001b[1;32m     55\u001b[0m                                         inputs, attrs, num_outputs)\n\u001b[1;32m     56\u001b[0m   \u001b[0;32mexcept\u001b[0m \u001b[0mcore\u001b[0m\u001b[0;34m.\u001b[0m\u001b[0m_NotOkStatusException\u001b[0m \u001b[0;32mas\u001b[0m \u001b[0me\u001b[0m\u001b[0;34m:\u001b[0m\u001b[0;34m\u001b[0m\u001b[0;34m\u001b[0m\u001b[0m\n",
      "\u001b[0;31mInvalidArgumentError\u001b[0m: Graph execution error:\n\ntranspose expects a vector of size 2. But input(1) is a vector of size 3\n\t [[{{node transpose}}]]\n\t [[sequential_5/lstm_5/PartitionedCall]] [Op:__inference_predict_function_667113]"
     ]
    }
   ],
   "source": [
    "size = datafull.shape[1]\n",
    "\n",
    "# Prediction test\n",
    "yhat = model.predict(test_x)\n",
    "test_x = test_x.reshape((test_x.shape[0], size))\n",
    "\n",
    "# invert scaling for prediction\n",
    "inv_yhat = np.concatenate((yhat, test_x[:, 1-size:]), axis=1)\n",
    "inv_yhat = scaler.inverse_transform(inv_yhat)\n",
    "inv_yhat = inv_yhat[:,0]\n",
    "\n",
    "# invert scaling for actual\n",
    "test_y = test_y.reshape((len(test_y), 1))\n",
    "inv_y = np.concatenate((test_y, test_x[:, 1-size:]), axis=1)\n",
    "inv_y = scaler.inverse_transform(inv_y)\n",
    "inv_y = inv_y[:,0]\n",
    "\n",
    "# calculate RMSE\n",
    "#rmse = np.sqrt(mean_squared_error(inv_y, inv_yhat))\n",
    "#print('Test RMSE: %.3f' % rmse)"
   ]
  },
  {
   "cell_type": "code",
   "execution_count": 128,
   "id": "e347b3e3-47f9-4b56-bf54-0960e7d2d90c",
   "metadata": {},
   "outputs": [
    {
     "ename": "ValueError",
     "evalue": "continuous is not supported",
     "output_type": "error",
     "traceback": [
      "\u001b[0;31m---------------------------------------------------------------------------\u001b[0m",
      "\u001b[0;31mValueError\u001b[0m                                Traceback (most recent call last)",
      "\u001b[0;32m/tmp/ipykernel_199/3362578265.py\u001b[0m in \u001b[0;36m<module>\u001b[0;34m\u001b[0m\n\u001b[0;32m----> 1\u001b[0;31m \u001b[0mf1_macro\u001b[0m \u001b[0;34m=\u001b[0m \u001b[0mf1_score\u001b[0m\u001b[0;34m(\u001b[0m\u001b[0minv_y\u001b[0m\u001b[0;34m,\u001b[0m \u001b[0minv_yhat\u001b[0m\u001b[0;34m,\u001b[0m \u001b[0maverage\u001b[0m\u001b[0;34m=\u001b[0m\u001b[0;34m'macro'\u001b[0m\u001b[0;34m)\u001b[0m\u001b[0;34m\u001b[0m\u001b[0;34m\u001b[0m\u001b[0m\n\u001b[0m\u001b[1;32m      2\u001b[0m \u001b[0mf1_macro\u001b[0m\u001b[0;34m\u001b[0m\u001b[0;34m\u001b[0m\u001b[0m\n",
      "\u001b[0;32m~/.local/lib/python3.8/site-packages/sklearn/metrics/_classification.py\u001b[0m in \u001b[0;36mf1_score\u001b[0;34m(y_true, y_pred, labels, pos_label, average, sample_weight, zero_division)\u001b[0m\n\u001b[1;32m   1134\u001b[0m     \u001b[0marray\u001b[0m\u001b[0;34m(\u001b[0m\u001b[0;34m[\u001b[0m\u001b[0;36m0.66666667\u001b[0m\u001b[0;34m,\u001b[0m \u001b[0;36m1.\u001b[0m        \u001b[0;34m,\u001b[0m \u001b[0;36m0.66666667\u001b[0m\u001b[0;34m]\u001b[0m\u001b[0;34m)\u001b[0m\u001b[0;34m\u001b[0m\u001b[0;34m\u001b[0m\u001b[0m\n\u001b[1;32m   1135\u001b[0m     \"\"\"\n\u001b[0;32m-> 1136\u001b[0;31m     return fbeta_score(\n\u001b[0m\u001b[1;32m   1137\u001b[0m         \u001b[0my_true\u001b[0m\u001b[0;34m,\u001b[0m\u001b[0;34m\u001b[0m\u001b[0;34m\u001b[0m\u001b[0m\n\u001b[1;32m   1138\u001b[0m         \u001b[0my_pred\u001b[0m\u001b[0;34m,\u001b[0m\u001b[0;34m\u001b[0m\u001b[0;34m\u001b[0m\u001b[0m\n",
      "\u001b[0;32m~/.local/lib/python3.8/site-packages/sklearn/metrics/_classification.py\u001b[0m in \u001b[0;36mfbeta_score\u001b[0;34m(y_true, y_pred, beta, labels, pos_label, average, sample_weight, zero_division)\u001b[0m\n\u001b[1;32m   1275\u001b[0m     \"\"\"\n\u001b[1;32m   1276\u001b[0m \u001b[0;34m\u001b[0m\u001b[0m\n\u001b[0;32m-> 1277\u001b[0;31m     _, _, f, _ = precision_recall_fscore_support(\n\u001b[0m\u001b[1;32m   1278\u001b[0m         \u001b[0my_true\u001b[0m\u001b[0;34m,\u001b[0m\u001b[0;34m\u001b[0m\u001b[0;34m\u001b[0m\u001b[0m\n\u001b[1;32m   1279\u001b[0m         \u001b[0my_pred\u001b[0m\u001b[0;34m,\u001b[0m\u001b[0;34m\u001b[0m\u001b[0;34m\u001b[0m\u001b[0m\n",
      "\u001b[0;32m~/.local/lib/python3.8/site-packages/sklearn/metrics/_classification.py\u001b[0m in \u001b[0;36mprecision_recall_fscore_support\u001b[0;34m(y_true, y_pred, beta, labels, pos_label, average, warn_for, sample_weight, zero_division)\u001b[0m\n\u001b[1;32m   1561\u001b[0m     \u001b[0;32mif\u001b[0m \u001b[0mbeta\u001b[0m \u001b[0;34m<\u001b[0m \u001b[0;36m0\u001b[0m\u001b[0;34m:\u001b[0m\u001b[0;34m\u001b[0m\u001b[0;34m\u001b[0m\u001b[0m\n\u001b[1;32m   1562\u001b[0m         \u001b[0;32mraise\u001b[0m \u001b[0mValueError\u001b[0m\u001b[0;34m(\u001b[0m\u001b[0;34m\"beta should be >=0 in the F-beta score\"\u001b[0m\u001b[0;34m)\u001b[0m\u001b[0;34m\u001b[0m\u001b[0;34m\u001b[0m\u001b[0m\n\u001b[0;32m-> 1563\u001b[0;31m     \u001b[0mlabels\u001b[0m \u001b[0;34m=\u001b[0m \u001b[0m_check_set_wise_labels\u001b[0m\u001b[0;34m(\u001b[0m\u001b[0my_true\u001b[0m\u001b[0;34m,\u001b[0m \u001b[0my_pred\u001b[0m\u001b[0;34m,\u001b[0m \u001b[0maverage\u001b[0m\u001b[0;34m,\u001b[0m \u001b[0mlabels\u001b[0m\u001b[0;34m,\u001b[0m \u001b[0mpos_label\u001b[0m\u001b[0;34m)\u001b[0m\u001b[0;34m\u001b[0m\u001b[0;34m\u001b[0m\u001b[0m\n\u001b[0m\u001b[1;32m   1564\u001b[0m \u001b[0;34m\u001b[0m\u001b[0m\n\u001b[1;32m   1565\u001b[0m     \u001b[0;31m# Calculate tp_sum, pred_sum, true_sum ###\u001b[0m\u001b[0;34m\u001b[0m\u001b[0;34m\u001b[0m\u001b[0;34m\u001b[0m\u001b[0m\n",
      "\u001b[0;32m~/.local/lib/python3.8/site-packages/sklearn/metrics/_classification.py\u001b[0m in \u001b[0;36m_check_set_wise_labels\u001b[0;34m(y_true, y_pred, average, labels, pos_label)\u001b[0m\n\u001b[1;32m   1362\u001b[0m         \u001b[0;32mraise\u001b[0m \u001b[0mValueError\u001b[0m\u001b[0;34m(\u001b[0m\u001b[0;34m\"average has to be one of \"\u001b[0m \u001b[0;34m+\u001b[0m \u001b[0mstr\u001b[0m\u001b[0;34m(\u001b[0m\u001b[0maverage_options\u001b[0m\u001b[0;34m)\u001b[0m\u001b[0;34m)\u001b[0m\u001b[0;34m\u001b[0m\u001b[0;34m\u001b[0m\u001b[0m\n\u001b[1;32m   1363\u001b[0m \u001b[0;34m\u001b[0m\u001b[0m\n\u001b[0;32m-> 1364\u001b[0;31m     \u001b[0my_type\u001b[0m\u001b[0;34m,\u001b[0m \u001b[0my_true\u001b[0m\u001b[0;34m,\u001b[0m \u001b[0my_pred\u001b[0m \u001b[0;34m=\u001b[0m \u001b[0m_check_targets\u001b[0m\u001b[0;34m(\u001b[0m\u001b[0my_true\u001b[0m\u001b[0;34m,\u001b[0m \u001b[0my_pred\u001b[0m\u001b[0;34m)\u001b[0m\u001b[0;34m\u001b[0m\u001b[0;34m\u001b[0m\u001b[0m\n\u001b[0m\u001b[1;32m   1365\u001b[0m     \u001b[0;31m# Convert to Python primitive type to avoid NumPy type / Python str\u001b[0m\u001b[0;34m\u001b[0m\u001b[0;34m\u001b[0m\u001b[0;34m\u001b[0m\u001b[0m\n\u001b[1;32m   1366\u001b[0m     \u001b[0;31m# comparison. See https://github.com/numpy/numpy/issues/6784\u001b[0m\u001b[0;34m\u001b[0m\u001b[0;34m\u001b[0m\u001b[0;34m\u001b[0m\u001b[0m\n",
      "\u001b[0;32m~/.local/lib/python3.8/site-packages/sklearn/metrics/_classification.py\u001b[0m in \u001b[0;36m_check_targets\u001b[0;34m(y_true, y_pred)\u001b[0m\n\u001b[1;32m    102\u001b[0m     \u001b[0;31m# No metrics support \"multiclass-multioutput\" format\u001b[0m\u001b[0;34m\u001b[0m\u001b[0;34m\u001b[0m\u001b[0;34m\u001b[0m\u001b[0m\n\u001b[1;32m    103\u001b[0m     \u001b[0;32mif\u001b[0m \u001b[0my_type\u001b[0m \u001b[0;32mnot\u001b[0m \u001b[0;32min\u001b[0m \u001b[0;34m[\u001b[0m\u001b[0;34m\"binary\"\u001b[0m\u001b[0;34m,\u001b[0m \u001b[0;34m\"multiclass\"\u001b[0m\u001b[0;34m,\u001b[0m \u001b[0;34m\"multilabel-indicator\"\u001b[0m\u001b[0;34m]\u001b[0m\u001b[0;34m:\u001b[0m\u001b[0;34m\u001b[0m\u001b[0;34m\u001b[0m\u001b[0m\n\u001b[0;32m--> 104\u001b[0;31m         \u001b[0;32mraise\u001b[0m \u001b[0mValueError\u001b[0m\u001b[0;34m(\u001b[0m\u001b[0;34m\"{0} is not supported\"\u001b[0m\u001b[0;34m.\u001b[0m\u001b[0mformat\u001b[0m\u001b[0;34m(\u001b[0m\u001b[0my_type\u001b[0m\u001b[0;34m)\u001b[0m\u001b[0;34m)\u001b[0m\u001b[0;34m\u001b[0m\u001b[0;34m\u001b[0m\u001b[0m\n\u001b[0m\u001b[1;32m    105\u001b[0m \u001b[0;34m\u001b[0m\u001b[0m\n\u001b[1;32m    106\u001b[0m     \u001b[0;32mif\u001b[0m \u001b[0my_type\u001b[0m \u001b[0;32min\u001b[0m \u001b[0;34m[\u001b[0m\u001b[0;34m\"binary\"\u001b[0m\u001b[0;34m,\u001b[0m \u001b[0;34m\"multiclass\"\u001b[0m\u001b[0;34m]\u001b[0m\u001b[0;34m:\u001b[0m\u001b[0;34m\u001b[0m\u001b[0;34m\u001b[0m\u001b[0m\n",
      "\u001b[0;31mValueError\u001b[0m: continuous is not supported"
     ]
    }
   ],
   "source": [
    "f1_macro = f1_score(inv_y, inv_yhat, average='macro')\n",
    "f1_macro"
   ]
  },
  {
   "cell_type": "code",
   "execution_count": 109,
   "id": "b8b509fa-2545-413c-9210-2505a1581d77",
   "metadata": {},
   "outputs": [
    {
     "data": {
      "text/plain": [
       "(90319,)"
      ]
     },
     "execution_count": 109,
     "metadata": {},
     "output_type": "execute_result"
    }
   ],
   "source": [
    "inv_y.shape"
   ]
  },
  {
   "cell_type": "code",
   "execution_count": 108,
   "id": "53d978f7-b2af-41fe-b985-67a00acbc4eb",
   "metadata": {},
   "outputs": [
    {
     "data": {
      "text/plain": [
       "(90319,)"
      ]
     },
     "execution_count": 108,
     "metadata": {},
     "output_type": "execute_result"
    }
   ],
   "source": [
    "inv_yhat.shape"
   ]
  },
  {
   "cell_type": "code",
   "execution_count": null,
   "id": "0200c513-2419-4aa1-a819-e7f8d3589339",
   "metadata": {},
   "outputs": [],
   "source": []
  },
  {
   "cell_type": "code",
   "execution_count": null,
   "id": "9c477f65-81f8-4194-8ce0-99d332d51119",
   "metadata": {},
   "outputs": [],
   "source": []
  },
  {
   "cell_type": "code",
   "execution_count": null,
   "id": "72cb6380-323c-4075-ae1e-66d39c0edb21",
   "metadata": {},
   "outputs": [],
   "source": []
  }
 ],
 "metadata": {
  "kernelspec": {
   "display_name": "Python 3 (ipykernel)",
   "language": "python",
   "name": "python3"
  },
  "language_info": {
   "codemirror_mode": {
    "name": "ipython",
    "version": 3
   },
   "file_extension": ".py",
   "mimetype": "text/x-python",
   "name": "python",
   "nbconvert_exporter": "python",
   "pygments_lexer": "ipython3",
   "version": "3.8.13"
  }
 },
 "nbformat": 4,
 "nbformat_minor": 5
}
