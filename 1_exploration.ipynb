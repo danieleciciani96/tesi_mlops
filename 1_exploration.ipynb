{
 "cells": [
  {
   "cell_type": "code",
   "execution_count": 33,
   "id": "d2f8e575-5fed-4078-942e-a8c6d2fac8f6",
   "metadata": {},
   "outputs": [],
   "source": [
    "import numpy as np\n",
    "from sklearn import preprocessing\n",
    "import matplotlib.pyplot as plt\n",
    "import seaborn as sns \n",
    "\n",
    "from utils import *\n",
    "\n",
    "from sklearn import preprocessing\n",
    "from sklearn.preprocessing import MinMaxScaler\n",
    "from sklearn.linear_model import LogisticRegression\n",
    "from sklearn.linear_model import SGDClassifier\n",
    "from sklearn.model_selection import GridSearchCV\n",
    "from sklearn.metrics import f1_score\n",
    "from sklearn.model_selection import TimeSeriesSplit\n",
    "from sklearn.metrics import confusion_matrix\n",
    "from sklearn.ensemble import RandomForestClassifier\n",
    "from xgboost import XGBClassifier\n",
    "#from prettytable import PrettyTable\n",
    "\n",
    "import warnings\n",
    "warnings.filterwarnings(\"ignore\")"
   ]
  },
  {
   "cell_type": "code",
   "execution_count": 34,
   "id": "65985337-2e84-40b6-bea5-e4e18133efcb",
   "metadata": {},
   "outputs": [],
   "source": [
    "path_data = 'data/pump_sensor.csv'"
   ]
  },
  {
   "cell_type": "code",
   "execution_count": 35,
   "id": "2ac6f7c4-03e8-43bc-b66d-f8ff48a828b1",
   "metadata": {},
   "outputs": [
    {
     "name": "stdout",
     "output_type": "stream",
     "text": [
      "(220320, 52)\n",
      "Index(['sensor_00', 'sensor_01', 'sensor_02', 'sensor_03', 'sensor_04',\n",
      "       'sensor_05', 'sensor_06', 'sensor_07', 'sensor_08', 'sensor_09',\n",
      "       'sensor_10', 'sensor_11', 'sensor_12', 'sensor_13', 'sensor_14',\n",
      "       'sensor_15', 'sensor_16', 'sensor_17', 'sensor_18', 'sensor_19',\n",
      "       'sensor_20', 'sensor_21', 'sensor_22', 'sensor_23', 'sensor_24',\n",
      "       'sensor_25', 'sensor_26', 'sensor_27', 'sensor_28', 'sensor_29',\n",
      "       'sensor_30', 'sensor_31', 'sensor_32', 'sensor_33', 'sensor_34',\n",
      "       'sensor_35', 'sensor_36', 'sensor_37', 'sensor_38', 'sensor_39',\n",
      "       'sensor_40', 'sensor_41', 'sensor_42', 'sensor_43', 'sensor_44',\n",
      "       'sensor_45', 'sensor_46', 'sensor_47', 'sensor_48', 'sensor_49',\n",
      "       'sensor_50', 'sensor_51'],\n",
      "      dtype='object')\n"
     ]
    }
   ],
   "source": [
    "import pandas as pd\n",
    "\n",
    "datafull=pd.read_csv(path_data)\n",
    "\n",
    "data = datafull.iloc[:,2:-1]\n",
    "\n",
    "print(data.shape)\n",
    "print(data.keys())"
   ]
  },
  {
   "cell_type": "code",
   "execution_count": 36,
   "id": "ce3d5c5c-5303-4663-9318-7b4ec67c7929",
   "metadata": {},
   "outputs": [
    {
     "data": {
      "text/html": [
       "<div>\n",
       "<style scoped>\n",
       "    .dataframe tbody tr th:only-of-type {\n",
       "        vertical-align: middle;\n",
       "    }\n",
       "\n",
       "    .dataframe tbody tr th {\n",
       "        vertical-align: top;\n",
       "    }\n",
       "\n",
       "    .dataframe thead th {\n",
       "        text-align: right;\n",
       "    }\n",
       "</style>\n",
       "<table border=\"1\" class=\"dataframe\">\n",
       "  <thead>\n",
       "    <tr style=\"text-align: right;\">\n",
       "      <th></th>\n",
       "      <th>sensor_00</th>\n",
       "      <th>sensor_01</th>\n",
       "      <th>sensor_02</th>\n",
       "      <th>sensor_03</th>\n",
       "      <th>sensor_04</th>\n",
       "      <th>sensor_05</th>\n",
       "      <th>sensor_06</th>\n",
       "      <th>sensor_07</th>\n",
       "      <th>sensor_08</th>\n",
       "      <th>sensor_09</th>\n",
       "      <th>...</th>\n",
       "      <th>sensor_42</th>\n",
       "      <th>sensor_43</th>\n",
       "      <th>sensor_44</th>\n",
       "      <th>sensor_45</th>\n",
       "      <th>sensor_46</th>\n",
       "      <th>sensor_47</th>\n",
       "      <th>sensor_48</th>\n",
       "      <th>sensor_49</th>\n",
       "      <th>sensor_50</th>\n",
       "      <th>sensor_51</th>\n",
       "    </tr>\n",
       "  </thead>\n",
       "  <tbody>\n",
       "    <tr>\n",
       "      <th>0</th>\n",
       "      <td>2.465394</td>\n",
       "      <td>47.09201</td>\n",
       "      <td>53.2118</td>\n",
       "      <td>46.310760</td>\n",
       "      <td>634.3750</td>\n",
       "      <td>76.45975</td>\n",
       "      <td>13.41146</td>\n",
       "      <td>16.13136</td>\n",
       "      <td>15.56713</td>\n",
       "      <td>15.05353</td>\n",
       "      <td>...</td>\n",
       "      <td>31.770832</td>\n",
       "      <td>41.92708</td>\n",
       "      <td>39.641200</td>\n",
       "      <td>65.68287</td>\n",
       "      <td>50.92593</td>\n",
       "      <td>38.194440</td>\n",
       "      <td>157.9861</td>\n",
       "      <td>67.70834</td>\n",
       "      <td>243.0556</td>\n",
       "      <td>201.3889</td>\n",
       "    </tr>\n",
       "    <tr>\n",
       "      <th>1</th>\n",
       "      <td>2.465394</td>\n",
       "      <td>47.09201</td>\n",
       "      <td>53.2118</td>\n",
       "      <td>46.310760</td>\n",
       "      <td>634.3750</td>\n",
       "      <td>76.45975</td>\n",
       "      <td>13.41146</td>\n",
       "      <td>16.13136</td>\n",
       "      <td>15.56713</td>\n",
       "      <td>15.05353</td>\n",
       "      <td>...</td>\n",
       "      <td>31.770832</td>\n",
       "      <td>41.92708</td>\n",
       "      <td>39.641200</td>\n",
       "      <td>65.68287</td>\n",
       "      <td>50.92593</td>\n",
       "      <td>38.194440</td>\n",
       "      <td>157.9861</td>\n",
       "      <td>67.70834</td>\n",
       "      <td>243.0556</td>\n",
       "      <td>201.3889</td>\n",
       "    </tr>\n",
       "    <tr>\n",
       "      <th>2</th>\n",
       "      <td>2.444734</td>\n",
       "      <td>47.35243</td>\n",
       "      <td>53.2118</td>\n",
       "      <td>46.397570</td>\n",
       "      <td>638.8889</td>\n",
       "      <td>73.54598</td>\n",
       "      <td>13.32465</td>\n",
       "      <td>16.03733</td>\n",
       "      <td>15.61777</td>\n",
       "      <td>15.01013</td>\n",
       "      <td>...</td>\n",
       "      <td>31.770830</td>\n",
       "      <td>41.66666</td>\n",
       "      <td>39.351852</td>\n",
       "      <td>65.39352</td>\n",
       "      <td>51.21528</td>\n",
       "      <td>38.194443</td>\n",
       "      <td>155.9606</td>\n",
       "      <td>67.12963</td>\n",
       "      <td>241.3194</td>\n",
       "      <td>203.7037</td>\n",
       "    </tr>\n",
       "    <tr>\n",
       "      <th>3</th>\n",
       "      <td>2.460474</td>\n",
       "      <td>47.09201</td>\n",
       "      <td>53.1684</td>\n",
       "      <td>46.397568</td>\n",
       "      <td>628.1250</td>\n",
       "      <td>76.98898</td>\n",
       "      <td>13.31742</td>\n",
       "      <td>16.24711</td>\n",
       "      <td>15.69734</td>\n",
       "      <td>15.08247</td>\n",
       "      <td>...</td>\n",
       "      <td>31.510420</td>\n",
       "      <td>40.88541</td>\n",
       "      <td>39.062500</td>\n",
       "      <td>64.81481</td>\n",
       "      <td>51.21528</td>\n",
       "      <td>38.194440</td>\n",
       "      <td>155.9606</td>\n",
       "      <td>66.84028</td>\n",
       "      <td>240.4514</td>\n",
       "      <td>203.1250</td>\n",
       "    </tr>\n",
       "    <tr>\n",
       "      <th>4</th>\n",
       "      <td>2.445718</td>\n",
       "      <td>47.13541</td>\n",
       "      <td>53.2118</td>\n",
       "      <td>46.397568</td>\n",
       "      <td>636.4583</td>\n",
       "      <td>76.58897</td>\n",
       "      <td>13.35359</td>\n",
       "      <td>16.21094</td>\n",
       "      <td>15.69734</td>\n",
       "      <td>15.08247</td>\n",
       "      <td>...</td>\n",
       "      <td>31.510420</td>\n",
       "      <td>41.40625</td>\n",
       "      <td>38.773150</td>\n",
       "      <td>65.10416</td>\n",
       "      <td>51.79398</td>\n",
       "      <td>38.773150</td>\n",
       "      <td>158.2755</td>\n",
       "      <td>66.55093</td>\n",
       "      <td>242.1875</td>\n",
       "      <td>201.3889</td>\n",
       "    </tr>\n",
       "  </tbody>\n",
       "</table>\n",
       "<p>5 rows × 52 columns</p>\n",
       "</div>"
      ],
      "text/plain": [
       "   sensor_00  sensor_01  sensor_02  sensor_03  sensor_04  sensor_05  \\\n",
       "0   2.465394   47.09201    53.2118  46.310760   634.3750   76.45975   \n",
       "1   2.465394   47.09201    53.2118  46.310760   634.3750   76.45975   \n",
       "2   2.444734   47.35243    53.2118  46.397570   638.8889   73.54598   \n",
       "3   2.460474   47.09201    53.1684  46.397568   628.1250   76.98898   \n",
       "4   2.445718   47.13541    53.2118  46.397568   636.4583   76.58897   \n",
       "\n",
       "   sensor_06  sensor_07  sensor_08  sensor_09  ...  sensor_42  sensor_43  \\\n",
       "0   13.41146   16.13136   15.56713   15.05353  ...  31.770832   41.92708   \n",
       "1   13.41146   16.13136   15.56713   15.05353  ...  31.770832   41.92708   \n",
       "2   13.32465   16.03733   15.61777   15.01013  ...  31.770830   41.66666   \n",
       "3   13.31742   16.24711   15.69734   15.08247  ...  31.510420   40.88541   \n",
       "4   13.35359   16.21094   15.69734   15.08247  ...  31.510420   41.40625   \n",
       "\n",
       "   sensor_44  sensor_45  sensor_46  sensor_47  sensor_48  sensor_49  \\\n",
       "0  39.641200   65.68287   50.92593  38.194440   157.9861   67.70834   \n",
       "1  39.641200   65.68287   50.92593  38.194440   157.9861   67.70834   \n",
       "2  39.351852   65.39352   51.21528  38.194443   155.9606   67.12963   \n",
       "3  39.062500   64.81481   51.21528  38.194440   155.9606   66.84028   \n",
       "4  38.773150   65.10416   51.79398  38.773150   158.2755   66.55093   \n",
       "\n",
       "   sensor_50  sensor_51  \n",
       "0   243.0556   201.3889  \n",
       "1   243.0556   201.3889  \n",
       "2   241.3194   203.7037  \n",
       "3   240.4514   203.1250  \n",
       "4   242.1875   201.3889  \n",
       "\n",
       "[5 rows x 52 columns]"
      ]
     },
     "execution_count": 36,
     "metadata": {},
     "output_type": "execute_result"
    }
   ],
   "source": [
    "data.head()"
   ]
  },
  {
   "cell_type": "code",
   "execution_count": null,
   "id": "f4a91ccd-409b-4f89-b1b3-1c0fb794db05",
   "metadata": {},
   "outputs": [],
   "source": []
  },
  {
   "cell_type": "code",
   "execution_count": 37,
   "id": "d9e09647-3322-45f5-b6ee-87abb6dce9e8",
   "metadata": {},
   "outputs": [
    {
     "name": "stdout",
     "output_type": "stream",
     "text": [
      "<class 'pandas.core.frame.DataFrame'>\n",
      "RangeIndex: 220320 entries, 0 to 220319\n",
      "Data columns (total 52 columns):\n",
      " #   Column     Non-Null Count   Dtype  \n",
      "---  ------     --------------   -----  \n",
      " 0   sensor_00  210112 non-null  float64\n",
      " 1   sensor_01  219951 non-null  float64\n",
      " 2   sensor_02  220301 non-null  float64\n",
      " 3   sensor_03  220301 non-null  float64\n",
      " 4   sensor_04  220301 non-null  float64\n",
      " 5   sensor_05  220301 non-null  float64\n",
      " 6   sensor_06  215522 non-null  float64\n",
      " 7   sensor_07  214869 non-null  float64\n",
      " 8   sensor_08  215213 non-null  float64\n",
      " 9   sensor_09  215725 non-null  float64\n",
      " 10  sensor_10  220301 non-null  float64\n",
      " 11  sensor_11  220301 non-null  float64\n",
      " 12  sensor_12  220301 non-null  float64\n",
      " 13  sensor_13  220301 non-null  float64\n",
      " 14  sensor_14  220299 non-null  float64\n",
      " 15  sensor_15  0 non-null       float64\n",
      " 16  sensor_16  220289 non-null  float64\n",
      " 17  sensor_17  220274 non-null  float64\n",
      " 18  sensor_18  220274 non-null  float64\n",
      " 19  sensor_19  220304 non-null  float64\n",
      " 20  sensor_20  220304 non-null  float64\n",
      " 21  sensor_21  220304 non-null  float64\n",
      " 22  sensor_22  220279 non-null  float64\n",
      " 23  sensor_23  220304 non-null  float64\n",
      " 24  sensor_24  220304 non-null  float64\n",
      " 25  sensor_25  220284 non-null  float64\n",
      " 26  sensor_26  220300 non-null  float64\n",
      " 27  sensor_27  220304 non-null  float64\n",
      " 28  sensor_28  220304 non-null  float64\n",
      " 29  sensor_29  220248 non-null  float64\n",
      " 30  sensor_30  220059 non-null  float64\n",
      " 31  sensor_31  220304 non-null  float64\n",
      " 32  sensor_32  220252 non-null  float64\n",
      " 33  sensor_33  220304 non-null  float64\n",
      " 34  sensor_34  220304 non-null  float64\n",
      " 35  sensor_35  220304 non-null  float64\n",
      " 36  sensor_36  220304 non-null  float64\n",
      " 37  sensor_37  220304 non-null  float64\n",
      " 38  sensor_38  220293 non-null  float64\n",
      " 39  sensor_39  220293 non-null  float64\n",
      " 40  sensor_40  220293 non-null  float64\n",
      " 41  sensor_41  220293 non-null  float64\n",
      " 42  sensor_42  220293 non-null  float64\n",
      " 43  sensor_43  220293 non-null  float64\n",
      " 44  sensor_44  220293 non-null  float64\n",
      " 45  sensor_45  220293 non-null  float64\n",
      " 46  sensor_46  220293 non-null  float64\n",
      " 47  sensor_47  220293 non-null  float64\n",
      " 48  sensor_48  220293 non-null  float64\n",
      " 49  sensor_49  220293 non-null  float64\n",
      " 50  sensor_50  143303 non-null  float64\n",
      " 51  sensor_51  204937 non-null  float64\n",
      "dtypes: float64(52)\n",
      "memory usage: 87.4 MB\n"
     ]
    }
   ],
   "source": [
    "data.info()"
   ]
  },
  {
   "cell_type": "code",
   "execution_count": 38,
   "id": "b65282ad-f4e7-403d-b74e-4a44f3ef8533",
   "metadata": {},
   "outputs": [
    {
     "name": "stdout",
     "output_type": "stream",
     "text": [
      "status options: \n",
      "['NORMAL' 'BROKEN' 'RECOVERING']\n",
      "\n",
      "NORMAL        205836\n",
      "RECOVERING     14477\n",
      "BROKEN             7\n",
      "Name: machine_status, dtype: int64\n",
      "\n"
     ]
    }
   ],
   "source": [
    "''' \n",
    "Get some info on the target-data\n",
    "'''\n",
    "\n",
    "print( 'status options: ');  print( datafull['machine_status'].unique()); print() # Get the unique values for class\n",
    "print (datafull['machine_status'].value_counts()); print() # Count the Classes to see how many we got from each"
   ]
  },
  {
   "cell_type": "code",
   "execution_count": 39,
   "id": "4fa440c8-8749-4ad7-9103-f7f1d80fd5ca",
   "metadata": {},
   "outputs": [
    {
     "name": "stdout",
     "output_type": "stream",
     "text": [
      "{'BROKEN': 0, 'NORMAL': 1, 'RECOVERING': 2}\n"
     ]
    }
   ],
   "source": [
    "'''\n",
    "Convert the classes from string to values by using the scikit-learn mapper\n",
    "'''\n",
    "\n",
    "le = preprocessing.LabelEncoder() #get the label Encoder\n",
    "le.fit(datafull.machine_status) #fit it to the data that the encoder knows what to do\n",
    "encoded_y=le.transform(datafull.machine_status) #finally transform the data and put it into a pandas data frame for easier use\n",
    "\n",
    "#Get the Label map\n",
    "le_name_mapping = dict(zip(le.classes_, le.transform(le.classes_))) # To be able to later indentify what is what, create a label map\n",
    "print(le_name_mapping)"
   ]
  },
  {
   "cell_type": "code",
   "execution_count": 40,
   "id": "8b76de43-1a64-4b79-839c-31c7e8c40296",
   "metadata": {},
   "outputs": [
    {
     "data": {
      "image/png": "[encoded data removed]",
      "text/plain": [
       "<Figure size 432x288 with 1 Axes>"
      ]
     },
     "metadata": {
      "needs_background": "light"
     },
     "output_type": "display_data"
    }
   ],
   "source": [
    "'''\n",
    "Plot the  target data\n",
    "'''\n",
    "\n",
    "x = np.linspace(1, len(encoded_y), len(encoded_y))# create x-axis (could also be the converted timestamp column)\n",
    "plt.plot(x, encoded_y) \n",
    "plt.ylabel('class')\n",
    "plt.title('Target')\n",
    "labels = ['Normal','Broken','Recovering'] # Give the y-axis the Class lables we found earlier\n",
    "plt.yticks([1,0,2], labels, rotation='vertical') # Set the y-ticks to three to only show the classnames\n",
    "plt.show()  "
   ]
  },
  {
   "cell_type": "code",
   "execution_count": 41,
   "id": "690acf53-3937-4f4f-892d-dfd04b8e3342",
   "metadata": {},
   "outputs": [],
   "source": [
    "datafull['machine_status'].loc[datafull['machine_status'] =='BROKEN'] = 0\n",
    "datafull['machine_status'].loc[datafull['machine_status'] =='NORMAL'] = 1\n",
    "datafull['machine_status'].loc[datafull['machine_status'] =='RECOVERING'] = 2"
   ]
  },
  {
   "cell_type": "code",
   "execution_count": 42,
   "id": "1dc34e3b-1cbd-487a-b7f4-42641b4cabea",
   "metadata": {},
   "outputs": [
    {
     "data": {
      "text/plain": [
       "1    205836\n",
       "2     14477\n",
       "0         7\n",
       "Name: machine_status, dtype: int64"
      ]
     },
     "execution_count": 42,
     "metadata": {},
     "output_type": "execute_result"
    }
   ],
   "source": [
    "datafull['machine_status'].value_counts()"
   ]
  },
  {
   "cell_type": "markdown",
   "id": "da173134-96e0-449d-98ce-f6d009e2b711",
   "metadata": {},
   "source": [
    "#### Rimuoviamo le righe duplicate"
   ]
  },
  {
   "cell_type": "code",
   "execution_count": 43,
   "id": "4795558d-2801-4cab-9bbe-b86852fab3ca",
   "metadata": {},
   "outputs": [],
   "source": [
    "data.drop_duplicates(inplace=True)\n",
    "datafull.drop_duplicates(inplace=True)"
   ]
  },
  {
   "cell_type": "markdown",
   "id": "93f117e6-33d4-4d40-b8d8-e86b49568cf5",
   "metadata": {},
   "source": [
    "#### Removing NaNs"
   ]
  },
  {
   "cell_type": "code",
   "execution_count": 44,
   "id": "4520e225-09dc-4146-8c7f-d9d370d90abb",
   "metadata": {},
   "outputs": [
    {
     "data": {
      "text/plain": [
       "Text(0.5, 1.0, 'Count NaN')"
      ]
     },
     "execution_count": 44,
     "metadata": {},
     "output_type": "execute_result"
    },
    {
     "data": {
      "image/png": "[encoded data removed]",
      "text/plain": [
       "<Figure size 1152x432 with 1 Axes>"
      ]
     },
     "metadata": {
      "needs_background": "light"
     },
     "output_type": "display_data"
    }
   ],
   "source": [
    "plt.figure(figsize=(16,6))\n",
    "data.isna().sum()[data.isna().sum()>0].plot(kind='bar')\n",
    "plt.title('Count NaN')"
   ]
  },
  {
   "cell_type": "code",
   "execution_count": 45,
   "id": "db58f4d9-16b6-41d6-8d46-402be868cbbb",
   "metadata": {},
   "outputs": [
    {
     "data": {
      "text/plain": [
       "Text(0.5, 1.0, 'Removing Sensor 15')"
      ]
     },
     "execution_count": 45,
     "metadata": {},
     "output_type": "execute_result"
    },
    {
     "data": {
      "image/png": "[encoded data removed]",
      "text/plain": [
       "<Figure size 1152x432 with 1 Axes>"
      ]
     },
     "metadata": {
      "needs_background": "light"
     },
     "output_type": "display_data"
    }
   ],
   "source": [
    "plt.figure(figsize=(16,6))\n",
    "\n",
    "data.drop('sensor_15', inplace=True, axis=1)\n",
    "datafull.drop('sensor_15', inplace=True, axis=1)\n",
    "\n",
    "data.isna().sum()[data.isna().sum()>0].plot(kind='bar')\n",
    "plt.title('Removing Sensor 15')"
   ]
  },
  {
   "cell_type": "code",
   "execution_count": null,
   "id": "745656f7-6e9f-45ff-93ca-0265195a09e1",
   "metadata": {},
   "outputs": [],
   "source": []
  },
  {
   "cell_type": "code",
   "execution_count": 46,
   "id": "4f93def5-9327-453a-b129-3cc5e97a3578",
   "metadata": {},
   "outputs": [
    {
     "data": {
      "text/plain": [
       "Text(0.5, 1.0, 'Focus sensos 50')"
      ]
     },
     "execution_count": 46,
     "metadata": {},
     "output_type": "execute_result"
    },
    {
     "data": {
      "image/png": "[encoded data removed]",
      "text/plain": [
       "<Figure size 1152x432 with 1 Axes>"
      ]
     },
     "metadata": {
      "needs_background": "light"
     },
     "output_type": "display_data"
    }
   ],
   "source": [
    "from sklearn.preprocessing import MinMaxScaler\n",
    "plt.figure(figsize=(16,6))\n",
    "\n",
    "scaler = MinMaxScaler()\n",
    "scaled_dat = pd.DataFrame(scaler.fit_transform(data), columns=data.columns)\n",
    "plt.plot(scaled_dat.sensor_50)\n",
    "\n",
    "x = np.linspace(1, len(encoded_y), len(encoded_y))# create x-axis (could also be the converted timestamp column)\n",
    "plt.plot(x, encoded_y)\n",
    "plt.title('Focus sensos 50')\n"
   ]
  },
  {
   "cell_type": "code",
   "execution_count": 47,
   "id": "9fb496ec-e921-4314-8c86-4b55faf836e6",
   "metadata": {},
   "outputs": [
    {
     "data": {
      "text/plain": [
       "Text(0.5, 1.0, 'Focus sensos 51')"
      ]
     },
     "execution_count": 47,
     "metadata": {},
     "output_type": "execute_result"
    },
    {
     "data": {
      "image/png": "[encoded data removed]",
      "text/plain": [
       "<Figure size 1152x432 with 1 Axes>"
      ]
     },
     "metadata": {
      "needs_background": "light"
     },
     "output_type": "display_data"
    }
   ],
   "source": [
    "from sklearn.preprocessing import MinMaxScaler\n",
    "plt.figure(figsize=(16,6))\n",
    "\n",
    "scaler = MinMaxScaler()\n",
    "scaled_dat = pd.DataFrame(scaler.fit_transform(data), columns=data.columns)\n",
    "plt.plot(scaled_dat.sensor_51)\n",
    "\n",
    "x = np.linspace(1, len(encoded_y), len(encoded_y))# create x-axis (could also be the converted timestamp column)\n",
    "plt.plot(x, encoded_y) \n",
    "plt.title('Focus sensos 51')\n"
   ]
  },
  {
   "cell_type": "code",
   "execution_count": 48,
   "id": "087835ff-8adf-4c1c-a055-e3015e700e52",
   "metadata": {},
   "outputs": [
    {
     "data": {
      "text/plain": [
       "[<matplotlib.lines.Line2D at 0x7f0c0980b7f0>]"
      ]
     },
     "execution_count": 48,
     "metadata": {},
     "output_type": "execute_result"
    },
    {
     "data": {
      "image/png": "[encoded data removed]",
      "text/plain": [
       "<Figure size 1152x432 with 1 Axes>"
      ]
     },
     "metadata": {
      "needs_background": "light"
     },
     "output_type": "display_data"
    }
   ],
   "source": [
    "plt.figure(figsize=(16,6))\n",
    "\n",
    "# repair sensor 50 with 51 data\n",
    "data.sensor_51[110000:140000]=data.sensor_50[110000:140000] # repair sensor 51\n",
    "datafull.sensor_51[110000:140000]=datafull.sensor_50[110000:140000] # repair sensor 51\n",
    "\n",
    "# drop sensor 50\n",
    "data.drop('sensor_50', inplace=True, axis=1)\n",
    "datafull.drop('sensor_50', inplace=True, axis=1)\n",
    "\n",
    "plt.plot(data.sensor_51)"
   ]
  },
  {
   "cell_type": "code",
   "execution_count": 49,
   "id": "0635c2c0-aa5c-4217-8d34-535d7c542d10",
   "metadata": {},
   "outputs": [
    {
     "data": {
      "text/plain": [
       "Index(['sensor_00', 'sensor_01', 'sensor_02', 'sensor_03', 'sensor_04',\n",
       "       'sensor_05', 'sensor_06', 'sensor_07', 'sensor_08', 'sensor_09',\n",
       "       'sensor_10', 'sensor_11', 'sensor_12', 'sensor_13', 'sensor_14',\n",
       "       'sensor_16', 'sensor_17', 'sensor_18', 'sensor_19', 'sensor_20',\n",
       "       'sensor_21', 'sensor_22', 'sensor_23', 'sensor_24', 'sensor_25',\n",
       "       'sensor_26', 'sensor_27', 'sensor_28', 'sensor_29', 'sensor_30',\n",
       "       'sensor_31', 'sensor_32', 'sensor_33', 'sensor_34', 'sensor_35',\n",
       "       'sensor_36', 'sensor_37', 'sensor_38', 'sensor_39', 'sensor_40',\n",
       "       'sensor_41', 'sensor_42', 'sensor_43', 'sensor_44', 'sensor_45',\n",
       "       'sensor_46', 'sensor_47', 'sensor_48', 'sensor_49', 'sensor_51'],\n",
       "      dtype='object')"
      ]
     },
     "execution_count": 49,
     "metadata": {},
     "output_type": "execute_result"
    }
   ],
   "source": [
    "data.columns"
   ]
  },
  {
   "cell_type": "code",
   "execution_count": 50,
   "id": "ee55f283-5b89-413b-972d-b6cc672aa112",
   "metadata": {},
   "outputs": [
    {
     "data": {
      "text/plain": [
       "Text(0.5, 1.0, 'Dropped sensor 15, 50 and fixed 51')"
      ]
     },
     "execution_count": 50,
     "metadata": {},
     "output_type": "execute_result"
    },
    {
     "data": {
      "image/png": "[encoded data removed]",
      "text/plain": [
       "<Figure size 1152x432 with 1 Axes>"
      ]
     },
     "metadata": {
      "needs_background": "light"
     },
     "output_type": "display_data"
    }
   ],
   "source": [
    "plt.figure(figsize=(16,6))\n",
    "data.isna().sum()[data.isna().sum()>0].plot(kind='bar')\n",
    "plt.title('Dropped sensor 15, 50 and fixed 51')"
   ]
  },
  {
   "cell_type": "code",
   "execution_count": 51,
   "id": "3853daad-72df-4823-b458-888f20f00c53",
   "metadata": {},
   "outputs": [
    {
     "data": {
      "text/plain": [
       "<AxesSubplot:title={'center':'Var'}>"
      ]
     },
     "execution_count": 51,
     "metadata": {},
     "output_type": "execute_result"
    },
    {
     "data": {
      "image/png": "[encoded data removed]",
      "text/plain": [
       "<Figure size 1152x432 with 1 Axes>"
      ]
     },
     "metadata": {
      "needs_background": "light"
     },
     "output_type": "display_data"
    }
   ],
   "source": [
    "plt.figure(figsize=(16,6))\n",
    "plt.title('Var')\n",
    "data.var().plot(kind='bar')"
   ]
  },
  {
   "cell_type": "markdown",
   "id": "5231d624-4759-4268-af99-d8383a249010",
   "metadata": {},
   "source": [
    "si osserva come i senso 00 e 06-09 pur avendo dei valori mancando non hanno molta varianza, pe cui dediciamo allora di rimuoverli siccome non penso portino molta informzione"
   ]
  },
  {
   "cell_type": "code",
   "execution_count": 52,
   "id": "d3900637-fbc2-43f7-b220-fe0fcb17c69b",
   "metadata": {},
   "outputs": [
    {
     "data": {
      "text/plain": [
       "\"\\ndata.drop('sensor_00', inplace=True, axis=1)\\ndata.drop('sensor_06', inplace=True, axis=1)\\ndata.drop('sensor_07', inplace=True, axis=1)\\ndata.drop('sensor_08', inplace=True, axis=1)\\ndata.drop('sensor_09', inplace=True, axis=1)\\n\\ndatafull.drop('sensor_00', inplace=True, axis=1)\\ndatafull.drop('sensor_06', inplace=True, axis=1)\\ndatafull.drop('sensor_07', inplace=True, axis=1)\\ndatafull.drop('sensor_08', inplace=True, axis=1)\\ndatafull.drop('sensor_09', inplace=True, axis=1)\\n\""
      ]
     },
     "execution_count": 52,
     "metadata": {},
     "output_type": "execute_result"
    }
   ],
   "source": [
    "\"\"\"\n",
    "data.drop('sensor_00', inplace=True, axis=1)\n",
    "data.drop('sensor_06', inplace=True, axis=1)\n",
    "data.drop('sensor_07', inplace=True, axis=1)\n",
    "data.drop('sensor_08', inplace=True, axis=1)\n",
    "data.drop('sensor_09', inplace=True, axis=1)\n",
    "\n",
    "datafull.drop('sensor_00', inplace=True, axis=1)\n",
    "datafull.drop('sensor_06', inplace=True, axis=1)\n",
    "datafull.drop('sensor_07', inplace=True, axis=1)\n",
    "datafull.drop('sensor_08', inplace=True, axis=1)\n",
    "datafull.drop('sensor_09', inplace=True, axis=1)\n",
    "\"\"\""
   ]
  },
  {
   "cell_type": "code",
   "execution_count": 53,
   "id": "a7a4080e-e7d2-4397-9cbd-b7fc98b00067",
   "metadata": {},
   "outputs": [
    {
     "data": {
      "text/plain": [
       "<AxesSubplot:>"
      ]
     },
     "execution_count": 53,
     "metadata": {},
     "output_type": "execute_result"
    },
    {
     "data": {
      "image/png": "[encoded data removed]",
      "text/plain": [
       "<Figure size 1152x432 with 1 Axes>"
      ]
     },
     "metadata": {
      "needs_background": "light"
     },
     "output_type": "display_data"
    }
   ],
   "source": [
    "plt.figure(figsize=(16,6))\n",
    "data.isna().sum()[data.isna().sum()>0].plot(kind='bar')"
   ]
  },
  {
   "cell_type": "code",
   "execution_count": 54,
   "id": "01122c0d-1a51-48a7-b7a3-85ec58763db9",
   "metadata": {},
   "outputs": [
    {
     "data": {
      "text/plain": [
       "<Figure size 1152x432 with 0 Axes>"
      ]
     },
     "metadata": {},
     "output_type": "display_data"
    }
   ],
   "source": [
    "\"\"\"\n",
    "plt.figure(figsize=(16,6))\n",
    "\n",
    "data.fillna(method=\"pad\", limit=30, inplace=True) # fill degli na con PAD mode e fino a 30 na consecutivi, il resto lascia na\n",
    "data.dropna(inplace=True)\n",
    "\n",
    "datafull.fillna(method=\"pad\",limit=30, inplace=True) # fill degli na con PAD mode e fino a 30 na consecutivi, il resto lascia na\n",
    "datafull.dropna(inplace=True)\n",
    "\"\"\"\n",
    "\n",
    "plt.figure(figsize=(16,6))\n",
    "\n",
    "data.fillna(-1, inplace=True) # fill degli na con PAD mode e fino a 30 na consecutivi, il resto lascia na\n",
    "data.dropna(inplace=True)\n",
    "\n",
    "datafull.fillna(-1, inplace=True) # fill degli na con PAD mode e fino a 30 na consecutivi, il resto lascia na\n",
    "datafull.dropna(inplace=True)"
   ]
  },
  {
   "cell_type": "code",
   "execution_count": 55,
   "id": "7f18d977-0016-47a3-9d0f-fb72bb5b4fa3",
   "metadata": {},
   "outputs": [
    {
     "data": {
      "text/plain": [
       "[<matplotlib.lines.Line2D at 0x7f0c094dbf70>]"
      ]
     },
     "execution_count": 55,
     "metadata": {},
     "output_type": "execute_result"
    },
    {
     "data": {
      "image/png": "[encoded data removed]",
      "text/plain": [
       "<Figure size 432x288 with 1 Axes>"
      ]
     },
     "metadata": {
      "needs_background": "light"
     },
     "output_type": "display_data"
    }
   ],
   "source": [
    "plt.plot(datafull.machine_status)"
   ]
  },
  {
   "cell_type": "markdown",
   "id": "0bc62283-4857-4c75-b94f-dbc182556eaf",
   "metadata": {},
   "source": [
    "#### Feature Engineering"
   ]
  },
  {
   "cell_type": "code",
   "execution_count": 56,
   "id": "fda7d4fa-b7fe-4419-8911-bb628b01f1a8",
   "metadata": {},
   "outputs": [],
   "source": [
    "datafull.reset_index(inplace=True)\n",
    "datafull.drop('id', inplace=True, axis=1)"
   ]
  },
  {
   "cell_type": "code",
   "execution_count": 57,
   "id": "3e37c5c6-a423-4fa5-b8bf-0d693faf29d1",
   "metadata": {},
   "outputs": [
    {
     "data": {
      "text/html": [
       "<div>\n",
       "<style scoped>\n",
       "    .dataframe tbody tr th:only-of-type {\n",
       "        vertical-align: middle;\n",
       "    }\n",
       "\n",
       "    .dataframe tbody tr th {\n",
       "        vertical-align: top;\n",
       "    }\n",
       "\n",
       "    .dataframe thead th {\n",
       "        text-align: right;\n",
       "    }\n",
       "</style>\n",
       "<table border=\"1\" class=\"dataframe\">\n",
       "  <thead>\n",
       "    <tr style=\"text-align: right;\">\n",
       "      <th></th>\n",
       "      <th>index</th>\n",
       "      <th>timestamp</th>\n",
       "      <th>sensor_00</th>\n",
       "      <th>sensor_01</th>\n",
       "      <th>sensor_02</th>\n",
       "      <th>sensor_03</th>\n",
       "      <th>sensor_04</th>\n",
       "      <th>sensor_05</th>\n",
       "      <th>sensor_06</th>\n",
       "      <th>sensor_07</th>\n",
       "      <th>...</th>\n",
       "      <th>sensor_42</th>\n",
       "      <th>sensor_43</th>\n",
       "      <th>sensor_44</th>\n",
       "      <th>sensor_45</th>\n",
       "      <th>sensor_46</th>\n",
       "      <th>sensor_47</th>\n",
       "      <th>sensor_48</th>\n",
       "      <th>sensor_49</th>\n",
       "      <th>sensor_51</th>\n",
       "      <th>machine_status</th>\n",
       "    </tr>\n",
       "  </thead>\n",
       "  <tbody>\n",
       "    <tr>\n",
       "      <th>0</th>\n",
       "      <td>0</td>\n",
       "      <td>2018-04-01 00:00:00</td>\n",
       "      <td>2.465394</td>\n",
       "      <td>47.09201</td>\n",
       "      <td>53.2118</td>\n",
       "      <td>46.310760</td>\n",
       "      <td>634.3750</td>\n",
       "      <td>76.45975</td>\n",
       "      <td>13.41146</td>\n",
       "      <td>16.13136</td>\n",
       "      <td>...</td>\n",
       "      <td>31.770832</td>\n",
       "      <td>41.92708</td>\n",
       "      <td>39.641200</td>\n",
       "      <td>65.68287</td>\n",
       "      <td>50.92593</td>\n",
       "      <td>38.194440</td>\n",
       "      <td>157.9861</td>\n",
       "      <td>67.70834</td>\n",
       "      <td>201.3889</td>\n",
       "      <td>1</td>\n",
       "    </tr>\n",
       "    <tr>\n",
       "      <th>1</th>\n",
       "      <td>1</td>\n",
       "      <td>2018-04-01 00:01:00</td>\n",
       "      <td>2.465394</td>\n",
       "      <td>47.09201</td>\n",
       "      <td>53.2118</td>\n",
       "      <td>46.310760</td>\n",
       "      <td>634.3750</td>\n",
       "      <td>76.45975</td>\n",
       "      <td>13.41146</td>\n",
       "      <td>16.13136</td>\n",
       "      <td>...</td>\n",
       "      <td>31.770832</td>\n",
       "      <td>41.92708</td>\n",
       "      <td>39.641200</td>\n",
       "      <td>65.68287</td>\n",
       "      <td>50.92593</td>\n",
       "      <td>38.194440</td>\n",
       "      <td>157.9861</td>\n",
       "      <td>67.70834</td>\n",
       "      <td>201.3889</td>\n",
       "      <td>1</td>\n",
       "    </tr>\n",
       "    <tr>\n",
       "      <th>2</th>\n",
       "      <td>2</td>\n",
       "      <td>2018-04-01 00:02:00</td>\n",
       "      <td>2.444734</td>\n",
       "      <td>47.35243</td>\n",
       "      <td>53.2118</td>\n",
       "      <td>46.397570</td>\n",
       "      <td>638.8889</td>\n",
       "      <td>73.54598</td>\n",
       "      <td>13.32465</td>\n",
       "      <td>16.03733</td>\n",
       "      <td>...</td>\n",
       "      <td>31.770830</td>\n",
       "      <td>41.66666</td>\n",
       "      <td>39.351852</td>\n",
       "      <td>65.39352</td>\n",
       "      <td>51.21528</td>\n",
       "      <td>38.194443</td>\n",
       "      <td>155.9606</td>\n",
       "      <td>67.12963</td>\n",
       "      <td>203.7037</td>\n",
       "      <td>1</td>\n",
       "    </tr>\n",
       "    <tr>\n",
       "      <th>3</th>\n",
       "      <td>3</td>\n",
       "      <td>2018-04-01 00:03:00</td>\n",
       "      <td>2.460474</td>\n",
       "      <td>47.09201</td>\n",
       "      <td>53.1684</td>\n",
       "      <td>46.397568</td>\n",
       "      <td>628.1250</td>\n",
       "      <td>76.98898</td>\n",
       "      <td>13.31742</td>\n",
       "      <td>16.24711</td>\n",
       "      <td>...</td>\n",
       "      <td>31.510420</td>\n",
       "      <td>40.88541</td>\n",
       "      <td>39.062500</td>\n",
       "      <td>64.81481</td>\n",
       "      <td>51.21528</td>\n",
       "      <td>38.194440</td>\n",
       "      <td>155.9606</td>\n",
       "      <td>66.84028</td>\n",
       "      <td>203.1250</td>\n",
       "      <td>1</td>\n",
       "    </tr>\n",
       "    <tr>\n",
       "      <th>4</th>\n",
       "      <td>4</td>\n",
       "      <td>2018-04-01 00:04:00</td>\n",
       "      <td>2.445718</td>\n",
       "      <td>47.13541</td>\n",
       "      <td>53.2118</td>\n",
       "      <td>46.397568</td>\n",
       "      <td>636.4583</td>\n",
       "      <td>76.58897</td>\n",
       "      <td>13.35359</td>\n",
       "      <td>16.21094</td>\n",
       "      <td>...</td>\n",
       "      <td>31.510420</td>\n",
       "      <td>41.40625</td>\n",
       "      <td>38.773150</td>\n",
       "      <td>65.10416</td>\n",
       "      <td>51.79398</td>\n",
       "      <td>38.773150</td>\n",
       "      <td>158.2755</td>\n",
       "      <td>66.55093</td>\n",
       "      <td>201.3889</td>\n",
       "      <td>1</td>\n",
       "    </tr>\n",
       "  </tbody>\n",
       "</table>\n",
       "<p>5 rows × 53 columns</p>\n",
       "</div>"
      ],
      "text/plain": [
       "   index            timestamp  sensor_00  sensor_01  sensor_02  sensor_03  \\\n",
       "0      0  2018-04-01 00:00:00   2.465394   47.09201    53.2118  46.310760   \n",
       "1      1  2018-04-01 00:01:00   2.465394   47.09201    53.2118  46.310760   \n",
       "2      2  2018-04-01 00:02:00   2.444734   47.35243    53.2118  46.397570   \n",
       "3      3  2018-04-01 00:03:00   2.460474   47.09201    53.1684  46.397568   \n",
       "4      4  2018-04-01 00:04:00   2.445718   47.13541    53.2118  46.397568   \n",
       "\n",
       "   sensor_04  sensor_05  sensor_06  sensor_07  ...  sensor_42  sensor_43  \\\n",
       "0   634.3750   76.45975   13.41146   16.13136  ...  31.770832   41.92708   \n",
       "1   634.3750   76.45975   13.41146   16.13136  ...  31.770832   41.92708   \n",
       "2   638.8889   73.54598   13.32465   16.03733  ...  31.770830   41.66666   \n",
       "3   628.1250   76.98898   13.31742   16.24711  ...  31.510420   40.88541   \n",
       "4   636.4583   76.58897   13.35359   16.21094  ...  31.510420   41.40625   \n",
       "\n",
       "   sensor_44  sensor_45  sensor_46  sensor_47  sensor_48  sensor_49  \\\n",
       "0  39.641200   65.68287   50.92593  38.194440   157.9861   67.70834   \n",
       "1  39.641200   65.68287   50.92593  38.194440   157.9861   67.70834   \n",
       "2  39.351852   65.39352   51.21528  38.194443   155.9606   67.12963   \n",
       "3  39.062500   64.81481   51.21528  38.194440   155.9606   66.84028   \n",
       "4  38.773150   65.10416   51.79398  38.773150   158.2755   66.55093   \n",
       "\n",
       "   sensor_51  machine_status  \n",
       "0   201.3889               1  \n",
       "1   201.3889               1  \n",
       "2   203.7037               1  \n",
       "3   203.1250               1  \n",
       "4   201.3889               1  \n",
       "\n",
       "[5 rows x 53 columns]"
      ]
     },
     "execution_count": 57,
     "metadata": {},
     "output_type": "execute_result"
    }
   ],
   "source": [
    "datafull.head()"
   ]
  },
  {
   "cell_type": "markdown",
   "id": "a79964d9-d946-4df3-a3f9-1c0b7f846184",
   "metadata": {},
   "source": [
    "Moreover, plot of machine status variation with time shows that Recovering state follows Broken state and in Recovering state pump is trying to recover from Broken state so Recovering state is considered as Broken state."
   ]
  },
  {
   "cell_type": "code",
   "execution_count": 58,
   "id": "812d20e0-bf61-4795-bf08-6250a1219ac1",
   "metadata": {},
   "outputs": [],
   "source": [
    "\n",
    "datafull['machine_status'].loc[(datafull['machine_status'] == 0) | (datafull['machine_status'] == 2) ] = 0"
   ]
  },
  {
   "cell_type": "code",
   "execution_count": 59,
   "id": "3df0861c-b77e-4b36-895c-b858f5b6e558",
   "metadata": {},
   "outputs": [
    {
     "data": {
      "text/plain": [
       "1    205836\n",
       "0     14484\n",
       "Name: machine_status, dtype: int64"
      ]
     },
     "execution_count": 59,
     "metadata": {},
     "output_type": "execute_result"
    }
   ],
   "source": [
    "datafull['machine_status'].value_counts()"
   ]
  },
  {
   "cell_type": "markdown",
   "id": "8406afa7-a0c0-4d5d-9bdf-a4705baffd55",
   "metadata": {},
   "source": [
    "Because of limited availability data, selected time window of 10 minute for prediction i. e. given a data point predict the machine status after 10 minute. Therefore data is pre-processed by shifting the labels by 10 minute."
   ]
  },
  {
   "cell_type": "code",
   "execution_count": 60,
   "id": "00621e5f-9c0b-442f-b1a8-258277e43f56",
   "metadata": {},
   "outputs": [
    {
     "data": {
      "text/plain": [
       "[<matplotlib.lines.Line2D at 0x7f0c0a60d370>]"
      ]
     },
     "execution_count": 60,
     "metadata": {},
     "output_type": "execute_result"
    },
    {
     "data": {
      "image/png": "[encoded data removed]",
      "text/plain": [
       "<Figure size 432x288 with 1 Axes>"
      ]
     },
     "metadata": {
      "needs_background": "light"
     },
     "output_type": "display_data"
    }
   ],
   "source": [
    "plt.plot(datafull.machine_status)"
   ]
  },
  {
   "cell_type": "code",
   "execution_count": 61,
   "id": "028a4ba5-a070-48ef-98cd-6a26e6a0fd8d",
   "metadata": {},
   "outputs": [],
   "source": [
    "def shift_labels(sensor_list, df):\n",
    "    \"\"\"\n",
    "    Function to shift labels by 10 min\n",
    "    \"\"\"\n",
    "    #count = 0\n",
    "\n",
    "    new_features = {}\n",
    "\n",
    "    for sensor in sensor_list:\n",
    "        new_features[sensor] = df[sensor]\n",
    "\n",
    "    labels = [None] * df.shape[0]\n",
    "\n",
    "    for i in range(0, df.shape[0]-10):\n",
    "        #print (count)\n",
    "        #count+=1\n",
    "        labels[i] = datafull['machine_status'][i+10]\n",
    "    \n",
    "    new_features['machine_status'] = labels\n",
    "    new_df = pd.DataFrame(new_features)\n",
    "    \n",
    "    # dropping last rows with null value\n",
    "    new_df.drop(new_df.tail(10).index,inplace=True)\n",
    "    return new_df\n"
   ]
  },
  {
   "cell_type": "code",
   "execution_count": 152,
   "id": "fbbc2cb8-6976-478d-a036-0d4996f12b0b",
   "metadata": {},
   "outputs": [
    {
     "data": {
      "text/html": [
       "<div>\n",
       "<style scoped>\n",
       "    .dataframe tbody tr th:only-of-type {\n",
       "        vertical-align: middle;\n",
       "    }\n",
       "\n",
       "    .dataframe tbody tr th {\n",
       "        vertical-align: top;\n",
       "    }\n",
       "\n",
       "    .dataframe thead th {\n",
       "        text-align: right;\n",
       "    }\n",
       "</style>\n",
       "<table border=\"1\" class=\"dataframe\">\n",
       "  <thead>\n",
       "    <tr style=\"text-align: right;\">\n",
       "      <th></th>\n",
       "      <th>sensor_00</th>\n",
       "      <th>sensor_01</th>\n",
       "      <th>sensor_02</th>\n",
       "      <th>sensor_03</th>\n",
       "      <th>sensor_04</th>\n",
       "      <th>sensor_05</th>\n",
       "      <th>sensor_06</th>\n",
       "      <th>sensor_07</th>\n",
       "      <th>sensor_08</th>\n",
       "      <th>sensor_09</th>\n",
       "      <th>...</th>\n",
       "      <th>sensor_42</th>\n",
       "      <th>sensor_43</th>\n",
       "      <th>sensor_44</th>\n",
       "      <th>sensor_45</th>\n",
       "      <th>sensor_46</th>\n",
       "      <th>sensor_47</th>\n",
       "      <th>sensor_48</th>\n",
       "      <th>sensor_49</th>\n",
       "      <th>sensor_51</th>\n",
       "      <th>machine_status</th>\n",
       "    </tr>\n",
       "  </thead>\n",
       "  <tbody>\n",
       "    <tr>\n",
       "      <th>0</th>\n",
       "      <td>2.465394</td>\n",
       "      <td>47.09201</td>\n",
       "      <td>53.2118</td>\n",
       "      <td>46.310760</td>\n",
       "      <td>634.3750</td>\n",
       "      <td>76.45975</td>\n",
       "      <td>13.41146</td>\n",
       "      <td>16.13136</td>\n",
       "      <td>15.56713</td>\n",
       "      <td>15.05353</td>\n",
       "      <td>...</td>\n",
       "      <td>31.770832</td>\n",
       "      <td>41.92708</td>\n",
       "      <td>39.641200</td>\n",
       "      <td>65.68287</td>\n",
       "      <td>50.92593</td>\n",
       "      <td>38.194440</td>\n",
       "      <td>157.9861</td>\n",
       "      <td>67.70834</td>\n",
       "      <td>201.3889</td>\n",
       "      <td>1.0</td>\n",
       "    </tr>\n",
       "    <tr>\n",
       "      <th>1</th>\n",
       "      <td>2.465394</td>\n",
       "      <td>47.09201</td>\n",
       "      <td>53.2118</td>\n",
       "      <td>46.310760</td>\n",
       "      <td>634.3750</td>\n",
       "      <td>76.45975</td>\n",
       "      <td>13.41146</td>\n",
       "      <td>16.13136</td>\n",
       "      <td>15.56713</td>\n",
       "      <td>15.05353</td>\n",
       "      <td>...</td>\n",
       "      <td>31.770832</td>\n",
       "      <td>41.92708</td>\n",
       "      <td>39.641200</td>\n",
       "      <td>65.68287</td>\n",
       "      <td>50.92593</td>\n",
       "      <td>38.194440</td>\n",
       "      <td>157.9861</td>\n",
       "      <td>67.70834</td>\n",
       "      <td>201.3889</td>\n",
       "      <td>1.0</td>\n",
       "    </tr>\n",
       "    <tr>\n",
       "      <th>2</th>\n",
       "      <td>2.444734</td>\n",
       "      <td>47.35243</td>\n",
       "      <td>53.2118</td>\n",
       "      <td>46.397570</td>\n",
       "      <td>638.8889</td>\n",
       "      <td>73.54598</td>\n",
       "      <td>13.32465</td>\n",
       "      <td>16.03733</td>\n",
       "      <td>15.61777</td>\n",
       "      <td>15.01013</td>\n",
       "      <td>...</td>\n",
       "      <td>31.770830</td>\n",
       "      <td>41.66666</td>\n",
       "      <td>39.351852</td>\n",
       "      <td>65.39352</td>\n",
       "      <td>51.21528</td>\n",
       "      <td>38.194443</td>\n",
       "      <td>155.9606</td>\n",
       "      <td>67.12963</td>\n",
       "      <td>203.7037</td>\n",
       "      <td>1.0</td>\n",
       "    </tr>\n",
       "    <tr>\n",
       "      <th>3</th>\n",
       "      <td>2.460474</td>\n",
       "      <td>47.09201</td>\n",
       "      <td>53.1684</td>\n",
       "      <td>46.397568</td>\n",
       "      <td>628.1250</td>\n",
       "      <td>76.98898</td>\n",
       "      <td>13.31742</td>\n",
       "      <td>16.24711</td>\n",
       "      <td>15.69734</td>\n",
       "      <td>15.08247</td>\n",
       "      <td>...</td>\n",
       "      <td>31.510420</td>\n",
       "      <td>40.88541</td>\n",
       "      <td>39.062500</td>\n",
       "      <td>64.81481</td>\n",
       "      <td>51.21528</td>\n",
       "      <td>38.194440</td>\n",
       "      <td>155.9606</td>\n",
       "      <td>66.84028</td>\n",
       "      <td>203.1250</td>\n",
       "      <td>1.0</td>\n",
       "    </tr>\n",
       "    <tr>\n",
       "      <th>4</th>\n",
       "      <td>2.445718</td>\n",
       "      <td>47.13541</td>\n",
       "      <td>53.2118</td>\n",
       "      <td>46.397568</td>\n",
       "      <td>636.4583</td>\n",
       "      <td>76.58897</td>\n",
       "      <td>13.35359</td>\n",
       "      <td>16.21094</td>\n",
       "      <td>15.69734</td>\n",
       "      <td>15.08247</td>\n",
       "      <td>...</td>\n",
       "      <td>31.510420</td>\n",
       "      <td>41.40625</td>\n",
       "      <td>38.773150</td>\n",
       "      <td>65.10416</td>\n",
       "      <td>51.79398</td>\n",
       "      <td>38.773150</td>\n",
       "      <td>158.2755</td>\n",
       "      <td>66.55093</td>\n",
       "      <td>201.3889</td>\n",
       "      <td>1.0</td>\n",
       "    </tr>\n",
       "  </tbody>\n",
       "</table>\n",
       "<p>5 rows × 51 columns</p>\n",
       "</div>"
      ],
      "text/plain": [
       "   sensor_00  sensor_01  sensor_02  sensor_03  sensor_04  sensor_05  \\\n",
       "0   2.465394   47.09201    53.2118  46.310760   634.3750   76.45975   \n",
       "1   2.465394   47.09201    53.2118  46.310760   634.3750   76.45975   \n",
       "2   2.444734   47.35243    53.2118  46.397570   638.8889   73.54598   \n",
       "3   2.460474   47.09201    53.1684  46.397568   628.1250   76.98898   \n",
       "4   2.445718   47.13541    53.2118  46.397568   636.4583   76.58897   \n",
       "\n",
       "   sensor_06  sensor_07  sensor_08  sensor_09  ...  sensor_42  sensor_43  \\\n",
       "0   13.41146   16.13136   15.56713   15.05353  ...  31.770832   41.92708   \n",
       "1   13.41146   16.13136   15.56713   15.05353  ...  31.770832   41.92708   \n",
       "2   13.32465   16.03733   15.61777   15.01013  ...  31.770830   41.66666   \n",
       "3   13.31742   16.24711   15.69734   15.08247  ...  31.510420   40.88541   \n",
       "4   13.35359   16.21094   15.69734   15.08247  ...  31.510420   41.40625   \n",
       "\n",
       "   sensor_44  sensor_45  sensor_46  sensor_47  sensor_48  sensor_49  \\\n",
       "0  39.641200   65.68287   50.92593  38.194440   157.9861   67.70834   \n",
       "1  39.641200   65.68287   50.92593  38.194440   157.9861   67.70834   \n",
       "2  39.351852   65.39352   51.21528  38.194443   155.9606   67.12963   \n",
       "3  39.062500   64.81481   51.21528  38.194440   155.9606   66.84028   \n",
       "4  38.773150   65.10416   51.79398  38.773150   158.2755   66.55093   \n",
       "\n",
       "   sensor_51  machine_status  \n",
       "0   201.3889             1.0  \n",
       "1   201.3889             1.0  \n",
       "2   203.7037             1.0  \n",
       "3   203.1250             1.0  \n",
       "4   201.3889             1.0  \n",
       "\n",
       "[5 rows x 51 columns]"
      ]
     },
     "execution_count": 152,
     "metadata": {},
     "output_type": "execute_result"
    }
   ],
   "source": [
    "data_10min_shift = shift_labels(datafull.columns[2:-1], datafull)\n",
    "data_10min_shift.head()"
   ]
  },
  {
   "cell_type": "markdown",
   "id": "d5c89ad6-b99e-43d4-b7ac-3d199704f9aa",
   "metadata": {},
   "source": [
    "#### Feauture Selection"
   ]
  },
  {
   "cell_type": "markdown",
   "id": "9daae581-9f5c-4d1e-adbc-559e259e9c47",
   "metadata": {},
   "source": [
    "For selecting best features, distribution of sensor readings corresponding to Normal class and Broken class is plotted"
   ]
  },
  {
   "cell_type": "code",
   "execution_count": 27,
   "id": "3e30e0bc-dad9-484f-b955-0514113df95b",
   "metadata": {},
   "outputs": [],
   "source": [
    "# Optione 1"
   ]
  },
  {
   "cell_type": "code",
   "execution_count": 153,
   "id": "2b02ab4e-0cd6-461d-8ffc-e899a04e29c1",
   "metadata": {},
   "outputs": [
    {
     "data": {
      "text/plain": [
       "<AxesSubplot:>"
      ]
     },
     "execution_count": 153,
     "metadata": {},
     "output_type": "execute_result"
    },
    {
     "data": {
      "image/png": "[encoded data removed]",
      "text/plain": [
       "<Figure size 1080x720 with 2 Axes>"
      ]
     },
     "metadata": {
      "needs_background": "light"
     },
     "output_type": "display_data"
    }
   ],
   "source": [
    "data_corr = data_10min_shift.corr()\n",
    "import matplotlib.pyplot as plt\n",
    "\n",
    "fig, ax = plt.subplots(figsize=(15,10))   \n",
    "sns.heatmap(data_corr)"
   ]
  },
  {
   "cell_type": "code",
   "execution_count": 159,
   "id": "7d63be92-5909-4ea9-b873-82bc531506ee",
   "metadata": {},
   "outputs": [
    {
     "data": {
      "text/plain": [
       "sensor_00         0.942536\n",
       "sensor_02         0.783572\n",
       "sensor_04         0.913950\n",
       "sensor_06         0.848920\n",
       "sensor_07         0.817994\n",
       "sensor_08         0.777030\n",
       "sensor_09         0.757852\n",
       "sensor_10         0.869413\n",
       "sensor_11         0.819989\n",
       "sensor_12         0.755993\n",
       "sensor_51         0.719961\n",
       "machine_status    1.000000\n",
       "Name: machine_status, dtype: float64"
      ]
     },
     "execution_count": 159,
     "metadata": {},
     "output_type": "execute_result"
    }
   ],
   "source": [
    "data_corr['machine_status'].loc[data_corr['machine_status']>0.7]"
   ]
  },
  {
   "cell_type": "code",
   "execution_count": null,
   "id": "da327761-1825-4213-9d85-7ce6d882833e",
   "metadata": {},
   "outputs": [],
   "source": []
  },
  {
   "cell_type": "code",
   "execution_count": null,
   "id": "25ec6366-4152-489a-9bd9-92b8d299a20a",
   "metadata": {},
   "outputs": [],
   "source": []
  },
  {
   "cell_type": "code",
   "execution_count": null,
   "id": "f8547ebe-91db-403f-bf63-58e82a1bfea7",
   "metadata": {},
   "outputs": [],
   "source": []
  },
  {
   "cell_type": "code",
   "execution_count": null,
   "id": "723c0819-b84e-4d82-9bb0-65858b553322",
   "metadata": {},
   "outputs": [],
   "source": []
  },
  {
   "cell_type": "code",
   "execution_count": 155,
   "id": "b979e25a-bcab-43d9-b1f5-d0560f0bbc12",
   "metadata": {},
   "outputs": [],
   "source": [
    "def get_distrib_plot(sensor, df):\n",
    "    \"\"\"\n",
    "    Function to plot distribution of sensor readings for Normal and Broken state\n",
    "    \"\"\"\n",
    "    \n",
    "    # sensor values corrensponding machine status Normal\n",
    "    normal = df[df['machine_status']==1][sensor].values\n",
    "    \n",
    "    # sensor values corrensponding machine status Broken\n",
    "    broken = df[df['machine_status']==0][sensor].values\n",
    "\n",
    "    plt.figure(figsize=(10,3))\n",
    "    # distribution for normal state\n",
    "    sns.distplot(normal, hist=False, label=\"Normal\") \n",
    "    # distribution for broken state\n",
    "    sns.distplot(broken, hist=False, label=\"Broken\") \n",
    "    plt.title('Distribution of sensor readings corresponding Normal and Broken state')\n",
    "    plt.xlabel(f'{sensor} readings')\n",
    "    plt.legend()\n",
    "    plt.show()"
   ]
  },
  {
   "cell_type": "code",
   "execution_count": 157,
   "id": "28ba0fd9-5f87-4457-a328-a0b9a8d2e49f",
   "metadata": {},
   "outputs": [],
   "source": [
    "#for i in datafull.columns[2:-1]:\n",
    "#for i in datafull.columns[2:-1]:\n",
    "#    get_distrib_plot(i, data_10min_shift)"
   ]
  },
  {
   "cell_type": "code",
   "execution_count": 162,
   "id": "777b0ced-a0e9-4b3b-81ba-79df5bf79bff",
   "metadata": {},
   "outputs": [],
   "source": [
    "#final_sensors = ['sensor_04', 'sensor_19', 'sensor_20', 'sensor_21', \n",
    "#                 'sensor_38', 'sensor_39', 'sensor_40', 'sensor_41', \n",
    "#                 'sensor_42']\n",
    "\n",
    "final_sensors = ['sensor_00', 'sensor_02', 'sensor_04', 'sensor_06',  'sensor_07', 'sensor_08', 'sensor_09', 'sensor_10', 'sensor_11', 'sensor_51' ]"
   ]
  },
  {
   "cell_type": "code",
   "execution_count": 163,
   "id": "347b7fdf-4997-4b26-8744-f13e66cfeac8",
   "metadata": {},
   "outputs": [],
   "source": [
    "def get_new_features(sensor_list, df):\n",
    "    \"\"\"\n",
    "    Function to find distance from normal state mean value \n",
    "    \"\"\"\n",
    "    new_features = {}\n",
    "    for sensor in sensor_list:\n",
    "        val = df[sensor] - np.mean(df[df['machine_status']==1][sensor].values)\n",
    "        new_features[sensor] = val\n",
    "    new_features['machine_status'] = df['machine_status']\n",
    "    new_df = pd.DataFrame(new_features)\n",
    "    return new_df"
   ]
  },
  {
   "cell_type": "code",
   "execution_count": 164,
   "id": "a68ef1d9-312f-440a-bf96-535c4c8cbdb7",
   "metadata": {},
   "outputs": [
    {
     "data": {
      "text/html": [
       "<div>\n",
       "<style scoped>\n",
       "    .dataframe tbody tr th:only-of-type {\n",
       "        vertical-align: middle;\n",
       "    }\n",
       "\n",
       "    .dataframe tbody tr th {\n",
       "        vertical-align: top;\n",
       "    }\n",
       "\n",
       "    .dataframe thead th {\n",
       "        text-align: right;\n",
       "    }\n",
       "</style>\n",
       "<table border=\"1\" class=\"dataframe\">\n",
       "  <thead>\n",
       "    <tr style=\"text-align: right;\">\n",
       "      <th></th>\n",
       "      <th>sensor_00</th>\n",
       "      <th>sensor_02</th>\n",
       "      <th>sensor_04</th>\n",
       "      <th>sensor_06</th>\n",
       "      <th>sensor_07</th>\n",
       "      <th>sensor_08</th>\n",
       "      <th>sensor_09</th>\n",
       "      <th>sensor_10</th>\n",
       "      <th>sensor_11</th>\n",
       "      <th>sensor_51</th>\n",
       "      <th>machine_status</th>\n",
       "    </tr>\n",
       "  </thead>\n",
       "  <tbody>\n",
       "    <tr>\n",
       "      <th>0</th>\n",
       "      <td>0.045599</td>\n",
       "      <td>1.580146</td>\n",
       "      <td>8.811367</td>\n",
       "      <td>-0.452019</td>\n",
       "      <td>-0.033137</td>\n",
       "      <td>0.090218</td>\n",
       "      <td>-0.03195</td>\n",
       "      <td>-7.029786</td>\n",
       "      <td>2.768899</td>\n",
       "      <td>5.025569</td>\n",
       "      <td>1.0</td>\n",
       "    </tr>\n",
       "    <tr>\n",
       "      <th>1</th>\n",
       "      <td>0.045599</td>\n",
       "      <td>1.580146</td>\n",
       "      <td>8.811367</td>\n",
       "      <td>-0.452019</td>\n",
       "      <td>-0.033137</td>\n",
       "      <td>0.090218</td>\n",
       "      <td>-0.03195</td>\n",
       "      <td>-7.029786</td>\n",
       "      <td>2.768899</td>\n",
       "      <td>5.025569</td>\n",
       "      <td>1.0</td>\n",
       "    </tr>\n",
       "    <tr>\n",
       "      <th>2</th>\n",
       "      <td>0.024939</td>\n",
       "      <td>1.580146</td>\n",
       "      <td>13.325267</td>\n",
       "      <td>-0.538829</td>\n",
       "      <td>-0.127167</td>\n",
       "      <td>0.140858</td>\n",
       "      <td>-0.07535</td>\n",
       "      <td>-6.389416</td>\n",
       "      <td>3.421909</td>\n",
       "      <td>7.340369</td>\n",
       "      <td>1.0</td>\n",
       "    </tr>\n",
       "    <tr>\n",
       "      <th>3</th>\n",
       "      <td>0.040679</td>\n",
       "      <td>1.536746</td>\n",
       "      <td>2.561367</td>\n",
       "      <td>-0.546059</td>\n",
       "      <td>0.082613</td>\n",
       "      <td>0.220428</td>\n",
       "      <td>-0.00301</td>\n",
       "      <td>-5.677416</td>\n",
       "      <td>3.900749</td>\n",
       "      <td>6.761669</td>\n",
       "      <td>1.0</td>\n",
       "    </tr>\n",
       "    <tr>\n",
       "      <th>4</th>\n",
       "      <td>0.025923</td>\n",
       "      <td>1.580146</td>\n",
       "      <td>10.894667</td>\n",
       "      <td>-0.509889</td>\n",
       "      <td>0.046443</td>\n",
       "      <td>0.220428</td>\n",
       "      <td>-0.00301</td>\n",
       "      <td>-4.767796</td>\n",
       "      <td>4.307659</td>\n",
       "      <td>5.025569</td>\n",
       "      <td>1.0</td>\n",
       "    </tr>\n",
       "    <tr>\n",
       "      <th>...</th>\n",
       "      <td>...</td>\n",
       "      <td>...</td>\n",
       "      <td>...</td>\n",
       "      <td>...</td>\n",
       "      <td>...</td>\n",
       "      <td>...</td>\n",
       "      <td>...</td>\n",
       "      <td>...</td>\n",
       "      <td>...</td>\n",
       "      <td>...</td>\n",
       "      <td>...</td>\n",
       "    </tr>\n",
       "    <tr>\n",
       "      <th>220305</th>\n",
       "      <td>-0.015397</td>\n",
       "      <td>-1.110824</td>\n",
       "      <td>1.403967</td>\n",
       "      <td>1.255151</td>\n",
       "      <td>0.444303</td>\n",
       "      <td>0.177018</td>\n",
       "      <td>-0.02472</td>\n",
       "      <td>-4.444036</td>\n",
       "      <td>5.030679</td>\n",
       "      <td>7.340369</td>\n",
       "      <td>1.0</td>\n",
       "    </tr>\n",
       "    <tr>\n",
       "      <th>220306</th>\n",
       "      <td>-0.015397</td>\n",
       "      <td>-1.067414</td>\n",
       "      <td>10.703667</td>\n",
       "      <td>1.226221</td>\n",
       "      <td>0.538343</td>\n",
       "      <td>0.256598</td>\n",
       "      <td>-0.00301</td>\n",
       "      <td>-4.023656</td>\n",
       "      <td>4.945379</td>\n",
       "      <td>7.340369</td>\n",
       "      <td>1.0</td>\n",
       "    </tr>\n",
       "    <tr>\n",
       "      <th>220307</th>\n",
       "      <td>-0.019332</td>\n",
       "      <td>-1.110824</td>\n",
       "      <td>-9.244133</td>\n",
       "      <td>1.255151</td>\n",
       "      <td>0.487703</td>\n",
       "      <td>0.292768</td>\n",
       "      <td>-0.03195</td>\n",
       "      <td>1.590254</td>\n",
       "      <td>5.753129</td>\n",
       "      <td>5.893569</td>\n",
       "      <td>1.0</td>\n",
       "    </tr>\n",
       "    <tr>\n",
       "      <th>220308</th>\n",
       "      <td>-0.015397</td>\n",
       "      <td>-1.067414</td>\n",
       "      <td>2.098415</td>\n",
       "      <td>1.255151</td>\n",
       "      <td>0.444303</td>\n",
       "      <td>0.292768</td>\n",
       "      <td>-0.11152</td>\n",
       "      <td>-1.951426</td>\n",
       "      <td>7.446539</td>\n",
       "      <td>4.446869</td>\n",
       "      <td>1.0</td>\n",
       "    </tr>\n",
       "    <tr>\n",
       "      <th>220309</th>\n",
       "      <td>-0.019332</td>\n",
       "      <td>-1.067414</td>\n",
       "      <td>4.876167</td>\n",
       "      <td>1.103241</td>\n",
       "      <td>0.487703</td>\n",
       "      <td>0.256598</td>\n",
       "      <td>-0.02472</td>\n",
       "      <td>-1.438076</td>\n",
       "      <td>7.785249</td>\n",
       "      <td>6.761669</td>\n",
       "      <td>1.0</td>\n",
       "    </tr>\n",
       "  </tbody>\n",
       "</table>\n",
       "<p>220310 rows × 11 columns</p>\n",
       "</div>"
      ],
      "text/plain": [
       "        sensor_00  sensor_02  sensor_04  sensor_06  sensor_07  sensor_08  \\\n",
       "0        0.045599   1.580146   8.811367  -0.452019  -0.033137   0.090218   \n",
       "1        0.045599   1.580146   8.811367  -0.452019  -0.033137   0.090218   \n",
       "2        0.024939   1.580146  13.325267  -0.538829  -0.127167   0.140858   \n",
       "3        0.040679   1.536746   2.561367  -0.546059   0.082613   0.220428   \n",
       "4        0.025923   1.580146  10.894667  -0.509889   0.046443   0.220428   \n",
       "...           ...        ...        ...        ...        ...        ...   \n",
       "220305  -0.015397  -1.110824   1.403967   1.255151   0.444303   0.177018   \n",
       "220306  -0.015397  -1.067414  10.703667   1.226221   0.538343   0.256598   \n",
       "220307  -0.019332  -1.110824  -9.244133   1.255151   0.487703   0.292768   \n",
       "220308  -0.015397  -1.067414   2.098415   1.255151   0.444303   0.292768   \n",
       "220309  -0.019332  -1.067414   4.876167   1.103241   0.487703   0.256598   \n",
       "\n",
       "        sensor_09  sensor_10  sensor_11  sensor_51  machine_status  \n",
       "0        -0.03195  -7.029786   2.768899   5.025569             1.0  \n",
       "1        -0.03195  -7.029786   2.768899   5.025569             1.0  \n",
       "2        -0.07535  -6.389416   3.421909   7.340369             1.0  \n",
       "3        -0.00301  -5.677416   3.900749   6.761669             1.0  \n",
       "4        -0.00301  -4.767796   4.307659   5.025569             1.0  \n",
       "...           ...        ...        ...        ...             ...  \n",
       "220305   -0.02472  -4.444036   5.030679   7.340369             1.0  \n",
       "220306   -0.00301  -4.023656   4.945379   7.340369             1.0  \n",
       "220307   -0.03195   1.590254   5.753129   5.893569             1.0  \n",
       "220308   -0.11152  -1.951426   7.446539   4.446869             1.0  \n",
       "220309   -0.02472  -1.438076   7.785249   6.761669             1.0  \n",
       "\n",
       "[220310 rows x 11 columns]"
      ]
     },
     "execution_count": 164,
     "metadata": {},
     "output_type": "execute_result"
    }
   ],
   "source": [
    "# dist from mean of normal state\n",
    "df_dist_from_norm_mean = get_new_features(final_sensors, data_10min_shift)\n",
    "df_dist_from_norm_mean"
   ]
  },
  {
   "cell_type": "markdown",
   "id": "d965a94c-894e-4759-be93-9c6f5937db44",
   "metadata": {},
   "source": [
    "#### Save processed data"
   ]
  },
  {
   "cell_type": "code",
   "execution_count": 165,
   "id": "876e1853-68fb-442d-bfb5-bf7ff6a63ada",
   "metadata": {},
   "outputs": [],
   "source": [
    "df_dist_from_norm_mean.to_csv('data/pump_sensors_processed.csv', index=False)"
   ]
  },
  {
   "cell_type": "markdown",
   "id": "5a6091cd-ffeb-4334-a64b-8360b93eaa23",
   "metadata": {},
   "source": [
    "#### Splitting the data"
   ]
  },
  {
   "cell_type": "code",
   "execution_count": 166,
   "id": "1829a342-427c-4a8f-adbc-9b136bb1387d",
   "metadata": {},
   "outputs": [],
   "source": [
    "def percentage_cls_distrib(df):\n",
    "    \"\"\"\n",
    "    function to get % class distribution among train and test data\n",
    "    \"\"\"\n",
    "    total = len(df)\n",
    "    class_0 = round(df.value_counts()[0] *100 / total, 2)\n",
    "    class_1 = round(df.value_counts()[1] *100 / total, 2)\n",
    "    print(f\"% Broken class data points = {class_0}\")\n",
    "    print(f\"% Normal class data points= {class_1}\")"
   ]
  },
  {
   "cell_type": "code",
   "execution_count": 167,
   "id": "4a72a30e-fa3b-401b-b5b6-8648302521e1",
   "metadata": {},
   "outputs": [
    {
     "data": {
      "text/plain": [
       "\"\\n# y data\\ndata_y = df_dist_from_norm_mean['machine_status']\\n# x data\\ndata_x = df_dist_from_norm_mean.drop(columns='machine_status')\\n\\n#train_dataPoints = 153932  # 131000\\n\\nX_train = data_x[:train_dataPoints]\\ny_train = data_y[:train_dataPoints]\\n\\nX_test = data_x[train_dataPoints: ]\\ny_test = data_y[train_dataPoints: ]\\n\""
      ]
     },
     "execution_count": 167,
     "metadata": {},
     "output_type": "execute_result"
    }
   ],
   "source": [
    "\"\"\"\n",
    "train, test = train_test_split(df_dist_from_norm_mean)\n",
    "\n",
    "X_train = train.drop([\"machine_status\"], axis=1)\n",
    "X_test = test.drop([\"machine_status\"], axis=1)\n",
    "y_train = train[[\"machine_status\"]]\n",
    "y_test = test[[\"machine_status\"]]\n",
    "\"\"\"\n",
    "    \n",
    "\n",
    "# y data\n",
    "data_y = df_dist_from_norm_mean['machine_status']\n",
    "# x data\n",
    "data_x = df_dist_from_norm_mean.drop(columns='machine_status')\n",
    "\n",
    "#train_dataPoints = 131000  # 131000\n",
    "\n",
    "X_train = data_x[:train_dataPoints]\n",
    "y_train = data_y[:train_dataPoints]\n",
    "\n",
    "X_test = data_x[train_dataPoints: ]\n",
    "y_test = data_y[train_dataPoints: ]\n"
   ]
  },
  {
   "cell_type": "code",
   "execution_count": 168,
   "id": "107cbd96-51eb-4495-a8bd-88c31644bbde",
   "metadata": {},
   "outputs": [
    {
     "name": "stdout",
     "output_type": "stream",
     "text": [
      "Training data\n",
      "\n",
      "% Broken class data points = 6.57\n",
      "% Normal class data points= 93.43\n"
     ]
    }
   ],
   "source": [
    "print(\"Training data\")\n",
    "print()\n",
    "percentage_cls_distrib(y_train)"
   ]
  },
  {
   "cell_type": "code",
   "execution_count": 169,
   "id": "9cfd0b1c-376f-4348-b4a0-ceaba41d5ac5",
   "metadata": {},
   "outputs": [
    {
     "name": "stdout",
     "output_type": "stream",
     "text": [
      "Test data\n",
      "\n",
      "% Broken class data points = 6.57\n",
      "% Normal class data points= 93.43\n"
     ]
    }
   ],
   "source": [
    "print(\"Test data\")\n",
    "print()\n",
    "percentage_cls_distrib(y_test)"
   ]
  },
  {
   "cell_type": "code",
   "execution_count": 170,
   "id": "bd1e931d-0939-4232-a392-4407d70615ce",
   "metadata": {},
   "outputs": [
    {
     "data": {
      "text/plain": [
       "(165232, 10)"
      ]
     },
     "execution_count": 170,
     "metadata": {},
     "output_type": "execute_result"
    }
   ],
   "source": [
    "X_train.shape"
   ]
  },
  {
   "cell_type": "code",
   "execution_count": 171,
   "id": "93be0417-aabf-4453-b31d-c6b89e96a2b4",
   "metadata": {},
   "outputs": [
    {
     "data": {
      "text/plain": [
       "(55078, 10)"
      ]
     },
     "execution_count": 171,
     "metadata": {},
     "output_type": "execute_result"
    }
   ],
   "source": [
    "X_test.shape"
   ]
  },
  {
   "cell_type": "markdown",
   "id": "c9b0e806-9d7f-45b1-b740-0039ea8390c1",
   "metadata": {},
   "source": [
    "#### Scaling the Data"
   ]
  },
  {
   "cell_type": "code",
   "execution_count": 172,
   "id": "53958f1e-aed8-4b0d-acb5-a95d23b92831",
   "metadata": {},
   "outputs": [],
   "source": [
    "def normalize_df(df_train, df_test):\n",
    "    \"\"\"\n",
    "    Function to normalize the data using minimax scaler\n",
    "    \"\"\"\n",
    "    scaler = MinMaxScaler()\n",
    "    scaled_train = scaler.fit_transform(df_train.values)\n",
    "    scaled_test = scaler.transform(df_test.values)\n",
    "    train = pd.DataFrame(data=scaled_train, \n",
    "                         columns=df_train.columns, \n",
    "                         index=df_train.index)\n",
    "    test = pd.DataFrame(data=scaled_test, \n",
    "                        columns=df_test.columns, \n",
    "                        index=df_test.index)\n",
    "    return train, test"
   ]
  },
  {
   "cell_type": "code",
   "execution_count": 173,
   "id": "cd066250-02e6-49ba-a68f-d33458eabaf9",
   "metadata": {},
   "outputs": [],
   "source": [
    "X_train, X_test = normalize_df(X_train, X_test)"
   ]
  },
  {
   "cell_type": "code",
   "execution_count": 174,
   "id": "df00baa6-f5c3-4129-af49-67403d5ac519",
   "metadata": {},
   "outputs": [
    {
     "data": {
      "text/html": [
       "<div>\n",
       "<style scoped>\n",
       "    .dataframe tbody tr th:only-of-type {\n",
       "        vertical-align: middle;\n",
       "    }\n",
       "\n",
       "    .dataframe tbody tr th {\n",
       "        vertical-align: top;\n",
       "    }\n",
       "\n",
       "    .dataframe thead th {\n",
       "        text-align: right;\n",
       "    }\n",
       "</style>\n",
       "<table border=\"1\" class=\"dataframe\">\n",
       "  <thead>\n",
       "    <tr style=\"text-align: right;\">\n",
       "      <th></th>\n",
       "      <th>sensor_00</th>\n",
       "      <th>sensor_02</th>\n",
       "      <th>sensor_04</th>\n",
       "      <th>sensor_06</th>\n",
       "      <th>sensor_07</th>\n",
       "      <th>sensor_08</th>\n",
       "      <th>sensor_09</th>\n",
       "      <th>sensor_10</th>\n",
       "      <th>sensor_11</th>\n",
       "      <th>sensor_51</th>\n",
       "    </tr>\n",
       "  </thead>\n",
       "  <tbody>\n",
       "    <tr>\n",
       "      <th>14683</th>\n",
       "      <td>0.976134</td>\n",
       "      <td>0.909439</td>\n",
       "      <td>0.797273</td>\n",
       "      <td>0.612972</td>\n",
       "      <td>0.723255</td>\n",
       "      <td>0.645858</td>\n",
       "      <td>0.618557</td>\n",
       "      <td>0.523707</td>\n",
       "      <td>0.809836</td>\n",
       "      <td>0.467313</td>\n",
       "    </tr>\n",
       "    <tr>\n",
       "      <th>95276</th>\n",
       "      <td>0.974747</td>\n",
       "      <td>0.930748</td>\n",
       "      <td>0.784124</td>\n",
       "      <td>0.625106</td>\n",
       "      <td>0.679140</td>\n",
       "      <td>0.635869</td>\n",
       "      <td>0.617443</td>\n",
       "      <td>0.652767</td>\n",
       "      <td>0.622360</td>\n",
       "      <td>0.346529</td>\n",
       "    </tr>\n",
       "    <tr>\n",
       "      <th>134333</th>\n",
       "      <td>0.000000</td>\n",
       "      <td>0.604274</td>\n",
       "      <td>0.005558</td>\n",
       "      <td>0.000000</td>\n",
       "      <td>0.000000</td>\n",
       "      <td>0.000000</td>\n",
       "      <td>0.000000</td>\n",
       "      <td>0.016625</td>\n",
       "      <td>0.017816</td>\n",
       "      <td>0.061603</td>\n",
       "    </tr>\n",
       "    <tr>\n",
       "      <th>164040</th>\n",
       "      <td>0.990287</td>\n",
       "      <td>0.945207</td>\n",
       "      <td>0.805220</td>\n",
       "      <td>0.669906</td>\n",
       "      <td>0.715903</td>\n",
       "      <td>0.654133</td>\n",
       "      <td>0.617443</td>\n",
       "      <td>0.741833</td>\n",
       "      <td>0.856917</td>\n",
       "      <td>0.508194</td>\n",
       "    </tr>\n",
       "    <tr>\n",
       "      <th>149408</th>\n",
       "      <td>0.988900</td>\n",
       "      <td>0.889653</td>\n",
       "      <td>0.796262</td>\n",
       "      <td>0.666795</td>\n",
       "      <td>0.717667</td>\n",
       "      <td>0.666975</td>\n",
       "      <td>0.628851</td>\n",
       "      <td>0.705461</td>\n",
       "      <td>0.915983</td>\n",
       "      <td>0.633313</td>\n",
       "    </tr>\n",
       "  </tbody>\n",
       "</table>\n",
       "</div>"
      ],
      "text/plain": [
       "        sensor_00  sensor_02  sensor_04  sensor_06  sensor_07  sensor_08  \\\n",
       "14683    0.976134   0.909439   0.797273   0.612972   0.723255   0.645858   \n",
       "95276    0.974747   0.930748   0.784124   0.625106   0.679140   0.635869   \n",
       "134333   0.000000   0.604274   0.005558   0.000000   0.000000   0.000000   \n",
       "164040   0.990287   0.945207   0.805220   0.669906   0.715903   0.654133   \n",
       "149408   0.988900   0.889653   0.796262   0.666795   0.717667   0.666975   \n",
       "\n",
       "        sensor_09  sensor_10  sensor_11  sensor_51  \n",
       "14683    0.618557   0.523707   0.809836   0.467313  \n",
       "95276    0.617443   0.652767   0.622360   0.346529  \n",
       "134333   0.000000   0.016625   0.017816   0.061603  \n",
       "164040   0.617443   0.741833   0.856917   0.508194  \n",
       "149408   0.628851   0.705461   0.915983   0.633313  "
      ]
     },
     "execution_count": 174,
     "metadata": {},
     "output_type": "execute_result"
    }
   ],
   "source": [
    "X_train.head()"
   ]
  },
  {
   "cell_type": "code",
   "execution_count": 175,
   "id": "57542904-4ec8-43be-90d2-b9ed335a77ac",
   "metadata": {},
   "outputs": [
    {
     "data": {
      "text/html": [
       "<div>\n",
       "<style scoped>\n",
       "    .dataframe tbody tr th:only-of-type {\n",
       "        vertical-align: middle;\n",
       "    }\n",
       "\n",
       "    .dataframe tbody tr th {\n",
       "        vertical-align: top;\n",
       "    }\n",
       "\n",
       "    .dataframe thead th {\n",
       "        text-align: right;\n",
       "    }\n",
       "</style>\n",
       "<table border=\"1\" class=\"dataframe\">\n",
       "  <thead>\n",
       "    <tr style=\"text-align: right;\">\n",
       "      <th></th>\n",
       "      <th>sensor_00</th>\n",
       "      <th>sensor_02</th>\n",
       "      <th>sensor_04</th>\n",
       "      <th>sensor_06</th>\n",
       "      <th>sensor_07</th>\n",
       "      <th>sensor_08</th>\n",
       "      <th>sensor_09</th>\n",
       "      <th>sensor_10</th>\n",
       "      <th>sensor_11</th>\n",
       "      <th>sensor_51</th>\n",
       "    </tr>\n",
       "  </thead>\n",
       "  <tbody>\n",
       "    <tr>\n",
       "      <th>105793</th>\n",
       "      <td>0.984182</td>\n",
       "      <td>0.939119</td>\n",
       "      <td>0.787736</td>\n",
       "      <td>0.640973</td>\n",
       "      <td>0.685905</td>\n",
       "      <td>0.655560</td>\n",
       "      <td>0.619947</td>\n",
       "      <td>0.622375</td>\n",
       "      <td>0.580215</td>\n",
       "      <td>0.491470</td>\n",
       "    </tr>\n",
       "    <tr>\n",
       "      <th>101633</th>\n",
       "      <td>0.986124</td>\n",
       "      <td>0.950534</td>\n",
       "      <td>0.817791</td>\n",
       "      <td>0.623550</td>\n",
       "      <td>0.685316</td>\n",
       "      <td>0.637582</td>\n",
       "      <td>0.609932</td>\n",
       "      <td>0.594902</td>\n",
       "      <td>0.596209</td>\n",
       "      <td>0.454925</td>\n",
       "    </tr>\n",
       "    <tr>\n",
       "      <th>190978</th>\n",
       "      <td>0.975857</td>\n",
       "      <td>0.939119</td>\n",
       "      <td>0.795828</td>\n",
       "      <td>0.685462</td>\n",
       "      <td>0.707080</td>\n",
       "      <td>0.666975</td>\n",
       "      <td>0.628851</td>\n",
       "      <td>0.562974</td>\n",
       "      <td>0.876080</td>\n",
       "      <td>0.444395</td>\n",
       "    </tr>\n",
       "    <tr>\n",
       "      <th>159354</th>\n",
       "      <td>0.986680</td>\n",
       "      <td>0.934553</td>\n",
       "      <td>0.788892</td>\n",
       "      <td>0.643462</td>\n",
       "      <td>0.704433</td>\n",
       "      <td>0.678675</td>\n",
       "      <td>0.639980</td>\n",
       "      <td>0.698500</td>\n",
       "      <td>0.924585</td>\n",
       "      <td>0.522440</td>\n",
       "    </tr>\n",
       "    <tr>\n",
       "      <th>175083</th>\n",
       "      <td>0.979187</td>\n",
       "      <td>0.897263</td>\n",
       "      <td>0.810711</td>\n",
       "      <td>0.657773</td>\n",
       "      <td>0.708550</td>\n",
       "      <td>0.650709</td>\n",
       "      <td>0.617722</td>\n",
       "      <td>0.642322</td>\n",
       "      <td>0.828192</td>\n",
       "      <td>0.505096</td>\n",
       "    </tr>\n",
       "  </tbody>\n",
       "</table>\n",
       "</div>"
      ],
      "text/plain": [
       "        sensor_00  sensor_02  sensor_04  sensor_06  sensor_07  sensor_08  \\\n",
       "105793   0.984182   0.939119   0.787736   0.640973   0.685905   0.655560   \n",
       "101633   0.986124   0.950534   0.817791   0.623550   0.685316   0.637582   \n",
       "190978   0.975857   0.939119   0.795828   0.685462   0.707080   0.666975   \n",
       "159354   0.986680   0.934553   0.788892   0.643462   0.704433   0.678675   \n",
       "175083   0.979187   0.897263   0.810711   0.657773   0.708550   0.650709   \n",
       "\n",
       "        sensor_09  sensor_10  sensor_11  sensor_51  \n",
       "105793   0.619947   0.622375   0.580215   0.491470  \n",
       "101633   0.609932   0.594902   0.596209   0.454925  \n",
       "190978   0.628851   0.562974   0.876080   0.444395  \n",
       "159354   0.639980   0.698500   0.924585   0.522440  \n",
       "175083   0.617722   0.642322   0.828192   0.505096  "
      ]
     },
     "execution_count": 175,
     "metadata": {},
     "output_type": "execute_result"
    }
   ],
   "source": [
    "X_test.head()"
   ]
  },
  {
   "cell_type": "markdown",
   "id": "b3e78d7f-d344-4a22-80a5-3e7aeeb96a34",
   "metadata": {},
   "source": [
    "#### Modeling"
   ]
  },
  {
   "cell_type": "code",
   "execution_count": 176,
   "id": "6f52fb94-0b78-40f1-b4d3-107171687660",
   "metadata": {},
   "outputs": [],
   "source": [
    "# time splitting of the data for cross validation\n",
    "folds = TimeSeriesSplit(n_splits=5)"
   ]
  },
  {
   "cell_type": "code",
   "execution_count": 177,
   "id": "05575036-def2-428f-9b77-b5ac307324a2",
   "metadata": {},
   "outputs": [],
   "source": [
    "def get_cv_plot(validation, parameter):\n",
    "    \"\"\"\n",
    "    Function to plot cross validation metric\n",
    "    \"\"\"\n",
    "    # creating dataframe of cross validation results\n",
    "    results = pd.DataFrame.from_dict(validation.cv_results_)\n",
    "    results = results.sort_values([parameter])\n",
    "\n",
    "    # Get Mean score for each grid search for train data\n",
    "    train_macro_f1= validation.cv_results_['mean_train_score']\n",
    "    # Get Mean score for each grid search for cross validation data\n",
    "    cv_macro_f1 = validation.cv_results_['mean_test_score'] \n",
    "    C =  results[parameter]\n",
    "\n",
    "    # plotting the results\n",
    "    plt.figure(figsize=(7,4))\n",
    "    plt.plot(C, train_macro_f1, label='Train macro f1')\n",
    "    plt.plot(C, cv_macro_f1, label='CV macro f1')\n",
    "    plt.scatter(C, train_macro_f1, label='Train macro f1 points')\n",
    "    plt.scatter(C, cv_macro_f1, label='CV macro f1 points')\n",
    "\n",
    "    plt.xscale('log')\n",
    "    plt.legend()\n",
    "    plt.xlabel(\"hyperparameter\")\n",
    "    plt.ylabel(\"macro f1-score\")\n",
    "    plt.title(\"Macro f1-score Vs Hyperparameter\")\n",
    "    plt.grid( linestyle='-', linewidth=0.5)\n",
    "    plt.grid()\n",
    "    plt.show()"
   ]
  },
  {
   "cell_type": "code",
   "execution_count": 178,
   "id": "2969775a-0b8c-4ac0-a4b4-384940dcd0d5",
   "metadata": {},
   "outputs": [],
   "source": [
    "def get_confusion_mat( y_true , y_pred):\n",
    "    \"\"\"\n",
    "    Function to plot confusion matrix\n",
    "    \"\"\"\n",
    "    # counfusion matrix\n",
    "    confusion_mat = confusion_matrix(y_true , y_pred)\n",
    "        \n",
    "    labels = [\"Normal\", \"Broken\"]\n",
    "\n",
    "    # plot heat map of confusion matrix\n",
    "    sns.heatmap(confusion_mat, annot=True, fmt='', cmap='Greens',\n",
    "                xticklabels=labels, \n",
    "                yticklabels=labels)\n",
    "    plt.xlabel('Predicted Class')\n",
    "    plt.ylabel('Original Class')\n",
    "    plt.show()\n"
   ]
  },
  {
   "cell_type": "code",
   "execution_count": 179,
   "id": "ac08b5c8-87b7-4053-813d-497d7c7b18cb",
   "metadata": {},
   "outputs": [],
   "source": [
    "def get_result( model , x_test , y_test ):\n",
    "    \"\"\"\n",
    "    Function to check model performance on test data and print the metric\n",
    "    \"\"\"\n",
    "    # prediction on test data\n",
    "    y_pred = model.predict(x_test)\n",
    "    \n",
    "    # get the metric\n",
    "    f1_macro = f1_score(y_test, y_pred, average='macro')\n",
    "    print(f\"Macro F1-Score:{round(f1_macro, 4)} \")\n",
    "    print()\n",
    "\n",
    "    print(\"Confusion Matrix\")\n",
    "    get_confusion_mat(y_test, y_pred)\n"
   ]
  },
  {
   "cell_type": "code",
   "execution_count": 180,
   "id": "7f3b25da-338e-47a3-9447-857de1643706",
   "metadata": {},
   "outputs": [],
   "source": [
    "def get_cv_heatmap(validation):\n",
    "    \"\"\"\n",
    "    Function to plot heat map of cross validation results\n",
    "    \"\"\"\n",
    "    # reference: https://stackoverflow.com/questions/48791709/how-to-plot-a-\n",
    "    # heat-map-on-pivot-table-after-grid-search\n",
    "\n",
    "    # Get Mean score for each grid search for train data\n",
    "    train = pd.pivot_table(pd.DataFrame(validation.cv_results_),\n",
    "                              values='mean_train_score', \n",
    "                           index='param_max_depth', \n",
    "                           columns='param_n_estimators')\n",
    "\n",
    "    # Get Mean score for each grid search for cross validation data\n",
    "    test = pd.pivot_table(pd.DataFrame(validation.cv_results_),\n",
    "                            values='mean_test_score', \n",
    "                          index='param_max_depth', \n",
    "                          columns='param_n_estimators')\n",
    "    \n",
    "    # plotting the results\n",
    "    fig, (ax1, ax2) = plt.subplots(1,2, figsize=(17,5))\n",
    "    sns.heatmap(train, annot=True, \n",
    "                cmap=\"Greens\", \n",
    "                fmt='.3g', ax=ax1).set_title('macro f1-score (Training data)')\n",
    "    sns.heatmap(test, annot=True, \n",
    "                cmap=\"Greens\", \n",
    "                fmt='.3g', ax=ax2).set_title('macro f1-score (CV data)')\n"
   ]
  },
  {
   "cell_type": "markdown",
   "id": "54536d38-7b16-4bb2-967b-79afda8d5b50",
   "metadata": {},
   "source": [
    "#### Logistic Regression"
   ]
  },
  {
   "cell_type": "code",
   "execution_count": 181,
   "id": "39be9f1b-cd5b-46a3-876f-43d2d764008d",
   "metadata": {},
   "outputs": [
    {
     "data": {
      "text/html": [
       "<style>#sk-container-id-1 {color: black;background-color: white;}#sk-container-id-1 pre{padding: 0;}#sk-container-id-1 div.sk-toggleable {background-color: white;}#sk-container-id-1 label.sk-toggleable__label {cursor: pointer;display: block;width: 100%;margin-bottom: 0;padding: 0.3em;box-sizing: border-box;text-align: center;}#sk-container-id-1 label.sk-toggleable__label-arrow:before {content: \"▸\";float: left;margin-right: 0.25em;color: #696969;}#sk-container-id-1 label.sk-toggleable__label-arrow:hover:before {color: black;}#sk-container-id-1 div.sk-estimator:hover label.sk-toggleable__label-arrow:before {color: black;}#sk-container-id-1 div.sk-toggleable__content {max-height: 0;max-width: 0;overflow: hidden;text-align: left;background-color: #f0f8ff;}#sk-container-id-1 div.sk-toggleable__content pre {margin: 0.2em;color: black;border-radius: 0.25em;background-color: #f0f8ff;}#sk-container-id-1 input.sk-toggleable__control:checked~div.sk-toggleable__content {max-height: 200px;max-width: 100%;overflow: auto;}#sk-container-id-1 input.sk-toggleable__control:checked~label.sk-toggleable__label-arrow:before {content: \"▾\";}#sk-container-id-1 div.sk-estimator input.sk-toggleable__control:checked~label.sk-toggleable__label {background-color: #d4ebff;}#sk-container-id-1 div.sk-label input.sk-toggleable__control:checked~label.sk-toggleable__label {background-color: #d4ebff;}#sk-container-id-1 input.sk-hidden--visually {border: 0;clip: rect(1px 1px 1px 1px);clip: rect(1px, 1px, 1px, 1px);height: 1px;margin: -1px;overflow: hidden;padding: 0;position: absolute;width: 1px;}#sk-container-id-1 div.sk-estimator {font-family: monospace;background-color: #f0f8ff;border: 1px dotted black;border-radius: 0.25em;box-sizing: border-box;margin-bottom: 0.5em;}#sk-container-id-1 div.sk-estimator:hover {background-color: #d4ebff;}#sk-container-id-1 div.sk-parallel-item::after {content: \"\";width: 100%;border-bottom: 1px solid gray;flex-grow: 1;}#sk-container-id-1 div.sk-label:hover label.sk-toggleable__label {background-color: #d4ebff;}#sk-container-id-1 div.sk-serial::before {content: \"\";position: absolute;border-left: 1px solid gray;box-sizing: border-box;top: 0;bottom: 0;left: 50%;z-index: 0;}#sk-container-id-1 div.sk-serial {display: flex;flex-direction: column;align-items: center;background-color: white;padding-right: 0.2em;padding-left: 0.2em;position: relative;}#sk-container-id-1 div.sk-item {position: relative;z-index: 1;}#sk-container-id-1 div.sk-parallel {display: flex;align-items: stretch;justify-content: center;background-color: white;position: relative;}#sk-container-id-1 div.sk-item::before, #sk-container-id-1 div.sk-parallel-item::before {content: \"\";position: absolute;border-left: 1px solid gray;box-sizing: border-box;top: 0;bottom: 0;left: 50%;z-index: -1;}#sk-container-id-1 div.sk-parallel-item {display: flex;flex-direction: column;z-index: 1;position: relative;background-color: white;}#sk-container-id-1 div.sk-parallel-item:first-child::after {align-self: flex-end;width: 50%;}#sk-container-id-1 div.sk-parallel-item:last-child::after {align-self: flex-start;width: 50%;}#sk-container-id-1 div.sk-parallel-item:only-child::after {width: 0;}#sk-container-id-1 div.sk-dashed-wrapped {border: 1px dashed gray;margin: 0 0.4em 0.5em 0.4em;box-sizing: border-box;padding-bottom: 0.4em;background-color: white;}#sk-container-id-1 div.sk-label label {font-family: monospace;font-weight: bold;display: inline-block;line-height: 1.2em;}#sk-container-id-1 div.sk-label-container {text-align: center;}#sk-container-id-1 div.sk-container {/* jupyter's `normalize.less` sets `[hidden] { display: none; }` but bootstrap.min.css set `[hidden] { display: none !important; }` so we also need the `!important` here to be able to override the default hidden behavior on the sphinx rendered scikit-learn.org. See: https://github.com/scikit-learn/scikit-learn/issues/21755 */display: inline-block !important;position: relative;}#sk-container-id-1 div.sk-text-repr-fallback {display: none;}</style><div id=\"sk-container-id-1\" class=\"sk-top-container\"><div class=\"sk-text-repr-fallback\"><pre>GridSearchCV(cv=TimeSeriesSplit(gap=0, max_train_size=None, n_splits=5, test_size=None),\n",
       "             estimator=LogisticRegression(n_jobs=-1, random_state=21),\n",
       "             n_jobs=-1,\n",
       "             param_grid={&#x27;C&#x27;: [0.0001, 0.001, 0.01, 0.1, 1, 10, 100, 1000]},\n",
       "             return_train_score=True, scoring=&#x27;f1_macro&#x27;)</pre><b>In a Jupyter environment, please rerun this cell to show the HTML representation or trust the notebook. <br />On GitHub, the HTML representation is unable to render, please try loading this page with nbviewer.org.</b></div><div class=\"sk-container\" hidden><div class=\"sk-item sk-dashed-wrapped\"><div class=\"sk-label-container\"><div class=\"sk-label sk-toggleable\"><input class=\"sk-toggleable__control sk-hidden--visually\" id=\"sk-estimator-id-1\" type=\"checkbox\" ><label for=\"sk-estimator-id-1\" class=\"sk-toggleable__label sk-toggleable__label-arrow\">GridSearchCV</label><div class=\"sk-toggleable__content\"><pre>GridSearchCV(cv=TimeSeriesSplit(gap=0, max_train_size=None, n_splits=5, test_size=None),\n",
       "             estimator=LogisticRegression(n_jobs=-1, random_state=21),\n",
       "             n_jobs=-1,\n",
       "             param_grid={&#x27;C&#x27;: [0.0001, 0.001, 0.01, 0.1, 1, 10, 100, 1000]},\n",
       "             return_train_score=True, scoring=&#x27;f1_macro&#x27;)</pre></div></div></div><div class=\"sk-parallel\"><div class=\"sk-parallel-item\"><div class=\"sk-item\"><div class=\"sk-label-container\"><div class=\"sk-label sk-toggleable\"><input class=\"sk-toggleable__control sk-hidden--visually\" id=\"sk-estimator-id-2\" type=\"checkbox\" ><label for=\"sk-estimator-id-2\" class=\"sk-toggleable__label sk-toggleable__label-arrow\">estimator: LogisticRegression</label><div class=\"sk-toggleable__content\"><pre>LogisticRegression(n_jobs=-1, random_state=21)</pre></div></div></div><div class=\"sk-serial\"><div class=\"sk-item\"><div class=\"sk-estimator sk-toggleable\"><input class=\"sk-toggleable__control sk-hidden--visually\" id=\"sk-estimator-id-3\" type=\"checkbox\" ><label for=\"sk-estimator-id-3\" class=\"sk-toggleable__label sk-toggleable__label-arrow\">LogisticRegression</label><div class=\"sk-toggleable__content\"><pre>LogisticRegression(n_jobs=-1, random_state=21)</pre></div></div></div></div></div></div></div></div></div></div>"
      ],
      "text/plain": [
       "GridSearchCV(cv=TimeSeriesSplit(gap=0, max_train_size=None, n_splits=5, test_size=None),\n",
       "             estimator=LogisticRegression(n_jobs=-1, random_state=21),\n",
       "             n_jobs=-1,\n",
       "             param_grid={'C': [0.0001, 0.001, 0.01, 0.1, 1, 10, 100, 1000]},\n",
       "             return_train_score=True, scoring='f1_macro')"
      ]
     },
     "execution_count": 181,
     "metadata": {},
     "output_type": "execute_result"
    }
   ],
   "source": [
    "# Logistic regression model\n",
    "log_reg = LogisticRegression(n_jobs=-1, random_state=21)\n",
    "\n",
    "# parameter to tune\n",
    "# C: Inverse of regularization strength\n",
    "param_grid = {'C': [0.0001, 0.001, 0.01, 0.1, 1, 10, 100, 1000]}\n",
    "\n",
    "# defining model to tune hyperparameter\n",
    "clf = GridSearchCV(estimator=log_reg,\n",
    "                        param_grid=param_grid,\n",
    "                        cv=folds,\n",
    "                        scoring='f1_macro',\n",
    "                        n_jobs=-1,\n",
    "                        return_train_score=True)\n",
    "\n",
    "# fit the model to train data\n",
    "clf.fit(X_train, y_train)"
   ]
  },
  {
   "cell_type": "code",
   "execution_count": 182,
   "id": "8e7b5b94-8400-4587-a9b0-fb776311e9e9",
   "metadata": {},
   "outputs": [
    {
     "data": {
      "image/png": "[encoded data removed]",
      "text/plain": [
       "<Figure size 504x288 with 1 Axes>"
      ]
     },
     "metadata": {
      "needs_background": "light"
     },
     "output_type": "display_data"
    }
   ],
   "source": [
    "# plotting cross validation result\n",
    "get_cv_plot(clf, 'param_C')"
   ]
  },
  {
   "cell_type": "code",
   "execution_count": 183,
   "id": "ca8c915b-601f-4cfd-be49-e3c52a40a95f",
   "metadata": {},
   "outputs": [
    {
     "name": "stdout",
     "output_type": "stream",
     "text": [
      "Logging parameters\n",
      "Logging metrics\n",
      "Logging model\n",
      "Logging extra data related to the experiment\n",
      "/home/cdsw/.experiments/e1hs-8gj5-s3rm-cxuw/43mk-h32d-5td3-0gns/artifacts\n",
      "runID: ajl3-k7ap-y6rf-yj8l\n",
      "Logging parameters\n",
      "Logging metrics\n",
      "Logging model\n",
      "Logging extra data related to the experiment\n",
      "/home/cdsw/.experiments/e1hs-8gj5-s3rm-cxuw/c2rr-w6te-l9o3-74gb/artifacts\n",
      "runID: 1z8o-4jze-dgxb-spwj\n",
      "Logging parameters\n",
      "Logging metrics\n",
      "Logging model\n",
      "Logging extra data related to the experiment\n",
      "/home/cdsw/.experiments/e1hs-8gj5-s3rm-cxuw/iptv-nti0-h2t7-cve1/artifacts\n",
      "runID: 2wk3-5vw6-sm7l-vv2g\n",
      "Logging parameters\n",
      "Logging metrics\n",
      "Logging model\n",
      "Logging extra data related to the experiment\n",
      "/home/cdsw/.experiments/e1hs-8gj5-s3rm-cxuw/mcjt-y6gt-ngq0-vao1/artifacts\n",
      "runID: i7l5-h7vf-0mgf-m6h2\n",
      "Logging parameters\n",
      "Logging metrics\n",
      "Logging model\n",
      "Logging extra data related to the experiment\n",
      "/home/cdsw/.experiments/e1hs-8gj5-s3rm-cxuw/64qt-l9ft-l57a-o1u1/artifacts\n",
      "runID: 9rfo-skta-znd3-oe77\n",
      "Logging parameters\n",
      "Logging metrics\n",
      "Logging model\n",
      "Logging extra data related to the experiment\n",
      "/home/cdsw/.experiments/e1hs-8gj5-s3rm-cxuw/ekqz-p7yp-3dg2-lybx/artifacts\n",
      "runID: f58q-n9aq-fjrt-9h7r\n",
      "Logging parameters\n",
      "Logging metrics\n",
      "Logging model\n",
      "Logging extra data related to the experiment\n",
      "/home/cdsw/.experiments/e1hs-8gj5-s3rm-cxuw/h2oc-rrqk-76en-98gn/artifacts\n",
      "runID: olv4-wcfk-fr6l-gf46\n",
      "Logging parameters\n",
      "Logging metrics\n",
      "Logging model\n",
      "Logging extra data related to the experiment\n",
      "/home/cdsw/.experiments/e1hs-8gj5-s3rm-cxuw/4qxk-r9x0-1ma0-qh92/artifacts\n",
      "runID: 6k47-lehi-lh77-38xe\n"
     ]
    }
   ],
   "source": [
    "#Logs gridsearchcv to MlFlow\n",
    "log_results(clf, 'lr_gridcv', \"lr_1\", {\"versione\":\"1\" }, False)"
   ]
  },
  {
   "cell_type": "code",
   "execution_count": 184,
   "id": "9d3c35a3-ec9d-45c0-b50d-319f055d6984",
   "metadata": {},
   "outputs": [
    {
     "data": {
      "text/plain": [
       "5"
      ]
     },
     "execution_count": 184,
     "metadata": {},
     "output_type": "execute_result"
    }
   ],
   "source": [
    "clf.cv.n_splits"
   ]
  },
  {
   "cell_type": "code",
   "execution_count": 185,
   "id": "88af1831-e51e-4150-99c0-97c06aaacf60",
   "metadata": {},
   "outputs": [],
   "source": [
    "# C: Inverse of regularization strength\n",
    "param_C = 1000"
   ]
  },
  {
   "cell_type": "code",
   "execution_count": 186,
   "id": "75f83374-5f45-4c04-ad2e-394b1779dbda",
   "metadata": {},
   "outputs": [
    {
     "name": "stdout",
     "output_type": "stream",
     "text": [
      "Macro F1-Score:0.9935 \n",
      "\n",
      "Confusion Matrix\n"
     ]
    },
    {
     "data": {
      "image/png": "[encoded data removed]",
      "text/plain": [
       "<Figure size 432x288 with 2 Axes>"
      ]
     },
     "metadata": {
      "needs_background": "light"
     },
     "output_type": "display_data"
    }
   ],
   "source": [
    "# traing with best C value\n",
    "log_reg = LogisticRegression(C=param_C, n_jobs=-1, random_state=21)\n",
    "log_reg.fit(X_train, y_train)\n",
    "get_result(log_reg, X_test, y_test)"
   ]
  },
  {
   "cell_type": "markdown",
   "id": "b88fd1aa-144a-4d90-96cc-f5d4330b68fc",
   "metadata": {},
   "source": [
    "Observations:\n",
    "- Macro F1-Score of 0.9837 is obtained\n",
    "- Model correctly classified 83496 Normal class data points and 5469 Broken class data points\n",
    "- Model misclassified 275 Normal class data points as Broken and 70 Broken class data points as Normal\n",
    "- Total misclassification count is 345\n"
   ]
  },
  {
   "cell_type": "markdown",
   "id": "1db86c3d-e2ca-421f-b37c-bd43fbf22c1c",
   "metadata": {},
   "source": [
    "#### SVM"
   ]
  },
  {
   "cell_type": "code",
   "execution_count": 187,
   "id": "57c3adb2-6637-4c6a-8c87-280ffa73a585",
   "metadata": {},
   "outputs": [
    {
     "data": {
      "text/html": [
       "<style>#sk-container-id-2 {color: black;background-color: white;}#sk-container-id-2 pre{padding: 0;}#sk-container-id-2 div.sk-toggleable {background-color: white;}#sk-container-id-2 label.sk-toggleable__label {cursor: pointer;display: block;width: 100%;margin-bottom: 0;padding: 0.3em;box-sizing: border-box;text-align: center;}#sk-container-id-2 label.sk-toggleable__label-arrow:before {content: \"▸\";float: left;margin-right: 0.25em;color: #696969;}#sk-container-id-2 label.sk-toggleable__label-arrow:hover:before {color: black;}#sk-container-id-2 div.sk-estimator:hover label.sk-toggleable__label-arrow:before {color: black;}#sk-container-id-2 div.sk-toggleable__content {max-height: 0;max-width: 0;overflow: hidden;text-align: left;background-color: #f0f8ff;}#sk-container-id-2 div.sk-toggleable__content pre {margin: 0.2em;color: black;border-radius: 0.25em;background-color: #f0f8ff;}#sk-container-id-2 input.sk-toggleable__control:checked~div.sk-toggleable__content {max-height: 200px;max-width: 100%;overflow: auto;}#sk-container-id-2 input.sk-toggleable__control:checked~label.sk-toggleable__label-arrow:before {content: \"▾\";}#sk-container-id-2 div.sk-estimator input.sk-toggleable__control:checked~label.sk-toggleable__label {background-color: #d4ebff;}#sk-container-id-2 div.sk-label input.sk-toggleable__control:checked~label.sk-toggleable__label {background-color: #d4ebff;}#sk-container-id-2 input.sk-hidden--visually {border: 0;clip: rect(1px 1px 1px 1px);clip: rect(1px, 1px, 1px, 1px);height: 1px;margin: -1px;overflow: hidden;padding: 0;position: absolute;width: 1px;}#sk-container-id-2 div.sk-estimator {font-family: monospace;background-color: #f0f8ff;border: 1px dotted black;border-radius: 0.25em;box-sizing: border-box;margin-bottom: 0.5em;}#sk-container-id-2 div.sk-estimator:hover {background-color: #d4ebff;}#sk-container-id-2 div.sk-parallel-item::after {content: \"\";width: 100%;border-bottom: 1px solid gray;flex-grow: 1;}#sk-container-id-2 div.sk-label:hover label.sk-toggleable__label {background-color: #d4ebff;}#sk-container-id-2 div.sk-serial::before {content: \"\";position: absolute;border-left: 1px solid gray;box-sizing: border-box;top: 0;bottom: 0;left: 50%;z-index: 0;}#sk-container-id-2 div.sk-serial {display: flex;flex-direction: column;align-items: center;background-color: white;padding-right: 0.2em;padding-left: 0.2em;position: relative;}#sk-container-id-2 div.sk-item {position: relative;z-index: 1;}#sk-container-id-2 div.sk-parallel {display: flex;align-items: stretch;justify-content: center;background-color: white;position: relative;}#sk-container-id-2 div.sk-item::before, #sk-container-id-2 div.sk-parallel-item::before {content: \"\";position: absolute;border-left: 1px solid gray;box-sizing: border-box;top: 0;bottom: 0;left: 50%;z-index: -1;}#sk-container-id-2 div.sk-parallel-item {display: flex;flex-direction: column;z-index: 1;position: relative;background-color: white;}#sk-container-id-2 div.sk-parallel-item:first-child::after {align-self: flex-end;width: 50%;}#sk-container-id-2 div.sk-parallel-item:last-child::after {align-self: flex-start;width: 50%;}#sk-container-id-2 div.sk-parallel-item:only-child::after {width: 0;}#sk-container-id-2 div.sk-dashed-wrapped {border: 1px dashed gray;margin: 0 0.4em 0.5em 0.4em;box-sizing: border-box;padding-bottom: 0.4em;background-color: white;}#sk-container-id-2 div.sk-label label {font-family: monospace;font-weight: bold;display: inline-block;line-height: 1.2em;}#sk-container-id-2 div.sk-label-container {text-align: center;}#sk-container-id-2 div.sk-container {/* jupyter's `normalize.less` sets `[hidden] { display: none; }` but bootstrap.min.css set `[hidden] { display: none !important; }` so we also need the `!important` here to be able to override the default hidden behavior on the sphinx rendered scikit-learn.org. See: https://github.com/scikit-learn/scikit-learn/issues/21755 */display: inline-block !important;position: relative;}#sk-container-id-2 div.sk-text-repr-fallback {display: none;}</style><div id=\"sk-container-id-2\" class=\"sk-top-container\"><div class=\"sk-text-repr-fallback\"><pre>GridSearchCV(cv=TimeSeriesSplit(gap=0, max_train_size=None, n_splits=5, test_size=None),\n",
       "             estimator=SGDClassifier(n_jobs=-1, random_state=21), n_jobs=-1,\n",
       "             param_grid={&#x27;alpha&#x27;: [0.0001, 0.001, 0.01, 0.1, 1, 10, 100, 1000]},\n",
       "             return_train_score=True, scoring=&#x27;f1_macro&#x27;)</pre><b>In a Jupyter environment, please rerun this cell to show the HTML representation or trust the notebook. <br />On GitHub, the HTML representation is unable to render, please try loading this page with nbviewer.org.</b></div><div class=\"sk-container\" hidden><div class=\"sk-item sk-dashed-wrapped\"><div class=\"sk-label-container\"><div class=\"sk-label sk-toggleable\"><input class=\"sk-toggleable__control sk-hidden--visually\" id=\"sk-estimator-id-4\" type=\"checkbox\" ><label for=\"sk-estimator-id-4\" class=\"sk-toggleable__label sk-toggleable__label-arrow\">GridSearchCV</label><div class=\"sk-toggleable__content\"><pre>GridSearchCV(cv=TimeSeriesSplit(gap=0, max_train_size=None, n_splits=5, test_size=None),\n",
       "             estimator=SGDClassifier(n_jobs=-1, random_state=21), n_jobs=-1,\n",
       "             param_grid={&#x27;alpha&#x27;: [0.0001, 0.001, 0.01, 0.1, 1, 10, 100, 1000]},\n",
       "             return_train_score=True, scoring=&#x27;f1_macro&#x27;)</pre></div></div></div><div class=\"sk-parallel\"><div class=\"sk-parallel-item\"><div class=\"sk-item\"><div class=\"sk-label-container\"><div class=\"sk-label sk-toggleable\"><input class=\"sk-toggleable__control sk-hidden--visually\" id=\"sk-estimator-id-5\" type=\"checkbox\" ><label for=\"sk-estimator-id-5\" class=\"sk-toggleable__label sk-toggleable__label-arrow\">estimator: SGDClassifier</label><div class=\"sk-toggleable__content\"><pre>SGDClassifier(n_jobs=-1, random_state=21)</pre></div></div></div><div class=\"sk-serial\"><div class=\"sk-item\"><div class=\"sk-estimator sk-toggleable\"><input class=\"sk-toggleable__control sk-hidden--visually\" id=\"sk-estimator-id-6\" type=\"checkbox\" ><label for=\"sk-estimator-id-6\" class=\"sk-toggleable__label sk-toggleable__label-arrow\">SGDClassifier</label><div class=\"sk-toggleable__content\"><pre>SGDClassifier(n_jobs=-1, random_state=21)</pre></div></div></div></div></div></div></div></div></div></div>"
      ],
      "text/plain": [
       "GridSearchCV(cv=TimeSeriesSplit(gap=0, max_train_size=None, n_splits=5, test_size=None),\n",
       "             estimator=SGDClassifier(n_jobs=-1, random_state=21), n_jobs=-1,\n",
       "             param_grid={'alpha': [0.0001, 0.001, 0.01, 0.1, 1, 10, 100, 1000]},\n",
       "             return_train_score=True, scoring='f1_macro')"
      ]
     },
     "execution_count": 187,
     "metadata": {},
     "output_type": "execute_result"
    }
   ],
   "source": [
    "# svm model\n",
    "svm_clf = SGDClassifier(loss='hinge', penalty='l2', n_jobs=-1, random_state=21)\n",
    "\n",
    "# parameter to tune\n",
    "# alpha: regularization strength\n",
    "param_grid = {'alpha': [0.0001, 0.001, 0.01, 0.1, 1, 10, 100, 1000]}\n",
    "\n",
    "# defining model to tune hyperparameter\n",
    "svm_cv = GridSearchCV(estimator=svm_clf,\n",
    "                        param_grid=param_grid,\n",
    "                        cv=folds,\n",
    "                        scoring='f1_macro',\n",
    "                        n_jobs=-1,\n",
    "                        return_train_score=True)\n",
    "\n",
    "# fit the model to train data\n",
    "svm_cv.fit(X_train, y_train)"
   ]
  },
  {
   "cell_type": "code",
   "execution_count": 188,
   "id": "5f885149-5312-4fe9-acd8-a4dfdea02cf3",
   "metadata": {},
   "outputs": [
    {
     "name": "stdout",
     "output_type": "stream",
     "text": [
      "Logging parameters\n",
      "Logging metrics\n",
      "Logging model\n",
      "Logging extra data related to the experiment\n",
      "/home/cdsw/.experiments/je8q-9e37-ldfs-rday/nr7d-mc1p-5csp-9g51/artifacts\n",
      "runID: u1p2-c5j9-ha2x-173d\n"
     ]
    }
   ],
   "source": [
    "# Logs gridsearchcv to MlFlow\n",
    "log_results(svm_cv, 'svm_gridcv', \"svm_1\", {}, True)"
   ]
  },
  {
   "cell_type": "code",
   "execution_count": 189,
   "id": "048ab4c5-68e8-4c23-82bc-d4eac7ad0d5c",
   "metadata": {},
   "outputs": [
    {
     "data": {
      "image/png": "[encoded data removed]",
      "text/plain": [
       "<Figure size 504x288 with 1 Axes>"
      ]
     },
     "metadata": {
      "needs_background": "light"
     },
     "output_type": "display_data"
    }
   ],
   "source": [
    "# plotting cross validation result\n",
    "get_cv_plot(svm_cv, 'param_alpha')"
   ]
  },
  {
   "cell_type": "markdown",
   "id": "d30b95f5-e903-4815-b46f-236c28220fbc",
   "metadata": {},
   "source": [
    "best_params_Observations:\n",
    "- for alpha = 0.01 both train and cross validation metric (macro f1_score) is high\n",
    "- best parameter alpha = 0.01"
   ]
  },
  {
   "cell_type": "code",
   "execution_count": null,
   "id": "cb4c4cc8-750e-453f-ab50-3db2f00bbee7",
   "metadata": {},
   "outputs": [],
   "source": [
    "svm_cv.best_params_"
   ]
  },
  {
   "cell_type": "code",
   "execution_count": 60,
   "id": "6deea84d-1483-4c64-bcd4-668eb13571f8",
   "metadata": {},
   "outputs": [],
   "source": [
    "# alpha: regularization strength\n",
    "param_alpha = 0.01"
   ]
  },
  {
   "cell_type": "markdown",
   "id": "cea2000f-aeba-4a26-9961-9d74ef8fa7c7",
   "metadata": {},
   "source": [
    "Training"
   ]
  },
  {
   "cell_type": "code",
   "execution_count": 61,
   "id": "99114119-02d1-432f-84ca-6c5589a40af8",
   "metadata": {},
   "outputs": [
    {
     "name": "stdout",
     "output_type": "stream",
     "text": [
      "Macro F1-Score:0.9526 \n",
      "\n",
      "Confusion Matrix\n"
     ]
    },
    {
     "data": {
      "image/png": "[encoded data removed]",
      "text/plain": [
       "<Figure size 432x288 with 2 Axes>"
      ]
     },
     "metadata": {
      "needs_background": "light"
     },
     "output_type": "display_data"
    }
   ],
   "source": [
    "# traing with best alpha value\n",
    "svm_clf = SGDClassifier(loss='hinge', alpha=param_alpha, penalty='l2', \n",
    "                        n_jobs=-1, random_state=21)\n",
    "svm_clf.fit(X_train, y_train)\n",
    "\n",
    "get_result(svm_clf, X_test, y_test)"
   ]
  },
  {
   "cell_type": "markdown",
   "id": "a078eccd-a723-4356-a769-7da61ae8cffd",
   "metadata": {},
   "source": [
    "Observations:\n",
    "- Macro F1-Score of 0.964 is obtained\n",
    "- Model correctly classified 83016 Normal class data points and 5501 Broken class data points\n",
    "- Model misclassified 755 Normal class data points as Broken and 38 Broken class data points as Normal\n",
    "- Total misclassification count is 793"
   ]
  },
  {
   "cell_type": "markdown",
   "id": "fe5ea7fb-2a32-4dd3-9d67-a48a00a2459e",
   "metadata": {},
   "source": [
    "#### Random Forest:"
   ]
  },
  {
   "cell_type": "code",
   "execution_count": 62,
   "id": "a94192d4-e773-4049-a587-78fed4415d78",
   "metadata": {},
   "outputs": [
    {
     "data": {
      "image/png": "[encoded data removed]",
      "text/plain": [
       "<Figure size 1224x360 with 4 Axes>"
      ]
     },
     "metadata": {
      "needs_background": "light"
     },
     "output_type": "display_data"
    }
   ],
   "source": [
    "# random forest model\n",
    "r_forest_clf = RandomForestClassifier(criterion='gini', \n",
    "                                      random_state=21, \n",
    "                                      n_jobs=-1)\n",
    "\n",
    "# parameter to tune\n",
    "# n_estimators: number of estimators\n",
    "# max_depth: maximum depth of the tree\n",
    "param_grid = {'n_estimators': [10, 25, 50, 100, 150, 200],\n",
    "                'max_depth': [1, 3, 5, 10, 20, 30, 50]}\n",
    "\n",
    "# defining model to tune hyperparameter\n",
    "r_forest_cv = GridSearchCV(estimator=r_forest_clf,\n",
    "                        param_grid=param_grid,\n",
    "                        cv=folds,\n",
    "                        scoring='f1_macro',\n",
    "                        n_jobs=-1,\n",
    "                        return_train_score=True)\n",
    "\n",
    "r_forest_cv.fit(X_train, y_train)\n",
    "\n",
    "# plotting cross validation result\n",
    "get_cv_heatmap(r_forest_cv)"
   ]
  },
  {
   "cell_type": "code",
   "execution_count": 63,
   "id": "bc999f7b-498e-4736-b299-9f59230dc309",
   "metadata": {},
   "outputs": [
    {
     "data": {
      "text/plain": [
       "{'max_depth': 20, 'n_estimators': 200}"
      ]
     },
     "execution_count": 63,
     "metadata": {},
     "output_type": "execute_result"
    }
   ],
   "source": [
    "r_forest_cv.best_params_"
   ]
  },
  {
   "cell_type": "code",
   "execution_count": 64,
   "id": "5a4b1c5c-7ef9-4086-8103-b9a186408faa",
   "metadata": {},
   "outputs": [
    {
     "name": "stdout",
     "output_type": "stream",
     "text": [
      "Logging parameters\n",
      "Logging metrics\n",
      "Logging model\n",
      "Logging extra data related to the experiment\n",
      "/home/cdsw/.experiments/1lmy-5im1-ztjf-jzeg/sv8f-8kx0-rnxt-s1l6/artifacts\n",
      "runID: 18bi-whuk-t2zj-msjv\n",
      "Logging parameters\n",
      "Logging metrics\n",
      "Logging model\n",
      "Logging extra data related to the experiment\n",
      "/home/cdsw/.experiments/1lmy-5im1-ztjf-jzeg/7wqu-w5p7-dl6z-8go7/artifacts\n",
      "runID: a0oo-p8ue-556z-za50\n",
      "Logging parameters\n",
      "Logging metrics\n",
      "Logging model\n",
      "Logging extra data related to the experiment\n",
      "/home/cdsw/.experiments/1lmy-5im1-ztjf-jzeg/86it-dh1k-6u4l-fyje/artifacts\n",
      "runID: 1w0u-lxp3-dcm1-5gil\n",
      "Logging parameters\n",
      "Logging metrics\n",
      "Logging model\n",
      "Logging extra data related to the experiment\n",
      "/home/cdsw/.experiments/1lmy-5im1-ztjf-jzeg/bos0-r81n-pmr6-6p1j/artifacts\n",
      "runID: v7os-8fnd-2yb4-hma1\n",
      "Logging parameters\n",
      "Logging metrics\n",
      "Logging model\n",
      "Logging extra data related to the experiment\n",
      "/home/cdsw/.experiments/1lmy-5im1-ztjf-jzeg/1leh-uw20-slnb-hhnh/artifacts\n",
      "runID: 1qn2-9jes-p85g-m7lu\n",
      "Logging parameters\n",
      "Logging metrics\n",
      "Logging model\n",
      "Logging extra data related to the experiment\n",
      "/home/cdsw/.experiments/1lmy-5im1-ztjf-jzeg/hurp-t9x0-5ze5-dmkn/artifacts\n",
      "runID: 1cuz-vs4b-j9hh-ois9\n",
      "Logging parameters\n",
      "Logging metrics\n",
      "Logging model\n",
      "Logging extra data related to the experiment\n",
      "/home/cdsw/.experiments/1lmy-5im1-ztjf-jzeg/oep6-3xb0-tu46-zi92/artifacts\n",
      "runID: wsq8-awsv-eln1-kfk4\n",
      "Logging parameters\n",
      "Logging metrics\n",
      "Logging model\n",
      "Logging extra data related to the experiment\n",
      "/home/cdsw/.experiments/1lmy-5im1-ztjf-jzeg/eq0j-jbh1-d4ub-m4cx/artifacts\n",
      "runID: 2pkd-3rj2-elye-lvbz\n",
      "Logging parameters\n",
      "Logging metrics\n",
      "Logging model\n",
      "Logging extra data related to the experiment\n",
      "/home/cdsw/.experiments/1lmy-5im1-ztjf-jzeg/udjs-yfff-rpen-6s18/artifacts\n",
      "runID: 6psa-7wwz-mes9-3iw8\n",
      "Logging parameters\n",
      "Logging metrics\n",
      "Logging model\n",
      "Logging extra data related to the experiment\n",
      "/home/cdsw/.experiments/1lmy-5im1-ztjf-jzeg/7k9e-eioh-fubx-yvsg/artifacts\n",
      "runID: owby-3qvh-liai-vrk0\n",
      "Logging parameters\n",
      "Logging metrics\n",
      "Logging model\n",
      "Logging extra data related to the experiment\n",
      "/home/cdsw/.experiments/1lmy-5im1-ztjf-jzeg/rgyx-7xwo-4rwj-lvzh/artifacts\n",
      "runID: 0amz-2mfh-1i0b-giir\n",
      "Logging parameters\n",
      "Logging metrics\n",
      "Logging model\n",
      "Logging extra data related to the experiment\n",
      "/home/cdsw/.experiments/1lmy-5im1-ztjf-jzeg/f1aj-330d-8yqm-7kwi/artifacts\n",
      "runID: ua33-fik5-jqtj-9bhp\n",
      "Logging parameters\n",
      "Logging metrics\n",
      "Logging model\n",
      "Logging extra data related to the experiment\n",
      "/home/cdsw/.experiments/1lmy-5im1-ztjf-jzeg/0eo7-svxs-55x0-ynz1/artifacts\n",
      "runID: exxf-za6m-osz0-fzrs\n",
      "Logging parameters\n",
      "Logging metrics\n",
      "Logging model\n",
      "Logging extra data related to the experiment\n",
      "/home/cdsw/.experiments/1lmy-5im1-ztjf-jzeg/0q4t-brzf-pfwv-mqhx/artifacts\n",
      "runID: x517-joeh-cr83-9i4j\n",
      "Logging parameters\n",
      "Logging metrics\n",
      "Logging model\n",
      "Logging extra data related to the experiment\n",
      "/home/cdsw/.experiments/1lmy-5im1-ztjf-jzeg/mz33-qywb-qldf-pcou/artifacts\n",
      "runID: 8gdg-iwed-yj4l-d2j1\n",
      "Logging parameters\n",
      "Logging metrics\n",
      "Logging model\n",
      "Logging extra data related to the experiment\n",
      "/home/cdsw/.experiments/1lmy-5im1-ztjf-jzeg/qzd0-9li9-4pjh-ikxt/artifacts\n",
      "runID: q92z-x3g7-lq79-8tdt\n",
      "Logging parameters\n",
      "Logging metrics\n",
      "Logging model\n",
      "Logging extra data related to the experiment\n",
      "/home/cdsw/.experiments/1lmy-5im1-ztjf-jzeg/owod-cr4d-plmi-e6pj/artifacts\n",
      "runID: wp8a-ivgp-99hw-depf\n",
      "Logging parameters\n",
      "Logging metrics\n",
      "Logging model\n",
      "Logging extra data related to the experiment\n",
      "/home/cdsw/.experiments/1lmy-5im1-ztjf-jzeg/rvia-p00b-qj6i-x7jh/artifacts\n",
      "runID: rgjg-goul-luu3-2fh1\n",
      "Logging parameters\n",
      "Logging metrics\n",
      "Logging model\n",
      "Logging extra data related to the experiment\n",
      "/home/cdsw/.experiments/1lmy-5im1-ztjf-jzeg/78at-d51l-42yp-ters/artifacts\n",
      "runID: t36b-1x8z-v0sd-y9s0\n",
      "Logging parameters\n",
      "Logging metrics\n",
      "Logging model\n",
      "Logging extra data related to the experiment\n",
      "/home/cdsw/.experiments/1lmy-5im1-ztjf-jzeg/q96n-f96m-r4p4-8zpw/artifacts\n",
      "runID: cqn5-63dn-rtkt-3rgw\n",
      "Logging parameters\n",
      "Logging metrics\n",
      "Logging model\n",
      "Logging extra data related to the experiment\n",
      "/home/cdsw/.experiments/1lmy-5im1-ztjf-jzeg/69ui-8itk-0s3w-yzeu/artifacts\n",
      "runID: swj1-14qo-w5j5-y4k7\n",
      "Logging parameters\n",
      "Logging metrics\n",
      "Logging model\n",
      "Logging extra data related to the experiment\n",
      "/home/cdsw/.experiments/1lmy-5im1-ztjf-jzeg/5t10-14i5-9dje-a0w9/artifacts\n",
      "runID: qlwc-3ykk-z5o4-lupx\n",
      "Logging parameters\n",
      "Logging metrics\n",
      "Logging model\n",
      "Logging extra data related to the experiment\n",
      "/home/cdsw/.experiments/1lmy-5im1-ztjf-jzeg/apda-9kew-zup9-mx1p/artifacts\n",
      "runID: 1fna-8hfv-1wme-4asv\n",
      "Logging parameters\n",
      "Logging metrics\n",
      "Logging model\n",
      "Logging extra data related to the experiment\n",
      "/home/cdsw/.experiments/1lmy-5im1-ztjf-jzeg/8s9m-ilaj-qc7c-grpi/artifacts\n",
      "runID: rn7p-se2u-c60j-885p\n",
      "Logging parameters\n",
      "Logging metrics\n",
      "Logging model\n",
      "Logging extra data related to the experiment\n",
      "/home/cdsw/.experiments/1lmy-5im1-ztjf-jzeg/chh2-3f7w-wl2l-lyys/artifacts\n",
      "runID: t2j6-3630-2082-z0xw\n",
      "Logging parameters\n",
      "Logging metrics\n",
      "Logging model\n",
      "Logging extra data related to the experiment\n",
      "/home/cdsw/.experiments/1lmy-5im1-ztjf-jzeg/2rvi-pynp-frk4-15ic/artifacts\n",
      "runID: 83w0-2x9k-kwv0-0rqk\n",
      "Logging parameters\n",
      "Logging metrics\n",
      "Logging model\n",
      "Logging extra data related to the experiment\n",
      "/home/cdsw/.experiments/1lmy-5im1-ztjf-jzeg/6ld3-ixdf-2w0l-hqjn/artifacts\n",
      "runID: toh7-3pgn-sckl-ct43\n",
      "Logging parameters\n",
      "Logging metrics\n",
      "Logging model\n",
      "Logging extra data related to the experiment\n",
      "/home/cdsw/.experiments/1lmy-5im1-ztjf-jzeg/7n6z-ptx6-h1w0-i7z9/artifacts\n",
      "runID: i1kv-mcc4-1cph-rc2p\n",
      "Logging parameters\n",
      "Logging metrics\n",
      "Logging model\n",
      "Logging extra data related to the experiment\n",
      "/home/cdsw/.experiments/1lmy-5im1-ztjf-jzeg/a0pc-a19t-ofyi-f0so/artifacts\n",
      "runID: ypbp-mitp-bx8u-3ltx\n",
      "Logging parameters\n",
      "Logging metrics\n",
      "Logging model\n",
      "Logging extra data related to the experiment\n",
      "/home/cdsw/.experiments/1lmy-5im1-ztjf-jzeg/7oky-xp0j-j4w1-izbn/artifacts\n",
      "runID: 94n6-vwla-8gzu-gxp0\n",
      "Logging parameters\n",
      "Logging metrics\n",
      "Logging model\n",
      "Logging extra data related to the experiment\n",
      "/home/cdsw/.experiments/1lmy-5im1-ztjf-jzeg/ynxd-c1vc-gmff-m4zm/artifacts\n",
      "runID: 6tsi-660n-o5u8-lto1\n",
      "Logging parameters\n",
      "Logging metrics\n",
      "Logging model\n",
      "Logging extra data related to the experiment\n",
      "/home/cdsw/.experiments/1lmy-5im1-ztjf-jzeg/5ene-srtc-pwgb-jw63/artifacts\n",
      "runID: pxoi-vcuc-cdq5-4ppa\n",
      "Logging parameters\n",
      "Logging metrics\n",
      "Logging model\n",
      "Logging extra data related to the experiment\n",
      "/home/cdsw/.experiments/1lmy-5im1-ztjf-jzeg/cnt6-bjuz-l8kl-cybh/artifacts\n",
      "runID: m4yy-cpex-gna6-9dmc\n",
      "Logging parameters\n",
      "Logging metrics\n",
      "Logging model\n",
      "Logging extra data related to the experiment\n",
      "/home/cdsw/.experiments/1lmy-5im1-ztjf-jzeg/fpna-16yu-pdx9-is8h/artifacts\n",
      "runID: iq7i-ocyo-wlbp-pric\n",
      "Logging parameters\n",
      "Logging metrics\n",
      "Logging model\n",
      "Logging extra data related to the experiment\n",
      "/home/cdsw/.experiments/1lmy-5im1-ztjf-jzeg/23cy-1kag-3c0u-m3c4/artifacts\n",
      "runID: 15r0-lovy-isgr-z4bg\n",
      "Logging parameters\n",
      "Logging metrics\n",
      "Logging model\n",
      "Logging extra data related to the experiment\n",
      "/home/cdsw/.experiments/1lmy-5im1-ztjf-jzeg/odag-ffsg-i6lo-ew6a/artifacts\n",
      "runID: 5mui-cijk-wira-mpsx\n",
      "Logging parameters\n",
      "Logging metrics\n",
      "Logging model\n",
      "Logging extra data related to the experiment\n",
      "/home/cdsw/.experiments/1lmy-5im1-ztjf-jzeg/jh4g-bcin-k0ub-nziw/artifacts\n",
      "runID: ubqs-4sdg-stpm-m5xy\n",
      "Logging parameters\n",
      "Logging metrics\n",
      "Logging model\n",
      "Logging extra data related to the experiment\n",
      "/home/cdsw/.experiments/1lmy-5im1-ztjf-jzeg/l9uj-ylga-w3am-mm43/artifacts\n",
      "runID: qjcn-v24u-4bbj-qn4j\n",
      "Logging parameters\n",
      "Logging metrics\n",
      "Logging model\n",
      "Logging extra data related to the experiment\n",
      "/home/cdsw/.experiments/1lmy-5im1-ztjf-jzeg/cl0u-weau-4uuf-tpt3/artifacts\n",
      "runID: 146b-yp9h-mdqk-yy2k\n",
      "Logging parameters\n",
      "Logging metrics\n",
      "Logging model\n",
      "Logging extra data related to the experiment\n",
      "/home/cdsw/.experiments/1lmy-5im1-ztjf-jzeg/888d-00fn-i7jn-4hya/artifacts\n",
      "runID: 355e-p3mr-ihmw-kse6\n",
      "Logging parameters\n",
      "Logging metrics\n",
      "Logging model\n",
      "Logging extra data related to the experiment\n",
      "/home/cdsw/.experiments/1lmy-5im1-ztjf-jzeg/blj2-3cx3-ux05-xzt7/artifacts\n",
      "runID: 4d6n-adrq-3m4c-zp17\n",
      "Logging parameters\n",
      "Logging metrics\n",
      "Logging model\n",
      "Logging extra data related to the experiment\n",
      "/home/cdsw/.experiments/1lmy-5im1-ztjf-jzeg/1a2g-ggv4-si87-19cl/artifacts\n",
      "runID: b6e5-91v5-e27p-s2dn\n"
     ]
    }
   ],
   "source": [
    "#Logs gridsearchcv to MlFlow\n",
    "log_results(r_forest_cv, 'rf_gridcv', \"rf_1\", {\"versione\":\"1\" }, False)"
   ]
  },
  {
   "cell_type": "markdown",
   "id": "ea0e34f2-b935-424f-b440-750789c9122d",
   "metadata": {},
   "source": [
    "Observations:\n",
    "- From the heatmap optimum values are considered\n",
    "- Optimum max_depth = 5\n",
    "- Optimum n_estimators = 25\n"
   ]
  },
  {
   "cell_type": "code",
   "execution_count": 65,
   "id": "de2fc23f-e589-413a-b567-0e864f1c3612",
   "metadata": {},
   "outputs": [],
   "source": [
    "# max_depth: maximum depth of the tree\n",
    "max_depth = 20\n",
    "# n_estimators: number of estimators\n",
    "n_estimator = 200"
   ]
  },
  {
   "cell_type": "markdown",
   "id": "d36361a1-a9b4-4d2b-b628-4d81ca80439b",
   "metadata": {},
   "source": [
    "Training"
   ]
  },
  {
   "cell_type": "code",
   "execution_count": 66,
   "id": "58f76bf9-2623-42b6-bf51-ef39f21e4734",
   "metadata": {},
   "outputs": [
    {
     "name": "stdout",
     "output_type": "stream",
     "text": [
      "Macro F1-Score:0.9988 \n",
      "\n",
      "Confusion Matrix\n"
     ]
    },
    {
     "data": {
      "image/png": "[encoded data removed]",
      "text/plain": [
       "<Figure size 432x288 with 2 Axes>"
      ]
     },
     "metadata": {
      "needs_background": "light"
     },
     "output_type": "display_data"
    }
   ],
   "source": [
    "# traing with optimum tree depth and number of estimators\n",
    "r_forest_clf = RandomForestClassifier(n_estimators = n_estimator,\n",
    "                                      criterion='gini', \n",
    "                                      max_depth = max_depth,\n",
    "                                      random_state=21,\n",
    "                                      n_jobs=-1)\n",
    "\n",
    "r_forest_clf.fit(X_train, y_train)\n",
    "\n",
    "get_result(r_forest_clf, X_test, y_test)"
   ]
  },
  {
   "cell_type": "markdown",
   "id": "085e0b5e-d9ef-4329-846a-cc2a30fa36d9",
   "metadata": {},
   "source": [
    "Observations:\n",
    "- Macro F1-Score of 0.9968 is obtained\n",
    "- Model correctly classified 83762 Normal class data points and 5481 Broken class data points\n",
    "- Model misclassified 9 Normal class data points as Broken and 58 Broken class data points as Normal\n",
    "- Total misclassification count is 67"
   ]
  },
  {
   "cell_type": "markdown",
   "id": "d701d182-a2fe-4df7-a3b6-e3ef59cdf4de",
   "metadata": {},
   "source": [
    "https://medium.com/dataman-in-ai/explain-your-model-with-the-shap-values-bc36aac4de3d"
   ]
  },
  {
   "cell_type": "code",
   "execution_count": 67,
   "id": "cf85b492-1fcb-4d6a-af17-7afbdfe46313",
   "metadata": {},
   "outputs": [
    {
     "name": "stderr",
     "output_type": "stream",
     "text": [
      "/home/cdsw/.local/lib/python3.8/site-packages/sklearn/utils/validation.py:1111: DataConversionWarning: A column-vector y was passed when a 1d array was expected. Please change the shape of y to (n_samples, ), for example using ravel().\n",
      "  y = column_or_1d(y, warn=True)\n",
      "/home/cdsw/.local/lib/python3.8/site-packages/sklearn/utils/validation.py:1111: DataConversionWarning: A column-vector y was passed when a 1d array was expected. Please change the shape of y to (n_samples, ), for example using ravel().\n",
      "  y = column_or_1d(y, warn=True)\n",
      "/home/cdsw/.local/lib/python3.8/site-packages/sklearn/utils/validation.py:1111: DataConversionWarning: A column-vector y was passed when a 1d array was expected. Please change the shape of y to (n_samples, ), for example using ravel().\n",
      "  y = column_or_1d(y, warn=True)\n",
      "/home/cdsw/.local/lib/python3.8/site-packages/sklearn/utils/validation.py:1111: DataConversionWarning: A column-vector y was passed when a 1d array was expected. Please change the shape of y to (n_samples, ), for example using ravel().\n",
      "  y = column_or_1d(y, warn=True)\n",
      "/home/cdsw/.local/lib/python3.8/site-packages/sklearn/utils/validation.py:1111: DataConversionWarning: A column-vector y was passed when a 1d array was expected. Please change the shape of y to (n_samples, ), for example using ravel().\n",
      "  y = column_or_1d(y, warn=True)\n",
      "/home/cdsw/.local/lib/python3.8/site-packages/sklearn/model_selection/_validation.py:686: DataConversionWarning: A column-vector y was passed when a 1d array was expected. Please change the shape of y to (n_samples,), for example using ravel().\n",
      "  estimator.fit(X_train, y_train, **fit_params)\n",
      "/home/cdsw/.local/lib/python3.8/site-packages/sklearn/model_selection/_validation.py:686: DataConversionWarning: A column-vector y was passed when a 1d array was expected. Please change the shape of y to (n_samples,), for example using ravel().\n",
      "  estimator.fit(X_train, y_train, **fit_params)\n",
      "/home/cdsw/.local/lib/python3.8/site-packages/sklearn/model_selection/_validation.py:686: DataConversionWarning: A column-vector y was passed when a 1d array was expected. Please change the shape of y to (n_samples,), for example using ravel().\n",
      "  estimator.fit(X_train, y_train, **fit_params)\n",
      "/home/cdsw/.local/lib/python3.8/site-packages/sklearn/model_selection/_validation.py:686: DataConversionWarning: A column-vector y was passed when a 1d array was expected. Please change the shape of y to (n_samples,), for example using ravel().\n",
      "  estimator.fit(X_train, y_train, **fit_params)\n",
      "/home/cdsw/.local/lib/python3.8/site-packages/sklearn/model_selection/_validation.py:686: DataConversionWarning: A column-vector y was passed when a 1d array was expected. Please change the shape of y to (n_samples,), for example using ravel().\n",
      "  estimator.fit(X_train, y_train, **fit_params)\n",
      "/home/cdsw/.local/lib/python3.8/site-packages/sklearn/model_selection/_validation.py:686: DataConversionWarning: A column-vector y was passed when a 1d array was expected. Please change the shape of y to (n_samples,), for example using ravel().\n",
      "  estimator.fit(X_train, y_train, **fit_params)\n",
      "/home/cdsw/.local/lib/python3.8/site-packages/sklearn/model_selection/_validation.py:686: DataConversionWarning: A column-vector y was passed when a 1d array was expected. Please change the shape of y to (n_samples,), for example using ravel().\n",
      "  estimator.fit(X_train, y_train, **fit_params)\n",
      "/home/cdsw/.local/lib/python3.8/site-packages/sklearn/model_selection/_validation.py:686: DataConversionWarning: A column-vector y was passed when a 1d array was expected. Please change the shape of y to (n_samples,), for example using ravel().\n",
      "  estimator.fit(X_train, y_train, **fit_params)\n",
      "/home/cdsw/.local/lib/python3.8/site-packages/sklearn/model_selection/_validation.py:686: DataConversionWarning: A column-vector y was passed when a 1d array was expected. Please change the shape of y to (n_samples,), for example using ravel().\n",
      "  estimator.fit(X_train, y_train, **fit_params)\n",
      "/home/cdsw/.local/lib/python3.8/site-packages/sklearn/model_selection/_validation.py:686: DataConversionWarning: A column-vector y was passed when a 1d array was expected. Please change the shape of y to (n_samples,), for example using ravel().\n",
      "  estimator.fit(X_train, y_train, **fit_params)\n",
      "/home/cdsw/.local/lib/python3.8/site-packages/sklearn/model_selection/_validation.py:686: DataConversionWarning: A column-vector y was passed when a 1d array was expected. Please change the shape of y to (n_samples,), for example using ravel().\n",
      "  estimator.fit(X_train, y_train, **fit_params)\n",
      "/home/cdsw/.local/lib/python3.8/site-packages/sklearn/model_selection/_validation.py:686: DataConversionWarning: A column-vector y was passed when a 1d array was expected. Please change the shape of y to (n_samples,), for example using ravel().\n",
      "  estimator.fit(X_train, y_train, **fit_params)\n",
      "/home/cdsw/.local/lib/python3.8/site-packages/sklearn/model_selection/_validation.py:686: DataConversionWarning: A column-vector y was passed when a 1d array was expected. Please change the shape of y to (n_samples,), for example using ravel().\n",
      "  estimator.fit(X_train, y_train, **fit_params)\n",
      "/home/cdsw/.local/lib/python3.8/site-packages/sklearn/utils/validation.py:1111: DataConversionWarning: A column-vector y was passed when a 1d array was expected. Please change the shape of y to (n_samples, ), for example using ravel().\n",
      "  y = column_or_1d(y, warn=True)\n",
      "/home/cdsw/.local/lib/python3.8/site-packages/sklearn/utils/validation.py:1111: DataConversionWarning: A column-vector y was passed when a 1d array was expected. Please change the shape of y to (n_samples, ), for example using ravel().\n",
      "  y = column_or_1d(y, warn=True)\n",
      "/home/cdsw/.local/lib/python3.8/site-packages/sklearn/utils/validation.py:1111: DataConversionWarning: A column-vector y was passed when a 1d array was expected. Please change the shape of y to (n_samples, ), for example using ravel().\n",
      "  y = column_or_1d(y, warn=True)\n",
      "/home/cdsw/.local/lib/python3.8/site-packages/sklearn/utils/validation.py:1111: DataConversionWarning: A column-vector y was passed when a 1d array was expected. Please change the shape of y to (n_samples, ), for example using ravel().\n",
      "  y = column_or_1d(y, warn=True)\n",
      "/home/cdsw/.local/lib/python3.8/site-packages/sklearn/utils/validation.py:1111: DataConversionWarning: A column-vector y was passed when a 1d array was expected. Please change the shape of y to (n_samples, ), for example using ravel().\n",
      "  y = column_or_1d(y, warn=True)\n",
      "/home/cdsw/.local/lib/python3.8/site-packages/sklearn/model_selection/_validation.py:686: DataConversionWarning: A column-vector y was passed when a 1d array was expected. Please change the shape of y to (n_samples,), for example using ravel().\n",
      "  estimator.fit(X_train, y_train, **fit_params)\n",
      "/home/cdsw/.local/lib/python3.8/site-packages/sklearn/model_selection/_validation.py:686: DataConversionWarning: A column-vector y was passed when a 1d array was expected. Please change the shape of y to (n_samples,), for example using ravel().\n",
      "  estimator.fit(X_train, y_train, **fit_params)\n",
      "/home/cdsw/.local/lib/python3.8/site-packages/sklearn/model_selection/_validation.py:686: DataConversionWarning: A column-vector y was passed when a 1d array was expected. Please change the shape of y to (n_samples,), for example using ravel().\n",
      "  estimator.fit(X_train, y_train, **fit_params)\n",
      "/home/cdsw/.local/lib/python3.8/site-packages/sklearn/model_selection/_validation.py:686: DataConversionWarning: A column-vector y was passed when a 1d array was expected. Please change the shape of y to (n_samples,), for example using ravel().\n",
      "  estimator.fit(X_train, y_train, **fit_params)\n",
      "/home/cdsw/.local/lib/python3.8/site-packages/sklearn/model_selection/_validation.py:686: DataConversionWarning: A column-vector y was passed when a 1d array was expected. Please change the shape of y to (n_samples,), for example using ravel().\n",
      "  estimator.fit(X_train, y_train, **fit_params)\n",
      "/home/cdsw/.local/lib/python3.8/site-packages/sklearn/model_selection/_validation.py:686: DataConversionWarning: A column-vector y was passed when a 1d array was expected. Please change the shape of y to (n_samples,), for example using ravel().\n",
      "  estimator.fit(X_train, y_train, **fit_params)\n",
      "/home/cdsw/.local/lib/python3.8/site-packages/sklearn/model_selection/_validation.py:686: DataConversionWarning: A column-vector y was passed when a 1d array was expected. Please change the shape of y to (n_samples,), for example using ravel().\n",
      "  estimator.fit(X_train, y_train, **fit_params)\n",
      "/home/cdsw/.local/lib/python3.8/site-packages/sklearn/model_selection/_validation.py:686: DataConversionWarning: A column-vector y was passed when a 1d array was expected. Please change the shape of y to (n_samples,), for example using ravel().\n",
      "  estimator.fit(X_train, y_train, **fit_params)\n",
      "/home/cdsw/.local/lib/python3.8/site-packages/sklearn/model_selection/_validation.py:686: DataConversionWarning: A column-vector y was passed when a 1d array was expected. Please change the shape of y to (n_samples,), for example using ravel().\n",
      "  estimator.fit(X_train, y_train, **fit_params)\n",
      "/home/cdsw/.local/lib/python3.8/site-packages/sklearn/model_selection/_validation.py:686: DataConversionWarning: A column-vector y was passed when a 1d array was expected. Please change the shape of y to (n_samples,), for example using ravel().\n",
      "  estimator.fit(X_train, y_train, **fit_params)\n",
      "/home/cdsw/.local/lib/python3.8/site-packages/sklearn/model_selection/_validation.py:686: DataConversionWarning: A column-vector y was passed when a 1d array was expected. Please change the shape of y to (n_samples,), for example using ravel().\n",
      "  estimator.fit(X_train, y_train, **fit_params)\n",
      "/home/cdsw/.local/lib/python3.8/site-packages/sklearn/model_selection/_validation.py:686: DataConversionWarning: A column-vector y was passed when a 1d array was expected. Please change the shape of y to (n_samples,), for example using ravel().\n",
      "  estimator.fit(X_train, y_train, **fit_params)\n",
      "/home/cdsw/.local/lib/python3.8/site-packages/sklearn/utils/validation.py:1111: DataConversionWarning: A column-vector y was passed when a 1d array was expected. Please change the shape of y to (n_samples, ), for example using ravel().\n",
      "  y = column_or_1d(y, warn=True)\n",
      "/home/cdsw/.local/lib/python3.8/site-packages/sklearn/utils/validation.py:1111: DataConversionWarning: A column-vector y was passed when a 1d array was expected. Please change the shape of y to (n_samples, ), for example using ravel().\n",
      "  y = column_or_1d(y, warn=True)\n",
      "/home/cdsw/.local/lib/python3.8/site-packages/sklearn/utils/validation.py:1111: DataConversionWarning: A column-vector y was passed when a 1d array was expected. Please change the shape of y to (n_samples, ), for example using ravel().\n",
      "  y = column_or_1d(y, warn=True)\n",
      "/home/cdsw/.local/lib/python3.8/site-packages/sklearn/utils/validation.py:1111: DataConversionWarning: A column-vector y was passed when a 1d array was expected. Please change the shape of y to (n_samples, ), for example using ravel().\n",
      "  y = column_or_1d(y, warn=True)\n",
      "/home/cdsw/.local/lib/python3.8/site-packages/sklearn/model_selection/_validation.py:686: DataConversionWarning: A column-vector y was passed when a 1d array was expected. Please change the shape of y to (n_samples,), for example using ravel().\n",
      "  estimator.fit(X_train, y_train, **fit_params)\n",
      "/home/cdsw/.local/lib/python3.8/site-packages/sklearn/model_selection/_validation.py:686: DataConversionWarning: A column-vector y was passed when a 1d array was expected. Please change the shape of y to (n_samples,), for example using ravel().\n",
      "  estimator.fit(X_train, y_train, **fit_params)\n",
      "/home/cdsw/.local/lib/python3.8/site-packages/sklearn/model_selection/_validation.py:686: DataConversionWarning: A column-vector y was passed when a 1d array was expected. Please change the shape of y to (n_samples,), for example using ravel().\n",
      "  estimator.fit(X_train, y_train, **fit_params)\n",
      "/home/cdsw/.local/lib/python3.8/site-packages/sklearn/model_selection/_validation.py:686: DataConversionWarning: A column-vector y was passed when a 1d array was expected. Please change the shape of y to (n_samples,), for example using ravel().\n",
      "  estimator.fit(X_train, y_train, **fit_params)\n",
      "/home/cdsw/.local/lib/python3.8/site-packages/sklearn/model_selection/_validation.py:686: DataConversionWarning: A column-vector y was passed when a 1d array was expected. Please change the shape of y to (n_samples,), for example using ravel().\n",
      "  estimator.fit(X_train, y_train, **fit_params)\n",
      "/home/cdsw/.local/lib/python3.8/site-packages/sklearn/model_selection/_validation.py:686: DataConversionWarning: A column-vector y was passed when a 1d array was expected. Please change the shape of y to (n_samples,), for example using ravel().\n",
      "  estimator.fit(X_train, y_train, **fit_params)\n",
      "/home/cdsw/.local/lib/python3.8/site-packages/sklearn/model_selection/_validation.py:686: DataConversionWarning: A column-vector y was passed when a 1d array was expected. Please change the shape of y to (n_samples,), for example using ravel().\n",
      "  estimator.fit(X_train, y_train, **fit_params)\n",
      "/home/cdsw/.local/lib/python3.8/site-packages/sklearn/model_selection/_validation.py:686: DataConversionWarning: A column-vector y was passed when a 1d array was expected. Please change the shape of y to (n_samples,), for example using ravel().\n",
      "  estimator.fit(X_train, y_train, **fit_params)\n",
      "/home/cdsw/.local/lib/python3.8/site-packages/sklearn/model_selection/_validation.py:686: DataConversionWarning: A column-vector y was passed when a 1d array was expected. Please change the shape of y to (n_samples,), for example using ravel().\n",
      "  estimator.fit(X_train, y_train, **fit_params)\n",
      "/home/cdsw/.local/lib/python3.8/site-packages/sklearn/model_selection/_validation.py:686: DataConversionWarning: A column-vector y was passed when a 1d array was expected. Please change the shape of y to (n_samples,), for example using ravel().\n",
      "  estimator.fit(X_train, y_train, **fit_params)\n",
      "/home/cdsw/.local/lib/python3.8/site-packages/sklearn/model_selection/_validation.py:686: DataConversionWarning: A column-vector y was passed when a 1d array was expected. Please change the shape of y to (n_samples,), for example using ravel().\n",
      "  estimator.fit(X_train, y_train, **fit_params)\n",
      "/home/cdsw/.local/lib/python3.8/site-packages/sklearn/model_selection/_validation.py:686: DataConversionWarning: A column-vector y was passed when a 1d array was expected. Please change the shape of y to (n_samples,), for example using ravel().\n",
      "  estimator.fit(X_train, y_train, **fit_params)\n",
      "/home/cdsw/.local/lib/python3.8/site-packages/sklearn/model_selection/_validation.py:686: DataConversionWarning: A column-vector y was passed when a 1d array was expected. Please change the shape of y to (n_samples,), for example using ravel().\n",
      "  estimator.fit(X_train, y_train, **fit_params)\n",
      "/home/cdsw/.local/lib/python3.8/site-packages/sklearn/model_selection/_validation.py:686: DataConversionWarning: A column-vector y was passed when a 1d array was expected. Please change the shape of y to (n_samples,), for example using ravel().\n",
      "  estimator.fit(X_train, y_train, **fit_params)\n",
      "/home/cdsw/.local/lib/python3.8/site-packages/sklearn/utils/validation.py:1111: DataConversionWarning: A column-vector y was passed when a 1d array was expected. Please change the shape of y to (n_samples, ), for example using ravel().\n",
      "  y = column_or_1d(y, warn=True)\n",
      "/home/cdsw/.local/lib/python3.8/site-packages/sklearn/utils/validation.py:1111: DataConversionWarning: A column-vector y was passed when a 1d array was expected. Please change the shape of y to (n_samples, ), for example using ravel().\n",
      "  y = column_or_1d(y, warn=True)\n",
      "/home/cdsw/.local/lib/python3.8/site-packages/sklearn/utils/validation.py:1111: DataConversionWarning: A column-vector y was passed when a 1d array was expected. Please change the shape of y to (n_samples, ), for example using ravel().\n",
      "  y = column_or_1d(y, warn=True)\n",
      "/home/cdsw/.local/lib/python3.8/site-packages/sklearn/utils/validation.py:1111: DataConversionWarning: A column-vector y was passed when a 1d array was expected. Please change the shape of y to (n_samples, ), for example using ravel().\n",
      "  y = column_or_1d(y, warn=True)\n",
      "/home/cdsw/.local/lib/python3.8/site-packages/sklearn/utils/validation.py:1111: DataConversionWarning: A column-vector y was passed when a 1d array was expected. Please change the shape of y to (n_samples, ), for example using ravel().\n",
      "  y = column_or_1d(y, warn=True)\n",
      "/home/cdsw/.local/lib/python3.8/site-packages/sklearn/utils/validation.py:1111: DataConversionWarning: A column-vector y was passed when a 1d array was expected. Please change the shape of y to (n_samples, ), for example using ravel().\n",
      "  y = column_or_1d(y, warn=True)\n",
      "/home/cdsw/.local/lib/python3.8/site-packages/sklearn/model_selection/_validation.py:686: DataConversionWarning: A column-vector y was passed when a 1d array was expected. Please change the shape of y to (n_samples,), for example using ravel().\n",
      "  estimator.fit(X_train, y_train, **fit_params)\n",
      "/home/cdsw/.local/lib/python3.8/site-packages/sklearn/model_selection/_validation.py:686: DataConversionWarning: A column-vector y was passed when a 1d array was expected. Please change the shape of y to (n_samples,), for example using ravel().\n",
      "  estimator.fit(X_train, y_train, **fit_params)\n",
      "/home/cdsw/.local/lib/python3.8/site-packages/sklearn/model_selection/_validation.py:686: DataConversionWarning: A column-vector y was passed when a 1d array was expected. Please change the shape of y to (n_samples,), for example using ravel().\n",
      "  estimator.fit(X_train, y_train, **fit_params)\n",
      "/home/cdsw/.local/lib/python3.8/site-packages/sklearn/model_selection/_validation.py:686: DataConversionWarning: A column-vector y was passed when a 1d array was expected. Please change the shape of y to (n_samples,), for example using ravel().\n",
      "  estimator.fit(X_train, y_train, **fit_params)\n",
      "/home/cdsw/.local/lib/python3.8/site-packages/sklearn/model_selection/_validation.py:686: DataConversionWarning: A column-vector y was passed when a 1d array was expected. Please change the shape of y to (n_samples,), for example using ravel().\n",
      "  estimator.fit(X_train, y_train, **fit_params)\n",
      "/home/cdsw/.local/lib/python3.8/site-packages/sklearn/model_selection/_validation.py:686: DataConversionWarning: A column-vector y was passed when a 1d array was expected. Please change the shape of y to (n_samples,), for example using ravel().\n",
      "  estimator.fit(X_train, y_train, **fit_params)\n",
      "/home/cdsw/.local/lib/python3.8/site-packages/sklearn/model_selection/_validation.py:686: DataConversionWarning: A column-vector y was passed when a 1d array was expected. Please change the shape of y to (n_samples,), for example using ravel().\n",
      "  estimator.fit(X_train, y_train, **fit_params)\n",
      "/home/cdsw/.local/lib/python3.8/site-packages/sklearn/model_selection/_validation.py:686: DataConversionWarning: A column-vector y was passed when a 1d array was expected. Please change the shape of y to (n_samples,), for example using ravel().\n",
      "  estimator.fit(X_train, y_train, **fit_params)\n",
      "/home/cdsw/.local/lib/python3.8/site-packages/sklearn/model_selection/_validation.py:686: DataConversionWarning: A column-vector y was passed when a 1d array was expected. Please change the shape of y to (n_samples,), for example using ravel().\n",
      "  estimator.fit(X_train, y_train, **fit_params)\n",
      "/home/cdsw/.local/lib/python3.8/site-packages/sklearn/model_selection/_validation.py:686: DataConversionWarning: A column-vector y was passed when a 1d array was expected. Please change the shape of y to (n_samples,), for example using ravel().\n",
      "  estimator.fit(X_train, y_train, **fit_params)\n",
      "/home/cdsw/.local/lib/python3.8/site-packages/sklearn/model_selection/_validation.py:686: DataConversionWarning: A column-vector y was passed when a 1d array was expected. Please change the shape of y to (n_samples,), for example using ravel().\n",
      "  estimator.fit(X_train, y_train, **fit_params)\n",
      "/home/cdsw/.local/lib/python3.8/site-packages/sklearn/model_selection/_validation.py:686: DataConversionWarning: A column-vector y was passed when a 1d array was expected. Please change the shape of y to (n_samples,), for example using ravel().\n",
      "  estimator.fit(X_train, y_train, **fit_params)\n",
      "/home/cdsw/.local/lib/python3.8/site-packages/sklearn/utils/validation.py:1111: DataConversionWarning: A column-vector y was passed when a 1d array was expected. Please change the shape of y to (n_samples, ), for example using ravel().\n",
      "  y = column_or_1d(y, warn=True)\n",
      "/home/cdsw/.local/lib/python3.8/site-packages/sklearn/utils/validation.py:1111: DataConversionWarning: A column-vector y was passed when a 1d array was expected. Please change the shape of y to (n_samples, ), for example using ravel().\n",
      "  y = column_or_1d(y, warn=True)\n",
      "/home/cdsw/.local/lib/python3.8/site-packages/sklearn/utils/validation.py:1111: DataConversionWarning: A column-vector y was passed when a 1d array was expected. Please change the shape of y to (n_samples, ), for example using ravel().\n",
      "  y = column_or_1d(y, warn=True)\n",
      "/home/cdsw/.local/lib/python3.8/site-packages/sklearn/utils/validation.py:1111: DataConversionWarning: A column-vector y was passed when a 1d array was expected. Please change the shape of y to (n_samples, ), for example using ravel().\n",
      "  y = column_or_1d(y, warn=True)\n",
      "/home/cdsw/.local/lib/python3.8/site-packages/sklearn/utils/validation.py:1111: DataConversionWarning: A column-vector y was passed when a 1d array was expected. Please change the shape of y to (n_samples, ), for example using ravel().\n",
      "  y = column_or_1d(y, warn=True)\n",
      "/home/cdsw/.local/lib/python3.8/site-packages/sklearn/utils/validation.py:1111: DataConversionWarning: A column-vector y was passed when a 1d array was expected. Please change the shape of y to (n_samples, ), for example using ravel().\n",
      "  y = column_or_1d(y, warn=True)\n",
      "/home/cdsw/.local/lib/python3.8/site-packages/sklearn/model_selection/_validation.py:686: DataConversionWarning: A column-vector y was passed when a 1d array was expected. Please change the shape of y to (n_samples,), for example using ravel().\n",
      "  estimator.fit(X_train, y_train, **fit_params)\n",
      "/home/cdsw/.local/lib/python3.8/site-packages/sklearn/model_selection/_validation.py:686: DataConversionWarning: A column-vector y was passed when a 1d array was expected. Please change the shape of y to (n_samples,), for example using ravel().\n",
      "  estimator.fit(X_train, y_train, **fit_params)\n",
      "/home/cdsw/.local/lib/python3.8/site-packages/sklearn/model_selection/_validation.py:686: DataConversionWarning: A column-vector y was passed when a 1d array was expected. Please change the shape of y to (n_samples,), for example using ravel().\n",
      "  estimator.fit(X_train, y_train, **fit_params)\n",
      "/home/cdsw/.local/lib/python3.8/site-packages/sklearn/model_selection/_validation.py:686: DataConversionWarning: A column-vector y was passed when a 1d array was expected. Please change the shape of y to (n_samples,), for example using ravel().\n",
      "  estimator.fit(X_train, y_train, **fit_params)\n",
      "/home/cdsw/.local/lib/python3.8/site-packages/sklearn/model_selection/_validation.py:686: DataConversionWarning: A column-vector y was passed when a 1d array was expected. Please change the shape of y to (n_samples,), for example using ravel().\n",
      "  estimator.fit(X_train, y_train, **fit_params)\n",
      "/home/cdsw/.local/lib/python3.8/site-packages/sklearn/model_selection/_validation.py:686: DataConversionWarning: A column-vector y was passed when a 1d array was expected. Please change the shape of y to (n_samples,), for example using ravel().\n",
      "  estimator.fit(X_train, y_train, **fit_params)\n",
      "/home/cdsw/.local/lib/python3.8/site-packages/sklearn/model_selection/_validation.py:686: DataConversionWarning: A column-vector y was passed when a 1d array was expected. Please change the shape of y to (n_samples,), for example using ravel().\n",
      "  estimator.fit(X_train, y_train, **fit_params)\n",
      "/home/cdsw/.local/lib/python3.8/site-packages/sklearn/model_selection/_validation.py:686: DataConversionWarning: A column-vector y was passed when a 1d array was expected. Please change the shape of y to (n_samples,), for example using ravel().\n",
      "  estimator.fit(X_train, y_train, **fit_params)\n",
      "/home/cdsw/.local/lib/python3.8/site-packages/sklearn/utils/validation.py:1111: DataConversionWarning: A column-vector y was passed when a 1d array was expected. Please change the shape of y to (n_samples, ), for example using ravel().\n",
      "  y = column_or_1d(y, warn=True)\n",
      "/home/cdsw/.local/lib/python3.8/site-packages/sklearn/utils/validation.py:1111: DataConversionWarning: A column-vector y was passed when a 1d array was expected. Please change the shape of y to (n_samples, ), for example using ravel().\n",
      "  y = column_or_1d(y, warn=True)\n",
      "/home/cdsw/.local/lib/python3.8/site-packages/sklearn/utils/validation.py:1111: DataConversionWarning: A column-vector y was passed when a 1d array was expected. Please change the shape of y to (n_samples, ), for example using ravel().\n",
      "  y = column_or_1d(y, warn=True)\n",
      "/home/cdsw/.local/lib/python3.8/site-packages/sklearn/utils/validation.py:1111: DataConversionWarning: A column-vector y was passed when a 1d array was expected. Please change the shape of y to (n_samples, ), for example using ravel().\n",
      "  y = column_or_1d(y, warn=True)\n",
      "/home/cdsw/.local/lib/python3.8/site-packages/sklearn/utils/validation.py:1111: DataConversionWarning: A column-vector y was passed when a 1d array was expected. Please change the shape of y to (n_samples, ), for example using ravel().\n",
      "  y = column_or_1d(y, warn=True)\n",
      "/home/cdsw/.local/lib/python3.8/site-packages/sklearn/utils/validation.py:1111: DataConversionWarning: A column-vector y was passed when a 1d array was expected. Please change the shape of y to (n_samples, ), for example using ravel().\n",
      "  y = column_or_1d(y, warn=True)\n",
      "/home/cdsw/.local/lib/python3.8/site-packages/sklearn/model_selection/_validation.py:686: DataConversionWarning: A column-vector y was passed when a 1d array was expected. Please change the shape of y to (n_samples,), for example using ravel().\n",
      "  estimator.fit(X_train, y_train, **fit_params)\n",
      "/home/cdsw/.local/lib/python3.8/site-packages/sklearn/model_selection/_validation.py:686: DataConversionWarning: A column-vector y was passed when a 1d array was expected. Please change the shape of y to (n_samples,), for example using ravel().\n",
      "  estimator.fit(X_train, y_train, **fit_params)\n",
      "/home/cdsw/.local/lib/python3.8/site-packages/sklearn/model_selection/_validation.py:686: DataConversionWarning: A column-vector y was passed when a 1d array was expected. Please change the shape of y to (n_samples,), for example using ravel().\n",
      "  estimator.fit(X_train, y_train, **fit_params)\n",
      "/home/cdsw/.local/lib/python3.8/site-packages/sklearn/model_selection/_validation.py:686: DataConversionWarning: A column-vector y was passed when a 1d array was expected. Please change the shape of y to (n_samples,), for example using ravel().\n",
      "  estimator.fit(X_train, y_train, **fit_params)\n",
      "/home/cdsw/.local/lib/python3.8/site-packages/sklearn/model_selection/_validation.py:686: DataConversionWarning: A column-vector y was passed when a 1d array was expected. Please change the shape of y to (n_samples,), for example using ravel().\n",
      "  estimator.fit(X_train, y_train, **fit_params)\n",
      "/home/cdsw/.local/lib/python3.8/site-packages/sklearn/model_selection/_validation.py:686: DataConversionWarning: A column-vector y was passed when a 1d array was expected. Please change the shape of y to (n_samples,), for example using ravel().\n",
      "  estimator.fit(X_train, y_train, **fit_params)\n",
      "/home/cdsw/.local/lib/python3.8/site-packages/sklearn/model_selection/_validation.py:686: DataConversionWarning: A column-vector y was passed when a 1d array was expected. Please change the shape of y to (n_samples,), for example using ravel().\n",
      "  estimator.fit(X_train, y_train, **fit_params)\n",
      "/home/cdsw/.local/lib/python3.8/site-packages/sklearn/model_selection/_validation.py:686: DataConversionWarning: A column-vector y was passed when a 1d array was expected. Please change the shape of y to (n_samples,), for example using ravel().\n",
      "  estimator.fit(X_train, y_train, **fit_params)\n",
      "/home/cdsw/.local/lib/python3.8/site-packages/sklearn/model_selection/_validation.py:686: DataConversionWarning: A column-vector y was passed when a 1d array was expected. Please change the shape of y to (n_samples,), for example using ravel().\n",
      "  estimator.fit(X_train, y_train, **fit_params)\n",
      "/home/cdsw/.local/lib/python3.8/site-packages/sklearn/model_selection/_validation.py:686: DataConversionWarning: A column-vector y was passed when a 1d array was expected. Please change the shape of y to (n_samples,), for example using ravel().\n",
      "  estimator.fit(X_train, y_train, **fit_params)\n",
      "/home/cdsw/.local/lib/python3.8/site-packages/sklearn/model_selection/_validation.py:686: DataConversionWarning: A column-vector y was passed when a 1d array was expected. Please change the shape of y to (n_samples,), for example using ravel().\n",
      "  estimator.fit(X_train, y_train, **fit_params)\n",
      "/home/cdsw/.local/lib/python3.8/site-packages/sklearn/model_selection/_validation.py:686: DataConversionWarning: A column-vector y was passed when a 1d array was expected. Please change the shape of y to (n_samples,), for example using ravel().\n",
      "  estimator.fit(X_train, y_train, **fit_params)\n",
      "/home/cdsw/.local/lib/python3.8/site-packages/sklearn/model_selection/_validation.py:686: DataConversionWarning: A column-vector y was passed when a 1d array was expected. Please change the shape of y to (n_samples,), for example using ravel().\n",
      "  estimator.fit(X_train, y_train, **fit_params)\n",
      "/home/cdsw/.local/lib/python3.8/site-packages/sklearn/model_selection/_validation.py:686: DataConversionWarning: A column-vector y was passed when a 1d array was expected. Please change the shape of y to (n_samples,), for example using ravel().\n",
      "  estimator.fit(X_train, y_train, **fit_params)\n",
      "/home/cdsw/.local/lib/python3.8/site-packages/sklearn/model_selection/_validation.py:686: DataConversionWarning: A column-vector y was passed when a 1d array was expected. Please change the shape of y to (n_samples,), for example using ravel().\n",
      "  estimator.fit(X_train, y_train, **fit_params)\n",
      "/home/cdsw/.local/lib/python3.8/site-packages/sklearn/utils/validation.py:1111: DataConversionWarning: A column-vector y was passed when a 1d array was expected. Please change the shape of y to (n_samples, ), for example using ravel().\n",
      "  y = column_or_1d(y, warn=True)\n",
      "/home/cdsw/.local/lib/python3.8/site-packages/sklearn/utils/validation.py:1111: DataConversionWarning: A column-vector y was passed when a 1d array was expected. Please change the shape of y to (n_samples, ), for example using ravel().\n",
      "  y = column_or_1d(y, warn=True)\n",
      "/home/cdsw/.local/lib/python3.8/site-packages/sklearn/utils/validation.py:1111: DataConversionWarning: A column-vector y was passed when a 1d array was expected. Please change the shape of y to (n_samples, ), for example using ravel().\n",
      "  y = column_or_1d(y, warn=True)\n",
      "/home/cdsw/.local/lib/python3.8/site-packages/sklearn/utils/validation.py:1111: DataConversionWarning: A column-vector y was passed when a 1d array was expected. Please change the shape of y to (n_samples, ), for example using ravel().\n",
      "  y = column_or_1d(y, warn=True)\n",
      "/home/cdsw/.local/lib/python3.8/site-packages/sklearn/utils/validation.py:1111: DataConversionWarning: A column-vector y was passed when a 1d array was expected. Please change the shape of y to (n_samples, ), for example using ravel().\n",
      "  y = column_or_1d(y, warn=True)\n",
      "/home/cdsw/.local/lib/python3.8/site-packages/sklearn/model_selection/_validation.py:686: DataConversionWarning: A column-vector y was passed when a 1d array was expected. Please change the shape of y to (n_samples,), for example using ravel().\n",
      "  estimator.fit(X_train, y_train, **fit_params)\n",
      "/home/cdsw/.local/lib/python3.8/site-packages/sklearn/model_selection/_validation.py:686: DataConversionWarning: A column-vector y was passed when a 1d array was expected. Please change the shape of y to (n_samples,), for example using ravel().\n",
      "  estimator.fit(X_train, y_train, **fit_params)\n",
      "/home/cdsw/.local/lib/python3.8/site-packages/sklearn/model_selection/_validation.py:686: DataConversionWarning: A column-vector y was passed when a 1d array was expected. Please change the shape of y to (n_samples,), for example using ravel().\n",
      "  estimator.fit(X_train, y_train, **fit_params)\n",
      "/home/cdsw/.local/lib/python3.8/site-packages/sklearn/model_selection/_validation.py:686: DataConversionWarning: A column-vector y was passed when a 1d array was expected. Please change the shape of y to (n_samples,), for example using ravel().\n",
      "  estimator.fit(X_train, y_train, **fit_params)\n",
      "/home/cdsw/.local/lib/python3.8/site-packages/sklearn/model_selection/_validation.py:686: DataConversionWarning: A column-vector y was passed when a 1d array was expected. Please change the shape of y to (n_samples,), for example using ravel().\n",
      "  estimator.fit(X_train, y_train, **fit_params)\n",
      "/home/cdsw/.local/lib/python3.8/site-packages/sklearn/model_selection/_validation.py:686: DataConversionWarning: A column-vector y was passed when a 1d array was expected. Please change the shape of y to (n_samples,), for example using ravel().\n",
      "  estimator.fit(X_train, y_train, **fit_params)\n",
      "/home/cdsw/.local/lib/python3.8/site-packages/sklearn/model_selection/_validation.py:686: DataConversionWarning: A column-vector y was passed when a 1d array was expected. Please change the shape of y to (n_samples,), for example using ravel().\n",
      "  estimator.fit(X_train, y_train, **fit_params)\n",
      "/home/cdsw/.local/lib/python3.8/site-packages/sklearn/model_selection/_validation.py:686: DataConversionWarning: A column-vector y was passed when a 1d array was expected. Please change the shape of y to (n_samples,), for example using ravel().\n",
      "  estimator.fit(X_train, y_train, **fit_params)\n",
      "/home/cdsw/.local/lib/python3.8/site-packages/sklearn/model_selection/_validation.py:686: DataConversionWarning: A column-vector y was passed when a 1d array was expected. Please change the shape of y to (n_samples,), for example using ravel().\n",
      "  estimator.fit(X_train, y_train, **fit_params)\n",
      "/home/cdsw/.local/lib/python3.8/site-packages/sklearn/model_selection/_validation.py:686: DataConversionWarning: A column-vector y was passed when a 1d array was expected. Please change the shape of y to (n_samples,), for example using ravel().\n",
      "  estimator.fit(X_train, y_train, **fit_params)\n",
      "/home/cdsw/.local/lib/python3.8/site-packages/sklearn/model_selection/_validation.py:686: DataConversionWarning: A column-vector y was passed when a 1d array was expected. Please change the shape of y to (n_samples,), for example using ravel().\n",
      "  estimator.fit(X_train, y_train, **fit_params)\n",
      "/home/cdsw/.local/lib/python3.8/site-packages/sklearn/model_selection/_validation.py:686: DataConversionWarning: A column-vector y was passed when a 1d array was expected. Please change the shape of y to (n_samples,), for example using ravel().\n",
      "  estimator.fit(X_train, y_train, **fit_params)\n",
      "/home/cdsw/.local/lib/python3.8/site-packages/sklearn/model_selection/_validation.py:686: DataConversionWarning: A column-vector y was passed when a 1d array was expected. Please change the shape of y to (n_samples,), for example using ravel().\n",
      "  estimator.fit(X_train, y_train, **fit_params)\n",
      "/home/cdsw/.local/lib/python3.8/site-packages/sklearn/model_selection/_validation.py:686: DataConversionWarning: A column-vector y was passed when a 1d array was expected. Please change the shape of y to (n_samples,), for example using ravel().\n",
      "  estimator.fit(X_train, y_train, **fit_params)\n",
      "/home/cdsw/.local/lib/python3.8/site-packages/sklearn/model_selection/_validation.py:686: DataConversionWarning: A column-vector y was passed when a 1d array was expected. Please change the shape of y to (n_samples,), for example using ravel().\n",
      "  estimator.fit(X_train, y_train, **fit_params)\n",
      "/home/cdsw/.local/lib/python3.8/site-packages/sklearn/model_selection/_validation.py:686: DataConversionWarning: A column-vector y was passed when a 1d array was expected. Please change the shape of y to (n_samples,), for example using ravel().\n",
      "  estimator.fit(X_train, y_train, **fit_params)\n",
      "/home/cdsw/.local/lib/python3.8/site-packages/sklearn/model_selection/_validation.py:686: DataConversionWarning: A column-vector y was passed when a 1d array was expected. Please change the shape of y to (n_samples,), for example using ravel().\n",
      "  estimator.fit(X_train, y_train, **fit_params)\n",
      "/home/cdsw/.local/lib/python3.8/site-packages/sklearn/utils/validation.py:1111: DataConversionWarning: A column-vector y was passed when a 1d array was expected. Please change the shape of y to (n_samples, ), for example using ravel().\n",
      "  y = column_or_1d(y, warn=True)\n",
      "/home/cdsw/.local/lib/python3.8/site-packages/sklearn/utils/validation.py:1111: DataConversionWarning: A column-vector y was passed when a 1d array was expected. Please change the shape of y to (n_samples, ), for example using ravel().\n",
      "  y = column_or_1d(y, warn=True)\n",
      "/home/cdsw/.local/lib/python3.8/site-packages/sklearn/utils/validation.py:1111: DataConversionWarning: A column-vector y was passed when a 1d array was expected. Please change the shape of y to (n_samples, ), for example using ravel().\n",
      "  y = column_or_1d(y, warn=True)\n",
      "/home/cdsw/.local/lib/python3.8/site-packages/sklearn/utils/validation.py:1111: DataConversionWarning: A column-vector y was passed when a 1d array was expected. Please change the shape of y to (n_samples, ), for example using ravel().\n",
      "  y = column_or_1d(y, warn=True)\n",
      "/home/cdsw/.local/lib/python3.8/site-packages/sklearn/utils/validation.py:1111: DataConversionWarning: A column-vector y was passed when a 1d array was expected. Please change the shape of y to (n_samples, ), for example using ravel().\n",
      "  y = column_or_1d(y, warn=True)\n",
      "/home/cdsw/.local/lib/python3.8/site-packages/sklearn/model_selection/_validation.py:686: DataConversionWarning: A column-vector y was passed when a 1d array was expected. Please change the shape of y to (n_samples,), for example using ravel().\n",
      "  estimator.fit(X_train, y_train, **fit_params)\n",
      "/home/cdsw/.local/lib/python3.8/site-packages/sklearn/model_selection/_validation.py:686: DataConversionWarning: A column-vector y was passed when a 1d array was expected. Please change the shape of y to (n_samples,), for example using ravel().\n",
      "  estimator.fit(X_train, y_train, **fit_params)\n",
      "/home/cdsw/.local/lib/python3.8/site-packages/sklearn/model_selection/_validation.py:686: DataConversionWarning: A column-vector y was passed when a 1d array was expected. Please change the shape of y to (n_samples,), for example using ravel().\n",
      "  estimator.fit(X_train, y_train, **fit_params)\n",
      "/home/cdsw/.local/lib/python3.8/site-packages/sklearn/model_selection/_validation.py:686: DataConversionWarning: A column-vector y was passed when a 1d array was expected. Please change the shape of y to (n_samples,), for example using ravel().\n",
      "  estimator.fit(X_train, y_train, **fit_params)\n",
      "/home/cdsw/.local/lib/python3.8/site-packages/sklearn/model_selection/_validation.py:686: DataConversionWarning: A column-vector y was passed when a 1d array was expected. Please change the shape of y to (n_samples,), for example using ravel().\n",
      "  estimator.fit(X_train, y_train, **fit_params)\n",
      "/home/cdsw/.local/lib/python3.8/site-packages/sklearn/model_selection/_validation.py:686: DataConversionWarning: A column-vector y was passed when a 1d array was expected. Please change the shape of y to (n_samples,), for example using ravel().\n",
      "  estimator.fit(X_train, y_train, **fit_params)\n",
      "/home/cdsw/.local/lib/python3.8/site-packages/sklearn/model_selection/_validation.py:686: DataConversionWarning: A column-vector y was passed when a 1d array was expected. Please change the shape of y to (n_samples,), for example using ravel().\n",
      "  estimator.fit(X_train, y_train, **fit_params)\n",
      "/home/cdsw/.local/lib/python3.8/site-packages/sklearn/model_selection/_validation.py:686: DataConversionWarning: A column-vector y was passed when a 1d array was expected. Please change the shape of y to (n_samples,), for example using ravel().\n",
      "  estimator.fit(X_train, y_train, **fit_params)\n",
      "/home/cdsw/.local/lib/python3.8/site-packages/sklearn/model_selection/_validation.py:686: DataConversionWarning: A column-vector y was passed when a 1d array was expected. Please change the shape of y to (n_samples,), for example using ravel().\n",
      "  estimator.fit(X_train, y_train, **fit_params)\n",
      "/home/cdsw/.local/lib/python3.8/site-packages/sklearn/model_selection/_validation.py:686: DataConversionWarning: A column-vector y was passed when a 1d array was expected. Please change the shape of y to (n_samples,), for example using ravel().\n",
      "  estimator.fit(X_train, y_train, **fit_params)\n",
      "/home/cdsw/.local/lib/python3.8/site-packages/sklearn/model_selection/_validation.py:686: DataConversionWarning: A column-vector y was passed when a 1d array was expected. Please change the shape of y to (n_samples,), for example using ravel().\n",
      "  estimator.fit(X_train, y_train, **fit_params)\n",
      "/home/cdsw/.local/lib/python3.8/site-packages/sklearn/model_selection/_validation.py:686: DataConversionWarning: A column-vector y was passed when a 1d array was expected. Please change the shape of y to (n_samples,), for example using ravel().\n",
      "  estimator.fit(X_train, y_train, **fit_params)\n",
      "/home/cdsw/.local/lib/python3.8/site-packages/sklearn/model_selection/_validation.py:686: DataConversionWarning: A column-vector y was passed when a 1d array was expected. Please change the shape of y to (n_samples,), for example using ravel().\n",
      "  estimator.fit(X_train, y_train, **fit_params)\n",
      "/home/cdsw/.local/lib/python3.8/site-packages/sklearn/model_selection/_validation.py:686: DataConversionWarning: A column-vector y was passed when a 1d array was expected. Please change the shape of y to (n_samples,), for example using ravel().\n",
      "  estimator.fit(X_train, y_train, **fit_params)\n",
      "/home/cdsw/.local/lib/python3.8/site-packages/sklearn/utils/validation.py:1111: DataConversionWarning: A column-vector y was passed when a 1d array was expected. Please change the shape of y to (n_samples, ), for example using ravel().\n",
      "  y = column_or_1d(y, warn=True)\n",
      "/home/cdsw/.local/lib/python3.8/site-packages/sklearn/utils/validation.py:1111: DataConversionWarning: A column-vector y was passed when a 1d array was expected. Please change the shape of y to (n_samples, ), for example using ravel().\n",
      "  y = column_or_1d(y, warn=True)\n",
      "/home/cdsw/.local/lib/python3.8/site-packages/sklearn/utils/validation.py:1111: DataConversionWarning: A column-vector y was passed when a 1d array was expected. Please change the shape of y to (n_samples, ), for example using ravel().\n",
      "  y = column_or_1d(y, warn=True)\n",
      "/home/cdsw/.local/lib/python3.8/site-packages/sklearn/utils/validation.py:1111: DataConversionWarning: A column-vector y was passed when a 1d array was expected. Please change the shape of y to (n_samples, ), for example using ravel().\n",
      "  y = column_or_1d(y, warn=True)\n",
      "/home/cdsw/.local/lib/python3.8/site-packages/sklearn/utils/validation.py:1111: DataConversionWarning: A column-vector y was passed when a 1d array was expected. Please change the shape of y to (n_samples, ), for example using ravel().\n",
      "  y = column_or_1d(y, warn=True)\n",
      "/home/cdsw/.local/lib/python3.8/site-packages/sklearn/model_selection/_validation.py:686: DataConversionWarning: A column-vector y was passed when a 1d array was expected. Please change the shape of y to (n_samples,), for example using ravel().\n",
      "  estimator.fit(X_train, y_train, **fit_params)\n",
      "/home/cdsw/.local/lib/python3.8/site-packages/sklearn/model_selection/_validation.py:686: DataConversionWarning: A column-vector y was passed when a 1d array was expected. Please change the shape of y to (n_samples,), for example using ravel().\n",
      "  estimator.fit(X_train, y_train, **fit_params)\n",
      "/home/cdsw/.local/lib/python3.8/site-packages/sklearn/model_selection/_validation.py:686: DataConversionWarning: A column-vector y was passed when a 1d array was expected. Please change the shape of y to (n_samples,), for example using ravel().\n",
      "  estimator.fit(X_train, y_train, **fit_params)\n",
      "/home/cdsw/.local/lib/python3.8/site-packages/sklearn/model_selection/_validation.py:686: DataConversionWarning: A column-vector y was passed when a 1d array was expected. Please change the shape of y to (n_samples,), for example using ravel().\n",
      "  estimator.fit(X_train, y_train, **fit_params)\n",
      "/home/cdsw/.local/lib/python3.8/site-packages/sklearn/model_selection/_validation.py:686: DataConversionWarning: A column-vector y was passed when a 1d array was expected. Please change the shape of y to (n_samples,), for example using ravel().\n",
      "  estimator.fit(X_train, y_train, **fit_params)\n",
      "/home/cdsw/.local/lib/python3.8/site-packages/sklearn/model_selection/_validation.py:686: DataConversionWarning: A column-vector y was passed when a 1d array was expected. Please change the shape of y to (n_samples,), for example using ravel().\n",
      "  estimator.fit(X_train, y_train, **fit_params)\n",
      "/home/cdsw/.local/lib/python3.8/site-packages/sklearn/model_selection/_validation.py:686: DataConversionWarning: A column-vector y was passed when a 1d array was expected. Please change the shape of y to (n_samples,), for example using ravel().\n",
      "  estimator.fit(X_train, y_train, **fit_params)\n",
      "/home/cdsw/.local/lib/python3.8/site-packages/sklearn/model_selection/_validation.py:686: DataConversionWarning: A column-vector y was passed when a 1d array was expected. Please change the shape of y to (n_samples,), for example using ravel().\n",
      "  estimator.fit(X_train, y_train, **fit_params)\n",
      "/home/cdsw/.local/lib/python3.8/site-packages/sklearn/model_selection/_validation.py:686: DataConversionWarning: A column-vector y was passed when a 1d array was expected. Please change the shape of y to (n_samples,), for example using ravel().\n",
      "  estimator.fit(X_train, y_train, **fit_params)\n",
      "/home/cdsw/.local/lib/python3.8/site-packages/sklearn/model_selection/_validation.py:686: DataConversionWarning: A column-vector y was passed when a 1d array was expected. Please change the shape of y to (n_samples,), for example using ravel().\n",
      "  estimator.fit(X_train, y_train, **fit_params)\n",
      "/home/cdsw/.local/lib/python3.8/site-packages/sklearn/model_selection/_validation.py:686: DataConversionWarning: A column-vector y was passed when a 1d array was expected. Please change the shape of y to (n_samples,), for example using ravel().\n",
      "  estimator.fit(X_train, y_train, **fit_params)\n",
      "/home/cdsw/.local/lib/python3.8/site-packages/sklearn/model_selection/_validation.py:686: DataConversionWarning: A column-vector y was passed when a 1d array was expected. Please change the shape of y to (n_samples,), for example using ravel().\n",
      "  estimator.fit(X_train, y_train, **fit_params)\n",
      "/home/cdsw/.local/lib/python3.8/site-packages/sklearn/model_selection/_validation.py:686: DataConversionWarning: A column-vector y was passed when a 1d array was expected. Please change the shape of y to (n_samples,), for example using ravel().\n",
      "  estimator.fit(X_train, y_train, **fit_params)\n",
      "/home/cdsw/.local/lib/python3.8/site-packages/sklearn/utils/validation.py:1111: DataConversionWarning: A column-vector y was passed when a 1d array was expected. Please change the shape of y to (n_samples, ), for example using ravel().\n",
      "  y = column_or_1d(y, warn=True)\n",
      "/home/cdsw/.local/lib/python3.8/site-packages/sklearn/utils/validation.py:1111: DataConversionWarning: A column-vector y was passed when a 1d array was expected. Please change the shape of y to (n_samples, ), for example using ravel().\n",
      "  y = column_or_1d(y, warn=True)\n",
      "/home/cdsw/.local/lib/python3.8/site-packages/sklearn/utils/validation.py:1111: DataConversionWarning: A column-vector y was passed when a 1d array was expected. Please change the shape of y to (n_samples, ), for example using ravel().\n",
      "  y = column_or_1d(y, warn=True)\n",
      "/home/cdsw/.local/lib/python3.8/site-packages/sklearn/utils/validation.py:1111: DataConversionWarning: A column-vector y was passed when a 1d array was expected. Please change the shape of y to (n_samples, ), for example using ravel().\n",
      "  y = column_or_1d(y, warn=True)\n",
      "/home/cdsw/.local/lib/python3.8/site-packages/sklearn/utils/validation.py:1111: DataConversionWarning: A column-vector y was passed when a 1d array was expected. Please change the shape of y to (n_samples, ), for example using ravel().\n",
      "  y = column_or_1d(y, warn=True)\n",
      "/home/cdsw/.local/lib/python3.8/site-packages/sklearn/model_selection/_validation.py:686: DataConversionWarning: A column-vector y was passed when a 1d array was expected. Please change the shape of y to (n_samples,), for example using ravel().\n",
      "  estimator.fit(X_train, y_train, **fit_params)\n",
      "/home/cdsw/.local/lib/python3.8/site-packages/sklearn/model_selection/_validation.py:686: DataConversionWarning: A column-vector y was passed when a 1d array was expected. Please change the shape of y to (n_samples,), for example using ravel().\n",
      "  estimator.fit(X_train, y_train, **fit_params)\n",
      "/home/cdsw/.local/lib/python3.8/site-packages/sklearn/model_selection/_validation.py:686: DataConversionWarning: A column-vector y was passed when a 1d array was expected. Please change the shape of y to (n_samples,), for example using ravel().\n",
      "  estimator.fit(X_train, y_train, **fit_params)\n",
      "/home/cdsw/.local/lib/python3.8/site-packages/sklearn/model_selection/_validation.py:686: DataConversionWarning: A column-vector y was passed when a 1d array was expected. Please change the shape of y to (n_samples,), for example using ravel().\n",
      "  estimator.fit(X_train, y_train, **fit_params)\n",
      "/home/cdsw/.local/lib/python3.8/site-packages/sklearn/model_selection/_validation.py:686: DataConversionWarning: A column-vector y was passed when a 1d array was expected. Please change the shape of y to (n_samples,), for example using ravel().\n",
      "  estimator.fit(X_train, y_train, **fit_params)\n",
      "/home/cdsw/.local/lib/python3.8/site-packages/sklearn/model_selection/_validation.py:686: DataConversionWarning: A column-vector y was passed when a 1d array was expected. Please change the shape of y to (n_samples,), for example using ravel().\n",
      "  estimator.fit(X_train, y_train, **fit_params)\n",
      "/home/cdsw/.local/lib/python3.8/site-packages/sklearn/model_selection/_validation.py:686: DataConversionWarning: A column-vector y was passed when a 1d array was expected. Please change the shape of y to (n_samples,), for example using ravel().\n",
      "  estimator.fit(X_train, y_train, **fit_params)\n",
      "/home/cdsw/.local/lib/python3.8/site-packages/sklearn/model_selection/_validation.py:686: DataConversionWarning: A column-vector y was passed when a 1d array was expected. Please change the shape of y to (n_samples,), for example using ravel().\n",
      "  estimator.fit(X_train, y_train, **fit_params)\n",
      "/home/cdsw/.local/lib/python3.8/site-packages/sklearn/model_selection/_validation.py:686: DataConversionWarning: A column-vector y was passed when a 1d array was expected. Please change the shape of y to (n_samples,), for example using ravel().\n",
      "  estimator.fit(X_train, y_train, **fit_params)\n",
      "/home/cdsw/.local/lib/python3.8/site-packages/sklearn/model_selection/_validation.py:686: DataConversionWarning: A column-vector y was passed when a 1d array was expected. Please change the shape of y to (n_samples,), for example using ravel().\n",
      "  estimator.fit(X_train, y_train, **fit_params)\n",
      "/home/cdsw/.local/lib/python3.8/site-packages/sklearn/model_selection/_validation.py:686: DataConversionWarning: A column-vector y was passed when a 1d array was expected. Please change the shape of y to (n_samples,), for example using ravel().\n",
      "  estimator.fit(X_train, y_train, **fit_params)\n",
      "/home/cdsw/.local/lib/python3.8/site-packages/sklearn/model_selection/_validation.py:686: DataConversionWarning: A column-vector y was passed when a 1d array was expected. Please change the shape of y to (n_samples,), for example using ravel().\n",
      "  estimator.fit(X_train, y_train, **fit_params)\n",
      "/home/cdsw/.local/lib/python3.8/site-packages/sklearn/model_selection/_validation.py:686: DataConversionWarning: A column-vector y was passed when a 1d array was expected. Please change the shape of y to (n_samples,), for example using ravel().\n",
      "  estimator.fit(X_train, y_train, **fit_params)\n",
      "/home/cdsw/.local/lib/python3.8/site-packages/sklearn/model_selection/_validation.py:686: DataConversionWarning: A column-vector y was passed when a 1d array was expected. Please change the shape of y to (n_samples,), for example using ravel().\n",
      "  estimator.fit(X_train, y_train, **fit_params)\n",
      "/home/cdsw/.local/lib/python3.8/site-packages/sklearn/utils/validation.py:1111: DataConversionWarning: A column-vector y was passed when a 1d array was expected. Please change the shape of y to (n_samples, ), for example using ravel().\n",
      "  y = column_or_1d(y, warn=True)\n",
      "/home/cdsw/.local/lib/python3.8/site-packages/sklearn/utils/validation.py:1111: DataConversionWarning: A column-vector y was passed when a 1d array was expected. Please change the shape of y to (n_samples, ), for example using ravel().\n",
      "  y = column_or_1d(y, warn=True)\n",
      "/home/cdsw/.local/lib/python3.8/site-packages/sklearn/utils/validation.py:1111: DataConversionWarning: A column-vector y was passed when a 1d array was expected. Please change the shape of y to (n_samples, ), for example using ravel().\n",
      "  y = column_or_1d(y, warn=True)\n",
      "/home/cdsw/.local/lib/python3.8/site-packages/sklearn/utils/validation.py:1111: DataConversionWarning: A column-vector y was passed when a 1d array was expected. Please change the shape of y to (n_samples, ), for example using ravel().\n",
      "  y = column_or_1d(y, warn=True)\n",
      "/home/cdsw/.local/lib/python3.8/site-packages/sklearn/utils/validation.py:1111: DataConversionWarning: A column-vector y was passed when a 1d array was expected. Please change the shape of y to (n_samples, ), for example using ravel().\n",
      "  y = column_or_1d(y, warn=True)\n",
      "/home/cdsw/.local/lib/python3.8/site-packages/sklearn/utils/validation.py:1111: DataConversionWarning: A column-vector y was passed when a 1d array was expected. Please change the shape of y to (n_samples, ), for example using ravel().\n",
      "  y = column_or_1d(y, warn=True)\n",
      "/home/cdsw/.local/lib/python3.8/site-packages/sklearn/model_selection/_validation.py:686: DataConversionWarning: A column-vector y was passed when a 1d array was expected. Please change the shape of y to (n_samples,), for example using ravel().\n",
      "  estimator.fit(X_train, y_train, **fit_params)\n",
      "/home/cdsw/.local/lib/python3.8/site-packages/sklearn/model_selection/_validation.py:686: DataConversionWarning: A column-vector y was passed when a 1d array was expected. Please change the shape of y to (n_samples,), for example using ravel().\n",
      "  estimator.fit(X_train, y_train, **fit_params)\n",
      "/home/cdsw/.local/lib/python3.8/site-packages/sklearn/model_selection/_validation.py:686: DataConversionWarning: A column-vector y was passed when a 1d array was expected. Please change the shape of y to (n_samples,), for example using ravel().\n",
      "  estimator.fit(X_train, y_train, **fit_params)\n",
      "/home/cdsw/.local/lib/python3.8/site-packages/sklearn/model_selection/_validation.py:686: DataConversionWarning: A column-vector y was passed when a 1d array was expected. Please change the shape of y to (n_samples,), for example using ravel().\n",
      "  estimator.fit(X_train, y_train, **fit_params)\n",
      "/home/cdsw/.local/lib/python3.8/site-packages/sklearn/model_selection/_validation.py:686: DataConversionWarning: A column-vector y was passed when a 1d array was expected. Please change the shape of y to (n_samples,), for example using ravel().\n",
      "  estimator.fit(X_train, y_train, **fit_params)\n",
      "/home/cdsw/.local/lib/python3.8/site-packages/sklearn/model_selection/_validation.py:686: DataConversionWarning: A column-vector y was passed when a 1d array was expected. Please change the shape of y to (n_samples,), for example using ravel().\n",
      "  estimator.fit(X_train, y_train, **fit_params)\n",
      "/home/cdsw/.local/lib/python3.8/site-packages/sklearn/model_selection/_validation.py:686: DataConversionWarning: A column-vector y was passed when a 1d array was expected. Please change the shape of y to (n_samples,), for example using ravel().\n",
      "  estimator.fit(X_train, y_train, **fit_params)\n",
      "/home/cdsw/.local/lib/python3.8/site-packages/sklearn/model_selection/_validation.py:686: DataConversionWarning: A column-vector y was passed when a 1d array was expected. Please change the shape of y to (n_samples,), for example using ravel().\n",
      "  estimator.fit(X_train, y_train, **fit_params)\n",
      "/home/cdsw/.local/lib/python3.8/site-packages/sklearn/model_selection/_validation.py:686: DataConversionWarning: A column-vector y was pas/home/cdsw/.local/lib/python3.8/site-packages/sklearn/utils/validation.py:1111: DataConversionWarning: A column-vector y was passed when a 1d array was expected. Please change the shape of y to (n_samples, ), for example using ravel().\n",
      "  y = column_or_1d(y, warn=True)\n",
      "/home/cdsw/.local/lib/python3.8/site-packages/sklearn/utils/validation.py:1111: DataConversionWarning: A column-vector y was passed when a 1d array was expected. Please change the shape of y to (n_samples, ), for example using ravel().\n",
      "  y = column_or_1d(y, warn=True)\n",
      "/home/cdsw/.local/lib/python3.8/site-packages/sklearn/utils/validation.py:1111: DataConversionWarning: A column-vector y was passed when a 1d array was expected. Please change the shape of y to (n_samples, ), for example using ravel().\n",
      "  y = column_or_1d(y, warn=True)\n",
      "/home/cdsw/.local/lib/python3.8/site-packages/sklearn/utils/validation.py:1111: DataConversionWarning: A column-vector y was passed when a 1d array was expected. Please change the shape of y to (n_samples, ), for example using ravel().\n",
      "  y = column_or_1d(y, warn=True)\n",
      "/home/cdsw/.local/lib/python3.8/site-packages/sklearn/model_selection/_validation.py:686: DataConversionWarning: A column-vector y was passed when a 1d array was expected. Please change the shape of y to (n_samples,), for example using ravel().\n",
      "  estimator.fit(X_train, y_train, **fit_params)\n",
      "/home/cdsw/.local/lib/python3.8/site-packages/sklearn/model_selection/_validation.py:686: DataConversionWarning: A column-vector y was passed when a 1d array was expected. Please change the shape of y to (n_samples,), for example using ravel().\n",
      "  estimator.fit(X_train, y_train, **fit_params)\n",
      "/home/cdsw/.local/lib/python3.8/site-packages/sklearn/model_selection/_validation.py:686: DataConversionWarning: A column-vector y was passed when a 1d array was expected. Please change the shape of y to (n_samples,), for example using ravel().\n",
      "  estimator.fit(X_train, y_train, **fit_params)\n",
      "/home/cdsw/.local/lib/python3.8/site-packages/sklearn/model_selection/_validation.py:686: DataConversionWarning: A column-vector y was passed when a 1d array was expected. Please change the shape of y to (n_samples,), for example using ravel().\n",
      "  estimator.fit(X_train, y_train, **fit_params)\n",
      "/home/cdsw/.local/lib/python3.8/site-packages/sklearn/model_selection/_validation.py:686: DataConversionWarning: A column-vector y was passed when a 1d array was expected. Please change the shape of y to (n_samples,), for example using ravel().\n",
      "  estimator.fit(X_train, y_train, **fit_params)\n",
      "/home/cdsw/.local/lib/python3.8/site-packages/sklearn/model_selection/_validation.py:686: DataConversionWarning: A column-vector y was passed when a 1d array was expected. Please change the shape of y to (n_samples,), for example using ravel().\n",
      "  estimator.fit(X_train, y_train, **fit_params)\n",
      "/home/cdsw/.local/lib/python3.8/site-packages/sklearn/model_selection/_validation.py:686: DataConversionWarning: A column-vector y was passed when a 1d array was expected. Please change the shape of y to (n_samples,), for example using ravel().\n",
      "  estimator.fit(X_train, y_train, **fit_params)\n",
      "/home/cdsw/.local/lib/python3.8/site-packages/sklearn/model_selection/_validation.py:686: DataConversionWarning: A column-vector y was passed when a 1d array was expected. Please change the shape of y to (n_samples,), for example using ravel().\n",
      "  estimator.fit(X_train, y_train, **fit_params)\n",
      "/home/cdsw/.local/lib/python3.8/site-packages/sklearn/model_selection/_validation.py:686: DataConversionWarning: A column-vector y was passed when a 1d array was expected. Please change the shape of y to (n_samples,), for example using ravel().\n",
      "  estimator.fit(X_train, y_train, **fit_params)\n",
      "/home/cdsw/.local/lib/python3.8/site-packages/sklearn/model_selection/_validation.py:686: DataConversionWarning: A column-vector y was passed when a 1d array was expected. Please change the shape of y to (n_samples,), for example using ravel().\n",
      "  estimator.fit(X_train, y_train, **fit_params)\n",
      "/home/cdsw/.local/lib/python3.8/site-packages/sklearn/model_selection/_validation.py:686: /home/cdsw/.local/lib/python3.8/site-packages/sklearn/utils/validation.py:1111: DataConversionWarning: A column-vector y was passed when a 1d array was expected. Please change the shape of y to (n_samples, ), for example using ravel().\n",
      "  y = column_or_1d(y, warn=True)\n",
      "/home/cdsw/.local/lib/python3.8/site-packages/sklearn/utils/validation.py:1111: DataConversionWarning: A column-vector y was passed when a 1d array was expected. Please change the shape of y to (n_samples, ), for example using ravel().\n",
      "  y = column_or_1d(y, warn=True)\n",
      "/home/cdsw/.local/lib/python3.8/site-packages/sklearn/utils/validation.py:1111: DataConversionWarning: A column-vector y was passed when a 1d array was expected. Please change the shape of y to (n_samples, ), for example using ravel().\n",
      "  y = column_or_1d(y, warn=True)\n",
      "/home/cdsw/.local/lib/python3.8/site-packages/sklearn/utils/validation.py:1111: DataConversionWarning: A column-vector y was passed when a 1d array was expected. Please change the shape of y to (n_samples, ), for example using ravel().\n",
      "  y = column_or_1d(y, warn=True)\n",
      "/home/cdsw/.local/lib/python3.8/site-packages/sklearn/model_selection/_validation.py:686: DataConversionWarning: A column-vector y was passed when a 1d array was expected. Please change the shape of y to (n_samples,), for example using ravel().\n",
      "  estimator.fit(X_train, y_train, **fit_params)\n",
      "/home/cdsw/.local/lib/python3.8/site-packages/sklearn/model_selection/_validation.py:686: DataConversionWarning: A column-vector y was passed when a 1d array was expected. Please change the shape of y to (n_samples,), for example using ravel().\n",
      "  estimator.fit(X_train, y_train, **fit_params)\n",
      "/home/cdsw/.local/lib/python3.8/site-packages/sklearn/model_selection/_validation.py:686: DataConversionWarning: A column-vector y was passed when a 1d array was expected. Please change the shape of y to (n_samples,), for example using ravel().\n",
      "  estimator.fit(X_train, y_train, **fit_params)\n",
      "/home/cdsw/.local/lib/python3.8/site-packages/sklearn/model_selection/_validation.py:686: DataConversionWarning: A column-vector y was passed when a 1d array was expected. Please change the shape of y to (n_samples,), for example using ravel().\n",
      "  estimator.fit(X_train, y_train, **fit_params)\n",
      "/home/cdsw/.local/lib/python3.8/site-packages/sklearn/model_selection/_validation.py:686: DataConversionWarning: A column-vector y was passed when a 1d array was expected. Please change the shape of y to (n_samples,), for example using ravel().\n",
      "  estimator.fit(X_train, y_train, **fit_params)\n",
      "/home/cdsw/.local/lib/python3.8/site-packages/sklearn/model_selection/_validation.py:686: DataConversionWarning: A column-vector y was passed when a 1d array was expected. Please change the shape of y to (n_samples,), for example using ravel().\n",
      "  estimator.fit(X_train, y_train, **fit_params)\n",
      "/home/cdsw/.local/lib/python3.8/site-packages/sklearn/model_selection/_validation.py:686: DataConversionWarning: A column-vector y was passed when a 1d array was expected. Please change the shape of y to (n_samples,), for example using ravel().\n",
      "  estimator.fit(X_train, y_train, **fit_params)\n",
      "/home/cdsw/.local/lib/python3.8/site-packages/sklearn/model_selection/_validation.py:686: DataConversionWarning: A column-vector y was passed when a 1d array was expected. Please change the shape of y to (n_samples,), for example using ravel().\n",
      "  estimator.fit(X_train, y_train, **fit_params)\n",
      "/home/cdsw/.local/lib/python3.8/site-packages/sklearn/model_selection/_validation.py:686: DataConversionWarning: A column-vector y was passed when a 1d array was expected. Please change the shape of y to (n_samples,), for example using ravel().\n",
      "  estimator.fit(X_train, y_train, **fit_params)\n",
      "/home/cdsw/.local/lib/python3.8/site-packages/sklearn/model_selection/_validation.py:686: DataConversionWarning: A column-vector y was passed when a 1d array was expected. Please change the shape of y to (n_samples,), for example using ravel().\n",
      "  estimator.fit(X_train, y_train, **fit_params)\n",
      "/home/cdsw/.local/lib/python3.8/site-packages/sklearn/model_selection/_validation.py:686: DataConversionWarning: A column-vector y was passed when a 1d array was expected. Please change the shape of y to (n_samples,), for example using ravel().\n",
      "  estimator.fit(X_train, y_train, **fit_params)\n",
      "/home/cdsw/.local/lib/python3.8/site-packages/sklearn/model_selection/_validation.py:686: DataConversionWarning: A column-vector y was passed when a 1d array was expected. Please change the shape of y to (n_samples,), for example using ravel().\n",
      "  estimator.fit(X_train, y_train, **fit_params)\n",
      "/home/cdsw/.local/lib/python3.8/site-packages/sklearn/model_selection/_validation.py:686: DataConversionWarning: A column-vector y was passed when a 1d array was expected. Please change the shape of y to (n_samples,), for example using ravel().\n",
      "  estimator.fit(X_train, y_train, **fit_params)\n",
      "/home/cdsw/.local/lib/python3.8/site-packages/sklearn/model_selection/_validation.py:686: DataConversionWarning: A column-vector y was passed when a 1d array was expected. Please change the shape of y to (n_samples,), for example using ravel().\n",
      "  estimator.fit(X_train, y_train, **fit_params)\n",
      "/home/cdsw/.local/lib/python3.8/site-packages/sklearn/model_selection/_validation.py:686: DataConversionWarning: A column-vector y was passed when a 1d array was expected. Please change the shape of y to (n_samples,), for example using ravel().\n",
      "  estimator.fit(X_train, y_train, **fit_params)\n",
      "/home/cdsw/.local/lib/python3.8/site-packages/sklearn/model_selection/_validation.py:686: DataConversionWarning: A column-vector y was passed when a 1d array was expected. Please change the shape of y to (n_samples,), for example using ravel().\n",
      "  estimator.fit(X_train, y_train, **fit_params)\n",
      "/home/cdsw/.local/lib/python3.8/site-packages/sklearn/model_selection/_validation.py:686: DataConversionWarning: A column-vector y was passed when a 1d array was expected. Please change the shape of y to (n_samples,), for example using ravel().\n",
      "  estimator.fit(X_train, y_train, **fit_params)\n",
      "/home/cdsw/.local/lib/python3.8/site-packages/sklearn/model_selection/_validation.py:686: DataConversionWarning: A column-vector y was passed when a 1d array was expected. Please change the shape of y to (n_samples,), for example using ravel().\n",
      "  estimator.fit(X_train, y_train, **fit_params)\n",
      "/home/cdsw/.local/lib/python3.8/site-packages/sklearn/model_selection/_validation.py:686: DataConversionWarning: A column-vector y was passed when a 1d array was expected. Please change the shape of y to (n_samples,), for example using ravel().\n",
      "  estimator.fit(X_train, y_train, **fit_params)\n",
      "/home/cdsw/.local/lib/python3.8/site-packages/sklearn/utils/validation.py:1111: DataConversionWarning: A column-vector y was passed when a 1d array was expected. Please change the shape of y to (n_samples, ), for example using ravel().\n",
      "  y = column_or_1d(y, warn=True)\n",
      "/home/cdsw/.local/lib/python3.8/site-packages/sklearn/utils/validation.py:1111: DataConversionWarning: A column-vector y was passed when a 1d array was expected. Please change the shape of y to (n_samples, ), for example using ravel().\n",
      "  y = column_or_1d(y, warn=True)\n",
      "/home/cdsw/.local/lib/python3.8/site-packages/sklearn/utils/validation.py:1111: DataConversionWarning: A column-vector y was passed when a 1d array was expected. Please change the shape of y to (n_samples, ), for example using ravel().\n",
      "  y = column_or_1d(y, warn=True)\n",
      "/home/cdsw/.local/lib/python3.8/site-packages/sklearn/utils/validation.py:1111: DataConversionWarning: A column-vector y was passed when a 1d array was expected. Please change the shape of y to (n_samples, ), for example using ravel().\n",
      "  y = column_or_1d(y, warn=True)\n",
      "/home/cdsw/.local/lib/python3.8/site-packages/sklearn/model_selection/_validation.py:686: DataConversionWarning: A column-vector y was passed when a 1d array was expected. Please change the shape of y to (n_samples,), for example using ravel().\n",
      "  estimator.fit(X_train, y_train, **fit_params)\n",
      "/home/cdsw/.local/lib/python3.8/site-packages/sklearn/model_selection/_validation.py:686: DataConversionWarning: A column-vector y was passed when a 1d array was expected. Please change the shape of y to (n_samples,), for example using ravel().\n",
      "  estimator.fit(X_train, y_train, **fit_params)\n",
      "/home/cdsw/.local/lib/python3.8/site-packages/sklearn/model_selection/_validation.py:686: DataConversionWarning: A column-vector y was passed when a 1d array was expected. Please change the shape of y to (n_samples,), for example using ravel().\n",
      "  estimator.fit(X_train, y_train, **fit_params)\n",
      "/home/cdsw/.local/lib/python3.8/site-packages/sklearn/model_selection/_validation.py:686: DataConversionWarning: A column-vector y was passed when a 1d array was expected. Please change the shape of y to (n_samples,), for example using ravel().\n",
      "  estimator.fit(X_train, y_train, **fit_params)\n",
      "/home/cdsw/.local/lib/python3.8/site-packages/sklearn/model_selection/_validation.py:686: DataConversionWarning: A column-vector y was passed when a 1d array was expected. Please change the shape of y to (n_samples,), for example using ravel().\n",
      "  estimator.fit(X_train, y_train, **fit_params)\n",
      "/home/cdsw/.local/lib/python3.8/site-packages/sklearn/model_selection/_validation.py:686: DataConversionWarning: A column-vector y was passed when a 1d array was expected. Please change the shape of y to (n_samples,), for example using ravel().\n",
      "  estimator.fit(X_train, y_train, **fit_params)\n",
      "/home/cdsw/.local/lib/python3.8/site-packages/sklearn/model_selection/_validation.py:686: DataConversionWarning: A column-vector y was passed when a 1d array was expected. Please change the shape of y to (n_samples,), for example using ravel().\n",
      "  estimator.fit(X_train, y_train, **fit_params)\n",
      "/home/cdsw/.local/lib/python3.8/site-packages/sklearn/model_selection/_validation.py:686: DataConversionWarning: A column-vector y was passed when a 1d array was expected. Please change the shape of y to (n_samples,), for example using ravel().\n",
      "  estimator.fit(X_train, y_train, **fit_params)\n",
      "/home/cdsw/.local/lib/python3.8/site-packages/sklearn/model_selection/_validation.py:686: DataConversionWarning: A column-vector y was passed when a 1d array was expected. Please change the shape of y to (n_samples,), for example using ravel().\n",
      "  estimator.fit(X_train, y_train, **fit_params)\n",
      "/home/cdsw/.local/lib/python3.8/site-packages/sklearn/model_selection/_validation.py:686: DataConversionWarning: A column-vector y was passed when a 1d array was expected. Please change the shape of y to (n_samples,), for example using ravel().\n",
      "  estimator.fit(X_train, y_train, **fit_params)\n",
      "/home/cdsw/.local/lib/python3.8/site-packages/sklearn/model_selection/_validation.py:686: /home/cdsw/.local/lib/python3.8/site-packages/sklearn/utils/validation.py:1111: DataConversionWarning: A column-vector y was passed when a 1d array was expected. Please change the shape of y to (n_samples, ), for example using ravel().\n",
      "  y = column_or_1d(y, warn=True)\n",
      "/home/cdsw/.local/lib/python3.8/site-packages/sklearn/utils/validation.py:1111: DataConversionWarning: A column-vector y was passed when a 1d array was expected. Please change the shape of y to (n_samples, ), for example using ravel().\n",
      "  y = column_or_1d(y, warn=True)\n",
      "/home/cdsw/.local/lib/python3.8/site-packages/sklearn/utils/validation.py:1111: DataConversionWarning: A column-vector y was passed when a 1d array was expected. Please change the shape of y to (n_samples, ), for example using ravel().\n",
      "  y = column_or_1d(y, warn=True)\n",
      "/home/cdsw/.local/lib/python3.8/site-packages/sklearn/utils/validation.py:1111: DataConversionWarning: A column-vector y was passed when a 1d array was expected. Please change the shape of y to (n_samples, ), for example using ravel().\n",
      "  y = column_or_1d(y, warn=True)\n",
      "/home/cdsw/.local/lib/python3.8/site-packages/sklearn/utils/validation.py:1111: DataConversionWarning: A column-vector y was passed when a 1d array was expected. Please change the shape of y to (n_samples, ), for example using ravel().\n",
      "  y = column_or_1d(y, warn=True)\n",
      "/home/cdsw/.local/lib/python3.8/site-packages/sklearn/utils/validation.py:1111: DataConversionWarning: A column-vector y was passed when a 1d array was expected. Please change the shape of y to (n_samples, ), for example using ravel().\n",
      "  y = column_or_1d(y, warn=True)\n",
      "/home/cdsw/.local/lib/python3.8/site-packages/sklearn/model_selection/_validation.py:686: DataConversionWarning: A column-vector y was passed when a 1d array was expected. Please change the shape of y to (n_samples,), for example using ravel().\n",
      "  estimator.fit(X_train, y_train, **fit_params)\n",
      "/home/cdsw/.local/lib/python3.8/site-packages/sklearn/model_selection/_validation.py:686: DataConversionWarning: A column-vector y was passed when a 1d array was expected. Please change the shape of y to (n_samples,), for example using ravel().\n",
      "  estimator.fit(X_train, y_train, **fit_params)\n",
      "/home/cdsw/.local/lib/python3.8/site-packages/sklearn/model_selection/_validation.py:686: DataConversionWarning: A column-vector y was passed when a 1d array was expected. Please change the shape of y to (n_samples,), for example using ravel().\n",
      "  estimator.fit(X_train, y_train, **fit_params)\n",
      "/home/cdsw/.local/lib/python3.8/site-packages/sklearn/model_selection/_validation.py:686: DataConversionWarning: A column-vector y was passed when a 1d array was expected. Please change the shape of y to (n_samples,), for example using ravel().\n",
      "  estimator.fit(X_train, y_train, **fit_params)\n",
      "/home/cdsw/.local/lib/python3.8/site-packages/sklearn/model_selection/_validation.py:686: DataConversionWarning: A column-vector y was passed when a 1d array was expected. Please change the shape of y to (n_samples,), for example using ravel().\n",
      "  estimator.fit(X_train, y_train, **fit_params)\n",
      "/home/cdsw/.local/lib/python3.8/site-packages/sklearn/model_selection/_validation.py:686: DataConversionWarning: A column-vector y was passed when a 1d array was expected. Please change the shape of y to (n_samples,), for example using ravel().\n",
      "  estimator.fit(X_train, y_train, **fit_params)\n",
      "/home/cdsw/.local/lib/python3.8/site-packages/sklearn/model_selection/_validation.py:686: DataConversionWarning: A column-vector y was passed when a 1d array was expected. Please change the shape of y to (n_samples,), for example using ravel().\n",
      "  estimator.fit(X_train, y_train, **fit_params)\n",
      "/home/cdsw/.local/lib/python3.8/site-packages/sklearn/model_selection/_validation.py:686: DataConversionWarning: A column-vector y was passed when a 1d array was expected. Please change the shape of y to (n_samples,), for example using ravel().\n",
      "  estimator.fit(X_train, y_train, **fit_params)\n",
      "/home/cdsw/.local/lib/python3.8/site-packages/sklearn/model_selection/_validation.py:686: DataConversionWarning: A column-vector y was pasDataConversionWarning: A column-vector y was passed when a 1d array was expected. Please change the shape of y to (n_samples,), for example using ravel().\n",
      "  estimator.fit(X_train, y_train, **fit_params)\n",
      "DataConversionWarning: A column-vector y was passed when a 1d array was expected. Please change the shape of y to (n_samples,), for example using ravel().\n",
      "  estimator.fit(X_train, y_train, **fit_params)\n",
      "/home/cdsw/.local/lib/python3.8/site-packages/sklearn/model_selection/_validation.py:686: DataConversionWarning: A column-vector y was passed when a 1d array was expected. Please change the shape of y to (n_samples,), for example using ravel().\n",
      "  estimator.fit(X_train, y_train, **fit_params)\n",
      "/home/cdsw/.local/lib/python3.8/site-packages/sklearn/model_selection/_validation.py:686: DataConversionWarning: A column-vector y was passed when a 1d array was expected. Please change the shape of y to (n_samples,), for example using ravel().\n",
      "  estimator.fit(X_train, y_train, **fit_params)\n",
      "sed when a 1d array was expected. Please change the shape of y to (n_samples,), for example using ravel().\n",
      "  estimator.fit(X_train, y_train, **fit_params)\n",
      "/home/cdsw/.local/lib/python3.8/site-packages/sklearn/utils/validation.py:1111: DataConversionWarning: A column-vector y was passed when a 1d array was expected. Please change the shape of y to (n_samples, ), for example using ravel().\n",
      "  y = column_or_1d(y, warn=True)\n",
      "/home/cdsw/.local/lib/python3.8/site-packages/sklearn/utils/validation.py:1111: DataConversionWarning: A column-vector y was passed when a 1d array was expected. Please change the shape of y to (n_samples, ), for example using ravel().\n",
      "  y = column_or_1d(y, warn=True)\n",
      "/home/cdsw/.local/lib/python3.8/site-packages/sklearn/utils/validation.py:1111: DataConversionWarning: A column-vector y was passed when a 1d array was expected. Please change the shape of y to (n_samples, ), for example using ravel().\n",
      "  y = column_or_1d(y, warn=True)\n",
      "/home/cdsw/.local/lib/python3.8/site-packages/sklearn/utils/validation.py:1111: DataConversionWarning: A column-vector y was passed when a 1d array was expected. Please change the shape of y to (n_samples, ), for example using ravel().\n",
      "  y = column_or_1d(y, warn=True)\n",
      "/home/cdsw/.local/lib/python3.8/site-packages/sklearn/model_selection/_validation.py:686: DataConversionWarning: A column-vector y was passed when a 1d array was expected. Please change the shape of y to (n_samples,), for example using ravel().\n",
      "  estimator.fit(X_train, y_train, **fit_params)\n",
      "/home/cdsw/.local/lib/python3.8/site-packages/sklearn/model_selection/_validation.py:686: DataConversionWarning: A column-vector y was passed when a 1d array was expected. Please change the shape of y to (n_samples,), for example using ravel().\n",
      "  estimator.fit(X_train, y_train, **fit_params)\n",
      "/home/cdsw/.local/lib/python3.8/site-packages/sklearn/model_selection/_validation.py:686: DataConversionWarning: A column-vector y was passed when a 1d array was expected. Please change the shape of y to (n_samples,), for example using ravel().\n",
      "  estimator.fit(X_train, y_train, **fit_params)\n",
      "/home/cdsw/.local/lib/python3.8/site-packages/sklearn/model_selection/_validation.py:686: DataConversionWarning: A column-vector y was passed when a 1d array was expected. Please change the shape of y to (n_samples,), for example using ravel().\n",
      "  estimator.fit(X_train, y_train, **fit_params)\n",
      "/home/cdsw/.local/lib/python3.8/site-packages/sklearn/model_selection/_validation.py:686: DataConversionWarning: A column-vector y was passed when a 1d array was expected. Please change the shape of y to (n_samples,), for example using ravel().\n",
      "  estimator.fit(X_train, y_train, **fit_params)\n",
      "/home/cdsw/.local/lib/python3.8/site-packages/sklearn/model_selection/_validation.py:686: DataConversionWarning: A column-vector y was passed when a 1d array was expected. Please change the shape of y to (n_samples,), for example using ravel().\n",
      "  estimator.fit(X_train, y_train, **fit_params)\n",
      "/home/cdsw/.local/lib/python3.8/site-packages/sklearn/model_selection/_validation.py:686: DataConversionWarning: A column-vector y was passed when a 1d array was expected. Please change the shape of y to (n_samples,), for example using ravel().\n",
      "  estimator.fit(X_train, y_train, **fit_params)\n",
      "/home/cdsw/.local/lib/python3.8/site-packages/sklearn/model_selection/_validation.py:686: DataConversionWarning: A column-vector y was passed when a 1d array was expected. Please change the shape of y to (n_samples,), for example using ravel().\n",
      "  estimator.fit(X_train, y_train, **fit_params)\n",
      "/home/cdsw/.local/lib/python3.8/site-packages/sklearn/model_selection/_validation.py:686: DataConversionWarning: A column-vector y was passed when a 1d array was expected. Please change the shape of y to (n_samples,), for example using ravel().\n",
      "  estimator.fit(X_train, y_train, **fit_params)\n",
      "/home/cdsw/.local/lib/python3.8/site-packages/sklearn/model_selection/_validation.py:686: DataConversionWarning: A column-vector y was passed when a 1d array was expected. Please change the shape of y to (n_samples,), for example using ravel().\n",
      "  estimator.fit(X_train, y_train, **fit_params)\n",
      "/home/cdsw/.local/lib/python3.8/site-packages/sklearn/model_selection/_validation.py:686: sed when a 1d array was expected. Please change the shape of y to (n_samples,), for example using ravel().\n",
      "  estimator.fit(X_train, y_train, **fit_params)\n",
      "/home/cdsw/.local/lib/python3.8/site-packages/sklearn/model_selection/_validation.py:686: DataConversionWarning: A column-vector y was passed when a 1d array was expected. Please change the shape of y to (n_samples,), for example using ravel().\n",
      "  estimator.fit(X_train, y_train, **fit_params)\n",
      "/home/cdsw/.local/lib/python3.8/site-packages/sklearn/model_selection/_validation.py:686: DataConversionWarning: A column-vector y was passed when a 1d array was expected. Please change the shape of y to (n_samples,), for example using ravel().\n",
      "  estimator.fit(X_train, y_train, **fit_params)\n",
      "/home/cdsw/.local/lib/python3.8/site-packages/sklearn/model_selection/_validation.py:686: DataConversionWarning: A column-vector y was passed when a 1d array was expected. Please change the shape of y to (n_samples,), for example using ravel().\n",
      "  estimator.fit(X_train, y_train, **fit_params)\n",
      "/home/cdsw/.local/lib/python3.8/site-packages/sklearn/model_selection/_validation.py:686: DataConversionWarning: A column-vector y was passed when a 1d array was expected. Please change the shape of y to (n_samples,), for example using ravel().\n",
      "  estimator.fit(X_train, y_train, **fit_params)\n",
      "/home/cdsw/.local/lib/python3.8/site-packages/sklearn/model_selection/_validation.py:686: DataConversionWarning: A column-vector y was passed when a 1d array was expected. Please change the shape of y to (n_samples,), for example using ravel().\n",
      "  estimator.fit(X_train, y_train, **fit_params)\n",
      "DataConversionWarning: A column-vector y was passed when a 1d array was expected. Please change the shape of y to (n_samples,), for example using ravel().\n",
      "  estimator.fit(X_train, y_train, **fit_params)\n",
      "/home/cdsw/.local/lib/python3.8/site-packages/sklearn/model_selection/_validation.py:686: DataConversionWarning: A column-vector y was passed when a 1d array was expected. Please change the shape of y to (n_samples,), for example using ravel().\n",
      "  estimator.fit(X_train, y_train, **fit_params)\n"
     ]
    },
    {
     "data": {
      "image/png": "[encoded data removed]",
      "text/plain": [
       "<Figure size 576x367.2 with 1 Axes>"
      ]
     },
     "metadata": {
      "needs_background": "light"
     },
     "output_type": "display_data"
    }
   ],
   "source": [
    "# Variable Importance Plot — Global Interpretability\n",
    "import shap\n",
    "shap_values = shap.TreeExplainer(r_forest_clf).shap_values(X_train)\n",
    "shap.summary_plot(shap_values, X_train, plot_type=\"bar\")"
   ]
  },
  {
   "cell_type": "code",
   "execution_count": 68,
   "id": "fa285a44-b3f5-436f-a3ea-eb2733d16bca",
   "metadata": {},
   "outputs": [
    {
     "ename": "ValueError",
     "evalue": "Could not find feature named: sensor_40",
     "output_type": "error",
     "traceback": [
      "\u001b[0;31m---------------------------------------------------------------------------\u001b[0m",
      "\u001b[0;31mValueError\u001b[0m                                Traceback (most recent call last)",
      "\u001b[0;32m/tmp/ipykernel_207/3463416989.py\u001b[0m in \u001b[0;36m<module>\u001b[0;34m\u001b[0m\n\u001b[0;32m----> 1\u001b[0;31m \u001b[0mshap\u001b[0m\u001b[0;34m.\u001b[0m\u001b[0mdependence_plot\u001b[0m\u001b[0;34m(\u001b[0m\u001b[0;34m\"sensor_40\"\u001b[0m\u001b[0;34m,\u001b[0m \u001b[0mshap_values\u001b[0m\u001b[0;34m[\u001b[0m\u001b[0;36m1\u001b[0m\u001b[0;34m]\u001b[0m\u001b[0;34m,\u001b[0m \u001b[0mX_train\u001b[0m\u001b[0;34m)\u001b[0m\u001b[0;34m\u001b[0m\u001b[0;34m\u001b[0m\u001b[0m\n\u001b[0m",
      "\u001b[0;32m~/.local/lib/python3.8/site-packages/shap/plots/_scatter.py\u001b[0m in \u001b[0;36mdependence_legacy\u001b[0;34m(ind, shap_values, features, feature_names, display_features, interaction_index, color, axis_color, cmap, dot_size, x_jitter, alpha, title, xmin, xmax, ax, show, ymin, ymax)\u001b[0m\n\u001b[1;32m    561\u001b[0m         \u001b[0mfeatures\u001b[0m \u001b[0;34m=\u001b[0m \u001b[0mnp\u001b[0m\u001b[0;34m.\u001b[0m\u001b[0mreshape\u001b[0m\u001b[0;34m(\u001b[0m\u001b[0mfeatures\u001b[0m\u001b[0;34m,\u001b[0m \u001b[0mlen\u001b[0m\u001b[0;34m(\u001b[0m\u001b[0mfeatures\u001b[0m\u001b[0;34m)\u001b[0m\u001b[0;34m,\u001b[0m \u001b[0;36m1\u001b[0m\u001b[0;34m)\u001b[0m\u001b[0;34m\u001b[0m\u001b[0;34m\u001b[0m\u001b[0m\n\u001b[1;32m    562\u001b[0m \u001b[0;34m\u001b[0m\u001b[0m\n\u001b[0;32m--> 563\u001b[0;31m     \u001b[0mind\u001b[0m \u001b[0;34m=\u001b[0m \u001b[0mconvert_name\u001b[0m\u001b[0;34m(\u001b[0m\u001b[0mind\u001b[0m\u001b[0;34m,\u001b[0m \u001b[0mshap_values\u001b[0m\u001b[0;34m,\u001b[0m \u001b[0mfeature_names\u001b[0m\u001b[0;34m)\u001b[0m\u001b[0;34m\u001b[0m\u001b[0;34m\u001b[0m\u001b[0m\n\u001b[0m\u001b[1;32m    564\u001b[0m \u001b[0;34m\u001b[0m\u001b[0m\n\u001b[1;32m    565\u001b[0m     \u001b[0;31m# guess what other feature as the stongest interaction with the plotted feature\u001b[0m\u001b[0;34m\u001b[0m\u001b[0;34m\u001b[0m\u001b[0;34m\u001b[0m\u001b[0m\n",
      "\u001b[0;32m~/.local/lib/python3.8/site-packages/shap/utils/_general.py\u001b[0m in \u001b[0;36mconvert_name\u001b[0;34m(ind, shap_values, input_names)\u001b[0m\n\u001b[1;32m     50\u001b[0m                 \u001b[0;32mreturn\u001b[0m \u001b[0;34m\"sum()\"\u001b[0m\u001b[0;34m\u001b[0m\u001b[0;34m\u001b[0m\u001b[0m\n\u001b[1;32m     51\u001b[0m             \u001b[0;32melse\u001b[0m\u001b[0;34m:\u001b[0m\u001b[0;34m\u001b[0m\u001b[0;34m\u001b[0m\u001b[0m\n\u001b[0;32m---> 52\u001b[0;31m                 \u001b[0;32mraise\u001b[0m \u001b[0mValueError\u001b[0m\u001b[0;34m(\u001b[0m\u001b[0;34m\"Could not find feature named: \"\u001b[0m \u001b[0;34m+\u001b[0m \u001b[0mind\u001b[0m\u001b[0;34m)\u001b[0m\u001b[0;34m\u001b[0m\u001b[0;34m\u001b[0m\u001b[0m\n\u001b[0m\u001b[1;32m     53\u001b[0m         \u001b[0;32melse\u001b[0m\u001b[0;34m:\u001b[0m\u001b[0;34m\u001b[0m\u001b[0;34m\u001b[0m\u001b[0m\n\u001b[1;32m     54\u001b[0m             \u001b[0;32mreturn\u001b[0m \u001b[0mnzinds\u001b[0m\u001b[0;34m[\u001b[0m\u001b[0;36m0\u001b[0m\u001b[0;34m]\u001b[0m\u001b[0;34m\u001b[0m\u001b[0;34m\u001b[0m\u001b[0m\n",
      "\u001b[0;31mValueError\u001b[0m: Could not find feature named: sensor_40"
     ]
    }
   ],
   "source": [
    "shap.dependence_plot(\"sensor_40\", shap_values[1], X_train)"
   ]
  },
  {
   "cell_type": "code",
   "execution_count": null,
   "id": "d3bacef3-19b2-4c39-bac4-66e5d9dae8da",
   "metadata": {},
   "outputs": [],
   "source": [
    "shap_values"
   ]
  },
  {
   "cell_type": "code",
   "execution_count": null,
   "id": "ee6d89c1-1604-4748-bbd6-5219478ffdda",
   "metadata": {},
   "outputs": [],
   "source": [
    "shap_values = explainer.shap_values(X)"
   ]
  },
  {
   "cell_type": "code",
   "execution_count": null,
   "id": "cc78909f-c869-4239-9d54-dec96acb9013",
   "metadata": {},
   "outputs": [],
   "source": [
    "shap.plots.beeswarm(shap_values)"
   ]
  },
  {
   "cell_type": "code",
   "execution_count": null,
   "id": "7dbef8c5-c388-468c-a060-6b55e0215e7b",
   "metadata": {},
   "outputs": [],
   "source": [
    "#SHAP Dependence Plot — Global Interpretability\n",
    "shap.dependence_plot(\"sensor_40\", shap_values, X_train)"
   ]
  },
  {
   "cell_type": "code",
   "execution_count": null,
   "id": "638501f9-55ce-43ef-a5dc-69b5c773672d",
   "metadata": {},
   "outputs": [],
   "source": [
    "# Local bar plot\n",
    "shap.plots.bar(shap_values[0])\n"
   ]
  },
  {
   "cell_type": "code",
   "execution_count": null,
   "id": "af512079-f36c-4f5a-b338-34ce5844119a",
   "metadata": {},
   "outputs": [],
   "source": [
    "# Waterfall plot\n",
    "shap.plots.waterfall(shap_values[0])"
   ]
  },
  {
   "cell_type": "code",
   "execution_count": null,
   "id": "7b818c00-8fd5-4ea2-9a41-310dc9b0b392",
   "metadata": {},
   "outputs": [],
   "source": [
    "# Force Plot\n",
    "shap.plots.force(shap_test[0])"
   ]
  },
  {
   "cell_type": "code",
   "execution_count": null,
   "id": "953a605e-d71b-4005-a51b-b79aa6bc3965",
   "metadata": {},
   "outputs": [],
   "source": []
  },
  {
   "cell_type": "code",
   "execution_count": null,
   "id": "e89a2df5-e667-40fb-b1f0-995e856376c1",
   "metadata": {},
   "outputs": [],
   "source": []
  },
  {
   "cell_type": "code",
   "execution_count": null,
   "id": "8ec6bcb5-7add-4bdb-a15d-7e7a6caabc62",
   "metadata": {},
   "outputs": [],
   "source": []
  },
  {
   "cell_type": "code",
   "execution_count": null,
   "id": "2df822b5-e500-405e-846e-1635372bfe49",
   "metadata": {},
   "outputs": [],
   "source": []
  },
  {
   "cell_type": "markdown",
   "id": "51797320-72e3-44b1-bad4-49ebd8d01f19",
   "metadata": {},
   "source": [
    "#### XGBoost\n"
   ]
  },
  {
   "cell_type": "code",
   "execution_count": null,
   "id": "d48c312d-4a5e-4c0f-8ab1-ce13f25bf0a4",
   "metadata": {},
   "outputs": [],
   "source": [
    "# XGBoost classifier\n",
    "xgb_clf = XGBClassifier()\n",
    "\n",
    "# parameter to tune\n",
    "# n_estimators: number of estimators\n",
    "# max_depth: maximum depth of the tree\n",
    "param_grid = {'n_estimators': [5, 10, 20, 30, 40, 50],\n",
    "                'max_depth': [1, 3, 5, 7, 10, 20, 30]}\n",
    "\n",
    "# defining model to tune hyperparameter\n",
    "xgb_cv = GridSearchCV(estimator=xgb_clf,\n",
    "                        param_grid=param_grid,\n",
    "                        cv=folds,\n",
    "                        scoring='f1_macro',\n",
    "                        n_jobs=-1,\n",
    "                        return_train_score=True)\n",
    "\n",
    "# fit model to train data\n",
    "xgb_cv.fit(X_train, y_train)"
   ]
  },
  {
   "cell_type": "code",
   "execution_count": null,
   "id": "993bc962-6717-453c-bd24-210dfa230ba3",
   "metadata": {},
   "outputs": [],
   "source": [
    "# plotting cross validation result\n",
    "get_cv_heatmap(xgb_cv)"
   ]
  },
  {
   "cell_type": "code",
   "execution_count": null,
   "id": "f0a744e0-c219-481d-b6f4-b5c8aa5547fd",
   "metadata": {},
   "outputs": [],
   "source": [
    "# Logs gridsearchcv to MlFlow\n",
    "log_results(xgb_cv, \"xgb_gridcv\", \"xgb_1\", {\"versione\":\"1\" }, False)"
   ]
  },
  {
   "cell_type": "markdown",
   "id": "9e2c6b22-5bae-4c8f-9317-2fce08e27c68",
   "metadata": {},
   "source": [
    "Observations:\n",
    "- From the heatmap optimum values are considered\n",
    "- Optimum max_depth = 1\n",
    "- Optimum n_estimators = 5"
   ]
  },
  {
   "cell_type": "markdown",
   "id": "e4f20928-182f-4f6a-933b-a1344727c57e",
   "metadata": {},
   "source": [
    "Training:"
   ]
  },
  {
   "cell_type": "code",
   "execution_count": null,
   "id": "d09b857f-fafe-4486-abac-64cdbb4f462b",
   "metadata": {},
   "outputs": [],
   "source": [
    "xgb_cv.best_params_"
   ]
  },
  {
   "cell_type": "code",
   "execution_count": null,
   "id": "8f433f4b-4fe8-4458-ac3c-36ea04991474",
   "metadata": {},
   "outputs": [],
   "source": [
    "# optimum parameters\n",
    "max_depth = 3\n",
    "n_estimator = 5"
   ]
  },
  {
   "cell_type": "code",
   "execution_count": null,
   "id": "15f3d6e6-53c7-41a6-b6a4-6005bd5edba9",
   "metadata": {},
   "outputs": [],
   "source": [
    "# traing with optimum tree depth and number of estimators\n",
    "xgb_clf = XGBClassifier(n_estimators=n_estimator, max_depth=max_depth)\n",
    "\n",
    "xgb_clf.fit(X_train, y_train)"
   ]
  },
  {
   "cell_type": "code",
   "execution_count": null,
   "id": "d0a5466c-f674-4bd4-9ae0-7e39de0fe77f",
   "metadata": {},
   "outputs": [],
   "source": [
    "get_result(xgb_clf, X_test, y_test)"
   ]
  },
  {
   "cell_type": "markdown",
   "id": "f057f681-95e7-4826-985b-cd2eb02978bd",
   "metadata": {},
   "source": [
    "Observations:\n",
    "- Macro F1-Score of 0.9963 is obtained\n",
    "- Model correctly classified 83760 Normal class data points and 5474 Broken class data points\n",
    "- Model misclassified 11 Normal class data points as Broken and 65 Broken class data points as Normal\n",
    "- Total misclassification count is 76"
   ]
  },
  {
   "cell_type": "code",
   "execution_count": null,
   "id": "53d978f7-b2af-41fe-b985-67a00acbc4eb",
   "metadata": {},
   "outputs": [],
   "source": []
  },
  {
   "cell_type": "code",
   "execution_count": null,
   "id": "0200c513-2419-4aa1-a819-e7f8d3589339",
   "metadata": {},
   "outputs": [],
   "source": []
  },
  {
   "cell_type": "code",
   "execution_count": null,
   "id": "9c477f65-81f8-4194-8ce0-99d332d51119",
   "metadata": {},
   "outputs": [],
   "source": []
  },
  {
   "cell_type": "code",
   "execution_count": null,
   "id": "72cb6380-323c-4075-ae1e-66d39c0edb21",
   "metadata": {},
   "outputs": [],
   "source": []
  }
 ],
 "metadata": {
  "kernelspec": {
   "display_name": "Python 3 (ipykernel)",
   "language": "python",
   "name": "python3"
  },
  "language_info": {
   "codemirror_mode": {
    "name": "ipython",
    "version": 3
   },
   "file_extension": ".py",
   "mimetype": "text/x-python",
   "name": "python",
   "nbconvert_exporter": "python",
   "pygments_lexer": "ipython3",
   "version": "3.8.13"
  }
 },
 "nbformat": 4,
 "nbformat_minor": 5
}
