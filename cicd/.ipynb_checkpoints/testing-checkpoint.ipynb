{
 "cells": [
  {
   "cell_type": "code",
   "execution_count": 1,
   "id": "6119b373-9290-4c9b-8fb7-8dfc88ca5e59",
   "metadata": {},
   "outputs": [],
   "source": [
    "import numpy as np\n",
    "import pandas as pd\n",
    "from sklearn import preprocessing\n",
    "import matplotlib.pyplot as plt\n",
    "import seaborn as sns \n",
    "import warnings\n",
    "warnings.filterwarnings(\"ignore\")\n",
    "\n",
    "import findspark\n",
    "findspark.init()\n",
    "\n",
    "from pyspark.sql import SparkSession\n",
    "from pyspark.sql.functions import *\n",
    "\n",
    "import unittest\n",
    "import pytest"
   ]
  },
  {
   "cell_type": "code",
   "execution_count": 2,
   "id": "807dfa9f-3987-4f26-8236-eedd2e84f7e4",
   "metadata": {},
   "outputs": [],
   "source": [
    "import pandas as pd\n",
    "import numpy as np\n",
    " \n",
    " \n",
    "#from evidently.pipeline.column_mapping import ColumnMapping\n",
    " \n",
    "from evidently.report import Report\n",
    "from evidently.metric_preset import DataDrift, NumTargetDrift\n",
    " \n",
    "from evidently.test_suite import TestSuite\n",
    "from evidently.test_preset import DataQuality, DataStability\n",
    "from evidently.tests import *"
   ]
  },
  {
   "cell_type": "code",
   "execution_count": 4,
   "id": "3cb7db7a-ab10-4202-a186-86dab75b560a",
   "metadata": {},
   "outputs": [],
   "source": [
    "spark = SparkSession.builder\\\n",
    "  .appName(\"Refresh Raw into Icerberg Table\") \\\n",
    "  .config(\"spark.hadoop.fs.s3a.s3guard.ddb.region\", \"us-west-2\")\\\n",
    "  .config(\"spark.kerberos.access.hadoopFileSystems\", \"s3a://ps-uat2\")\\\n",
    "  .config(\"spark.jars\",\"/home/cdsw/lib/iceberg-spark-runtime-3.2_2.12-0.13.2.jar\") \\\n",
    "  .config(\"spark.sql.extensions\",\"org.apache.iceberg.spark.extensions.IcebergSparkSessionExtensions\") \\\n",
    "  .config(\"spark.sql.catalog.spark_catalog\",\"org.apache.iceberg.spark.SparkSessionCatalog\") \\\n",
    "  .config(\"spark.sql.catalog.spark_catalog.type\",\"hive\") \\\n",
    "  .getOrCreate()\n",
    "\n",
    "#read raw data \n",
    "df_proc = spark.sql(\"SELECT * FROM spark_catalog.default.pump_processed\")\n",
    "df_proc = df_proc.toPandas()"
   ]
  },
  {
   "cell_type": "markdown",
   "id": "05fa336b-0273-42f6-9828-68eda31db97b",
   "metadata": {
    "jp-MarkdownHeadingCollapsed": true,
    "tags": []
   },
   "source": [
    "## model metrics"
   ]
  },
  {
   "cell_type": "code",
   "execution_count": 173,
   "id": "cefb5b41-dcbb-4901-a01a-bbeae463ba3f",
   "metadata": {},
   "outputs": [
    {
     "data": {
      "text/html": [
       "<div>\n",
       "<style scoped>\n",
       "    .dataframe tbody tr th:only-of-type {\n",
       "        vertical-align: middle;\n",
       "    }\n",
       "\n",
       "    .dataframe tbody tr th {\n",
       "        vertical-align: top;\n",
       "    }\n",
       "\n",
       "    .dataframe thead th {\n",
       "        text-align: right;\n",
       "    }\n",
       "</style>\n",
       "<table border=\"1\" class=\"dataframe\">\n",
       "  <thead>\n",
       "    <tr style=\"text-align: right;\">\n",
       "      <th></th>\n",
       "      <th>modelDeploymentCrn</th>\n",
       "      <th>modelBuildCrn</th>\n",
       "      <th>modelCrn</th>\n",
       "      <th>startTimeStampMs</th>\n",
       "      <th>endTimeStampMs</th>\n",
       "      <th>predictionUuid</th>\n",
       "      <th>metrics.data.sensor_00</th>\n",
       "      <th>metrics.data.sensor_02</th>\n",
       "      <th>metrics.data.sensor_04</th>\n",
       "      <th>metrics.data.sensor_06</th>\n",
       "      <th>metrics.data.sensor_07</th>\n",
       "      <th>metrics.data.sensor_08</th>\n",
       "      <th>metrics.data.sensor_09</th>\n",
       "      <th>metrics.data.sensor_10</th>\n",
       "      <th>metrics.data.sensor_11</th>\n",
       "      <th>metrics.data.sensor_51</th>\n",
       "      <th>metrics.prediction</th>\n",
       "    </tr>\n",
       "  </thead>\n",
       "  <tbody>\n",
       "    <tr>\n",
       "      <th>0</th>\n",
       "      <td>crn:cdp:ml:us-west-1:558bc1d2-8867-4357-8524-311d51259233:workspace:de20f039-2b2a-48ea-b388-1be9ffd49da1/492d014a-d103-4f7e-a8f7-ca8cb4509794</td>\n",
       "      <td>crn:cdp:ml:us-west-1:558bc1d2-8867-4357-8524-311d51259233:workspace:de20f039-2b2a-48ea-b388-1be9ffd49da1/9a65790c-b135-4944-9705-d24903ac5145</td>\n",
       "      <td>crn:cdp:ml:us-west-1:558bc1d2-8867-4357-8524-311d51259233:workspace:de20f039-2b2a-48ea-b388-1be9ffd49da1/7ee08632-3e70-4974-a970-c0180812d840</td>\n",
       "      <td>1665424435115</td>\n",
       "      <td>1665424435125</td>\n",
       "      <td>3f327860-b8ac-48fb-867e-cfb0637d8c15</td>\n",
       "      <td>2.455556</td>\n",
       "      <td>51.08507</td>\n",
       "      <td>641.435181</td>\n",
       "      <td>14.5761</td>\n",
       "      <td>16.24711</td>\n",
       "      <td>15.65393</td>\n",
       "      <td>15.16204</td>\n",
       "      <td>48.44366</td>\n",
       "      <td>44.11775</td>\n",
       "      <td>184.8958</td>\n",
       "      <td>1</td>\n",
       "    </tr>\n",
       "    <tr>\n",
       "      <th>1</th>\n",
       "      <td>crn:cdp:ml:us-west-1:558bc1d2-8867-4357-8524-311d51259233:workspace:de20f039-2b2a-48ea-b388-1be9ffd49da1/492d014a-d103-4f7e-a8f7-ca8cb4509794</td>\n",
       "      <td>crn:cdp:ml:us-west-1:558bc1d2-8867-4357-8524-311d51259233:workspace:de20f039-2b2a-48ea-b388-1be9ffd49da1/9a65790c-b135-4944-9705-d24903ac5145</td>\n",
       "      <td>crn:cdp:ml:us-west-1:558bc1d2-8867-4357-8524-311d51259233:workspace:de20f039-2b2a-48ea-b388-1be9ffd49da1/7ee08632-3e70-4974-a970-c0180812d840</td>\n",
       "      <td>1665426121516</td>\n",
       "      <td>1665426121526</td>\n",
       "      <td>a1712727-9709-4d44-aeab-18a0e81e82fb</td>\n",
       "      <td>2.455556</td>\n",
       "      <td>51.08507</td>\n",
       "      <td>641.435181</td>\n",
       "      <td>14.5761</td>\n",
       "      <td>16.24711</td>\n",
       "      <td>15.65393</td>\n",
       "      <td>15.16204</td>\n",
       "      <td>48.44366</td>\n",
       "      <td>44.11775</td>\n",
       "      <td>184.8958</td>\n",
       "      <td>1</td>\n",
       "    </tr>\n",
       "    <tr>\n",
       "      <th>2</th>\n",
       "      <td>crn:cdp:ml:us-west-1:558bc1d2-8867-4357-8524-311d51259233:workspace:de20f039-2b2a-48ea-b388-1be9ffd49da1/492d014a-d103-4f7e-a8f7-ca8cb4509794</td>\n",
       "      <td>crn:cdp:ml:us-west-1:558bc1d2-8867-4357-8524-311d51259233:workspace:de20f039-2b2a-48ea-b388-1be9ffd49da1/9a65790c-b135-4944-9705-d24903ac5145</td>\n",
       "      <td>crn:cdp:ml:us-west-1:558bc1d2-8867-4357-8524-311d51259233:workspace:de20f039-2b2a-48ea-b388-1be9ffd49da1/7ee08632-3e70-4974-a970-c0180812d840</td>\n",
       "      <td>1665423769973</td>\n",
       "      <td>1665423769983</td>\n",
       "      <td>d1672e3e-26cc-4cba-a4bb-d1690edf3545</td>\n",
       "      <td>2.455556</td>\n",
       "      <td>51.08507</td>\n",
       "      <td>641.435181</td>\n",
       "      <td>14.5761</td>\n",
       "      <td>16.24711</td>\n",
       "      <td>15.65393</td>\n",
       "      <td>15.16204</td>\n",
       "      <td>48.44366</td>\n",
       "      <td>44.11775</td>\n",
       "      <td>184.8958</td>\n",
       "      <td>1</td>\n",
       "    </tr>\n",
       "    <tr>\n",
       "      <th>3</th>\n",
       "      <td>crn:cdp:ml:us-west-1:558bc1d2-8867-4357-8524-311d51259233:workspace:de20f039-2b2a-48ea-b388-1be9ffd49da1/492d014a-d103-4f7e-a8f7-ca8cb4509794</td>\n",
       "      <td>crn:cdp:ml:us-west-1:558bc1d2-8867-4357-8524-311d51259233:workspace:de20f039-2b2a-48ea-b388-1be9ffd49da1/9a65790c-b135-4944-9705-d24903ac5145</td>\n",
       "      <td>crn:cdp:ml:us-west-1:558bc1d2-8867-4357-8524-311d51259233:workspace:de20f039-2b2a-48ea-b388-1be9ffd49da1/7ee08632-3e70-4974-a970-c0180812d840</td>\n",
       "      <td>1665424257290</td>\n",
       "      <td>1665424257301</td>\n",
       "      <td>0f564abb-3d2a-4c5c-b4e3-e89ab810e4fe</td>\n",
       "      <td>2.455556</td>\n",
       "      <td>51.08507</td>\n",
       "      <td>641.435181</td>\n",
       "      <td>14.5761</td>\n",
       "      <td>16.24711</td>\n",
       "      <td>15.65393</td>\n",
       "      <td>15.16204</td>\n",
       "      <td>48.44366</td>\n",
       "      <td>44.11775</td>\n",
       "      <td>184.8958</td>\n",
       "      <td>1</td>\n",
       "    </tr>\n",
       "    <tr>\n",
       "      <th>4</th>\n",
       "      <td>crn:cdp:ml:us-west-1:558bc1d2-8867-4357-8524-311d51259233:workspace:de20f039-2b2a-48ea-b388-1be9ffd49da1/492d014a-d103-4f7e-a8f7-ca8cb4509794</td>\n",
       "      <td>crn:cdp:ml:us-west-1:558bc1d2-8867-4357-8524-311d51259233:workspace:de20f039-2b2a-48ea-b388-1be9ffd49da1/9a65790c-b135-4944-9705-d24903ac5145</td>\n",
       "      <td>crn:cdp:ml:us-west-1:558bc1d2-8867-4357-8524-311d51259233:workspace:de20f039-2b2a-48ea-b388-1be9ffd49da1/7ee08632-3e70-4974-a970-c0180812d840</td>\n",
       "      <td>1665423621904</td>\n",
       "      <td>1665423621915</td>\n",
       "      <td>d3bc3493-4068-4d2e-9bf6-cb3f0514b3c1</td>\n",
       "      <td>2.455556</td>\n",
       "      <td>51.08507</td>\n",
       "      <td>641.435181</td>\n",
       "      <td>14.5761</td>\n",
       "      <td>16.24711</td>\n",
       "      <td>15.65393</td>\n",
       "      <td>15.16204</td>\n",
       "      <td>48.44366</td>\n",
       "      <td>44.11775</td>\n",
       "      <td>184.8958</td>\n",
       "      <td>1</td>\n",
       "    </tr>\n",
       "    <tr>\n",
       "      <th>5</th>\n",
       "      <td>crn:cdp:ml:us-west-1:558bc1d2-8867-4357-8524-311d51259233:workspace:de20f039-2b2a-48ea-b388-1be9ffd49da1/492d014a-d103-4f7e-a8f7-ca8cb4509794</td>\n",
       "      <td>crn:cdp:ml:us-west-1:558bc1d2-8867-4357-8524-311d51259233:workspace:de20f039-2b2a-48ea-b388-1be9ffd49da1/9a65790c-b135-4944-9705-d24903ac5145</td>\n",
       "      <td>crn:cdp:ml:us-west-1:558bc1d2-8867-4357-8524-311d51259233:workspace:de20f039-2b2a-48ea-b388-1be9ffd49da1/7ee08632-3e70-4974-a970-c0180812d840</td>\n",
       "      <td>1665414043669</td>\n",
       "      <td>1665414043755</td>\n",
       "      <td>dcb0f3c7-6fc7-4fa3-a7f2-ff8dd72eecf6</td>\n",
       "      <td>4219</td>\n",
       "      <td>31294</td>\n",
       "      <td>421</td>\n",
       "      <td>645</td>\n",
       "      <td>664</td>\n",
       "      <td>7654</td>\n",
       "      <td>12</td>\n",
       "      <td>1321</td>\n",
       "      <td>3124</td>\n",
       "      <td>643</td>\n",
       "      <td>1</td>\n",
       "    </tr>\n",
       "    <tr>\n",
       "      <th>6</th>\n",
       "      <td>crn:cdp:ml:us-west-1:558bc1d2-8867-4357-8524-311d51259233:workspace:de20f039-2b2a-48ea-b388-1be9ffd49da1/492d014a-d103-4f7e-a8f7-ca8cb4509794</td>\n",
       "      <td>crn:cdp:ml:us-west-1:558bc1d2-8867-4357-8524-311d51259233:workspace:de20f039-2b2a-48ea-b388-1be9ffd49da1/9a65790c-b135-4944-9705-d24903ac5145</td>\n",
       "      <td>crn:cdp:ml:us-west-1:558bc1d2-8867-4357-8524-311d51259233:workspace:de20f039-2b2a-48ea-b388-1be9ffd49da1/7ee08632-3e70-4974-a970-c0180812d840</td>\n",
       "      <td>1665417898564</td>\n",
       "      <td>1665417898575</td>\n",
       "      <td>cc2f5db5-a2ff-444f-88d3-15dea319f934</td>\n",
       "      <td>2.455556</td>\n",
       "      <td>51.08507</td>\n",
       "      <td>641.435181</td>\n",
       "      <td>14.5761</td>\n",
       "      <td>16.24711</td>\n",
       "      <td>15.65393</td>\n",
       "      <td>15.16204</td>\n",
       "      <td>48.44366</td>\n",
       "      <td>44.11775</td>\n",
       "      <td>184.8958</td>\n",
       "      <td>1</td>\n",
       "    </tr>\n",
       "    <tr>\n",
       "      <th>7</th>\n",
       "      <td>crn:cdp:ml:us-west-1:558bc1d2-8867-4357-8524-311d51259233:workspace:de20f039-2b2a-48ea-b388-1be9ffd49da1/492d014a-d103-4f7e-a8f7-ca8cb4509794</td>\n",
       "      <td>crn:cdp:ml:us-west-1:558bc1d2-8867-4357-8524-311d51259233:workspace:de20f039-2b2a-48ea-b388-1be9ffd49da1/9a65790c-b135-4944-9705-d24903ac5145</td>\n",
       "      <td>crn:cdp:ml:us-west-1:558bc1d2-8867-4357-8524-311d51259233:workspace:de20f039-2b2a-48ea-b388-1be9ffd49da1/7ee08632-3e70-4974-a970-c0180812d840</td>\n",
       "      <td>1665426137833</td>\n",
       "      <td>1665426137843</td>\n",
       "      <td>e8b990ab-65e3-4a7d-a8bd-6b5f85d742eb</td>\n",
       "      <td>2.455556</td>\n",
       "      <td>51.08507</td>\n",
       "      <td>641.435181</td>\n",
       "      <td>14.5761</td>\n",
       "      <td>16.24711</td>\n",
       "      <td>15.65393</td>\n",
       "      <td>15.16204</td>\n",
       "      <td>48.44366</td>\n",
       "      <td>44.11775</td>\n",
       "      <td>184.8958</td>\n",
       "      <td>1</td>\n",
       "    </tr>\n",
       "    <tr>\n",
       "      <th>8</th>\n",
       "      <td>crn:cdp:ml:us-west-1:558bc1d2-8867-4357-8524-311d51259233:workspace:de20f039-2b2a-48ea-b388-1be9ffd49da1/492d014a-d103-4f7e-a8f7-ca8cb4509794</td>\n",
       "      <td>crn:cdp:ml:us-west-1:558bc1d2-8867-4357-8524-311d51259233:workspace:de20f039-2b2a-48ea-b388-1be9ffd49da1/9a65790c-b135-4944-9705-d24903ac5145</td>\n",
       "      <td>crn:cdp:ml:us-west-1:558bc1d2-8867-4357-8524-311d51259233:workspace:de20f039-2b2a-48ea-b388-1be9ffd49da1/7ee08632-3e70-4974-a970-c0180812d840</td>\n",
       "      <td>1665423628843</td>\n",
       "      <td>1665423628854</td>\n",
       "      <td>8aecfa4d-08a5-4e4b-ae64-a7c9b6a70ddc</td>\n",
       "      <td>2.455556</td>\n",
       "      <td>51.08507</td>\n",
       "      <td>641.435181</td>\n",
       "      <td>14.5761</td>\n",
       "      <td>16.24711</td>\n",
       "      <td>15.65393</td>\n",
       "      <td>15.16204</td>\n",
       "      <td>48.44366</td>\n",
       "      <td>44.11775</td>\n",
       "      <td>184.8958</td>\n",
       "      <td>1</td>\n",
       "    </tr>\n",
       "  </tbody>\n",
       "</table>\n",
       "</div>"
      ],
      "text/plain": [
       "                                                                                                                              modelDeploymentCrn  \\\n",
       "0  crn:cdp:ml:us-west-1:558bc1d2-8867-4357-8524-311d51259233:workspace:de20f039-2b2a-48ea-b388-1be9ffd49da1/492d014a-d103-4f7e-a8f7-ca8cb4509794   \n",
       "1  crn:cdp:ml:us-west-1:558bc1d2-8867-4357-8524-311d51259233:workspace:de20f039-2b2a-48ea-b388-1be9ffd49da1/492d014a-d103-4f7e-a8f7-ca8cb4509794   \n",
       "2  crn:cdp:ml:us-west-1:558bc1d2-8867-4357-8524-311d51259233:workspace:de20f039-2b2a-48ea-b388-1be9ffd49da1/492d014a-d103-4f7e-a8f7-ca8cb4509794   \n",
       "3  crn:cdp:ml:us-west-1:558bc1d2-8867-4357-8524-311d51259233:workspace:de20f039-2b2a-48ea-b388-1be9ffd49da1/492d014a-d103-4f7e-a8f7-ca8cb4509794   \n",
       "4  crn:cdp:ml:us-west-1:558bc1d2-8867-4357-8524-311d51259233:workspace:de20f039-2b2a-48ea-b388-1be9ffd49da1/492d014a-d103-4f7e-a8f7-ca8cb4509794   \n",
       "5  crn:cdp:ml:us-west-1:558bc1d2-8867-4357-8524-311d51259233:workspace:de20f039-2b2a-48ea-b388-1be9ffd49da1/492d014a-d103-4f7e-a8f7-ca8cb4509794   \n",
       "6  crn:cdp:ml:us-west-1:558bc1d2-8867-4357-8524-311d51259233:workspace:de20f039-2b2a-48ea-b388-1be9ffd49da1/492d014a-d103-4f7e-a8f7-ca8cb4509794   \n",
       "7  crn:cdp:ml:us-west-1:558bc1d2-8867-4357-8524-311d51259233:workspace:de20f039-2b2a-48ea-b388-1be9ffd49da1/492d014a-d103-4f7e-a8f7-ca8cb4509794   \n",
       "8  crn:cdp:ml:us-west-1:558bc1d2-8867-4357-8524-311d51259233:workspace:de20f039-2b2a-48ea-b388-1be9ffd49da1/492d014a-d103-4f7e-a8f7-ca8cb4509794   \n",
       "\n",
       "                                                                                                                                   modelBuildCrn  \\\n",
       "0  crn:cdp:ml:us-west-1:558bc1d2-8867-4357-8524-311d51259233:workspace:de20f039-2b2a-48ea-b388-1be9ffd49da1/9a65790c-b135-4944-9705-d24903ac5145   \n",
       "1  crn:cdp:ml:us-west-1:558bc1d2-8867-4357-8524-311d51259233:workspace:de20f039-2b2a-48ea-b388-1be9ffd49da1/9a65790c-b135-4944-9705-d24903ac5145   \n",
       "2  crn:cdp:ml:us-west-1:558bc1d2-8867-4357-8524-311d51259233:workspace:de20f039-2b2a-48ea-b388-1be9ffd49da1/9a65790c-b135-4944-9705-d24903ac5145   \n",
       "3  crn:cdp:ml:us-west-1:558bc1d2-8867-4357-8524-311d51259233:workspace:de20f039-2b2a-48ea-b388-1be9ffd49da1/9a65790c-b135-4944-9705-d24903ac5145   \n",
       "4  crn:cdp:ml:us-west-1:558bc1d2-8867-4357-8524-311d51259233:workspace:de20f039-2b2a-48ea-b388-1be9ffd49da1/9a65790c-b135-4944-9705-d24903ac5145   \n",
       "5  crn:cdp:ml:us-west-1:558bc1d2-8867-4357-8524-311d51259233:workspace:de20f039-2b2a-48ea-b388-1be9ffd49da1/9a65790c-b135-4944-9705-d24903ac5145   \n",
       "6  crn:cdp:ml:us-west-1:558bc1d2-8867-4357-8524-311d51259233:workspace:de20f039-2b2a-48ea-b388-1be9ffd49da1/9a65790c-b135-4944-9705-d24903ac5145   \n",
       "7  crn:cdp:ml:us-west-1:558bc1d2-8867-4357-8524-311d51259233:workspace:de20f039-2b2a-48ea-b388-1be9ffd49da1/9a65790c-b135-4944-9705-d24903ac5145   \n",
       "8  crn:cdp:ml:us-west-1:558bc1d2-8867-4357-8524-311d51259233:workspace:de20f039-2b2a-48ea-b388-1be9ffd49da1/9a65790c-b135-4944-9705-d24903ac5145   \n",
       "\n",
       "                                                                                                                                        modelCrn  \\\n",
       "0  crn:cdp:ml:us-west-1:558bc1d2-8867-4357-8524-311d51259233:workspace:de20f039-2b2a-48ea-b388-1be9ffd49da1/7ee08632-3e70-4974-a970-c0180812d840   \n",
       "1  crn:cdp:ml:us-west-1:558bc1d2-8867-4357-8524-311d51259233:workspace:de20f039-2b2a-48ea-b388-1be9ffd49da1/7ee08632-3e70-4974-a970-c0180812d840   \n",
       "2  crn:cdp:ml:us-west-1:558bc1d2-8867-4357-8524-311d51259233:workspace:de20f039-2b2a-48ea-b388-1be9ffd49da1/7ee08632-3e70-4974-a970-c0180812d840   \n",
       "3  crn:cdp:ml:us-west-1:558bc1d2-8867-4357-8524-311d51259233:workspace:de20f039-2b2a-48ea-b388-1be9ffd49da1/7ee08632-3e70-4974-a970-c0180812d840   \n",
       "4  crn:cdp:ml:us-west-1:558bc1d2-8867-4357-8524-311d51259233:workspace:de20f039-2b2a-48ea-b388-1be9ffd49da1/7ee08632-3e70-4974-a970-c0180812d840   \n",
       "5  crn:cdp:ml:us-west-1:558bc1d2-8867-4357-8524-311d51259233:workspace:de20f039-2b2a-48ea-b388-1be9ffd49da1/7ee08632-3e70-4974-a970-c0180812d840   \n",
       "6  crn:cdp:ml:us-west-1:558bc1d2-8867-4357-8524-311d51259233:workspace:de20f039-2b2a-48ea-b388-1be9ffd49da1/7ee08632-3e70-4974-a970-c0180812d840   \n",
       "7  crn:cdp:ml:us-west-1:558bc1d2-8867-4357-8524-311d51259233:workspace:de20f039-2b2a-48ea-b388-1be9ffd49da1/7ee08632-3e70-4974-a970-c0180812d840   \n",
       "8  crn:cdp:ml:us-west-1:558bc1d2-8867-4357-8524-311d51259233:workspace:de20f039-2b2a-48ea-b388-1be9ffd49da1/7ee08632-3e70-4974-a970-c0180812d840   \n",
       "\n",
       "   startTimeStampMs  endTimeStampMs                        predictionUuid  \\\n",
       "0  1665424435115     1665424435125   3f327860-b8ac-48fb-867e-cfb0637d8c15   \n",
       "1  1665426121516     1665426121526   a1712727-9709-4d44-aeab-18a0e81e82fb   \n",
       "2  1665423769973     1665423769983   d1672e3e-26cc-4cba-a4bb-d1690edf3545   \n",
       "3  1665424257290     1665424257301   0f564abb-3d2a-4c5c-b4e3-e89ab810e4fe   \n",
       "4  1665423621904     1665423621915   d3bc3493-4068-4d2e-9bf6-cb3f0514b3c1   \n",
       "5  1665414043669     1665414043755   dcb0f3c7-6fc7-4fa3-a7f2-ff8dd72eecf6   \n",
       "6  1665417898564     1665417898575   cc2f5db5-a2ff-444f-88d3-15dea319f934   \n",
       "7  1665426137833     1665426137843   e8b990ab-65e3-4a7d-a8bd-6b5f85d742eb   \n",
       "8  1665423628843     1665423628854   8aecfa4d-08a5-4e4b-ae64-a7c9b6a70ddc   \n",
       "\n",
       "  metrics.data.sensor_00 metrics.data.sensor_02 metrics.data.sensor_04  \\\n",
       "0  2.455556               51.08507               641.435181              \n",
       "1  2.455556               51.08507               641.435181              \n",
       "2  2.455556               51.08507               641.435181              \n",
       "3  2.455556               51.08507               641.435181              \n",
       "4  2.455556               51.08507               641.435181              \n",
       "5  4219                   31294                  421                     \n",
       "6  2.455556               51.08507               641.435181              \n",
       "7  2.455556               51.08507               641.435181              \n",
       "8  2.455556               51.08507               641.435181              \n",
       "\n",
       "  metrics.data.sensor_06 metrics.data.sensor_07 metrics.data.sensor_08  \\\n",
       "0  14.5761                16.24711               15.65393                \n",
       "1  14.5761                16.24711               15.65393                \n",
       "2  14.5761                16.24711               15.65393                \n",
       "3  14.5761                16.24711               15.65393                \n",
       "4  14.5761                16.24711               15.65393                \n",
       "5  645                    664                    7654                    \n",
       "6  14.5761                16.24711               15.65393                \n",
       "7  14.5761                16.24711               15.65393                \n",
       "8  14.5761                16.24711               15.65393                \n",
       "\n",
       "  metrics.data.sensor_09 metrics.data.sensor_10 metrics.data.sensor_11  \\\n",
       "0  15.16204               48.44366               44.11775                \n",
       "1  15.16204               48.44366               44.11775                \n",
       "2  15.16204               48.44366               44.11775                \n",
       "3  15.16204               48.44366               44.11775                \n",
       "4  15.16204               48.44366               44.11775                \n",
       "5  12                     1321                   3124                    \n",
       "6  15.16204               48.44366               44.11775                \n",
       "7  15.16204               48.44366               44.11775                \n",
       "8  15.16204               48.44366               44.11775                \n",
       "\n",
       "  metrics.data.sensor_51  metrics.prediction  \n",
       "0  184.8958               1                   \n",
       "1  184.8958               1                   \n",
       "2  184.8958               1                   \n",
       "3  184.8958               1                   \n",
       "4  184.8958               1                   \n",
       "5  643                    1                   \n",
       "6  184.8958               1                   \n",
       "7  184.8958               1                   \n",
       "8  184.8958               1                   "
      ]
     },
     "execution_count": 173,
     "metadata": {},
     "output_type": "execute_result"
    }
   ],
   "source": [
    "#model_deployment_crn = \"crn:cdp:ml:us-west-1:558bc1d2-8867-4357-8524-311d51259233:workspace:de20f039-2b2a-48ea-b388-1be9ffd49da1/49482f84-894e-4307-aee8-e9990d22d351\"\n",
    "model_deployment_crn = \"crn:cdp:ml:us-west-1:558bc1d2-8867-4357-8524-311d51259233:workspace:de20f039-2b2a-48ea-b388-1be9ffd49da1/492d014a-d103-4f7e-a8f7-ca8cb4509794\"\n",
    "\n",
    "current_timestamp_ms = int(time.time()) * 1000\n",
    "\n",
    "known_metrics = cdsw.read_metrics(model_deployment_crn=model_deployment_crn,\n",
    "                                  start_timestamp_ms=0,\n",
    "                                  end_timestamp_ms=current_timestamp_ms)  \n",
    "\n",
    "production = pd.io.json.json_normalize(known_metrics[\"metrics\"])\n",
    "production"
   ]
  },
  {
   "cell_type": "markdown",
   "id": "8ede2f00-af1a-4b57-ad36-17a40a846326",
   "metadata": {
    "tags": []
   },
   "source": [
    "### monitoring post "
   ]
  },
  {
   "cell_type": "code",
   "execution_count": 142,
   "id": "66e81269-a1fa-4179-9e2a-0b110d41616d",
   "metadata": {},
   "outputs": [
    {
     "data": {
      "text/html": [
       "<div>\n",
       "<style scoped>\n",
       "    .dataframe tbody tr th:only-of-type {\n",
       "        vertical-align: middle;\n",
       "    }\n",
       "\n",
       "    .dataframe tbody tr th {\n",
       "        vertical-align: top;\n",
       "    }\n",
       "\n",
       "    .dataframe thead th {\n",
       "        text-align: right;\n",
       "    }\n",
       "</style>\n",
       "<table border=\"1\" class=\"dataframe\">\n",
       "  <thead>\n",
       "    <tr style=\"text-align: right;\">\n",
       "      <th></th>\n",
       "      <th>timestamp</th>\n",
       "      <th>sensor_00</th>\n",
       "      <th>sensor_02</th>\n",
       "      <th>sensor_04</th>\n",
       "      <th>sensor_06</th>\n",
       "      <th>sensor_07</th>\n",
       "      <th>sensor_08</th>\n",
       "      <th>sensor_09</th>\n",
       "      <th>sensor_10</th>\n",
       "      <th>sensor_11</th>\n",
       "      <th>sensor_51</th>\n",
       "      <th>target</th>\n",
       "    </tr>\n",
       "  </thead>\n",
       "  <tbody>\n",
       "    <tr>\n",
       "      <th>0</th>\n",
       "      <td>2018-04-01 00:00:00</td>\n",
       "      <td>2.465394</td>\n",
       "      <td>53.2118</td>\n",
       "      <td>634.3750</td>\n",
       "      <td>13.41146</td>\n",
       "      <td>16.13136</td>\n",
       "      <td>15.56713</td>\n",
       "      <td>15.05353</td>\n",
       "      <td>37.22740</td>\n",
       "      <td>47.52422</td>\n",
       "      <td>201.3889</td>\n",
       "      <td>1</td>\n",
       "    </tr>\n",
       "    <tr>\n",
       "      <th>1</th>\n",
       "      <td>2018-04-01 00:01:00</td>\n",
       "      <td>2.465394</td>\n",
       "      <td>53.2118</td>\n",
       "      <td>634.3750</td>\n",
       "      <td>13.41146</td>\n",
       "      <td>16.13136</td>\n",
       "      <td>15.56713</td>\n",
       "      <td>15.05353</td>\n",
       "      <td>37.22740</td>\n",
       "      <td>47.52422</td>\n",
       "      <td>201.3889</td>\n",
       "      <td>1</td>\n",
       "    </tr>\n",
       "    <tr>\n",
       "      <th>2</th>\n",
       "      <td>2018-04-01 00:02:00</td>\n",
       "      <td>2.444734</td>\n",
       "      <td>53.2118</td>\n",
       "      <td>638.8889</td>\n",
       "      <td>13.32465</td>\n",
       "      <td>16.03733</td>\n",
       "      <td>15.61777</td>\n",
       "      <td>15.01013</td>\n",
       "      <td>37.86777</td>\n",
       "      <td>48.17723</td>\n",
       "      <td>203.7037</td>\n",
       "      <td>1</td>\n",
       "    </tr>\n",
       "    <tr>\n",
       "      <th>3</th>\n",
       "      <td>2018-04-01 00:03:00</td>\n",
       "      <td>2.460474</td>\n",
       "      <td>53.1684</td>\n",
       "      <td>628.1250</td>\n",
       "      <td>13.31742</td>\n",
       "      <td>16.24711</td>\n",
       "      <td>15.69734</td>\n",
       "      <td>15.08247</td>\n",
       "      <td>38.57977</td>\n",
       "      <td>48.65607</td>\n",
       "      <td>203.1250</td>\n",
       "      <td>1</td>\n",
       "    </tr>\n",
       "    <tr>\n",
       "      <th>4</th>\n",
       "      <td>2018-04-01 00:04:00</td>\n",
       "      <td>2.445718</td>\n",
       "      <td>53.2118</td>\n",
       "      <td>636.4583</td>\n",
       "      <td>13.35359</td>\n",
       "      <td>16.21094</td>\n",
       "      <td>15.69734</td>\n",
       "      <td>15.08247</td>\n",
       "      <td>39.48939</td>\n",
       "      <td>49.06298</td>\n",
       "      <td>201.3889</td>\n",
       "      <td>1</td>\n",
       "    </tr>\n",
       "  </tbody>\n",
       "</table>\n",
       "</div>"
      ],
      "text/plain": [
       "             timestamp  sensor_00  sensor_02  sensor_04  sensor_06  sensor_07  \\\n",
       "0  2018-04-01 00:00:00  2.465394   53.2118    634.3750   13.41146   16.13136    \n",
       "1  2018-04-01 00:01:00  2.465394   53.2118    634.3750   13.41146   16.13136    \n",
       "2  2018-04-01 00:02:00  2.444734   53.2118    638.8889   13.32465   16.03733    \n",
       "3  2018-04-01 00:03:00  2.460474   53.1684    628.1250   13.31742   16.24711    \n",
       "4  2018-04-01 00:04:00  2.445718   53.2118    636.4583   13.35359   16.21094    \n",
       "\n",
       "   sensor_08  sensor_09  sensor_10  sensor_11  sensor_51  target  \n",
       "0  15.56713   15.05353   37.22740   47.52422   201.3889   1       \n",
       "1  15.56713   15.05353   37.22740   47.52422   201.3889   1       \n",
       "2  15.61777   15.01013   37.86777   48.17723   203.7037   1       \n",
       "3  15.69734   15.08247   38.57977   48.65607   203.1250   1       \n",
       "4  15.69734   15.08247   39.48939   49.06298   201.3889   1       "
      ]
     },
     "execution_count": 142,
     "metadata": {},
     "output_type": "execute_result"
    }
   ],
   "source": [
    "import pandas as pd\n",
    "from evidently.pipeline.column_mapping import ColumnMapping\n",
    "from evidently.report import Report\n",
    "#from evidently.metric_preset import DataDrift, NumTargetDrift, Cat\n",
    "\n",
    "from evidently.dashboard.tabs import DataDriftTab, CatTargetDriftTab\n",
    "\n",
    "from evidently.test_suite import TestSuite\n",
    "from evidently.test_preset import DataQuality, DataStability \n",
    "from evidently.tests import *\n",
    "\n",
    "import mlflow\n",
    "\n",
    "path_processed = \"/home/cdsw/data/pump_processed.csv\"\n",
    "\n",
    "df = pd.read_csv(path_processed)\n",
    "df['target'] = df['machine_status']\n",
    "df = df.drop([\"machine_status\"], axis=1)\n",
    "df.head()"
   ]
  },
  {
   "cell_type": "code",
   "execution_count": 143,
   "id": "4efc68ae-51ab-456a-9e36-e3fe87856737",
   "metadata": {},
   "outputs": [],
   "source": [
    "period = \"2018-08-01 00:00:00\"\n",
    "reference = df.loc[df.timestamp < period].drop(\"timestamp\",axis=1).sample(5000, random_state=0)\n",
    "target = df.loc[df.timestamp >= period].drop(\"timestamp\",axis=1).sample(5000, random_state=0)"
   ]
  },
  {
   "cell_type": "code",
   "execution_count": 144,
   "id": "e53d3c60-8504-4f3c-9214-98544f2eff0c",
   "metadata": {},
   "outputs": [
    {
     "data": {
      "text/html": [
       "<div>\n",
       "<style scoped>\n",
       "    .dataframe tbody tr th:only-of-type {\n",
       "        vertical-align: middle;\n",
       "    }\n",
       "\n",
       "    .dataframe tbody tr th {\n",
       "        vertical-align: top;\n",
       "    }\n",
       "\n",
       "    .dataframe thead th {\n",
       "        text-align: right;\n",
       "    }\n",
       "</style>\n",
       "<table border=\"1\" class=\"dataframe\">\n",
       "  <thead>\n",
       "    <tr style=\"text-align: right;\">\n",
       "      <th></th>\n",
       "      <th>sensor_00</th>\n",
       "      <th>sensor_02</th>\n",
       "      <th>sensor_04</th>\n",
       "      <th>sensor_06</th>\n",
       "      <th>sensor_07</th>\n",
       "      <th>sensor_08</th>\n",
       "      <th>sensor_09</th>\n",
       "      <th>sensor_10</th>\n",
       "      <th>sensor_11</th>\n",
       "      <th>sensor_51</th>\n",
       "      <th>target</th>\n",
       "    </tr>\n",
       "  </thead>\n",
       "  <tbody>\n",
       "    <tr>\n",
       "      <th>47296</th>\n",
       "      <td>2.453588</td>\n",
       "      <td>52.256940</td>\n",
       "      <td>643.6343</td>\n",
       "      <td>13.38252</td>\n",
       "      <td>16.42795</td>\n",
       "      <td>15.26331</td>\n",
       "      <td>14.82205</td>\n",
       "      <td>40.18721</td>\n",
       "      <td>47.26311</td>\n",
       "      <td>181.1343</td>\n",
       "      <td>1</td>\n",
       "    </tr>\n",
       "    <tr>\n",
       "      <th>4234</th>\n",
       "      <td>2.485070</td>\n",
       "      <td>52.473960</td>\n",
       "      <td>627.8935</td>\n",
       "      <td>13.30295</td>\n",
       "      <td>16.70284</td>\n",
       "      <td>15.85648</td>\n",
       "      <td>15.05353</td>\n",
       "      <td>40.68262</td>\n",
       "      <td>44.56194</td>\n",
       "      <td>209.4907</td>\n",
       "      <td>1</td>\n",
       "    </tr>\n",
       "    <tr>\n",
       "      <th>110346</th>\n",
       "      <td>2.503762</td>\n",
       "      <td>51.432289</td>\n",
       "      <td>640.8564</td>\n",
       "      <td>13.64294</td>\n",
       "      <td>16.07350</td>\n",
       "      <td>14.91609</td>\n",
       "      <td>14.74971</td>\n",
       "      <td>41.75233</td>\n",
       "      <td>34.38781</td>\n",
       "      <td>214.6991</td>\n",
       "      <td>1</td>\n",
       "    </tr>\n",
       "    <tr>\n",
       "      <th>96577</th>\n",
       "      <td>2.509664</td>\n",
       "      <td>52.126740</td>\n",
       "      <td>638.4259</td>\n",
       "      <td>13.56337</td>\n",
       "      <td>15.62500</td>\n",
       "      <td>15.53096</td>\n",
       "      <td>15.11863</td>\n",
       "      <td>45.87466</td>\n",
       "      <td>35.94968</td>\n",
       "      <td>182.0023</td>\n",
       "      <td>1</td>\n",
       "    </tr>\n",
       "    <tr>\n",
       "      <th>79988</th>\n",
       "      <td>2.445718</td>\n",
       "      <td>52.734370</td>\n",
       "      <td>629.3981</td>\n",
       "      <td>13.68634</td>\n",
       "      <td>16.03009</td>\n",
       "      <td>15.29224</td>\n",
       "      <td>15.11863</td>\n",
       "      <td>51.13341</td>\n",
       "      <td>33.16643</td>\n",
       "      <td>242.1875</td>\n",
       "      <td>1</td>\n",
       "    </tr>\n",
       "    <tr>\n",
       "      <th>...</th>\n",
       "      <td>...</td>\n",
       "      <td>...</td>\n",
       "      <td>...</td>\n",
       "      <td>...</td>\n",
       "      <td>...</td>\n",
       "      <td>...</td>\n",
       "      <td>...</td>\n",
       "      <td>...</td>\n",
       "      <td>...</td>\n",
       "      <td>...</td>\n",
       "      <td>...</td>\n",
       "    </tr>\n",
       "    <tr>\n",
       "      <th>154871</th>\n",
       "      <td>2.512616</td>\n",
       "      <td>50.000000</td>\n",
       "      <td>642.3611</td>\n",
       "      <td>14.60503</td>\n",
       "      <td>16.20370</td>\n",
       "      <td>15.56713</td>\n",
       "      <td>15.08247</td>\n",
       "      <td>47.40725</td>\n",
       "      <td>47.84417</td>\n",
       "      <td>188.3681</td>\n",
       "      <td>1</td>\n",
       "    </tr>\n",
       "    <tr>\n",
       "      <th>85914</th>\n",
       "      <td>2.459491</td>\n",
       "      <td>54.340270</td>\n",
       "      <td>622.8009</td>\n",
       "      <td>13.17274</td>\n",
       "      <td>16.21094</td>\n",
       "      <td>15.18374</td>\n",
       "      <td>15.08247</td>\n",
       "      <td>43.68761</td>\n",
       "      <td>40.20554</td>\n",
       "      <td>212.3843</td>\n",
       "      <td>1</td>\n",
       "    </tr>\n",
       "    <tr>\n",
       "      <th>124267</th>\n",
       "      <td>2.303067</td>\n",
       "      <td>49.522570</td>\n",
       "      <td>609.7222</td>\n",
       "      <td>13.60677</td>\n",
       "      <td>15.65393</td>\n",
       "      <td>14.91609</td>\n",
       "      <td>14.67737</td>\n",
       "      <td>37.88455</td>\n",
       "      <td>41.63232</td>\n",
       "      <td>-1.0000</td>\n",
       "      <td>1</td>\n",
       "    </tr>\n",
       "    <tr>\n",
       "      <th>142330</th>\n",
       "      <td>2.401447</td>\n",
       "      <td>52.387150</td>\n",
       "      <td>631.1343</td>\n",
       "      <td>14.09867</td>\n",
       "      <td>15.70457</td>\n",
       "      <td>15.18374</td>\n",
       "      <td>15.01013</td>\n",
       "      <td>43.92540</td>\n",
       "      <td>44.15007</td>\n",
       "      <td>197.3380</td>\n",
       "      <td>1</td>\n",
       "    </tr>\n",
       "    <tr>\n",
       "      <th>35226</th>\n",
       "      <td>2.454572</td>\n",
       "      <td>53.906250</td>\n",
       "      <td>631.4814</td>\n",
       "      <td>13.38252</td>\n",
       "      <td>15.87095</td>\n",
       "      <td>15.45139</td>\n",
       "      <td>15.08247</td>\n",
       "      <td>45.43184</td>\n",
       "      <td>44.79139</td>\n",
       "      <td>199.3634</td>\n",
       "      <td>1</td>\n",
       "    </tr>\n",
       "  </tbody>\n",
       "</table>\n",
       "<p>5000 rows × 11 columns</p>\n",
       "</div>"
      ],
      "text/plain": [
       "        sensor_00  sensor_02  sensor_04  sensor_06  sensor_07  sensor_08  \\\n",
       "47296   2.453588   52.256940  643.6343   13.38252   16.42795   15.26331    \n",
       "4234    2.485070   52.473960  627.8935   13.30295   16.70284   15.85648    \n",
       "110346  2.503762   51.432289  640.8564   13.64294   16.07350   14.91609    \n",
       "96577   2.509664   52.126740  638.4259   13.56337   15.62500   15.53096    \n",
       "79988   2.445718   52.734370  629.3981   13.68634   16.03009   15.29224    \n",
       "...          ...         ...       ...        ...        ...        ...    \n",
       "154871  2.512616   50.000000  642.3611   14.60503   16.20370   15.56713    \n",
       "85914   2.459491   54.340270  622.8009   13.17274   16.21094   15.18374    \n",
       "124267  2.303067   49.522570  609.7222   13.60677   15.65393   14.91609    \n",
       "142330  2.401447   52.387150  631.1343   14.09867   15.70457   15.18374    \n",
       "35226   2.454572   53.906250  631.4814   13.38252   15.87095   15.45139    \n",
       "\n",
       "        sensor_09  sensor_10  sensor_11  sensor_51  target  \n",
       "47296   14.82205   40.18721   47.26311   181.1343   1       \n",
       "4234    15.05353   40.68262   44.56194   209.4907   1       \n",
       "110346  14.74971   41.75233   34.38781   214.6991   1       \n",
       "96577   15.11863   45.87466   35.94968   182.0023   1       \n",
       "79988   15.11863   51.13341   33.16643   242.1875   1       \n",
       "...          ...        ...        ...        ...  ..       \n",
       "154871  15.08247   47.40725   47.84417   188.3681   1       \n",
       "85914   15.08247   43.68761   40.20554   212.3843   1       \n",
       "124267  14.67737   37.88455   41.63232  -1.0000     1       \n",
       "142330  15.01013   43.92540   44.15007   197.3380   1       \n",
       "35226   15.08247   45.43184   44.79139   199.3634   1       \n",
       "\n",
       "[5000 rows x 11 columns]"
      ]
     },
     "execution_count": 144,
     "metadata": {},
     "output_type": "execute_result"
    }
   ],
   "source": [
    "reference"
   ]
  },
  {
   "cell_type": "code",
   "execution_count": 145,
   "id": "6e7ab1fa-0e30-4e98-b424-500488ed8899",
   "metadata": {},
   "outputs": [
    {
     "name": "stdout",
     "output_type": "stream",
     "text": [
      "<class 'pandas.core.frame.DataFrame'>\n",
      "Int64Index: 5000 entries, 191601 to 215817\n",
      "Data columns (total 11 columns):\n",
      " #   Column     Non-Null Count  Dtype  \n",
      "---  ------     --------------  -----  \n",
      " 0   sensor_00  5000 non-null   float64\n",
      " 1   sensor_02  5000 non-null   float64\n",
      " 2   sensor_04  5000 non-null   float64\n",
      " 3   sensor_06  5000 non-null   float64\n",
      " 4   sensor_07  5000 non-null   float64\n",
      " 5   sensor_08  5000 non-null   float64\n",
      " 6   sensor_09  5000 non-null   float64\n",
      " 7   sensor_10  5000 non-null   float64\n",
      " 8   sensor_11  5000 non-null   float64\n",
      " 9   sensor_51  5000 non-null   float64\n",
      " 10  target     5000 non-null   int64  \n",
      "dtypes: float64(10), int64(1)\n",
      "memory usage: 468.8 KB\n"
     ]
    }
   ],
   "source": [
    "target.info()"
   ]
  },
  {
   "cell_type": "code",
   "execution_count": 146,
   "id": "9c51e231-6491-4ace-bc50-9c0a76979422",
   "metadata": {},
   "outputs": [],
   "source": [
    "from evidently.model_profile import Profile\n",
    "from evidently.model_profile.sections import DataDriftProfileSection, CatTargetDriftProfileSection"
   ]
  },
  {
   "cell_type": "code",
   "execution_count": 147,
   "id": "8804b513-c335-4b19-8be5-7ce7c90f2d19",
   "metadata": {},
   "outputs": [],
   "source": [
    "numerical_features = ['sensor_00','sensor_02', 'sensor_04', 'sensor_06',  'sensor_07', 'sensor_08',\n",
    "                     'sensor_09', 'sensor_10', 'sensor_11', 'sensor_51']\n",
    "\n",
    "categorical_features = [\"target\"]"
   ]
  },
  {
   "cell_type": "code",
   "execution_count": 148,
   "id": "386f5dc1-870f-4389-b67c-3d051b99b858",
   "metadata": {},
   "outputs": [],
   "source": [
    "column_mapping = ColumnMapping()\n",
    "\n",
    "column_mapping.target = 'target'\n",
    "column_mapping.numerical_features = numerical_features\n"
   ]
  },
  {
   "cell_type": "code",
   "execution_count": 157,
   "id": "493066bf-50a1-4b43-b6f3-7205fcef92c7",
   "metadata": {},
   "outputs": [
    {
     "data": {
      "text/plain": [
       "{'name': 'cat_target_drift',\n",
       " 'datetime': '2022-10-10 19:36:18.755949',\n",
       " 'data': {'utility_columns': {'date': None,\n",
       "   'id': None,\n",
       "   'target': 'target',\n",
       "   'prediction': None},\n",
       "  'cat_feature_names': [],\n",
       "  'num_feature_names': ['sensor_00',\n",
       "   'sensor_02',\n",
       "   'sensor_04',\n",
       "   'sensor_06',\n",
       "   'sensor_07',\n",
       "   'sensor_08',\n",
       "   'sensor_09',\n",
       "   'sensor_10',\n",
       "   'sensor_11',\n",
       "   'sensor_51'],\n",
       "  'datetime_feature_names': [],\n",
       "  'target_names': None,\n",
       "  'metrics': {'target_name': 'target',\n",
       "   'target_type': 'cat',\n",
       "   'target_drift': 0.1741505884033314}}}"
      ]
     },
     "execution_count": 157,
     "metadata": {},
     "output_type": "execute_result"
    }
   ],
   "source": [
    "### check target drift profle\n",
    "pump_target_drift_profile = Profile(sections=[CatTargetDriftProfileSection()])\n",
    "pump_target_drift_profile.calculate(reference, target, column_mapping=column_mapping) \n",
    "json.loads(pump_target_drift_profile.json())[\"cat_target_drift\"]"
   ]
  },
  {
   "cell_type": "code",
   "execution_count": 169,
   "id": "5543d0d5-4757-4bb8-b56e-1467c64da58a",
   "metadata": {},
   "outputs": [
    {
     "name": "stdout",
     "output_type": "stream",
     "text": [
      "0.34114077776512136\n",
      "0.36144691438773957\n",
      "0.34693615067741856\n",
      "0.6392805898244504\n",
      "0.36876713001933165\n",
      "0.34726850739592796\n",
      "0.28024452462869054\n",
      "0.33056703780992963\n",
      "0.7406297732453629\n",
      "0.4351529579218981\n"
     ]
    },
    {
     "data": {
      "text/plain": [
       "{'sensor_00': 0.34114077776512136,\n",
       " 'sensor_02': 0.36144691438773957,\n",
       " 'sensor_04': 0.34693615067741856,\n",
       " 'sensor_06': 0.6392805898244504,\n",
       " 'sensor_07': 0.36876713001933165,\n",
       " 'sensor_08': 0.34726850739592796,\n",
       " 'sensor_09': 0.28024452462869054,\n",
       " 'sensor_10': 0.33056703780992963,\n",
       " 'sensor_11': 0.7406297732453629,\n",
       " 'sensor_51': 0.4351529579218981}"
      ]
     },
     "execution_count": 169,
     "metadata": {},
     "output_type": "execute_result"
    }
   ],
   "source": [
    "### check data drift profile\n",
    "pump_data_drift_profile = Profile(sections=[DataDriftProfileSection()])\n",
    "pump_data_drift_profile.calculate(reference, target, column_mapping=column_mapping) \n",
    "#json.loads(pump_data_drift_profile.json())['data_drift']['data']['metrics']['dataset_drift']\n",
    "\n",
    "#json.loads(pump_data_drift_profile.json())['data_drift']['data']['metrics']\n",
    "s_list = json.loads(pump_data_drift_profile.json())['data_drift']['data']['num_feature_names']\n",
    "s_dict = {}\n",
    "\n",
    "for s in s_list:\n",
    "    score = json.loads(pump_data_drift_profile.json())['data_drift']['data']['metrics'][s]['drift_score']\n",
    "    s_dict[s] = score    \n",
    "#s_dict\n",
    "\n",
    "\n",
    "    "
   ]
  },
  {
   "cell_type": "markdown",
   "id": "b17d6a4e-89d1-4b99-92ef-0b880cc64385",
   "metadata": {
    "jp-MarkdownHeadingCollapsed": true,
    "tags": []
   },
   "source": [
    "## read prediction metrics"
   ]
  },
  {
   "cell_type": "code",
   "execution_count": 150,
   "id": "33bec04d-0860-4358-b1c1-fd549d59057f",
   "metadata": {},
   "outputs": [],
   "source": [
    "import cdsw, time, os\n",
    "\n",
    "model_deployment_crn = \"\""
   ]
  },
  {
   "cell_type": "code",
   "execution_count": 152,
   "id": "3c0f4b73-26ad-4816-ae25-c713b20e020e",
   "metadata": {},
   "outputs": [
    {
     "ename": "RuntimeError",
     "evalue": "Response_status_code: '400' , response_body: {\"error\":\"Either model CRN, model deployment CRN or model build CRN must be provided\"} ",
     "output_type": "error",
     "traceback": [
      "\u001b[0;31m---------------------------------------------------------------------------\u001b[0m",
      "\u001b[0;31mRuntimeError\u001b[0m                              Traceback (most recent call last)",
      "\u001b[0;32m/tmp/ipykernel_199/2027939133.py\u001b[0m in \u001b[0;36m<module>\u001b[0;34m\u001b[0m\n\u001b[1;32m      1\u001b[0m \u001b[0mcurrent_timestamp_ms\u001b[0m \u001b[0;34m=\u001b[0m \u001b[0mint\u001b[0m\u001b[0;34m(\u001b[0m\u001b[0mtime\u001b[0m\u001b[0;34m.\u001b[0m\u001b[0mtime\u001b[0m\u001b[0;34m(\u001b[0m\u001b[0;34m)\u001b[0m\u001b[0;34m)\u001b[0m \u001b[0;34m*\u001b[0m \u001b[0;36m1000\u001b[0m\u001b[0;34m\u001b[0m\u001b[0;34m\u001b[0m\u001b[0m\n\u001b[1;32m      2\u001b[0m \u001b[0;34m\u001b[0m\u001b[0m\n\u001b[0;32m----> 3\u001b[0;31m known_metrics = cdsw.read_metrics(model_deployment_crn=model_deployment_crn,\n\u001b[0m\u001b[1;32m      4\u001b[0m             \u001b[0mstart_timestamp_ms\u001b[0m\u001b[0;34m=\u001b[0m\u001b[0;36m0\u001b[0m\u001b[0;34m,\u001b[0m\u001b[0;34m\u001b[0m\u001b[0;34m\u001b[0m\u001b[0m\n\u001b[1;32m      5\u001b[0m             end_timestamp_ms=current_timestamp_ms)  \n",
      "\u001b[0;32m/usr/local/lib/python3.8/site-packages/cdsw/cdsw.py\u001b[0m in \u001b[0;36mread_metrics\u001b[0;34m(model_deployment_crn, start_timestamp_ms, end_timestamp_ms, model_crn, model_build_crn, dev)\u001b[0m\n\u001b[1;32m    372\u001b[0m                          headers=_headers)\n\u001b[1;32m    373\u001b[0m \u001b[0;34m\u001b[0m\u001b[0m\n\u001b[0;32m--> 374\u001b[0;31m     \u001b[0;32mreturn\u001b[0m \u001b[0m_resp_json\u001b[0m\u001b[0;34m(\u001b[0m\u001b[0mresp\u001b[0m\u001b[0;34m)\u001b[0m\u001b[0;34m\u001b[0m\u001b[0;34m\u001b[0m\u001b[0m\n\u001b[0m\u001b[1;32m    375\u001b[0m \u001b[0;34m\u001b[0m\u001b[0m\n\u001b[1;32m    376\u001b[0m \u001b[0;32mdef\u001b[0m \u001b[0mtrack_metric\u001b[0m\u001b[0;34m(\u001b[0m\u001b[0mkey\u001b[0m\u001b[0;34m,\u001b[0m \u001b[0mvalue\u001b[0m\u001b[0;34m)\u001b[0m\u001b[0;34m:\u001b[0m\u001b[0;34m\u001b[0m\u001b[0;34m\u001b[0m\u001b[0m\n",
      "\u001b[0;32m/usr/local/lib/python3.8/site-packages/cdsw/cdsw.py\u001b[0m in \u001b[0;36m_resp_json\u001b[0;34m(resp)\u001b[0m\n\u001b[1;32m    137\u001b[0m         \u001b[0;32mreturn\u001b[0m \u001b[0mresp\u001b[0m\u001b[0;34m.\u001b[0m\u001b[0mjson\u001b[0m\u001b[0;34m(\u001b[0m\u001b[0;34m)\u001b[0m\u001b[0;34m\u001b[0m\u001b[0;34m\u001b[0m\u001b[0m\n\u001b[1;32m    138\u001b[0m     \u001b[0;32melse\u001b[0m\u001b[0;34m:\u001b[0m\u001b[0;34m\u001b[0m\u001b[0;34m\u001b[0m\u001b[0m\n\u001b[0;32m--> 139\u001b[0;31m         \u001b[0;32mraise\u001b[0m \u001b[0mRuntimeError\u001b[0m\u001b[0;34m(\u001b[0m\u001b[0;34m\"Response_status_code: '{}' , response_body: {} \"\u001b[0m\u001b[0;34m.\u001b[0m\u001b[0mformat\u001b[0m\u001b[0;34m(\u001b[0m\u001b[0mresp\u001b[0m\u001b[0;34m.\u001b[0m\u001b[0mstatus_code\u001b[0m\u001b[0;34m,\u001b[0m \u001b[0mresp\u001b[0m\u001b[0;34m.\u001b[0m\u001b[0mtext\u001b[0m\u001b[0;34m)\u001b[0m\u001b[0;34m)\u001b[0m\u001b[0;34m\u001b[0m\u001b[0;34m\u001b[0m\u001b[0m\n\u001b[0m\u001b[1;32m    140\u001b[0m \u001b[0;34m\u001b[0m\u001b[0m\n\u001b[1;32m    141\u001b[0m \u001b[0;32mdef\u001b[0m \u001b[0mtrack_file\u001b[0m\u001b[0;34m(\u001b[0m\u001b[0msrc\u001b[0m\u001b[0;34m)\u001b[0m\u001b[0;34m:\u001b[0m\u001b[0;34m\u001b[0m\u001b[0;34m\u001b[0m\u001b[0m\n",
      "\u001b[0;31mRuntimeError\u001b[0m: Response_status_code: '400' , response_body: {\"error\":\"Either model CRN, model deployment CRN or model build CRN must be provided\"} "
     ]
    }
   ],
   "source": [
    "current_timestamp_ms = int(time.time()) * 1000\n",
    "\n",
    "known_metrics = cdsw.read_metrics(model_deployment_crn=model_deployment_crn,\n",
    "            start_timestamp_ms=0,\n",
    "            end_timestamp_ms=current_timestamp_ms)  \n",
    "\n",
    "df = pd.io.json.json_normalize(known_metrics[\"metrics\"])\n",
    "df.columns\n"
   ]
  },
  {
   "cell_type": "code",
   "execution_count": 153,
   "id": "d7b03606-776f-44f0-9e6e-542068269e09",
   "metadata": {},
   "outputs": [],
   "source": [
    "colums_mapping = {'metrics.data.sensor_00': 'sensor_00',\n",
    "                  'metrics.data.sensor_02': 'sensor_02',\n",
    "                  'metrics.data.sensor_04': 'sensor_04',\n",
    "                  'metrics.data.sensor_06': 'sensor_06',\n",
    "                  'metrics.data.sensor_07': 'sensor_07',\n",
    "                  'metrics.data.sensor_08': 'sensor_08',\n",
    "                  'metrics.data.sensor_09': 'sensor_09',\n",
    "                  'metrics.data.sensor_10': 'sensor_10',\n",
    "                  'metrics.data.sensor_11': 'sensor_11',\n",
    "                  'metrics.data.sensor_51': 'sensor_51',\n",
    "                  'metrics.prediction' : 'target'\n",
    "                 }\n",
    "df.rename(columns=colums_mapping, inplace=True)\n"
   ]
  },
  {
   "cell_type": "code",
   "execution_count": 154,
   "id": "5ce3f1b2-526a-4ccd-a98a-3e0ecdb2722b",
   "metadata": {},
   "outputs": [
    {
     "data": {
      "text/html": [
       "<div>\n",
       "<style scoped>\n",
       "    .dataframe tbody tr th:only-of-type {\n",
       "        vertical-align: middle;\n",
       "    }\n",
       "\n",
       "    .dataframe tbody tr th {\n",
       "        vertical-align: top;\n",
       "    }\n",
       "\n",
       "    .dataframe thead th {\n",
       "        text-align: right;\n",
       "    }\n",
       "</style>\n",
       "<table border=\"1\" class=\"dataframe\">\n",
       "  <thead>\n",
       "    <tr style=\"text-align: right;\">\n",
       "      <th></th>\n",
       "      <th>timestamp</th>\n",
       "      <th>sensor_00</th>\n",
       "      <th>sensor_02</th>\n",
       "      <th>sensor_04</th>\n",
       "      <th>sensor_06</th>\n",
       "      <th>sensor_07</th>\n",
       "      <th>sensor_08</th>\n",
       "      <th>sensor_09</th>\n",
       "      <th>sensor_10</th>\n",
       "      <th>sensor_11</th>\n",
       "      <th>sensor_51</th>\n",
       "      <th>target</th>\n",
       "    </tr>\n",
       "  </thead>\n",
       "  <tbody>\n",
       "    <tr>\n",
       "      <th>0</th>\n",
       "      <td>2018-04-01 00:00:00</td>\n",
       "      <td>2.465394</td>\n",
       "      <td>53.2118</td>\n",
       "      <td>634.3750</td>\n",
       "      <td>13.41146</td>\n",
       "      <td>16.13136</td>\n",
       "      <td>15.56713</td>\n",
       "      <td>15.05353</td>\n",
       "      <td>37.22740</td>\n",
       "      <td>47.52422</td>\n",
       "      <td>201.3889</td>\n",
       "      <td>1</td>\n",
       "    </tr>\n",
       "    <tr>\n",
       "      <th>1</th>\n",
       "      <td>2018-04-01 00:01:00</td>\n",
       "      <td>2.465394</td>\n",
       "      <td>53.2118</td>\n",
       "      <td>634.3750</td>\n",
       "      <td>13.41146</td>\n",
       "      <td>16.13136</td>\n",
       "      <td>15.56713</td>\n",
       "      <td>15.05353</td>\n",
       "      <td>37.22740</td>\n",
       "      <td>47.52422</td>\n",
       "      <td>201.3889</td>\n",
       "      <td>1</td>\n",
       "    </tr>\n",
       "    <tr>\n",
       "      <th>2</th>\n",
       "      <td>2018-04-01 00:02:00</td>\n",
       "      <td>2.444734</td>\n",
       "      <td>53.2118</td>\n",
       "      <td>638.8889</td>\n",
       "      <td>13.32465</td>\n",
       "      <td>16.03733</td>\n",
       "      <td>15.61777</td>\n",
       "      <td>15.01013</td>\n",
       "      <td>37.86777</td>\n",
       "      <td>48.17723</td>\n",
       "      <td>203.7037</td>\n",
       "      <td>1</td>\n",
       "    </tr>\n",
       "    <tr>\n",
       "      <th>3</th>\n",
       "      <td>2018-04-01 00:03:00</td>\n",
       "      <td>2.460474</td>\n",
       "      <td>53.1684</td>\n",
       "      <td>628.1250</td>\n",
       "      <td>13.31742</td>\n",
       "      <td>16.24711</td>\n",
       "      <td>15.69734</td>\n",
       "      <td>15.08247</td>\n",
       "      <td>38.57977</td>\n",
       "      <td>48.65607</td>\n",
       "      <td>203.1250</td>\n",
       "      <td>1</td>\n",
       "    </tr>\n",
       "    <tr>\n",
       "      <th>4</th>\n",
       "      <td>2018-04-01 00:04:00</td>\n",
       "      <td>2.445718</td>\n",
       "      <td>53.2118</td>\n",
       "      <td>636.4583</td>\n",
       "      <td>13.35359</td>\n",
       "      <td>16.21094</td>\n",
       "      <td>15.69734</td>\n",
       "      <td>15.08247</td>\n",
       "      <td>39.48939</td>\n",
       "      <td>49.06298</td>\n",
       "      <td>201.3889</td>\n",
       "      <td>1</td>\n",
       "    </tr>\n",
       "  </tbody>\n",
       "</table>\n",
       "</div>"
      ],
      "text/plain": [
       "             timestamp  sensor_00  sensor_02  sensor_04  sensor_06  sensor_07  \\\n",
       "0  2018-04-01 00:00:00  2.465394   53.2118    634.3750   13.41146   16.13136    \n",
       "1  2018-04-01 00:01:00  2.465394   53.2118    634.3750   13.41146   16.13136    \n",
       "2  2018-04-01 00:02:00  2.444734   53.2118    638.8889   13.32465   16.03733    \n",
       "3  2018-04-01 00:03:00  2.460474   53.1684    628.1250   13.31742   16.24711    \n",
       "4  2018-04-01 00:04:00  2.445718   53.2118    636.4583   13.35359   16.21094    \n",
       "\n",
       "   sensor_08  sensor_09  sensor_10  sensor_11  sensor_51  target  \n",
       "0  15.56713   15.05353   37.22740   47.52422   201.3889   1       \n",
       "1  15.56713   15.05353   37.22740   47.52422   201.3889   1       \n",
       "2  15.61777   15.01013   37.86777   48.17723   203.7037   1       \n",
       "3  15.69734   15.08247   38.57977   48.65607   203.1250   1       \n",
       "4  15.69734   15.08247   39.48939   49.06298   201.3889   1       "
      ]
     },
     "execution_count": 154,
     "metadata": {},
     "output_type": "execute_result"
    }
   ],
   "source": [
    "df.head()"
   ]
  },
  {
   "cell_type": "code",
   "execution_count": 11,
   "id": "5596f94c-67a0-4c03-ac0c-55f231e76206",
   "metadata": {},
   "outputs": [
    {
     "data": {
      "text/html": [
       "<div>\n",
       "<style scoped>\n",
       "    .dataframe tbody tr th:only-of-type {\n",
       "        vertical-align: middle;\n",
       "    }\n",
       "\n",
       "    .dataframe tbody tr th {\n",
       "        vertical-align: top;\n",
       "    }\n",
       "\n",
       "    .dataframe thead th {\n",
       "        text-align: right;\n",
       "    }\n",
       "</style>\n",
       "<table border=\"1\" class=\"dataframe\">\n",
       "  <thead>\n",
       "    <tr style=\"text-align: right;\">\n",
       "      <th></th>\n",
       "      <th>sensor_00</th>\n",
       "      <th>sensor_02</th>\n",
       "      <th>sensor_04</th>\n",
       "      <th>sensor_06</th>\n",
       "      <th>sensor_07</th>\n",
       "      <th>sensor_08</th>\n",
       "      <th>sensor_09</th>\n",
       "      <th>sensor_10</th>\n",
       "      <th>sensor_11</th>\n",
       "      <th>sensor_51</th>\n",
       "    </tr>\n",
       "  </thead>\n",
       "  <tbody>\n",
       "    <tr>\n",
       "      <th>0</th>\n",
       "      <td>4219.000000</td>\n",
       "      <td>31294.00000</td>\n",
       "      <td>421.000000</td>\n",
       "      <td>645.0000</td>\n",
       "      <td>664.00000</td>\n",
       "      <td>7654.00000</td>\n",
       "      <td>12.00000</td>\n",
       "      <td>1321.00000</td>\n",
       "      <td>3124.00000</td>\n",
       "      <td>643.0000</td>\n",
       "    </tr>\n",
       "    <tr>\n",
       "      <th>1</th>\n",
       "      <td>2.455556</td>\n",
       "      <td>51.08507</td>\n",
       "      <td>641.435181</td>\n",
       "      <td>14.5761</td>\n",
       "      <td>16.24711</td>\n",
       "      <td>15.65393</td>\n",
       "      <td>15.16204</td>\n",
       "      <td>48.44366</td>\n",
       "      <td>44.11775</td>\n",
       "      <td>184.8958</td>\n",
       "    </tr>\n",
       "  </tbody>\n",
       "</table>\n",
       "</div>"
      ],
      "text/plain": [
       "     sensor_00    sensor_02   sensor_04  sensor_06  sensor_07   sensor_08  \\\n",
       "0  4219.000000  31294.00000  421.000000   645.0000  664.00000  7654.00000   \n",
       "1     2.455556     51.08507  641.435181    14.5761   16.24711    15.65393   \n",
       "\n",
       "   sensor_09   sensor_10   sensor_11  sensor_51  \n",
       "0   12.00000  1321.00000  3124.00000   643.0000  \n",
       "1   15.16204    48.44366    44.11775   184.8958  "
      ]
     },
     "execution_count": 11,
     "metadata": {},
     "output_type": "execute_result"
    }
   ],
   "source": [
    "# drop unused colums\n",
    "cols_to_keep = ['sensor_00', 'sensor_02', 'sensor_04', 'sensor_06', 'sensor_07', \n",
    "                'sensor_08', 'sensor_09', 'sensor_10', 'sensor_11', 'sensor_51']\n",
    "df = df[cols_to_keep]\n",
    "\n",
    "# cast sensors value to numeric\n",
    "\n",
    "df[cols_to_keep] = df[cols_to_keep].astype(float)\n",
    "\n",
    "df"
   ]
  },
  {
   "cell_type": "code",
   "execution_count": 8,
   "id": "f8e3be6c-a3e8-4b31-83b8-1c7760f18dfe",
   "metadata": {},
   "outputs": [
    {
     "data": {
      "text/plain": [
       "['sensor_00',\n",
       " 'sensor_02',\n",
       " 'sensor_04',\n",
       " 'sensor_06',\n",
       " 'sensor_07',\n",
       " 'sensor_08',\n",
       " 'sensor_09',\n",
       " 'sensor_10',\n",
       " 'sensor_11',\n",
       " 'sensor_51',\n",
       " 'target']"
      ]
     },
     "execution_count": 8,
     "metadata": {},
     "output_type": "execute_result"
    }
   ],
   "source": [
    "cols_to_keep = ['sensor_00', 'sensor_02', 'sensor_04', 'sensor_06', 'sensor_07', \n",
    "                'sensor_08', 'sensor_09', 'sensor_10', 'sensor_11', 'sensor_51', 'target']\n",
    "\n",
    "\n",
    "cols_to_keep"
   ]
  },
  {
   "cell_type": "code",
   "execution_count": 10,
   "id": "155caa1b-a387-43cb-9c62-3968c81608e2",
   "metadata": {},
   "outputs": [
    {
     "ename": "ValueError",
     "evalue": "list.remove(x): x not in list",
     "output_type": "error",
     "traceback": [
      "\u001b[0;31m---------------------------------------------------------------------------\u001b[0m",
      "\u001b[0;31mValueError\u001b[0m                                Traceback (most recent call last)",
      "\u001b[0;32m/tmp/ipykernel_199/578786153.py\u001b[0m in \u001b[0;36m<module>\u001b[0;34m\u001b[0m\n\u001b[0;32m----> 1\u001b[0;31m \u001b[0mcols_to_keep\u001b[0m\u001b[0;34m.\u001b[0m\u001b[0mremove\u001b[0m\u001b[0;34m(\u001b[0m\u001b[0;34m'target'\u001b[0m\u001b[0;34m)\u001b[0m\u001b[0;34m\u001b[0m\u001b[0;34m\u001b[0m\u001b[0m\n\u001b[0m\u001b[1;32m      2\u001b[0m \u001b[0mprint\u001b[0m\u001b[0;34m(\u001b[0m\u001b[0mcols_sensors\u001b[0m\u001b[0;34m)\u001b[0m\u001b[0;34m\u001b[0m\u001b[0;34m\u001b[0m\u001b[0m\n",
      "\u001b[0;31mValueError\u001b[0m: list.remove(x): x not in list"
     ]
    }
   ],
   "source": [
    "cols_to_keep.remove('target')\n",
    "print(cols_sensors)"
   ]
  },
  {
   "cell_type": "code",
   "execution_count": 311,
   "id": "aefbe17b-d0f2-448e-b942-3b2063ca4814",
   "metadata": {},
   "outputs": [
    {
     "name": "stdout",
     "output_type": "stream",
     "text": [
      "<class 'pandas.core.frame.DataFrame'>\n",
      "RangeIndex: 1 entries, 0 to 0\n",
      "Data columns (total 10 columns):\n",
      " #   Column     Non-Null Count  Dtype \n",
      "---  ------     --------------  ----- \n",
      " 0   sensor_00  1 non-null      object\n",
      " 1   sensor_02  1 non-null      object\n",
      " 2   sensor_04  1 non-null      object\n",
      " 3   sensor_06  1 non-null      object\n",
      " 4   sensor_07  1 non-null      object\n",
      " 5   sensor_08  1 non-null      object\n",
      " 6   sensor_09  1 non-null      object\n",
      " 7   sensor_10  1 non-null      object\n",
      " 8   sensor_11  1 non-null      object\n",
      " 9   sensor_51  1 non-null      object\n",
      "dtypes: object(10)\n",
      "memory usage: 208.0+ bytes\n"
     ]
    }
   ],
   "source": [
    "df.info()"
   ]
  },
  {
   "cell_type": "markdown",
   "id": "0d657892-2a20-4b0e-875c-f37db4881910",
   "metadata": {
    "jp-MarkdownHeadingCollapsed": true,
    "tags": []
   },
   "source": [
    "### SIMULATE preds"
   ]
  },
  {
   "cell_type": "code",
   "execution_count": 135,
   "id": "0916cdc9-d4f3-4cf4-8f44-a364cf288412",
   "metadata": {},
   "outputs": [
    {
     "name": "stdout",
     "output_type": "stream",
     "text": [
      "Len df_new: 44640\n"
     ]
    },
    {
     "data": {
      "text/html": [
       "<div>\n",
       "<style scoped>\n",
       "    .dataframe tbody tr th:only-of-type {\n",
       "        vertical-align: middle;\n",
       "    }\n",
       "\n",
       "    .dataframe tbody tr th {\n",
       "        vertical-align: top;\n",
       "    }\n",
       "\n",
       "    .dataframe thead th {\n",
       "        text-align: right;\n",
       "    }\n",
       "</style>\n",
       "<table border=\"1\" class=\"dataframe\">\n",
       "  <thead>\n",
       "    <tr style=\"text-align: right;\">\n",
       "      <th></th>\n",
       "      <th>sensor_00</th>\n",
       "      <th>sensor_02</th>\n",
       "      <th>sensor_04</th>\n",
       "      <th>sensor_06</th>\n",
       "      <th>sensor_07</th>\n",
       "      <th>sensor_08</th>\n",
       "      <th>sensor_09</th>\n",
       "      <th>sensor_10</th>\n",
       "      <th>sensor_11</th>\n",
       "      <th>sensor_51</th>\n",
       "    </tr>\n",
       "  </thead>\n",
       "  <tbody>\n",
       "    <tr>\n",
       "      <th>175680</th>\n",
       "      <td>2.455556</td>\n",
       "      <td>51.085070</td>\n",
       "      <td>641.435181</td>\n",
       "      <td>14.57610</td>\n",
       "      <td>16.24711</td>\n",
       "      <td>15.65393</td>\n",
       "      <td>15.16204</td>\n",
       "      <td>48.44366</td>\n",
       "      <td>44.11775</td>\n",
       "      <td>184.8958</td>\n",
       "    </tr>\n",
       "    <tr>\n",
       "      <th>175681</th>\n",
       "      <td>2.455556</td>\n",
       "      <td>51.085070</td>\n",
       "      <td>641.435181</td>\n",
       "      <td>14.57610</td>\n",
       "      <td>16.24711</td>\n",
       "      <td>15.65393</td>\n",
       "      <td>15.16204</td>\n",
       "      <td>48.44366</td>\n",
       "      <td>44.11775</td>\n",
       "      <td>184.8958</td>\n",
       "    </tr>\n",
       "    <tr>\n",
       "      <th>175682</th>\n",
       "      <td>2.449653</td>\n",
       "      <td>50.998260</td>\n",
       "      <td>654.282410</td>\n",
       "      <td>14.60503</td>\n",
       "      <td>16.24711</td>\n",
       "      <td>15.56713</td>\n",
       "      <td>15.11863</td>\n",
       "      <td>49.04697</td>\n",
       "      <td>43.99090</td>\n",
       "      <td>185.1852</td>\n",
       "    </tr>\n",
       "    <tr>\n",
       "      <th>175683</th>\n",
       "      <td>2.455556</td>\n",
       "      <td>50.998260</td>\n",
       "      <td>641.898132</td>\n",
       "      <td>14.64120</td>\n",
       "      <td>16.13136</td>\n",
       "      <td>15.61777</td>\n",
       "      <td>15.08247</td>\n",
       "      <td>49.35575</td>\n",
       "      <td>45.47868</td>\n",
       "      <td>187.2106</td>\n",
       "    </tr>\n",
       "    <tr>\n",
       "      <th>175684</th>\n",
       "      <td>2.454572</td>\n",
       "      <td>50.954860</td>\n",
       "      <td>635.300903</td>\n",
       "      <td>14.59057</td>\n",
       "      <td>16.13136</td>\n",
       "      <td>15.65393</td>\n",
       "      <td>14.97396</td>\n",
       "      <td>49.36914</td>\n",
       "      <td>44.70626</td>\n",
       "      <td>189.5255</td>\n",
       "    </tr>\n",
       "    <tr>\n",
       "      <th>...</th>\n",
       "      <td>...</td>\n",
       "      <td>...</td>\n",
       "      <td>...</td>\n",
       "      <td>...</td>\n",
       "      <td>...</td>\n",
       "      <td>...</td>\n",
       "      <td>...</td>\n",
       "      <td>...</td>\n",
       "      <td>...</td>\n",
       "      <td>...</td>\n",
       "    </tr>\n",
       "    <tr>\n",
       "      <th>220315</th>\n",
       "      <td>2.407350</td>\n",
       "      <td>50.520830</td>\n",
       "      <td>634.722229</td>\n",
       "      <td>15.11863</td>\n",
       "      <td>16.65220</td>\n",
       "      <td>15.65393</td>\n",
       "      <td>15.16204</td>\n",
       "      <td>43.17085</td>\n",
       "      <td>54.16052</td>\n",
       "      <td>231.1921</td>\n",
       "    </tr>\n",
       "    <tr>\n",
       "      <th>220316</th>\n",
       "      <td>2.400463</td>\n",
       "      <td>50.564240</td>\n",
       "      <td>630.902771</td>\n",
       "      <td>15.15480</td>\n",
       "      <td>16.70284</td>\n",
       "      <td>15.65393</td>\n",
       "      <td>15.11863</td>\n",
       "      <td>43.21038</td>\n",
       "      <td>54.52602</td>\n",
       "      <td>231.1921</td>\n",
       "    </tr>\n",
       "    <tr>\n",
       "      <th>220317</th>\n",
       "      <td>2.396528</td>\n",
       "      <td>50.520830</td>\n",
       "      <td>625.925903</td>\n",
       "      <td>15.08970</td>\n",
       "      <td>16.70284</td>\n",
       "      <td>15.69734</td>\n",
       "      <td>15.11863</td>\n",
       "      <td>43.12836</td>\n",
       "      <td>55.11779</td>\n",
       "      <td>232.0602</td>\n",
       "    </tr>\n",
       "    <tr>\n",
       "      <th>220318</th>\n",
       "      <td>2.406366</td>\n",
       "      <td>50.520832</td>\n",
       "      <td>635.648100</td>\n",
       "      <td>15.11863</td>\n",
       "      <td>16.56539</td>\n",
       "      <td>15.74074</td>\n",
       "      <td>15.11863</td>\n",
       "      <td>42.35746</td>\n",
       "      <td>55.99321</td>\n",
       "      <td>234.0856</td>\n",
       "    </tr>\n",
       "    <tr>\n",
       "      <th>220319</th>\n",
       "      <td>2.396528</td>\n",
       "      <td>50.520832</td>\n",
       "      <td>639.814800</td>\n",
       "      <td>15.11863</td>\n",
       "      <td>16.65220</td>\n",
       "      <td>15.65393</td>\n",
       "      <td>15.01013</td>\n",
       "      <td>42.62814</td>\n",
       "      <td>56.49642</td>\n",
       "      <td>234.0856</td>\n",
       "    </tr>\n",
       "  </tbody>\n",
       "</table>\n",
       "<p>44640 rows × 10 columns</p>\n",
       "</div>"
      ],
      "text/plain": [
       "        sensor_00  sensor_02   sensor_04  sensor_06  sensor_07  sensor_08  \\\n",
       "175680  2.455556   51.085070  641.435181  14.57610   16.24711   15.65393    \n",
       "175681  2.455556   51.085070  641.435181  14.57610   16.24711   15.65393    \n",
       "175682  2.449653   50.998260  654.282410  14.60503   16.24711   15.56713    \n",
       "175683  2.455556   50.998260  641.898132  14.64120   16.13136   15.61777    \n",
       "175684  2.454572   50.954860  635.300903  14.59057   16.13136   15.65393    \n",
       "...          ...         ...         ...       ...        ...        ...    \n",
       "220315  2.407350   50.520830  634.722229  15.11863   16.65220   15.65393    \n",
       "220316  2.400463   50.564240  630.902771  15.15480   16.70284   15.65393    \n",
       "220317  2.396528   50.520830  625.925903  15.08970   16.70284   15.69734    \n",
       "220318  2.406366   50.520832  635.648100  15.11863   16.56539   15.74074    \n",
       "220319  2.396528   50.520832  639.814800  15.11863   16.65220   15.65393    \n",
       "\n",
       "        sensor_09  sensor_10  sensor_11  sensor_51  \n",
       "175680  15.16204   48.44366   44.11775   184.8958   \n",
       "175681  15.16204   48.44366   44.11775   184.8958   \n",
       "175682  15.11863   49.04697   43.99090   185.1852   \n",
       "175683  15.08247   49.35575   45.47868   187.2106   \n",
       "175684  14.97396   49.36914   44.70626   189.5255   \n",
       "...          ...        ...        ...        ...   \n",
       "220315  15.16204   43.17085   54.16052   231.1921   \n",
       "220316  15.11863   43.21038   54.52602   231.1921   \n",
       "220317  15.11863   43.12836   55.11779   232.0602   \n",
       "220318  15.11863   42.35746   55.99321   234.0856   \n",
       "220319  15.01013   42.62814   56.49642   234.0856   \n",
       "\n",
       "[44640 rows x 10 columns]"
      ]
     },
     "execution_count": 135,
     "metadata": {},
     "output_type": "execute_result"
    }
   ],
   "source": [
    "import requests\n",
    "import sys\n",
    "import json\n",
    "import pandas as pd\n",
    "import cdsw, time, os\n",
    "\n",
    "path_processed = \"/home/cdsw/data/pump_processed.csv\"\n",
    "df = pd.read_csv(path_processed)\n",
    "df = df.drop([\"machine_status\"], axis=1)\n",
    "\n",
    "filter_period = \"2018-08-01 00:00:00\"\n",
    "#filter_period = sys.argv[1] if len(sys.argv) > 1 else None\n",
    "\n",
    "df_new = df.loc[df.timestamp >= filter_period].drop(\"timestamp\", axis=1)\n",
    "print(\"Len df_new: {}\".format(len(df_new)))\n",
    "\n",
    "\n",
    "df_new"
   ]
  },
  {
   "cell_type": "code",
   "execution_count": 136,
   "id": "f041357c-c1f7-4426-a84c-0ecc558e7a8e",
   "metadata": {},
   "outputs": [
    {
     "data": {
      "text/plain": [
       "175680    200\n",
       "175681    200\n",
       "175682    200\n",
       "175683    200\n",
       "175684    200\n",
       "         ... \n",
       "220315    200\n",
       "220316    200\n",
       "220317    200\n",
       "220318    200\n",
       "220319    200\n",
       "Length: 44640, dtype: int64"
      ]
     },
     "execution_count": 136,
     "metadata": {},
     "output_type": "execute_result"
    }
   ],
   "source": [
    "import json\n",
    "pd.set_option('display.max_colwidth', -1)\n",
    "\n",
    "def call_model_endpoint(x):\n",
    "    curr_row = x.to_json()\n",
    "    #print(curr_row)\n",
    "    #print(values)\n",
    "    r = requests.post('https://modelservice.ml-1096e3e8-eda.ps-sandb.a465-9q4k.cloudera.site/model', \n",
    "                       data='{\"accessKey\":\"m737t61ml4ftqiw609oxdus35yt11ucq\",\"request\": ' + curr_row + '}',\n",
    "                       headers={'Content-Type': 'application/json'})\n",
    "    \n",
    "    return r.status_code\n",
    "\n",
    "#df_new.apply(lambda x: call_model_endpoint(x), axis=1)"
   ]
  },
  {
   "cell_type": "code",
   "execution_count": 137,
   "id": "2dfb9ecc-ff5f-4869-a107-15bd8d489541",
   "metadata": {},
   "outputs": [],
   "source": [
    "# get all rows as json\n"
   ]
  },
  {
   "cell_type": "code",
   "execution_count": 141,
   "id": "45d55869-1037-4a42-8f41-22f106bffb8d",
   "metadata": {},
   "outputs": [
    {
     "ename": "RuntimeError",
     "evalue": "Response_status_code: '502' , response_body: Bad Gateway ",
     "output_type": "error",
     "traceback": [
      "\u001b[0;31m---------------------------------------------------------------------------\u001b[0m",
      "\u001b[0;31mRuntimeError\u001b[0m                              Traceback (most recent call last)",
      "\u001b[0;32m/tmp/ipykernel_199/3595350327.py\u001b[0m in \u001b[0;36m<module>\u001b[0;34m\u001b[0m\n\u001b[1;32m      3\u001b[0m \u001b[0mcurrent_timestamp_ms\u001b[0m \u001b[0;34m=\u001b[0m \u001b[0mint\u001b[0m\u001b[0;34m(\u001b[0m\u001b[0mtime\u001b[0m\u001b[0;34m.\u001b[0m\u001b[0mtime\u001b[0m\u001b[0;34m(\u001b[0m\u001b[0;34m)\u001b[0m\u001b[0;34m)\u001b[0m \u001b[0;34m*\u001b[0m \u001b[0;36m1000\u001b[0m\u001b[0;34m\u001b[0m\u001b[0;34m\u001b[0m\u001b[0m\n\u001b[1;32m      4\u001b[0m \u001b[0;34m\u001b[0m\u001b[0m\n\u001b[0;32m----> 5\u001b[0;31m known_metrics = cdsw.read_metrics(model_deployment_crn=model_deployment_crn,\n\u001b[0m\u001b[1;32m      6\u001b[0m             \u001b[0mstart_timestamp_ms\u001b[0m\u001b[0;34m=\u001b[0m\u001b[0;36m0\u001b[0m\u001b[0;34m,\u001b[0m\u001b[0;34m\u001b[0m\u001b[0;34m\u001b[0m\u001b[0m\n\u001b[1;32m      7\u001b[0m             end_timestamp_ms=current_timestamp_ms)  \n",
      "\u001b[0;32m/usr/local/lib/python3.8/site-packages/cdsw/cdsw.py\u001b[0m in \u001b[0;36mread_metrics\u001b[0;34m(model_deployment_crn, start_timestamp_ms, end_timestamp_ms, model_crn, model_build_crn, dev)\u001b[0m\n\u001b[1;32m    372\u001b[0m                          headers=_headers)\n\u001b[1;32m    373\u001b[0m \u001b[0;34m\u001b[0m\u001b[0m\n\u001b[0;32m--> 374\u001b[0;31m     \u001b[0;32mreturn\u001b[0m \u001b[0m_resp_json\u001b[0m\u001b[0;34m(\u001b[0m\u001b[0mresp\u001b[0m\u001b[0;34m)\u001b[0m\u001b[0;34m\u001b[0m\u001b[0;34m\u001b[0m\u001b[0m\n\u001b[0m\u001b[1;32m    375\u001b[0m \u001b[0;34m\u001b[0m\u001b[0m\n\u001b[1;32m    376\u001b[0m \u001b[0;32mdef\u001b[0m \u001b[0mtrack_metric\u001b[0m\u001b[0;34m(\u001b[0m\u001b[0mkey\u001b[0m\u001b[0;34m,\u001b[0m \u001b[0mvalue\u001b[0m\u001b[0;34m)\u001b[0m\u001b[0;34m:\u001b[0m\u001b[0;34m\u001b[0m\u001b[0;34m\u001b[0m\u001b[0m\n",
      "\u001b[0;32m/usr/local/lib/python3.8/site-packages/cdsw/cdsw.py\u001b[0m in \u001b[0;36m_resp_json\u001b[0;34m(resp)\u001b[0m\n\u001b[1;32m    137\u001b[0m         \u001b[0;32mreturn\u001b[0m \u001b[0mresp\u001b[0m\u001b[0;34m.\u001b[0m\u001b[0mjson\u001b[0m\u001b[0;34m(\u001b[0m\u001b[0;34m)\u001b[0m\u001b[0;34m\u001b[0m\u001b[0;34m\u001b[0m\u001b[0m\n\u001b[1;32m    138\u001b[0m     \u001b[0;32melse\u001b[0m\u001b[0;34m:\u001b[0m\u001b[0;34m\u001b[0m\u001b[0;34m\u001b[0m\u001b[0m\n\u001b[0;32m--> 139\u001b[0;31m         \u001b[0;32mraise\u001b[0m \u001b[0mRuntimeError\u001b[0m\u001b[0;34m(\u001b[0m\u001b[0;34m\"Response_status_code: '{}' , response_body: {} \"\u001b[0m\u001b[0;34m.\u001b[0m\u001b[0mformat\u001b[0m\u001b[0;34m(\u001b[0m\u001b[0mresp\u001b[0m\u001b[0;34m.\u001b[0m\u001b[0mstatus_code\u001b[0m\u001b[0;34m,\u001b[0m \u001b[0mresp\u001b[0m\u001b[0;34m.\u001b[0m\u001b[0mtext\u001b[0m\u001b[0;34m)\u001b[0m\u001b[0;34m)\u001b[0m\u001b[0;34m\u001b[0m\u001b[0;34m\u001b[0m\u001b[0m\n\u001b[0m\u001b[1;32m    140\u001b[0m \u001b[0;34m\u001b[0m\u001b[0m\n\u001b[1;32m    141\u001b[0m \u001b[0;32mdef\u001b[0m \u001b[0mtrack_file\u001b[0m\u001b[0;34m(\u001b[0m\u001b[0msrc\u001b[0m\u001b[0;34m)\u001b[0m\u001b[0;34m:\u001b[0m\u001b[0;34m\u001b[0m\u001b[0;34m\u001b[0m\u001b[0m\n",
      "\u001b[0;31mRuntimeError\u001b[0m: Response_status_code: '502' , response_body: Bad Gateway "
     ]
    }
   ],
   "source": [
    "model_deployment_crn = \"crn:cdp:ml:us-west-1:558bc1d2-8867-4357-8524-311d51259233:workspace:de20f039-2b2a-48ea-b388-1be9ffd49da1/49482f84-894e-4307-aee8-e9990d22d351\"\n",
    "#model_deployment_crn = \"crn:cdp:ml:us-west-1:558bc1d2-8867-4357-8524-311d51259233:workspace:de20f039-2b2a-48ea-b388-1be9ffd49da1/492d014a-d103-4f7e-a8f7-ca8cb4509794\"\n",
    "current_timestamp_ms = int(time.time()) * 1000\n",
    "\n",
    "known_metrics = cdsw.read_metrics(model_deployment_crn=model_deployment_crn,\n",
    "            start_timestamp_ms=0,\n",
    "            end_timestamp_ms=current_timestamp_ms)  \n",
    "\n",
    "df = pd.io.json.json_normalize(known_metrics[\"metrics\"])\n",
    "df"
   ]
  },
  {
   "cell_type": "code",
   "execution_count": 122,
   "id": "b020f491-8df2-4a05-947b-01cab375871c",
   "metadata": {},
   "outputs": [
    {
     "data": {
      "text/plain": [
       "'{\"sensor_00\":2.455556,\"sensor_02\":51.08507,\"sensor_04\":641.4351806641,\"sensor_06\":14.5761,\"sensor_07\":16.24711,\"sensor_08\":15.65393,\"sensor_09\":15.16204,\"sensor_10\":48.44366,\"sensor_11\":44.11775,\"sensor_51\":184.8958}'"
      ]
     },
     "execution_count": 122,
     "metadata": {},
     "output_type": "execute_result"
    }
   ],
   "source": [
    "values = \"{\\\"sensor_00\\\":2.455556,\\\"sensor_02\\\":51.08507,\\\"sensor_04\\\":641.4351806641,\\\"sensor_06\\\":14.5761,\\\"sensor_07\\\":16.24711,\\\"sensor_08\\\":15.65393,\\\"sensor_09\\\":15.16204,\\\"sensor_10\\\":48.44366,\\\"sensor_11\\\":44.11775,\\\"sensor_51\\\":184.8958}\"\n",
    "values"
   ]
  },
  {
   "cell_type": "code",
   "execution_count": 61,
   "id": "227563ea-c3ae-4730-ac80-895c67f92ded",
   "metadata": {},
   "outputs": [
    {
     "data": {
      "text/plain": [
       "200"
      ]
     },
     "execution_count": 61,
     "metadata": {},
     "output_type": "execute_result"
    }
   ],
   "source": [
    "r.status_code"
   ]
  },
  {
   "cell_type": "code",
   "execution_count": null,
   "id": "483bcc03-828b-4fc7-89e1-c3ad960bab7d",
   "metadata": {},
   "outputs": [],
   "source": []
  },
  {
   "cell_type": "code",
   "execution_count": null,
   "id": "080231fe-6793-4a29-a339-50d5805615e0",
   "metadata": {},
   "outputs": [],
   "source": []
  },
  {
   "cell_type": "code",
   "execution_count": null,
   "id": "b62990c6-40c2-4530-90b3-5d67aac84ff7",
   "metadata": {},
   "outputs": [],
   "source": []
  },
  {
   "cell_type": "code",
   "execution_count": null,
   "id": "f6b95723-455b-40ad-a301-3a252a6c75da",
   "metadata": {},
   "outputs": [],
   "source": []
  },
  {
   "cell_type": "code",
   "execution_count": null,
   "id": "d4e79633-99b2-469d-8361-e91643e56340",
   "metadata": {},
   "outputs": [],
   "source": []
  },
  {
   "cell_type": "code",
   "execution_count": null,
   "id": "073f418b-2e2c-4f66-a22a-1eb45e317f20",
   "metadata": {},
   "outputs": [],
   "source": []
  },
  {
   "cell_type": "markdown",
   "id": "9c01e960-3f51-4640-9b12-7487bf9224bb",
   "metadata": {
    "jp-MarkdownHeadingCollapsed": true,
    "tags": []
   },
   "source": [
    "## Data Stability Tests"
   ]
  },
  {
   "cell_type": "code",
   "execution_count": 235,
   "id": "d295dba4-c32f-4511-a18d-fa8dbb5c3847",
   "metadata": {},
   "outputs": [],
   "source": [
    "## Data Drift test\n",
    "reference = df_raw.sample(n=5000, replace=False)\n",
    "current = df_raw.sample(n=5000, replace=False)\n",
    "\n",
    "data_stability = TestSuite(tests=[\n",
    "    DataStability(),\n",
    "])\n",
    "data_stability.run(reference_data=reference, current_data=current)"
   ]
  },
  {
   "cell_type": "code",
   "execution_count": null,
   "id": "549cb043-0e89-4103-9524-0f9862216197",
   "metadata": {},
   "outputs": [],
   "source": [
    "data_stability.save_html(\"../reports/data_test.html\")"
   ]
  },
  {
   "cell_type": "code",
   "execution_count": 234,
   "id": "384ef03f-f3e2-4a2a-8e63-df4621005aa8",
   "metadata": {},
   "outputs": [
    {
     "ename": "NameError",
     "evalue": "name 'current' is not defined",
     "output_type": "error",
     "traceback": [
      "\u001b[0;31m---------------------------------------------------------------------------\u001b[0m",
      "\u001b[0;31mNameError\u001b[0m                                 Traceback (most recent call last)",
      "\u001b[0;32m/tmp/ipykernel_858/1138553487.py\u001b[0m in \u001b[0;36m<module>\u001b[0;34m\u001b[0m\n\u001b[1;32m      1\u001b[0m \u001b[0;31m# data drift report\u001b[0m\u001b[0;34m\u001b[0m\u001b[0;34m\u001b[0m\u001b[0;34m\u001b[0m\u001b[0m\n\u001b[1;32m      2\u001b[0m \u001b[0mdrift_report\u001b[0m \u001b[0;34m=\u001b[0m \u001b[0mReport\u001b[0m\u001b[0;34m(\u001b[0m\u001b[0mmetrics\u001b[0m\u001b[0;34m=\u001b[0m\u001b[0;34m[\u001b[0m\u001b[0mDataDrift\u001b[0m\u001b[0;34m(\u001b[0m\u001b[0;34m)\u001b[0m\u001b[0;34m,\u001b[0m \u001b[0mNumTargetDrift\u001b[0m\u001b[0;34m(\u001b[0m\u001b[0;34m)\u001b[0m\u001b[0;34m]\u001b[0m\u001b[0;34m)\u001b[0m\u001b[0;34m\u001b[0m\u001b[0;34m\u001b[0m\u001b[0m\n\u001b[0;32m----> 3\u001b[0;31m \u001b[0mdrift_report\u001b[0m\u001b[0;34m.\u001b[0m\u001b[0mrun\u001b[0m\u001b[0;34m(\u001b[0m\u001b[0mreference_data\u001b[0m\u001b[0;34m=\u001b[0m\u001b[0mreference\u001b[0m\u001b[0;34m,\u001b[0m \u001b[0mcurrent_data\u001b[0m\u001b[0;34m=\u001b[0m\u001b[0mcurrent\u001b[0m\u001b[0;34m)\u001b[0m\u001b[0;34m\u001b[0m\u001b[0;34m\u001b[0m\u001b[0m\n\u001b[0m",
      "\u001b[0;31mNameError\u001b[0m: name 'current' is not defined"
     ]
    }
   ],
   "source": [
    "# data drift report\n",
    "drift_report = Report(metrics=[DataDrift(), NumTargetDrift()])\n",
    "drift_report.run(reference_data=reference, current_data=current)"
   ]
  },
  {
   "cell_type": "code",
   "execution_count": null,
   "id": "8c15d7c8-83a0-475d-9c39-5c89a10a98bd",
   "metadata": {},
   "outputs": [],
   "source": [
    "drift_report.save_html(\"../reports/data_drift.html\")"
   ]
  },
  {
   "cell_type": "code",
   "execution_count": null,
   "id": "17f3628a-a4c1-41df-92ff-dbfaa61d7784",
   "metadata": {},
   "outputs": [],
   "source": [
    "## custom test suite\n",
    "tests = TestSuite(tests=[\n",
    "    TestNumberOfColumnsWithNulls(),\n",
    "    TestNumberOfRowsWithNulls(),\n",
    "    TestNumberOfConstantColumns(),\n",
    "    TestNumberOfDuplicatedRows(),\n",
    "    TestNumberOfDuplicatedColumns(),\n",
    "    TestColumnsType(),\n",
    "    TestNumberOfDriftedFeatures(), \n",
    "])\n"
   ]
  },
  {
   "cell_type": "code",
   "execution_count": null,
   "id": "f03aa027-2202-49e5-b467-1ec1a4c23f65",
   "metadata": {},
   "outputs": [],
   "source": [
    "tests.run(reference_data=reference, current_data=current)"
   ]
  },
  {
   "cell_type": "code",
   "execution_count": null,
   "id": "5d2b16f5-262d-4fcc-b1f9-e85a8022ec35",
   "metadata": {},
   "outputs": [],
   "source": [
    "tests.save_html(\"../reports/custom_test_drift.html\")"
   ]
  },
  {
   "cell_type": "code",
   "execution_count": 145,
   "id": "22e02978-52aa-46c9-a0b8-f29a7872d3d2",
   "metadata": {},
   "outputs": [
    {
     "ename": "NameError",
     "evalue": "name 'data_stability' is not defined",
     "output_type": "error",
     "traceback": [
      "\u001b[0;31m---------------------------------------------------------------------------\u001b[0m",
      "\u001b[0;31mNameError\u001b[0m                                 Traceback (most recent call last)",
      "\u001b[0;32m/tmp/ipykernel_858/2554957760.py\u001b[0m in \u001b[0;36m<module>\u001b[0;34m\u001b[0m\n\u001b[1;32m      1\u001b[0m \u001b[0;32mimport\u001b[0m \u001b[0mjson\u001b[0m\u001b[0;34m\u001b[0m\u001b[0;34m\u001b[0m\u001b[0m\n\u001b[1;32m      2\u001b[0m \u001b[0;34m\u001b[0m\u001b[0m\n\u001b[0;32m----> 3\u001b[0;31m \u001b[0mtests_json\u001b[0m \u001b[0;34m=\u001b[0m \u001b[0mjson\u001b[0m\u001b[0;34m.\u001b[0m\u001b[0mloads\u001b[0m\u001b[0;34m(\u001b[0m\u001b[0mdata_stability\u001b[0m\u001b[0;34m.\u001b[0m\u001b[0mjson\u001b[0m\u001b[0;34m(\u001b[0m\u001b[0;34m)\u001b[0m\u001b[0;34m)\u001b[0m\u001b[0;34m\u001b[0m\u001b[0;34m\u001b[0m\u001b[0m\n\u001b[0m",
      "\u001b[0;31mNameError\u001b[0m: name 'data_stability' is not defined"
     ]
    }
   ],
   "source": [
    "import json\n",
    "\n",
    "tests_json = json.loads(data_stability.json())"
   ]
  },
  {
   "cell_type": "code",
   "execution_count": null,
   "id": "2bf64d80-daf7-41f0-8d89-7a3298a27df3",
   "metadata": {},
   "outputs": [],
   "source": [
    "tests_json['summary']['all_passed']"
   ]
  },
  {
   "cell_type": "code",
   "execution_count": null,
   "id": "83f04c97-4d65-43a4-b8a9-478b38db8c82",
   "metadata": {},
   "outputs": [],
   "source": [
    "# get is the dataset has drift\n",
    "data_drift_json = json.loads(drift_report.json())\n",
    "data_drift_json['metrics']['DataDriftMetrics']['dataset_drift']"
   ]
  },
  {
   "cell_type": "code",
   "execution_count": null,
   "id": "32f7cdcc-2759-496c-a330-72e7fd9ea17d",
   "metadata": {},
   "outputs": [],
   "source": []
  },
  {
   "cell_type": "code",
   "execution_count": null,
   "id": "2bc4457b-de75-4746-8168-148489bc1e44",
   "metadata": {},
   "outputs": [],
   "source": []
  },
  {
   "cell_type": "code",
   "execution_count": null,
   "id": "8b21ec08-76c0-40b9-80d4-f02a0732a174",
   "metadata": {},
   "outputs": [],
   "source": []
  },
  {
   "cell_type": "code",
   "execution_count": null,
   "id": "5a90b5de-6f37-4b62-b308-67ce0fb12953",
   "metadata": {},
   "outputs": [],
   "source": []
  },
  {
   "cell_type": "code",
   "execution_count": null,
   "id": "3957ce01-0b90-45cd-ba97-6aba80562220",
   "metadata": {},
   "outputs": [],
   "source": []
  },
  {
   "cell_type": "markdown",
   "id": "68fa9a15-5204-418b-9050-882c6acf083a",
   "metadata": {
    "jp-MarkdownHeadingCollapsed": true,
    "tags": []
   },
   "source": [
    "## Time Travel"
   ]
  },
  {
   "cell_type": "code",
   "execution_count": null,
   "id": "d69000fc-548f-4a6f-acff-e68f918cf58c",
   "metadata": {},
   "outputs": [],
   "source": [
    "from datetime import datetime\n",
    "\n",
    "# current date and time\n",
    "now = datetime.now()\n",
    "\n",
    "timestamp = datetime.timestamp(now)\n",
    "print(\"timestamp =\", timestamp)"
   ]
  },
  {
   "cell_type": "code",
   "execution_count": null,
   "id": "decb509e-341d-4e45-8a6a-339c0a3666ae",
   "metadata": {},
   "outputs": [],
   "source": [
    "# query iceberg with a specific time\n",
    "df_raw = spark.read \\\n",
    "              .option(\"as-of-timestamp\", int(timestamp*1000)) \\\n",
    "              .load(\"spark_catalog.default.pump_raw\")\n",
    "df.tail(5)"
   ]
  },
  {
   "cell_type": "code",
   "execution_count": null,
   "id": "4e7ff9e1-1e21-48b7-b159-90c92f3417d2",
   "metadata": {},
   "outputs": [],
   "source": [
    "print(spark.sql(\"SELECT * FROM spark_catalog.default.pump_processed\").count())"
   ]
  },
  {
   "cell_type": "code",
   "execution_count": null,
   "id": "6252c984-abfc-48ff-8006-80c5952f36d3",
   "metadata": {},
   "outputs": [],
   "source": [
    "# insert more data into pump_processend"
   ]
  },
  {
   "cell_type": "code",
   "execution_count": null,
   "id": "0633c0cb-9030-47cb-8aed-e4a21eb5a510",
   "metadata": {},
   "outputs": [],
   "source": [
    "spark.sql(\"INSERT INTO spark_catalog.default.pump_processed VALUES (4219, 31294, 42, 645, 664, 7654, 12, 1321, 3124, 643, 0) \")"
   ]
  },
  {
   "cell_type": "code",
   "execution_count": null,
   "id": "9bf02336-75c0-4121-a92e-56691827125c",
   "metadata": {},
   "outputs": [],
   "source": [
    " print(spark.sql(\"SELECT * FROM spark_catalog.default.pump_processed\").count())"
   ]
  },
  {
   "cell_type": "code",
   "execution_count": null,
   "id": "94b7a0ad-bd9e-4766-a54d-1a0dee2c81e4",
   "metadata": {},
   "outputs": [],
   "source": [
    "## check snapshots\n",
    "spark.read.format(\"iceberg\").load(\"spark_catalog.default.pump_raw.history\").show(30, False)"
   ]
  },
  {
   "cell_type": "code",
   "execution_count": null,
   "id": "a7e45c4e-c74c-466f-a521-5f3d199ae962",
   "metadata": {},
   "outputs": [],
   "source": [
    "## query a specific snapshot\n",
    "spark.read\\\n",
    "    .option(\"snapshot-id\", \"4884203215810497378\")\\\n",
    "    .table(\"spark_catalog.default.pump_processed\").tail(5)\n"
   ]
  },
  {
   "cell_type": "code",
   "execution_count": null,
   "id": "afe200a8-2d08-4766-8c8b-1f1549499e8f",
   "metadata": {},
   "outputs": [],
   "source": [
    "spark.sql(\"SELECT * FROM spark_catalog.default.pump_processed.snapshots\").show()"
   ]
  },
  {
   "cell_type": "code",
   "execution_count": null,
   "id": "b51f830b-8c04-4e45-b054-75e90846c000",
   "metadata": {},
   "outputs": [],
   "source": [
    "# get current snapshot\n",
    "spark.read.format(\"iceberg\").load(\"spark_catalog.default.pump_processed.history\").toPandas().iloc[-1]['snapshot_id']"
   ]
  },
  {
   "cell_type": "code",
   "execution_count": null,
   "id": "28575bc8-8ff7-4532-a9df-098e59f93d31",
   "metadata": {},
   "outputs": [],
   "source": [
    "spark.read\\\n",
    "    .option(\"snapshot-id\", 4884203215810497378)\\\n",
    "    .table(\"spark_catalog.default.pump_processed\").tail(5)\n"
   ]
  },
  {
   "cell_type": "code",
   "execution_count": null,
   "id": "c502c54a-7934-4a8e-b0d2-9485ccdf8c5b",
   "metadata": {},
   "outputs": [],
   "source": []
  },
  {
   "cell_type": "code",
   "execution_count": null,
   "id": "9f636b5e-d12d-4d35-a4f0-b9edb5f08f48",
   "metadata": {},
   "outputs": [],
   "source": []
  },
  {
   "cell_type": "markdown",
   "id": "ee8bde51-e095-431c-845d-54a65b2dabad",
   "metadata": {},
   "source": [
    "## Explainability SHAP"
   ]
  },
  {
   "cell_type": "markdown",
   "id": "fcb41869-cfc6-4371-ac66-528994f968c5",
   "metadata": {},
   "source": [
    "https://medium.com/dataman-in-ai/explain-your-model-with-the-shap-values-bc36aac4de3d"
   ]
  },
  {
   "cell_type": "code",
   "execution_count": 18,
   "id": "b7b6de4f-7026-43fe-bef2-f89c00b429a9",
   "metadata": {},
   "outputs": [
    {
     "data": {
      "text/html": [
       "<div>\n",
       "<style scoped>\n",
       "    .dataframe tbody tr th:only-of-type {\n",
       "        vertical-align: middle;\n",
       "    }\n",
       "\n",
       "    .dataframe tbody tr th {\n",
       "        vertical-align: top;\n",
       "    }\n",
       "\n",
       "    .dataframe thead th {\n",
       "        text-align: right;\n",
       "    }\n",
       "</style>\n",
       "<table border=\"1\" class=\"dataframe\">\n",
       "  <thead>\n",
       "    <tr style=\"text-align: right;\">\n",
       "      <th></th>\n",
       "      <th>sensor_00</th>\n",
       "      <th>sensor_02</th>\n",
       "      <th>sensor_04</th>\n",
       "      <th>sensor_06</th>\n",
       "      <th>sensor_07</th>\n",
       "      <th>sensor_08</th>\n",
       "      <th>sensor_09</th>\n",
       "      <th>sensor_10</th>\n",
       "      <th>sensor_11</th>\n",
       "      <th>sensor_51</th>\n",
       "      <th>machine_status</th>\n",
       "    </tr>\n",
       "  </thead>\n",
       "  <tbody>\n",
       "    <tr>\n",
       "      <th>0</th>\n",
       "      <td>2.465394</td>\n",
       "      <td>53.2118</td>\n",
       "      <td>634.3750</td>\n",
       "      <td>13.41146</td>\n",
       "      <td>16.13136</td>\n",
       "      <td>15.56713</td>\n",
       "      <td>15.05353</td>\n",
       "      <td>37.22740</td>\n",
       "      <td>47.52422</td>\n",
       "      <td>201.3889</td>\n",
       "      <td>1</td>\n",
       "    </tr>\n",
       "    <tr>\n",
       "      <th>1</th>\n",
       "      <td>2.465394</td>\n",
       "      <td>53.2118</td>\n",
       "      <td>634.3750</td>\n",
       "      <td>13.41146</td>\n",
       "      <td>16.13136</td>\n",
       "      <td>15.56713</td>\n",
       "      <td>15.05353</td>\n",
       "      <td>37.22740</td>\n",
       "      <td>47.52422</td>\n",
       "      <td>201.3889</td>\n",
       "      <td>1</td>\n",
       "    </tr>\n",
       "    <tr>\n",
       "      <th>2</th>\n",
       "      <td>2.444734</td>\n",
       "      <td>53.2118</td>\n",
       "      <td>638.8889</td>\n",
       "      <td>13.32465</td>\n",
       "      <td>16.03733</td>\n",
       "      <td>15.61777</td>\n",
       "      <td>15.01013</td>\n",
       "      <td>37.86777</td>\n",
       "      <td>48.17723</td>\n",
       "      <td>203.7037</td>\n",
       "      <td>1</td>\n",
       "    </tr>\n",
       "    <tr>\n",
       "      <th>3</th>\n",
       "      <td>2.460474</td>\n",
       "      <td>53.1684</td>\n",
       "      <td>628.1250</td>\n",
       "      <td>13.31742</td>\n",
       "      <td>16.24711</td>\n",
       "      <td>15.69734</td>\n",
       "      <td>15.08247</td>\n",
       "      <td>38.57977</td>\n",
       "      <td>48.65607</td>\n",
       "      <td>203.1250</td>\n",
       "      <td>1</td>\n",
       "    </tr>\n",
       "    <tr>\n",
       "      <th>4</th>\n",
       "      <td>2.445718</td>\n",
       "      <td>53.2118</td>\n",
       "      <td>636.4583</td>\n",
       "      <td>13.35359</td>\n",
       "      <td>16.21094</td>\n",
       "      <td>15.69734</td>\n",
       "      <td>15.08247</td>\n",
       "      <td>39.48939</td>\n",
       "      <td>49.06298</td>\n",
       "      <td>201.3889</td>\n",
       "      <td>1</td>\n",
       "    </tr>\n",
       "  </tbody>\n",
       "</table>\n",
       "</div>"
      ],
      "text/plain": [
       "   sensor_00  sensor_02  sensor_04  sensor_06  sensor_07  sensor_08  \\\n",
       "0   2.465394    53.2118   634.3750   13.41146   16.13136   15.56713   \n",
       "1   2.465394    53.2118   634.3750   13.41146   16.13136   15.56713   \n",
       "2   2.444734    53.2118   638.8889   13.32465   16.03733   15.61777   \n",
       "3   2.460474    53.1684   628.1250   13.31742   16.24711   15.69734   \n",
       "4   2.445718    53.2118   636.4583   13.35359   16.21094   15.69734   \n",
       "\n",
       "   sensor_09  sensor_10  sensor_11  sensor_51 machine_status  \n",
       "0   15.05353   37.22740   47.52422   201.3889              1  \n",
       "1   15.05353   37.22740   47.52422   201.3889              1  \n",
       "2   15.01013   37.86777   48.17723   203.7037              1  \n",
       "3   15.08247   38.57977   48.65607   203.1250              1  \n",
       "4   15.08247   39.48939   49.06298   201.3889              1  "
      ]
     },
     "execution_count": 18,
     "metadata": {},
     "output_type": "execute_result"
    }
   ],
   "source": [
    "df_proc.drop(\"timestamp\", axis=1, inplace=True)\n",
    "df_proc.head()"
   ]
  },
  {
   "cell_type": "code",
   "execution_count": 16,
   "id": "b061614c-0242-4042-b2b1-86d84e06f702",
   "metadata": {},
   "outputs": [],
   "source": [
    "from sklearn.metrics import f1_score\n",
    "from sklearn.preprocessing import MinMaxScaler\n",
    "from sklearn.ensemble import RandomForestClassifier\n",
    "\n",
    "def normalize_df(df_train, df_test):\n",
    "    \"\"\"\n",
    "    Function to normalize the data using minimax scaler\n",
    "    \"\"\"\n",
    "    scaler = MinMaxScaler()\n",
    "    scaled_train = scaler.fit_transform(df_train.values)\n",
    "    scaled_test = scaler.transform(df_test.values)\n",
    "    train = pd.DataFrame(data=scaled_train, \n",
    "                         columns=df_train.columns, \n",
    "                         index=df_train.index)\n",
    "    test = pd.DataFrame(data=scaled_test, \n",
    "                        columns=df_test.columns, \n",
    "                        index=df_test.index)\n",
    "    return train, test"
   ]
  },
  {
   "cell_type": "code",
   "execution_count": 19,
   "id": "58140ed9-b656-4bee-b0df-b120ccb88efb",
   "metadata": {},
   "outputs": [],
   "source": [
    "# train test split\n",
    "train_dataPoints = 130000 \n",
    "train = df_proc[:train_dataPoints]\n",
    "test = df_proc[train_dataPoints:]\n",
    "\n",
    "train_x = train.drop([\"machine_status\"], axis=1)\n",
    "test_x = test.drop([\"machine_status\"], axis=1)\n",
    "train_y = train[[\"machine_status\"]]\n",
    "test_y = test[[\"machine_status\"]]\n",
    "\n",
    "train_x, test_x = normalize_df(train_x, test_x)\n"
   ]
  },
  {
   "cell_type": "code",
   "execution_count": 20,
   "id": "cebab864-bd64-428b-a96c-0c1b0a9584b3",
   "metadata": {},
   "outputs": [
    {
     "data": {
      "text/plain": [
       "0.9947304320999792"
      ]
     },
     "execution_count": 20,
     "metadata": {},
     "output_type": "execute_result"
    }
   ],
   "source": [
    "n_estimators = int(sys.argv[4]) if len(sys.argv) > 4 else 3\n",
    "max_depth = int(sys.argv[5]) if len(sys.argv) > 4 else 10\n",
    "\n",
    "# declate rf and fit\n",
    "rf = RandomForestClassifier(n_estimators=n_estimators, \n",
    "                            max_depth=max_depth,\n",
    "                            criterion='gini', \n",
    "                            random_state=21, \n",
    "                            n_jobs=-1)\n",
    "rf.fit(train_x, train_y)\n",
    "\n",
    "# predict\n",
    "pred = rf.predict(test_x)\n",
    "\n",
    "f1_score(test_y, pred, average='macro')\n"
   ]
  },
  {
   "cell_type": "markdown",
   "id": "71548501-8a34-47ac-8c06-8cdee4aeb056",
   "metadata": {},
   "source": [
    "#### Variable Importance Plot"
   ]
  },
  {
   "cell_type": "code",
   "execution_count": 21,
   "id": "d16fde1e-80f0-4484-a9d0-dae1ec271e65",
   "metadata": {},
   "outputs": [
    {
     "data": {
      "image/png": "[encoded data removed]",
      "text/plain": [
       "<Figure size 576x396 with 1 Axes>"
      ]
     },
     "metadata": {
      "needs_background": "light"
     },
     "output_type": "display_data"
    }
   ],
   "source": [
    "import shap\n",
    "shap_values = shap.TreeExplainer(rf).shap_values(train_x)\n",
    "shap.summary_plot(shap_values, train_x, plot_type=\"bar\")"
   ]
  },
  {
   "cell_type": "code",
   "execution_count": 24,
   "id": "5e9e9aec-cce4-40ec-8a15-b2d5e0dee50a",
   "metadata": {},
   "outputs": [],
   "source": [
    "shap.summary_plot(shap_values, train_x, plot_bar=)"
   ]
  },
  {
   "cell_type": "markdown",
   "id": "d254af80-67a4-4ed8-a066-8d7237ff25a1",
   "metadata": {},
   "source": [
    "#### SHAP Dependence Plot — Global Interpretability"
   ]
  },
  {
   "cell_type": "code",
   "execution_count": 30,
   "id": "9ccdea9f-f80d-4059-b665-37eac4864cc1",
   "metadata": {},
   "outputs": [
    {
     "data": {
      "image/png": "[encoded data removed]",
      "text/plain": [
       "<Figure size 540x360 with 2 Axes>"
      ]
     },
     "metadata": {
      "needs_background": "light"
     },
     "output_type": "display_data"
    }
   ],
   "source": [
    "shap.dependence_plot(\"sensor_00\", shap_values[0], train_x)"
   ]
  },
  {
   "cell_type": "code",
   "execution_count": 31,
   "id": "7c060fac-6a36-47a5-9a5b-f0d4fc968a07",
   "metadata": {},
   "outputs": [
    {
     "data": {
      "image/png": "[encoded data removed]",
      "text/plain": [
       "<Figure size 540x360 with 2 Axes>"
      ]
     },
     "metadata": {
      "needs_background": "light"
     },
     "output_type": "display_data"
    }
   ],
   "source": [
    "shap.dependence_plot(\"sensor_02\", shap_values[0], train_x)"
   ]
  },
  {
   "cell_type": "code",
   "execution_count": 32,
   "id": "4bcb5b2d-4de7-4fac-98c2-54948ace8411",
   "metadata": {},
   "outputs": [
    {
     "data": {
      "image/png": "[encoded data removed]",
      "text/plain": [
       "<Figure size 540x360 with 2 Axes>"
      ]
     },
     "metadata": {
      "needs_background": "light"
     },
     "output_type": "display_data"
    }
   ],
   "source": [
    "shap.dependence_plot(\"sensor_51\", shap_values[0], train_x)"
   ]
  },
  {
   "cell_type": "code",
   "execution_count": 34,
   "id": "a7e37dd2-f9ae-48fe-a9e1-1c5acc0cda6d",
   "metadata": {},
   "outputs": [
    {
     "data": {
      "image/png": "[encoded data removed]",
      "text/plain": [
       "<Figure size 540x360 with 2 Axes>"
      ]
     },
     "metadata": {
      "needs_background": "light"
     },
     "output_type": "display_data"
    }
   ],
   "source": [
    "shap.dependence_plot(\"sensor_06\", shap_values[0], train_x)"
   ]
  },
  {
   "cell_type": "markdown",
   "id": "19996be6-febb-467e-a25c-38096939e323",
   "metadata": {},
   "source": [
    "#### Individual SHAP Value Plot — Local Interpretability"
   ]
  },
  {
   "cell_type": "code",
   "execution_count": null,
   "id": "b30594d9-6980-4aa9-9d65-db3d8ef8970f",
   "metadata": {},
   "outputs": [],
   "source": []
  },
  {
   "cell_type": "code",
   "execution_count": null,
   "id": "c7af557d-81e6-4041-97df-357b6518ae9c",
   "metadata": {},
   "outputs": [],
   "source": []
  },
  {
   "cell_type": "code",
   "execution_count": null,
   "id": "a2769e28-a94e-41d1-a398-c24a6e5f9f14",
   "metadata": {},
   "outputs": [],
   "source": []
  },
  {
   "cell_type": "code",
   "execution_count": null,
   "id": "73ff6af0-d627-45d4-8089-45f7cd211628",
   "metadata": {},
   "outputs": [],
   "source": []
  },
  {
   "cell_type": "code",
   "execution_count": null,
   "id": "e2808716-7a60-4b5c-a30d-41e8918ca9e6",
   "metadata": {},
   "outputs": [],
   "source": []
  },
  {
   "cell_type": "code",
   "execution_count": null,
   "id": "ffec4f7c-5250-4c96-ba3f-638cf9cd4f0a",
   "metadata": {},
   "outputs": [],
   "source": []
  },
  {
   "cell_type": "code",
   "execution_count": null,
   "id": "ee10e091-ff6f-4d8c-a20e-898d39206f8c",
   "metadata": {},
   "outputs": [],
   "source": []
  },
  {
   "cell_type": "code",
   "execution_count": null,
   "id": "e1d9aaf9-7a98-4aee-916b-4c1b25cb571c",
   "metadata": {},
   "outputs": [],
   "source": []
  },
  {
   "cell_type": "code",
   "execution_count": null,
   "id": "c52354ee-35a2-4c8c-a629-efaf3e1c6f19",
   "metadata": {},
   "outputs": [],
   "source": []
  },
  {
   "cell_type": "code",
   "execution_count": null,
   "id": "e17db023-82b4-457c-8cb3-6b24fdc4a86f",
   "metadata": {},
   "outputs": [],
   "source": []
  },
  {
   "cell_type": "code",
   "execution_count": null,
   "id": "d72e8722-6b6e-4bb9-ad62-215f1953b3f7",
   "metadata": {},
   "outputs": [],
   "source": []
  },
  {
   "cell_type": "code",
   "execution_count": null,
   "id": "093cfc2d-8153-4ed8-b7be-69b4ba4cb30c",
   "metadata": {},
   "outputs": [],
   "source": []
  },
  {
   "cell_type": "code",
   "execution_count": null,
   "id": "cd348c8e-9743-439b-a5d0-eb8cee0c537e",
   "metadata": {},
   "outputs": [],
   "source": []
  },
  {
   "cell_type": "code",
   "execution_count": null,
   "id": "9102d202-1159-4ccf-931c-4f413cb044bb",
   "metadata": {},
   "outputs": [],
   "source": []
  },
  {
   "cell_type": "code",
   "execution_count": null,
   "id": "9983a30e-f504-4359-92de-a6115c2a641b",
   "metadata": {},
   "outputs": [],
   "source": []
  }
 ],
 "metadata": {
  "kernelspec": {
   "display_name": "Python 3 (ipykernel)",
   "language": "python",
   "name": "python3"
  },
  "language_info": {
   "codemirror_mode": {
    "name": "ipython",
    "version": 3
   },
   "file_extension": ".py",
   "mimetype": "text/x-python",
   "name": "python",
   "nbconvert_exporter": "python",
   "pygments_lexer": "ipython3",
   "version": "3.8.13"
  }
 },
 "nbformat": 4,
 "nbformat_minor": 5
}
