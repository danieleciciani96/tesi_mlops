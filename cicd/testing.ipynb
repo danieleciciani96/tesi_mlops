{
 "cells": [
  {
   "cell_type": "code",
   "execution_count": 109,
   "id": "6119b373-9290-4c9b-8fb7-8dfc88ca5e59",
   "metadata": {},
   "outputs": [],
   "source": [
    "import numpy as np\n",
    "import pandas as pd\n",
    "from sklearn import preprocessing\n",
    "import matplotlib.pyplot as plt\n",
    "import seaborn as sns \n",
    "import warnings\n",
    "warnings.filterwarnings(\"ignore\")\n",
    "\n",
    "import findspark\n",
    "findspark.init()\n",
    "\n",
    "from pyspark.sql import SparkSession\n",
    "from pyspark.sql.functions import *\n",
    "\n",
    "import unittest\n",
    "import pytest"
   ]
  },
  {
   "cell_type": "code",
   "execution_count": 110,
   "id": "807dfa9f-3987-4f26-8236-eedd2e84f7e4",
   "metadata": {},
   "outputs": [],
   "source": [
    "import pandas as pd\n",
    "import numpy as np\n",
    " \n",
    " \n",
    "from evidently.pipeline.column_mapping import ColumnMapping\n",
    " \n",
    "from evidently.report import Report\n",
    "from evidently.metric_preset import DataDrift, NumTargetDrift\n",
    " \n",
    "from evidently.test_suite import TestSuite\n",
    "from evidently.test_preset import DataQuality, DataStability\n",
    "from evidently.tests import *"
   ]
  },
  {
   "cell_type": "code",
   "execution_count": 111,
   "id": "3cb7db7a-ab10-4202-a186-86dab75b560a",
   "metadata": {},
   "outputs": [
    {
     "name": "stderr",
     "output_type": "stream",
     "text": [
      "Setting spark.hadoop.yarn.resourcemanager.principal to dciciani\n",
      "                                                                                \r"
     ]
    }
   ],
   "source": [
    "spark = SparkSession.builder\\\n",
    "  .appName(\"Refresh Raw into Icerberg Table\") \\\n",
    "  .config(\"spark.hadoop.fs.s3a.s3guard.ddb.region\", \"us-west-2\")\\\n",
    "  .config(\"spark.kerberos.access.hadoopFileSystems\", \"s3a://ps-uat2\")\\\n",
    "  .config(\"spark.jars\",\"/home/cdsw/lib/iceberg-spark-runtime-3.2_2.12-0.13.2.jar\") \\\n",
    "  .config(\"spark.sql.extensions\",\"org.apache.iceberg.spark.extensions.IcebergSparkSessionExtensions\") \\\n",
    "  .config(\"spark.sql.catalog.spark_catalog\",\"org.apache.iceberg.spark.SparkSessionCatalog\") \\\n",
    "  .config(\"spark.sql.catalog.spark_catalog.type\",\"hive\") \\\n",
    "  .getOrCreate()\n",
    "\n",
    "#read raw data \n",
    "df_raw = spark.sql(\"SELECT * FROM spark_catalog.default.pump_processed\")\n",
    "df_raw = df_raw.toPandas()"
   ]
  },
  {
   "cell_type": "markdown",
   "id": "8ede2f00-af1a-4b57-ad36-17a40a846326",
   "metadata": {},
   "source": [
    "# monitoring post "
   ]
  },
  {
   "cell_type": "code",
   "execution_count": 219,
   "id": "66e81269-a1fa-4179-9e2a-0b110d41616d",
   "metadata": {},
   "outputs": [
    {
     "data": {
      "text/html": [
       "<div>\n",
       "<style scoped>\n",
       "    .dataframe tbody tr th:only-of-type {\n",
       "        vertical-align: middle;\n",
       "    }\n",
       "\n",
       "    .dataframe tbody tr th {\n",
       "        vertical-align: top;\n",
       "    }\n",
       "\n",
       "    .dataframe thead th {\n",
       "        text-align: right;\n",
       "    }\n",
       "</style>\n",
       "<table border=\"1\" class=\"dataframe\">\n",
       "  <thead>\n",
       "    <tr style=\"text-align: right;\">\n",
       "      <th></th>\n",
       "      <th>timestamp</th>\n",
       "      <th>sensor_00</th>\n",
       "      <th>sensor_02</th>\n",
       "      <th>sensor_04</th>\n",
       "      <th>sensor_06</th>\n",
       "      <th>sensor_07</th>\n",
       "      <th>sensor_08</th>\n",
       "      <th>sensor_09</th>\n",
       "      <th>sensor_10</th>\n",
       "      <th>sensor_11</th>\n",
       "      <th>sensor_51</th>\n",
       "      <th>target</th>\n",
       "    </tr>\n",
       "  </thead>\n",
       "  <tbody>\n",
       "    <tr>\n",
       "      <th>0</th>\n",
       "      <td>2018-04-01 00:00:00</td>\n",
       "      <td>2.465394</td>\n",
       "      <td>53.2118</td>\n",
       "      <td>634.3750</td>\n",
       "      <td>13.41146</td>\n",
       "      <td>16.13136</td>\n",
       "      <td>15.56713</td>\n",
       "      <td>15.05353</td>\n",
       "      <td>37.22740</td>\n",
       "      <td>47.52422</td>\n",
       "      <td>201.3889</td>\n",
       "      <td>1</td>\n",
       "    </tr>\n",
       "    <tr>\n",
       "      <th>1</th>\n",
       "      <td>2018-04-01 00:01:00</td>\n",
       "      <td>2.465394</td>\n",
       "      <td>53.2118</td>\n",
       "      <td>634.3750</td>\n",
       "      <td>13.41146</td>\n",
       "      <td>16.13136</td>\n",
       "      <td>15.56713</td>\n",
       "      <td>15.05353</td>\n",
       "      <td>37.22740</td>\n",
       "      <td>47.52422</td>\n",
       "      <td>201.3889</td>\n",
       "      <td>1</td>\n",
       "    </tr>\n",
       "    <tr>\n",
       "      <th>2</th>\n",
       "      <td>2018-04-01 00:02:00</td>\n",
       "      <td>2.444734</td>\n",
       "      <td>53.2118</td>\n",
       "      <td>638.8889</td>\n",
       "      <td>13.32465</td>\n",
       "      <td>16.03733</td>\n",
       "      <td>15.61777</td>\n",
       "      <td>15.01013</td>\n",
       "      <td>37.86777</td>\n",
       "      <td>48.17723</td>\n",
       "      <td>203.7037</td>\n",
       "      <td>1</td>\n",
       "    </tr>\n",
       "    <tr>\n",
       "      <th>3</th>\n",
       "      <td>2018-04-01 00:03:00</td>\n",
       "      <td>2.460474</td>\n",
       "      <td>53.1684</td>\n",
       "      <td>628.1250</td>\n",
       "      <td>13.31742</td>\n",
       "      <td>16.24711</td>\n",
       "      <td>15.69734</td>\n",
       "      <td>15.08247</td>\n",
       "      <td>38.57977</td>\n",
       "      <td>48.65607</td>\n",
       "      <td>203.1250</td>\n",
       "      <td>1</td>\n",
       "    </tr>\n",
       "    <tr>\n",
       "      <th>4</th>\n",
       "      <td>2018-04-01 00:04:00</td>\n",
       "      <td>2.445718</td>\n",
       "      <td>53.2118</td>\n",
       "      <td>636.4583</td>\n",
       "      <td>13.35359</td>\n",
       "      <td>16.21094</td>\n",
       "      <td>15.69734</td>\n",
       "      <td>15.08247</td>\n",
       "      <td>39.48939</td>\n",
       "      <td>49.06298</td>\n",
       "      <td>201.3889</td>\n",
       "      <td>1</td>\n",
       "    </tr>\n",
       "  </tbody>\n",
       "</table>\n",
       "</div>"
      ],
      "text/plain": [
       "             timestamp  sensor_00  sensor_02  sensor_04  sensor_06  sensor_07  \\\n",
       "0  2018-04-01 00:00:00   2.465394    53.2118   634.3750   13.41146   16.13136   \n",
       "1  2018-04-01 00:01:00   2.465394    53.2118   634.3750   13.41146   16.13136   \n",
       "2  2018-04-01 00:02:00   2.444734    53.2118   638.8889   13.32465   16.03733   \n",
       "3  2018-04-01 00:03:00   2.460474    53.1684   628.1250   13.31742   16.24711   \n",
       "4  2018-04-01 00:04:00   2.445718    53.2118   636.4583   13.35359   16.21094   \n",
       "\n",
       "   sensor_08  sensor_09  sensor_10  sensor_11  sensor_51  target  \n",
       "0   15.56713   15.05353   37.22740   47.52422   201.3889       1  \n",
       "1   15.56713   15.05353   37.22740   47.52422   201.3889       1  \n",
       "2   15.61777   15.01013   37.86777   48.17723   203.7037       1  \n",
       "3   15.69734   15.08247   38.57977   48.65607   203.1250       1  \n",
       "4   15.69734   15.08247   39.48939   49.06298   201.3889       1  "
      ]
     },
     "execution_count": 219,
     "metadata": {},
     "output_type": "execute_result"
    }
   ],
   "source": [
    "import pandas as pd\n",
    "from evidently.pipeline.column_mapping import ColumnMapping\n",
    "from evidently.report import Report\n",
    "#from evidently.metric_preset import DataDrift, NumTargetDrift, Cat\n",
    "\n",
    "from evidently.dashboard.tabs import DataDriftTab, CatTargetDriftTab\n",
    "\n",
    "from evidently.test_suite import TestSuite\n",
    "from evidently.test_preset import DataQuality, DataStability \n",
    "from evidently.tests import *\n",
    "\n",
    "import mlflow\n",
    "\n",
    "path_processed = \"/home/cdsw/data/pump_processed.csv\"\n",
    "\n",
    "df = pd.read_csv(path_processed)\n",
    "df['target'] = df['machine_status']\n",
    "df = df.drop([\"machine_status\"], axis=1)\n",
    "df.head()"
   ]
  },
  {
   "cell_type": "code",
   "execution_count": 245,
   "id": "4efc68ae-51ab-456a-9e36-e3fe87856737",
   "metadata": {},
   "outputs": [],
   "source": [
    "period = \"2018-08-01 00:00:00\"\n",
    "reference = df.loc[df.timestamp < period].drop(\"timestamp\",axis=1).sample(5000, random_state=0)\n",
    "target = df.loc[df.timestamp >= period].drop(\"timestamp\",axis=1).sample(5000, random_state=0)"
   ]
  },
  {
   "cell_type": "code",
   "execution_count": 246,
   "id": "e53d3c60-8504-4f3c-9214-98544f2eff0c",
   "metadata": {},
   "outputs": [
    {
     "data": {
      "text/html": [
       "<div>\n",
       "<style scoped>\n",
       "    .dataframe tbody tr th:only-of-type {\n",
       "        vertical-align: middle;\n",
       "    }\n",
       "\n",
       "    .dataframe tbody tr th {\n",
       "        vertical-align: top;\n",
       "    }\n",
       "\n",
       "    .dataframe thead th {\n",
       "        text-align: right;\n",
       "    }\n",
       "</style>\n",
       "<table border=\"1\" class=\"dataframe\">\n",
       "  <thead>\n",
       "    <tr style=\"text-align: right;\">\n",
       "      <th></th>\n",
       "      <th>sensor_00</th>\n",
       "      <th>sensor_02</th>\n",
       "      <th>sensor_04</th>\n",
       "      <th>sensor_06</th>\n",
       "      <th>sensor_07</th>\n",
       "      <th>sensor_08</th>\n",
       "      <th>sensor_09</th>\n",
       "      <th>sensor_10</th>\n",
       "      <th>sensor_11</th>\n",
       "      <th>sensor_51</th>\n",
       "      <th>target</th>\n",
       "    </tr>\n",
       "  </thead>\n",
       "  <tbody>\n",
       "    <tr>\n",
       "      <th>47296</th>\n",
       "      <td>2.453588</td>\n",
       "      <td>52.256940</td>\n",
       "      <td>643.6343</td>\n",
       "      <td>13.38252</td>\n",
       "      <td>16.42795</td>\n",
       "      <td>15.26331</td>\n",
       "      <td>14.82205</td>\n",
       "      <td>40.18721</td>\n",
       "      <td>47.26311</td>\n",
       "      <td>181.1343</td>\n",
       "      <td>1</td>\n",
       "    </tr>\n",
       "    <tr>\n",
       "      <th>4234</th>\n",
       "      <td>2.485070</td>\n",
       "      <td>52.473960</td>\n",
       "      <td>627.8935</td>\n",
       "      <td>13.30295</td>\n",
       "      <td>16.70284</td>\n",
       "      <td>15.85648</td>\n",
       "      <td>15.05353</td>\n",
       "      <td>40.68262</td>\n",
       "      <td>44.56194</td>\n",
       "      <td>209.4907</td>\n",
       "      <td>1</td>\n",
       "    </tr>\n",
       "    <tr>\n",
       "      <th>110346</th>\n",
       "      <td>2.503762</td>\n",
       "      <td>51.432289</td>\n",
       "      <td>640.8564</td>\n",
       "      <td>13.64294</td>\n",
       "      <td>16.07350</td>\n",
       "      <td>14.91609</td>\n",
       "      <td>14.74971</td>\n",
       "      <td>41.75233</td>\n",
       "      <td>34.38781</td>\n",
       "      <td>214.6991</td>\n",
       "      <td>1</td>\n",
       "    </tr>\n",
       "    <tr>\n",
       "      <th>96577</th>\n",
       "      <td>2.509664</td>\n",
       "      <td>52.126740</td>\n",
       "      <td>638.4259</td>\n",
       "      <td>13.56337</td>\n",
       "      <td>15.62500</td>\n",
       "      <td>15.53096</td>\n",
       "      <td>15.11863</td>\n",
       "      <td>45.87466</td>\n",
       "      <td>35.94968</td>\n",
       "      <td>182.0023</td>\n",
       "      <td>1</td>\n",
       "    </tr>\n",
       "    <tr>\n",
       "      <th>79988</th>\n",
       "      <td>2.445718</td>\n",
       "      <td>52.734370</td>\n",
       "      <td>629.3981</td>\n",
       "      <td>13.68634</td>\n",
       "      <td>16.03009</td>\n",
       "      <td>15.29224</td>\n",
       "      <td>15.11863</td>\n",
       "      <td>51.13341</td>\n",
       "      <td>33.16643</td>\n",
       "      <td>242.1875</td>\n",
       "      <td>1</td>\n",
       "    </tr>\n",
       "    <tr>\n",
       "      <th>...</th>\n",
       "      <td>...</td>\n",
       "      <td>...</td>\n",
       "      <td>...</td>\n",
       "      <td>...</td>\n",
       "      <td>...</td>\n",
       "      <td>...</td>\n",
       "      <td>...</td>\n",
       "      <td>...</td>\n",
       "      <td>...</td>\n",
       "      <td>...</td>\n",
       "      <td>...</td>\n",
       "    </tr>\n",
       "    <tr>\n",
       "      <th>154871</th>\n",
       "      <td>2.512616</td>\n",
       "      <td>50.000000</td>\n",
       "      <td>642.3611</td>\n",
       "      <td>14.60503</td>\n",
       "      <td>16.20370</td>\n",
       "      <td>15.56713</td>\n",
       "      <td>15.08247</td>\n",
       "      <td>47.40725</td>\n",
       "      <td>47.84417</td>\n",
       "      <td>188.3681</td>\n",
       "      <td>1</td>\n",
       "    </tr>\n",
       "    <tr>\n",
       "      <th>85914</th>\n",
       "      <td>2.459491</td>\n",
       "      <td>54.340270</td>\n",
       "      <td>622.8009</td>\n",
       "      <td>13.17274</td>\n",
       "      <td>16.21094</td>\n",
       "      <td>15.18374</td>\n",
       "      <td>15.08247</td>\n",
       "      <td>43.68761</td>\n",
       "      <td>40.20554</td>\n",
       "      <td>212.3843</td>\n",
       "      <td>1</td>\n",
       "    </tr>\n",
       "    <tr>\n",
       "      <th>124267</th>\n",
       "      <td>2.303067</td>\n",
       "      <td>49.522570</td>\n",
       "      <td>609.7222</td>\n",
       "      <td>13.60677</td>\n",
       "      <td>15.65393</td>\n",
       "      <td>14.91609</td>\n",
       "      <td>14.67737</td>\n",
       "      <td>37.88455</td>\n",
       "      <td>41.63232</td>\n",
       "      <td>-1.0000</td>\n",
       "      <td>1</td>\n",
       "    </tr>\n",
       "    <tr>\n",
       "      <th>142330</th>\n",
       "      <td>2.401447</td>\n",
       "      <td>52.387150</td>\n",
       "      <td>631.1343</td>\n",
       "      <td>14.09867</td>\n",
       "      <td>15.70457</td>\n",
       "      <td>15.18374</td>\n",
       "      <td>15.01013</td>\n",
       "      <td>43.92540</td>\n",
       "      <td>44.15007</td>\n",
       "      <td>197.3380</td>\n",
       "      <td>1</td>\n",
       "    </tr>\n",
       "    <tr>\n",
       "      <th>35226</th>\n",
       "      <td>2.454572</td>\n",
       "      <td>53.906250</td>\n",
       "      <td>631.4814</td>\n",
       "      <td>13.38252</td>\n",
       "      <td>15.87095</td>\n",
       "      <td>15.45139</td>\n",
       "      <td>15.08247</td>\n",
       "      <td>45.43184</td>\n",
       "      <td>44.79139</td>\n",
       "      <td>199.3634</td>\n",
       "      <td>1</td>\n",
       "    </tr>\n",
       "  </tbody>\n",
       "</table>\n",
       "<p>5000 rows × 11 columns</p>\n",
       "</div>"
      ],
      "text/plain": [
       "        sensor_00  sensor_02  sensor_04  sensor_06  sensor_07  sensor_08  \\\n",
       "47296    2.453588  52.256940   643.6343   13.38252   16.42795   15.26331   \n",
       "4234     2.485070  52.473960   627.8935   13.30295   16.70284   15.85648   \n",
       "110346   2.503762  51.432289   640.8564   13.64294   16.07350   14.91609   \n",
       "96577    2.509664  52.126740   638.4259   13.56337   15.62500   15.53096   \n",
       "79988    2.445718  52.734370   629.3981   13.68634   16.03009   15.29224   \n",
       "...           ...        ...        ...        ...        ...        ...   \n",
       "154871   2.512616  50.000000   642.3611   14.60503   16.20370   15.56713   \n",
       "85914    2.459491  54.340270   622.8009   13.17274   16.21094   15.18374   \n",
       "124267   2.303067  49.522570   609.7222   13.60677   15.65393   14.91609   \n",
       "142330   2.401447  52.387150   631.1343   14.09867   15.70457   15.18374   \n",
       "35226    2.454572  53.906250   631.4814   13.38252   15.87095   15.45139   \n",
       "\n",
       "        sensor_09  sensor_10  sensor_11  sensor_51  target  \n",
       "47296    14.82205   40.18721   47.26311   181.1343       1  \n",
       "4234     15.05353   40.68262   44.56194   209.4907       1  \n",
       "110346   14.74971   41.75233   34.38781   214.6991       1  \n",
       "96577    15.11863   45.87466   35.94968   182.0023       1  \n",
       "79988    15.11863   51.13341   33.16643   242.1875       1  \n",
       "...           ...        ...        ...        ...     ...  \n",
       "154871   15.08247   47.40725   47.84417   188.3681       1  \n",
       "85914    15.08247   43.68761   40.20554   212.3843       1  \n",
       "124267   14.67737   37.88455   41.63232    -1.0000       1  \n",
       "142330   15.01013   43.92540   44.15007   197.3380       1  \n",
       "35226    15.08247   45.43184   44.79139   199.3634       1  \n",
       "\n",
       "[5000 rows x 11 columns]"
      ]
     },
     "execution_count": 246,
     "metadata": {},
     "output_type": "execute_result"
    }
   ],
   "source": [
    "reference"
   ]
  },
  {
   "cell_type": "code",
   "execution_count": 296,
   "id": "6e7ab1fa-0e30-4e98-b424-500488ed8899",
   "metadata": {},
   "outputs": [
    {
     "name": "stdout",
     "output_type": "stream",
     "text": [
      "<class 'pandas.core.frame.DataFrame'>\n",
      "Int64Index: 5000 entries, 191601 to 215817\n",
      "Data columns (total 11 columns):\n",
      " #   Column     Non-Null Count  Dtype  \n",
      "---  ------     --------------  -----  \n",
      " 0   sensor_00  5000 non-null   float64\n",
      " 1   sensor_02  5000 non-null   float64\n",
      " 2   sensor_04  5000 non-null   float64\n",
      " 3   sensor_06  5000 non-null   float64\n",
      " 4   sensor_07  5000 non-null   float64\n",
      " 5   sensor_08  5000 non-null   float64\n",
      " 6   sensor_09  5000 non-null   float64\n",
      " 7   sensor_10  5000 non-null   float64\n",
      " 8   sensor_11  5000 non-null   float64\n",
      " 9   sensor_51  5000 non-null   float64\n",
      " 10  target     5000 non-null   int64  \n",
      "dtypes: float64(10), int64(1)\n",
      "memory usage: 468.8 KB\n"
     ]
    }
   ],
   "source": [
    "target.info()"
   ]
  },
  {
   "cell_type": "code",
   "execution_count": 248,
   "id": "9c51e231-6491-4ace-bc50-9c0a76979422",
   "metadata": {},
   "outputs": [],
   "source": [
    "from evidently.model_profile import Profile\n",
    "from evidently.model_profile.sections import DataDriftProfileSection, CatTargetDriftProfileSection"
   ]
  },
  {
   "cell_type": "code",
   "execution_count": 249,
   "id": "8804b513-c335-4b19-8be5-7ce7c90f2d19",
   "metadata": {},
   "outputs": [],
   "source": [
    "numerical_features = ['sensor_00','sensor_02', 'sensor_04', 'sensor_06',  'sensor_07', 'sensor_08',\n",
    "                     'sensor_09', 'sensor_10', 'sensor_11', 'sensor_51']\n",
    "\n",
    "categorical_features = [\"target\"]"
   ]
  },
  {
   "cell_type": "code",
   "execution_count": 250,
   "id": "386f5dc1-870f-4389-b67c-3d051b99b858",
   "metadata": {},
   "outputs": [],
   "source": [
    "column_mapping = ColumnMapping()\n",
    "\n",
    "column_mapping.target = 'target'\n",
    "column_mapping.numerical_features = numerical_features\n"
   ]
  },
  {
   "cell_type": "code",
   "execution_count": 255,
   "id": "493066bf-50a1-4b43-b6f3-7205fcef92c7",
   "metadata": {},
   "outputs": [
    {
     "data": {
      "text/plain": [
       "0.1741505884033314"
      ]
     },
     "execution_count": 255,
     "metadata": {},
     "output_type": "execute_result"
    }
   ],
   "source": [
    "### check target drift profle\n",
    "pump_target_drift_profile = Profile(sections=[CatTargetDriftProfileSection()])\n",
    "pump_target_drift_profile.calculate(reference, target, column_mapping=column_mapping) \n",
    "json.loads(pump_target_drift_profile.json())[\"cat_target_drift\"]['data']['metrics']['target_drift']"
   ]
  },
  {
   "cell_type": "code",
   "execution_count": 228,
   "id": "5543d0d5-4757-4bb8-b56e-1467c64da58a",
   "metadata": {},
   "outputs": [],
   "source": [
    "### check data drift profile\n",
    "pump_data_drift_profile = Profile(sections=[DataDriftProfileSection()])\n",
    "pump_data_drift_profile.calculate(reference, target, column_mapping=column_mapping) \n",
    "json.loads(pump_data_drift_profile.json())['data_drift']['data']['metrics']['dataset_drift']\n"
   ]
  },
  {
   "cell_type": "markdown",
   "id": "b17d6a4e-89d1-4b99-92ef-0b880cc64385",
   "metadata": {},
   "source": [
    "## read prediction metrics"
   ]
  },
  {
   "cell_type": "code",
   "execution_count": 277,
   "id": "33bec04d-0860-4358-b1c1-fd549d59057f",
   "metadata": {},
   "outputs": [],
   "source": [
    "import cdsw, time, os\n",
    "\n",
    "model_deployment_crn = \"crn:cdp:ml:us-west-1:558bc1d2-8867-4357-8524-311d51259233:workspace:de20f039-2b2a-48ea-b388-1be9ffd49da1/492d014a-d103-4f7e-a8f7-ca8cb4509794\""
   ]
  },
  {
   "cell_type": "code",
   "execution_count": 301,
   "id": "3c0f4b73-26ad-4816-ae25-c713b20e020e",
   "metadata": {},
   "outputs": [
    {
     "data": {
      "text/plain": [
       "Index(['modelDeploymentCrn', 'modelBuildCrn', 'modelCrn', 'startTimeStampMs',\n",
       "       'endTimeStampMs', 'predictionUuid', 'metrics.data.sensor_00',\n",
       "       'metrics.data.sensor_02', 'metrics.data.sensor_04',\n",
       "       'metrics.data.sensor_06', 'metrics.data.sensor_07',\n",
       "       'metrics.data.sensor_08', 'metrics.data.sensor_09',\n",
       "       'metrics.data.sensor_10', 'metrics.data.sensor_11',\n",
       "       'metrics.data.sensor_51', 'metrics.prediction'],\n",
       "      dtype='object')"
      ]
     },
     "execution_count": 301,
     "metadata": {},
     "output_type": "execute_result"
    }
   ],
   "source": [
    "current_timestamp_ms = int(time.time()) * 1000\n",
    "\n",
    "known_metrics = cdsw.read_metrics(model_deployment_crn=model_deployment_crn,\n",
    "            start_timestamp_ms=0,\n",
    "            end_timestamp_ms=current_timestamp_ms)  \n",
    "\n",
    "df = pd.io.json.json_normalize(known_metrics[\"metrics\"])\n",
    "df.columns\n"
   ]
  },
  {
   "cell_type": "code",
   "execution_count": 302,
   "id": "d7b03606-776f-44f0-9e6e-542068269e09",
   "metadata": {},
   "outputs": [],
   "source": [
    "colums_mapping = {'metrics.data.sensor_00': 'sensor_00',\n",
    "                  'metrics.data.sensor_02': 'sensor_02',\n",
    "                  'metrics.data.sensor_04': 'sensor_04',\n",
    "                  'metrics.data.sensor_06': 'sensor_06',\n",
    "                  'metrics.data.sensor_07': 'sensor_07',\n",
    "                  'metrics.data.sensor_08': 'sensor_08',\n",
    "                  'metrics.data.sensor_09': 'sensor_09',\n",
    "                  'metrics.data.sensor_10': 'sensor_10',\n",
    "                  'metrics.data.sensor_11': 'sensor_11',\n",
    "                  'metrics.data.sensor_51': 'sensor_51',\n",
    "                  'metrics.prediction' : 'target'\n",
    "                 }\n",
    "df.rename(columns=colums_mapping, inplace=True)\n"
   ]
  },
  {
   "cell_type": "code",
   "execution_count": 303,
   "id": "5ce3f1b2-526a-4ccd-a98a-3e0ecdb2722b",
   "metadata": {},
   "outputs": [
    {
     "name": "stdout",
     "output_type": "stream",
     "text": [
      "<class 'pandas.core.frame.DataFrame'>\n",
      "RangeIndex: 1 entries, 0 to 0\n",
      "Data columns (total 17 columns):\n",
      " #   Column              Non-Null Count  Dtype \n",
      "---  ------              --------------  ----- \n",
      " 0   modelDeploymentCrn  1 non-null      object\n",
      " 1   modelBuildCrn       1 non-null      object\n",
      " 2   modelCrn            1 non-null      object\n",
      " 3   startTimeStampMs    1 non-null      int64 \n",
      " 4   endTimeStampMs      1 non-null      int64 \n",
      " 5   predictionUuid      1 non-null      object\n",
      " 6   sensor_00           1 non-null      object\n",
      " 7   sensor_02           1 non-null      object\n",
      " 8   sensor_04           1 non-null      object\n",
      " 9   sensor_06           1 non-null      object\n",
      " 10  sensor_07           1 non-null      object\n",
      " 11  sensor_08           1 non-null      object\n",
      " 12  sensor_09           1 non-null      object\n",
      " 13  sensor_10           1 non-null      object\n",
      " 14  sensor_11           1 non-null      object\n",
      " 15  sensor_51           1 non-null      object\n",
      " 16  target              1 non-null      int64 \n",
      "dtypes: int64(3), object(14)\n",
      "memory usage: 264.0+ bytes\n"
     ]
    }
   ],
   "source": [
    "df.info()"
   ]
  },
  {
   "cell_type": "code",
   "execution_count": 310,
   "id": "5596f94c-67a0-4c03-ac0c-55f231e76206",
   "metadata": {},
   "outputs": [
    {
     "data": {
      "text/html": [
       "<div>\n",
       "<style scoped>\n",
       "    .dataframe tbody tr th:only-of-type {\n",
       "        vertical-align: middle;\n",
       "    }\n",
       "\n",
       "    .dataframe tbody tr th {\n",
       "        vertical-align: top;\n",
       "    }\n",
       "\n",
       "    .dataframe thead th {\n",
       "        text-align: right;\n",
       "    }\n",
       "</style>\n",
       "<table border=\"1\" class=\"dataframe\">\n",
       "  <thead>\n",
       "    <tr style=\"text-align: right;\">\n",
       "      <th></th>\n",
       "      <th>sensor_00</th>\n",
       "      <th>sensor_02</th>\n",
       "      <th>sensor_04</th>\n",
       "      <th>sensor_06</th>\n",
       "      <th>sensor_07</th>\n",
       "      <th>sensor_08</th>\n",
       "      <th>sensor_09</th>\n",
       "      <th>sensor_10</th>\n",
       "      <th>sensor_11</th>\n",
       "      <th>sensor_51</th>\n",
       "    </tr>\n",
       "  </thead>\n",
       "  <tbody>\n",
       "    <tr>\n",
       "      <th>0</th>\n",
       "      <td>4219</td>\n",
       "      <td>31294</td>\n",
       "      <td>421</td>\n",
       "      <td>645</td>\n",
       "      <td>664</td>\n",
       "      <td>7654</td>\n",
       "      <td>12</td>\n",
       "      <td>1321</td>\n",
       "      <td>3124</td>\n",
       "      <td>643</td>\n",
       "    </tr>\n",
       "  </tbody>\n",
       "</table>\n",
       "</div>"
      ],
      "text/plain": [
       "  sensor_00 sensor_02 sensor_04 sensor_06 sensor_07 sensor_08 sensor_09  \\\n",
       "0      4219     31294       421       645       664      7654        12   \n",
       "\n",
       "  sensor_10 sensor_11 sensor_51  \n",
       "0      1321      3124       643  "
      ]
     },
     "execution_count": 310,
     "metadata": {},
     "output_type": "execute_result"
    }
   ],
   "source": [
    "# drop unused colums\n",
    "cols_to_keep = ['sensor_00', 'sensor_02', 'sensor_04', 'sensor_06', 'sensor_07', \n",
    "                'sensor_08', 'sensor_09', 'sensor_10', 'sensor_11', 'sensor_51']\n",
    "df = df[cols_to_keep]\n",
    "\n",
    "# cast sensors value to numeric\n",
    "\n",
    "df[cols_to_keep] = df[cols_to_keep].astype(str)\n",
    "\n",
    "df"
   ]
  },
  {
   "cell_type": "code",
   "execution_count": 319,
   "id": "f8e3be6c-a3e8-4b31-83b8-1c7760f18dfe",
   "metadata": {},
   "outputs": [
    {
     "data": {
      "text/plain": [
       "['sensor_00',\n",
       " 'sensor_02',\n",
       " 'sensor_04',\n",
       " 'sensor_06',\n",
       " 'sensor_07',\n",
       " 'sensor_08',\n",
       " 'sensor_09',\n",
       " 'sensor_10',\n",
       " 'sensor_11',\n",
       " 'sensor_51',\n",
       " 'target']"
      ]
     },
     "execution_count": 319,
     "metadata": {},
     "output_type": "execute_result"
    }
   ],
   "source": [
    "cols_to_keep = ['sensor_00', 'sensor_02', 'sensor_04', 'sensor_06', 'sensor_07', \n",
    "                'sensor_08', 'sensor_09', 'sensor_10', 'sensor_11', 'sensor_51', 'target']\n",
    "\n",
    "\n",
    "cols_to_keep"
   ]
  },
  {
   "cell_type": "code",
   "execution_count": 320,
   "id": "155caa1b-a387-43cb-9c62-3968c81608e2",
   "metadata": {},
   "outputs": [
    {
     "name": "stdout",
     "output_type": "stream",
     "text": [
      "None\n"
     ]
    }
   ],
   "source": [
    "cols_sensors = cols_to_keep.remove('target')\n",
    "print(cols_sensors)"
   ]
  },
  {
   "cell_type": "code",
   "execution_count": 311,
   "id": "aefbe17b-d0f2-448e-b942-3b2063ca4814",
   "metadata": {},
   "outputs": [
    {
     "name": "stdout",
     "output_type": "stream",
     "text": [
      "<class 'pandas.core.frame.DataFrame'>\n",
      "RangeIndex: 1 entries, 0 to 0\n",
      "Data columns (total 10 columns):\n",
      " #   Column     Non-Null Count  Dtype \n",
      "---  ------     --------------  ----- \n",
      " 0   sensor_00  1 non-null      object\n",
      " 1   sensor_02  1 non-null      object\n",
      " 2   sensor_04  1 non-null      object\n",
      " 3   sensor_06  1 non-null      object\n",
      " 4   sensor_07  1 non-null      object\n",
      " 5   sensor_08  1 non-null      object\n",
      " 6   sensor_09  1 non-null      object\n",
      " 7   sensor_10  1 non-null      object\n",
      " 8   sensor_11  1 non-null      object\n",
      " 9   sensor_51  1 non-null      object\n",
      "dtypes: object(10)\n",
      "memory usage: 208.0+ bytes\n"
     ]
    }
   ],
   "source": [
    "df.info()"
   ]
  },
  {
   "cell_type": "markdown",
   "id": "0d657892-2a20-4b0e-875c-f37db4881910",
   "metadata": {},
   "source": [
    "### SIMULATE preds"
   ]
  },
  {
   "cell_type": "code",
   "execution_count": 324,
   "id": "0916cdc9-d4f3-4cf4-8f44-a364cf288412",
   "metadata": {},
   "outputs": [
    {
     "name": "stdout",
     "output_type": "stream",
     "text": [
      "Len df_new: 44640\n"
     ]
    }
   ],
   "source": [
    "import requests\n",
    "import sys\n",
    "import json\n",
    "import pandas as pd\n",
    "import cdsw, time, os\n",
    "\n",
    "path_processed = \"/home/cdsw/data/pump_processed.csv\"\n",
    "df = pd.read_csv(path_processed)\n",
    "df = df.drop([\"machine_status\"], axis=1)\n",
    "\n",
    "filter_period = \"2018-08-01 00:00:00\"\n",
    "#filter_period = sys.argv[1] if len(sys.argv) > 1 else None\n",
    "\n",
    "df_new = df.loc[df.timestamp >= filter_period].drop(\"timestamp\", axis=1)\n",
    "print(\"Len df_new: {}\".format(len(df_new)))\n",
    "\n",
    "\n"
   ]
  },
  {
   "cell_type": "code",
   "execution_count": 329,
   "id": "f041357c-c1f7-4426-a84c-0ecc558e7a8e",
   "metadata": {},
   "outputs": [
    {
     "ename": "KeyError",
     "evalue": "'\"accessKey\"'",
     "output_type": "error",
     "traceback": [
      "\u001b[0;31m---------------------------------------------------------------------------\u001b[0m",
      "\u001b[0;31mKeyError\u001b[0m                                  Traceback (most recent call last)",
      "\u001b[0;32m/tmp/ipykernel_858/1030702419.py\u001b[0m in \u001b[0;36m<module>\u001b[0;34m\u001b[0m\n\u001b[1;32m      6\u001b[0m                        headers={'Content-Type': 'application/json'})\n\u001b[1;32m      7\u001b[0m \u001b[0;34m\u001b[0m\u001b[0m\n\u001b[0;32m----> 8\u001b[0;31m \u001b[0mdf_new\u001b[0m\u001b[0;34m.\u001b[0m\u001b[0mapply\u001b[0m\u001b[0;34m(\u001b[0m\u001b[0mget_sensors_json\u001b[0m\u001b[0;34m,\u001b[0m \u001b[0maxis\u001b[0m\u001b[0;34m=\u001b[0m\u001b[0;36m1\u001b[0m\u001b[0;34m)\u001b[0m\u001b[0;34m\u001b[0m\u001b[0;34m\u001b[0m\u001b[0m\n\u001b[0m",
      "\u001b[0;32m~/.local/lib/python3.8/site-packages/pandas/core/frame.py\u001b[0m in \u001b[0;36mapply\u001b[0;34m(self, func, axis, raw, result_type, args, **kwargs)\u001b[0m\n\u001b[1;32m   9556\u001b[0m             \u001b[0mkwargs\u001b[0m\u001b[0;34m=\u001b[0m\u001b[0mkwargs\u001b[0m\u001b[0;34m,\u001b[0m\u001b[0;34m\u001b[0m\u001b[0;34m\u001b[0m\u001b[0m\n\u001b[1;32m   9557\u001b[0m         )\n\u001b[0;32m-> 9558\u001b[0;31m         \u001b[0;32mreturn\u001b[0m \u001b[0mop\u001b[0m\u001b[0;34m.\u001b[0m\u001b[0mapply\u001b[0m\u001b[0;34m(\u001b[0m\u001b[0;34m)\u001b[0m\u001b[0;34m.\u001b[0m\u001b[0m__finalize__\u001b[0m\u001b[0;34m(\u001b[0m\u001b[0mself\u001b[0m\u001b[0;34m,\u001b[0m \u001b[0mmethod\u001b[0m\u001b[0;34m=\u001b[0m\u001b[0;34m\"apply\"\u001b[0m\u001b[0;34m)\u001b[0m\u001b[0;34m\u001b[0m\u001b[0;34m\u001b[0m\u001b[0m\n\u001b[0m\u001b[1;32m   9559\u001b[0m \u001b[0;34m\u001b[0m\u001b[0m\n\u001b[1;32m   9560\u001b[0m     def applymap(\n",
      "\u001b[0;32m~/.local/lib/python3.8/site-packages/pandas/core/apply.py\u001b[0m in \u001b[0;36mapply\u001b[0;34m(self)\u001b[0m\n\u001b[1;32m    739\u001b[0m             \u001b[0;32mreturn\u001b[0m \u001b[0mself\u001b[0m\u001b[0;34m.\u001b[0m\u001b[0mapply_raw\u001b[0m\u001b[0;34m(\u001b[0m\u001b[0;34m)\u001b[0m\u001b[0;34m\u001b[0m\u001b[0;34m\u001b[0m\u001b[0m\n\u001b[1;32m    740\u001b[0m \u001b[0;34m\u001b[0m\u001b[0m\n\u001b[0;32m--> 741\u001b[0;31m         \u001b[0;32mreturn\u001b[0m \u001b[0mself\u001b[0m\u001b[0;34m.\u001b[0m\u001b[0mapply_standard\u001b[0m\u001b[0;34m(\u001b[0m\u001b[0;34m)\u001b[0m\u001b[0;34m\u001b[0m\u001b[0;34m\u001b[0m\u001b[0m\n\u001b[0m\u001b[1;32m    742\u001b[0m \u001b[0;34m\u001b[0m\u001b[0m\n\u001b[1;32m    743\u001b[0m     \u001b[0;32mdef\u001b[0m \u001b[0magg\u001b[0m\u001b[0;34m(\u001b[0m\u001b[0mself\u001b[0m\u001b[0;34m)\u001b[0m\u001b[0;34m:\u001b[0m\u001b[0;34m\u001b[0m\u001b[0;34m\u001b[0m\u001b[0m\n",
      "\u001b[0;32m~/.local/lib/python3.8/site-packages/pandas/core/apply.py\u001b[0m in \u001b[0;36mapply_standard\u001b[0;34m(self)\u001b[0m\n\u001b[1;32m    866\u001b[0m \u001b[0;34m\u001b[0m\u001b[0m\n\u001b[1;32m    867\u001b[0m     \u001b[0;32mdef\u001b[0m \u001b[0mapply_standard\u001b[0m\u001b[0;34m(\u001b[0m\u001b[0mself\u001b[0m\u001b[0;34m)\u001b[0m\u001b[0;34m:\u001b[0m\u001b[0;34m\u001b[0m\u001b[0;34m\u001b[0m\u001b[0m\n\u001b[0;32m--> 868\u001b[0;31m         \u001b[0mresults\u001b[0m\u001b[0;34m,\u001b[0m \u001b[0mres_index\u001b[0m \u001b[0;34m=\u001b[0m \u001b[0mself\u001b[0m\u001b[0;34m.\u001b[0m\u001b[0mapply_series_generator\u001b[0m\u001b[0;34m(\u001b[0m\u001b[0;34m)\u001b[0m\u001b[0;34m\u001b[0m\u001b[0;34m\u001b[0m\u001b[0m\n\u001b[0m\u001b[1;32m    869\u001b[0m \u001b[0;34m\u001b[0m\u001b[0m\n\u001b[1;32m    870\u001b[0m         \u001b[0;31m# wrap results\u001b[0m\u001b[0;34m\u001b[0m\u001b[0;34m\u001b[0m\u001b[0;34m\u001b[0m\u001b[0m\n",
      "\u001b[0;32m~/.local/lib/python3.8/site-packages/pandas/core/apply.py\u001b[0m in \u001b[0;36mapply_series_generator\u001b[0;34m(self)\u001b[0m\n\u001b[1;32m    882\u001b[0m             \u001b[0;32mfor\u001b[0m \u001b[0mi\u001b[0m\u001b[0;34m,\u001b[0m \u001b[0mv\u001b[0m \u001b[0;32min\u001b[0m \u001b[0menumerate\u001b[0m\u001b[0;34m(\u001b[0m\u001b[0mseries_gen\u001b[0m\u001b[0;34m)\u001b[0m\u001b[0;34m:\u001b[0m\u001b[0;34m\u001b[0m\u001b[0;34m\u001b[0m\u001b[0m\n\u001b[1;32m    883\u001b[0m                 \u001b[0;31m# ignore SettingWithCopy here in case the user mutates\u001b[0m\u001b[0;34m\u001b[0m\u001b[0;34m\u001b[0m\u001b[0;34m\u001b[0m\u001b[0m\n\u001b[0;32m--> 884\u001b[0;31m                 \u001b[0mresults\u001b[0m\u001b[0;34m[\u001b[0m\u001b[0mi\u001b[0m\u001b[0;34m]\u001b[0m \u001b[0;34m=\u001b[0m \u001b[0mself\u001b[0m\u001b[0;34m.\u001b[0m\u001b[0mf\u001b[0m\u001b[0;34m(\u001b[0m\u001b[0mv\u001b[0m\u001b[0;34m)\u001b[0m\u001b[0;34m\u001b[0m\u001b[0;34m\u001b[0m\u001b[0m\n\u001b[0m\u001b[1;32m    885\u001b[0m                 \u001b[0;32mif\u001b[0m \u001b[0misinstance\u001b[0m\u001b[0;34m(\u001b[0m\u001b[0mresults\u001b[0m\u001b[0;34m[\u001b[0m\u001b[0mi\u001b[0m\u001b[0;34m]\u001b[0m\u001b[0;34m,\u001b[0m \u001b[0mABCSeries\u001b[0m\u001b[0;34m)\u001b[0m\u001b[0;34m:\u001b[0m\u001b[0;34m\u001b[0m\u001b[0;34m\u001b[0m\u001b[0m\n\u001b[1;32m    886\u001b[0m                     \u001b[0;31m# If we have a view on v, we need to make a copy because\u001b[0m\u001b[0;34m\u001b[0m\u001b[0;34m\u001b[0m\u001b[0;34m\u001b[0m\u001b[0m\n",
      "\u001b[0;32m/tmp/ipykernel_858/1030702419.py\u001b[0m in \u001b[0;36mget_sensors_json\u001b[0;34m(x)\u001b[0m\n\u001b[1;32m      3\u001b[0m     \u001b[0mcurr_row\u001b[0m \u001b[0;34m=\u001b[0m \u001b[0mjson\u001b[0m\u001b[0;34m.\u001b[0m\u001b[0mdumps\u001b[0m\u001b[0;34m(\u001b[0m\u001b[0mx\u001b[0m\u001b[0;34m.\u001b[0m\u001b[0mto_json\u001b[0m\u001b[0;34m(\u001b[0m\u001b[0;34m)\u001b[0m\u001b[0;34m)\u001b[0m\u001b[0;34m\u001b[0m\u001b[0;34m\u001b[0m\u001b[0m\n\u001b[1;32m      4\u001b[0m     r = requests.post('https://modelservice.ml-1096e3e8-eda.ps-sandb.a465-9q4k.cloudera.site/model', \n\u001b[0;32m----> 5\u001b[0;31m                        \u001b[0mdata\u001b[0m\u001b[0;34m=\u001b[0m\u001b[0;34m'{\"accessKey\":\"m737t61ml4ftqiw609oxdus35yt11ucq\",\"request\": {} }'\u001b[0m\u001b[0;34m.\u001b[0m\u001b[0mformat\u001b[0m\u001b[0;34m(\u001b[0m\u001b[0mcurr_row\u001b[0m\u001b[0;34m)\u001b[0m\u001b[0;34m,\u001b[0m\u001b[0;34m\u001b[0m\u001b[0;34m\u001b[0m\u001b[0m\n\u001b[0m\u001b[1;32m      6\u001b[0m                        headers={'Content-Type': 'application/json'})\n\u001b[1;32m      7\u001b[0m \u001b[0;34m\u001b[0m\u001b[0m\n",
      "\u001b[0;31mKeyError\u001b[0m: '\"accessKey\"'"
     ]
    }
   ],
   "source": [
    "import json\n",
    "def get_sensors_json(x):\n",
    "    curr_row = json.dumps(x.to_json())\n",
    "    r = requests.post('https://modelservice.ml-1096e3e8-eda.ps-sandb.a465-9q4k.cloudera.site/model', \n",
    "                       data='{\"accessKey\":\"m737t61ml4ftqiw609oxdus35yt11ucq\",\"request\": ' + curr_row + '}',\n",
    "                       headers={'Content-Type': 'application/json'})\n",
    "\n",
    "df_new.apply(get_sensors_json, axis=1)"
   ]
  },
  {
   "cell_type": "code",
   "execution_count": null,
   "id": "45d55869-1037-4a42-8f41-22f106bffb8d",
   "metadata": {},
   "outputs": [],
   "source": [
    "\n",
    "r = requests.post('https://modelservice.ml-1096e3e8-eda.ps-sandb.a465-9q4k.cloudera.site/model', data='{\"accessKey\":\"m737t61ml4ftqiw609oxdus35yt11ucq\",\"request\": {} }'.format(curr_row), headers={'Content-Type': 'application/json'})"
   ]
  },
  {
   "cell_type": "code",
   "execution_count": null,
   "id": "b020f491-8df2-4a05-947b-01cab375871c",
   "metadata": {},
   "outputs": [],
   "source": []
  },
  {
   "cell_type": "code",
   "execution_count": null,
   "id": "dc6f6ad3-4f7c-43c0-96c5-c935a5ac8b0e",
   "metadata": {},
   "outputs": [],
   "source": []
  },
  {
   "cell_type": "code",
   "execution_count": null,
   "id": "227563ea-c3ae-4730-ac80-895c67f92ded",
   "metadata": {},
   "outputs": [],
   "source": []
  },
  {
   "cell_type": "code",
   "execution_count": null,
   "id": "483bcc03-828b-4fc7-89e1-c3ad960bab7d",
   "metadata": {},
   "outputs": [],
   "source": []
  },
  {
   "cell_type": "code",
   "execution_count": null,
   "id": "080231fe-6793-4a29-a339-50d5805615e0",
   "metadata": {},
   "outputs": [],
   "source": []
  },
  {
   "cell_type": "code",
   "execution_count": null,
   "id": "b62990c6-40c2-4530-90b3-5d67aac84ff7",
   "metadata": {},
   "outputs": [],
   "source": []
  },
  {
   "cell_type": "code",
   "execution_count": null,
   "id": "f6b95723-455b-40ad-a301-3a252a6c75da",
   "metadata": {},
   "outputs": [],
   "source": []
  },
  {
   "cell_type": "code",
   "execution_count": null,
   "id": "d4e79633-99b2-469d-8361-e91643e56340",
   "metadata": {},
   "outputs": [],
   "source": []
  },
  {
   "cell_type": "code",
   "execution_count": null,
   "id": "073f418b-2e2c-4f66-a22a-1eb45e317f20",
   "metadata": {},
   "outputs": [],
   "source": []
  },
  {
   "cell_type": "markdown",
   "id": "9c01e960-3f51-4640-9b12-7487bf9224bb",
   "metadata": {},
   "source": [
    "## Data Stability Tests"
   ]
  },
  {
   "cell_type": "code",
   "execution_count": 235,
   "id": "d295dba4-c32f-4511-a18d-fa8dbb5c3847",
   "metadata": {},
   "outputs": [],
   "source": [
    "## Data Drift test\n",
    "reference = df_raw.sample(n=5000, replace=False)\n",
    "current = df_raw.sample(n=5000, replace=False)\n",
    "\n",
    "data_stability = TestSuite(tests=[\n",
    "    DataStability(),\n",
    "])\n",
    "data_stability.run(reference_data=reference, current_data=current)"
   ]
  },
  {
   "cell_type": "code",
   "execution_count": null,
   "id": "549cb043-0e89-4103-9524-0f9862216197",
   "metadata": {},
   "outputs": [],
   "source": [
    "data_stability.save_html(\"../reports/data_test.html\")"
   ]
  },
  {
   "cell_type": "code",
   "execution_count": 234,
   "id": "384ef03f-f3e2-4a2a-8e63-df4621005aa8",
   "metadata": {},
   "outputs": [
    {
     "ename": "NameError",
     "evalue": "name 'current' is not defined",
     "output_type": "error",
     "traceback": [
      "\u001b[0;31m---------------------------------------------------------------------------\u001b[0m",
      "\u001b[0;31mNameError\u001b[0m                                 Traceback (most recent call last)",
      "\u001b[0;32m/tmp/ipykernel_858/1138553487.py\u001b[0m in \u001b[0;36m<module>\u001b[0;34m\u001b[0m\n\u001b[1;32m      1\u001b[0m \u001b[0;31m# data drift report\u001b[0m\u001b[0;34m\u001b[0m\u001b[0;34m\u001b[0m\u001b[0;34m\u001b[0m\u001b[0m\n\u001b[1;32m      2\u001b[0m \u001b[0mdrift_report\u001b[0m \u001b[0;34m=\u001b[0m \u001b[0mReport\u001b[0m\u001b[0;34m(\u001b[0m\u001b[0mmetrics\u001b[0m\u001b[0;34m=\u001b[0m\u001b[0;34m[\u001b[0m\u001b[0mDataDrift\u001b[0m\u001b[0;34m(\u001b[0m\u001b[0;34m)\u001b[0m\u001b[0;34m,\u001b[0m \u001b[0mNumTargetDrift\u001b[0m\u001b[0;34m(\u001b[0m\u001b[0;34m)\u001b[0m\u001b[0;34m]\u001b[0m\u001b[0;34m)\u001b[0m\u001b[0;34m\u001b[0m\u001b[0;34m\u001b[0m\u001b[0m\n\u001b[0;32m----> 3\u001b[0;31m \u001b[0mdrift_report\u001b[0m\u001b[0;34m.\u001b[0m\u001b[0mrun\u001b[0m\u001b[0;34m(\u001b[0m\u001b[0mreference_data\u001b[0m\u001b[0;34m=\u001b[0m\u001b[0mreference\u001b[0m\u001b[0;34m,\u001b[0m \u001b[0mcurrent_data\u001b[0m\u001b[0;34m=\u001b[0m\u001b[0mcurrent\u001b[0m\u001b[0;34m)\u001b[0m\u001b[0;34m\u001b[0m\u001b[0;34m\u001b[0m\u001b[0m\n\u001b[0m",
      "\u001b[0;31mNameError\u001b[0m: name 'current' is not defined"
     ]
    }
   ],
   "source": [
    "# data drift report\n",
    "drift_report = Report(metrics=[DataDrift(), NumTargetDrift()])\n",
    "drift_report.run(reference_data=reference, current_data=current)"
   ]
  },
  {
   "cell_type": "code",
   "execution_count": null,
   "id": "8c15d7c8-83a0-475d-9c39-5c89a10a98bd",
   "metadata": {},
   "outputs": [],
   "source": [
    "drift_report.save_html(\"../reports/data_drift.html\")"
   ]
  },
  {
   "cell_type": "code",
   "execution_count": null,
   "id": "17f3628a-a4c1-41df-92ff-dbfaa61d7784",
   "metadata": {},
   "outputs": [],
   "source": [
    "## custom test suite\n",
    "tests = TestSuite(tests=[\n",
    "    TestNumberOfColumnsWithNulls(),\n",
    "    TestNumberOfRowsWithNulls(),\n",
    "    TestNumberOfConstantColumns(),\n",
    "    TestNumberOfDuplicatedRows(),\n",
    "    TestNumberOfDuplicatedColumns(),\n",
    "    TestColumnsType(),\n",
    "    TestNumberOfDriftedFeatures(), \n",
    "])\n"
   ]
  },
  {
   "cell_type": "code",
   "execution_count": null,
   "id": "f03aa027-2202-49e5-b467-1ec1a4c23f65",
   "metadata": {},
   "outputs": [],
   "source": [
    "tests.run(reference_data=reference, current_data=current)"
   ]
  },
  {
   "cell_type": "code",
   "execution_count": null,
   "id": "5d2b16f5-262d-4fcc-b1f9-e85a8022ec35",
   "metadata": {},
   "outputs": [],
   "source": [
    "tests.save_html(\"../reports/custom_test_drift.html\")"
   ]
  },
  {
   "cell_type": "code",
   "execution_count": 145,
   "id": "22e02978-52aa-46c9-a0b8-f29a7872d3d2",
   "metadata": {},
   "outputs": [
    {
     "ename": "NameError",
     "evalue": "name 'data_stability' is not defined",
     "output_type": "error",
     "traceback": [
      "\u001b[0;31m---------------------------------------------------------------------------\u001b[0m",
      "\u001b[0;31mNameError\u001b[0m                                 Traceback (most recent call last)",
      "\u001b[0;32m/tmp/ipykernel_858/2554957760.py\u001b[0m in \u001b[0;36m<module>\u001b[0;34m\u001b[0m\n\u001b[1;32m      1\u001b[0m \u001b[0;32mimport\u001b[0m \u001b[0mjson\u001b[0m\u001b[0;34m\u001b[0m\u001b[0;34m\u001b[0m\u001b[0m\n\u001b[1;32m      2\u001b[0m \u001b[0;34m\u001b[0m\u001b[0m\n\u001b[0;32m----> 3\u001b[0;31m \u001b[0mtests_json\u001b[0m \u001b[0;34m=\u001b[0m \u001b[0mjson\u001b[0m\u001b[0;34m.\u001b[0m\u001b[0mloads\u001b[0m\u001b[0;34m(\u001b[0m\u001b[0mdata_stability\u001b[0m\u001b[0;34m.\u001b[0m\u001b[0mjson\u001b[0m\u001b[0;34m(\u001b[0m\u001b[0;34m)\u001b[0m\u001b[0;34m)\u001b[0m\u001b[0;34m\u001b[0m\u001b[0;34m\u001b[0m\u001b[0m\n\u001b[0m",
      "\u001b[0;31mNameError\u001b[0m: name 'data_stability' is not defined"
     ]
    }
   ],
   "source": [
    "import json\n",
    "\n",
    "tests_json = json.loads(data_stability.json())"
   ]
  },
  {
   "cell_type": "code",
   "execution_count": null,
   "id": "2bf64d80-daf7-41f0-8d89-7a3298a27df3",
   "metadata": {},
   "outputs": [],
   "source": [
    "tests_json['summary']['all_passed']"
   ]
  },
  {
   "cell_type": "code",
   "execution_count": null,
   "id": "83f04c97-4d65-43a4-b8a9-478b38db8c82",
   "metadata": {},
   "outputs": [],
   "source": [
    "# get is the dataset has drift\n",
    "data_drift_json = json.loads(drift_report.json())\n",
    "data_drift_json['metrics']['DataDriftMetrics']['dataset_drift']"
   ]
  },
  {
   "cell_type": "code",
   "execution_count": null,
   "id": "32f7cdcc-2759-496c-a330-72e7fd9ea17d",
   "metadata": {},
   "outputs": [],
   "source": []
  },
  {
   "cell_type": "code",
   "execution_count": null,
   "id": "2bc4457b-de75-4746-8168-148489bc1e44",
   "metadata": {},
   "outputs": [],
   "source": []
  },
  {
   "cell_type": "code",
   "execution_count": null,
   "id": "8b21ec08-76c0-40b9-80d4-f02a0732a174",
   "metadata": {},
   "outputs": [],
   "source": []
  },
  {
   "cell_type": "code",
   "execution_count": null,
   "id": "5a90b5de-6f37-4b62-b308-67ce0fb12953",
   "metadata": {},
   "outputs": [],
   "source": []
  },
  {
   "cell_type": "code",
   "execution_count": null,
   "id": "3957ce01-0b90-45cd-ba97-6aba80562220",
   "metadata": {},
   "outputs": [],
   "source": []
  },
  {
   "cell_type": "markdown",
   "id": "68fa9a15-5204-418b-9050-882c6acf083a",
   "metadata": {},
   "source": [
    "## Time Travel"
   ]
  },
  {
   "cell_type": "code",
   "execution_count": null,
   "id": "d69000fc-548f-4a6f-acff-e68f918cf58c",
   "metadata": {},
   "outputs": [],
   "source": [
    "from datetime import datetime\n",
    "\n",
    "# current date and time\n",
    "now = datetime.now()\n",
    "\n",
    "timestamp = datetime.timestamp(now)\n",
    "print(\"timestamp =\", timestamp)"
   ]
  },
  {
   "cell_type": "code",
   "execution_count": null,
   "id": "decb509e-341d-4e45-8a6a-339c0a3666ae",
   "metadata": {},
   "outputs": [],
   "source": [
    "# query iceberg with a specific time\n",
    "df_raw = spark.read \\\n",
    "              .option(\"as-of-timestamp\", int(timestamp*1000)) \\\n",
    "              .load(\"spark_catalog.default.pump_raw\")\n",
    "df.tail(5)"
   ]
  },
  {
   "cell_type": "code",
   "execution_count": null,
   "id": "4e7ff9e1-1e21-48b7-b159-90c92f3417d2",
   "metadata": {},
   "outputs": [],
   "source": [
    "print(spark.sql(\"SELECT * FROM spark_catalog.default.pump_processed\").count())"
   ]
  },
  {
   "cell_type": "code",
   "execution_count": null,
   "id": "6252c984-abfc-48ff-8006-80c5952f36d3",
   "metadata": {},
   "outputs": [],
   "source": [
    "# insert more data into pump_processend"
   ]
  },
  {
   "cell_type": "code",
   "execution_count": null,
   "id": "0633c0cb-9030-47cb-8aed-e4a21eb5a510",
   "metadata": {},
   "outputs": [],
   "source": [
    "spark.sql(\"INSERT INTO spark_catalog.default.pump_processed VALUES (4219, 31294, 42, 645, 664, 7654, 12, 1321, 3124, 643, 0) \")"
   ]
  },
  {
   "cell_type": "code",
   "execution_count": null,
   "id": "9bf02336-75c0-4121-a92e-56691827125c",
   "metadata": {},
   "outputs": [],
   "source": [
    " print(spark.sql(\"SELECT * FROM spark_catalog.default.pump_processed\").count())"
   ]
  },
  {
   "cell_type": "code",
   "execution_count": null,
   "id": "94b7a0ad-bd9e-4766-a54d-1a0dee2c81e4",
   "metadata": {},
   "outputs": [],
   "source": [
    "## check snapshots\n",
    "spark.read.format(\"iceberg\").load(\"spark_catalog.default.pump_raw.history\").show(30, False)"
   ]
  },
  {
   "cell_type": "code",
   "execution_count": null,
   "id": "a7e45c4e-c74c-466f-a521-5f3d199ae962",
   "metadata": {},
   "outputs": [],
   "source": [
    "## query a specific snapshot\n",
    "spark.read\\\n",
    "    .option(\"snapshot-id\", \"4884203215810497378\")\\\n",
    "    .table(\"spark_catalog.default.pump_processed\").tail(5)\n"
   ]
  },
  {
   "cell_type": "code",
   "execution_count": null,
   "id": "afe200a8-2d08-4766-8c8b-1f1549499e8f",
   "metadata": {},
   "outputs": [],
   "source": [
    "spark.sql(\"SELECT * FROM spark_catalog.default.pump_processed.snapshots\").show()"
   ]
  },
  {
   "cell_type": "code",
   "execution_count": null,
   "id": "b51f830b-8c04-4e45-b054-75e90846c000",
   "metadata": {},
   "outputs": [],
   "source": [
    "# get current snapshot\n",
    "spark.read.format(\"iceberg\").load(\"spark_catalog.default.pump_processed.history\").toPandas().iloc[-1]['snapshot_id']"
   ]
  },
  {
   "cell_type": "code",
   "execution_count": null,
   "id": "28575bc8-8ff7-4532-a9df-098e59f93d31",
   "metadata": {},
   "outputs": [],
   "source": [
    "spark.read\\\n",
    "    .option(\"snapshot-id\", 4884203215810497378)\\\n",
    "    .table(\"spark_catalog.default.pump_processed\").tail(5)\n"
   ]
  },
  {
   "cell_type": "code",
   "execution_count": null,
   "id": "c502c54a-7934-4a8e-b0d2-9485ccdf8c5b",
   "metadata": {},
   "outputs": [],
   "source": []
  },
  {
   "cell_type": "code",
   "execution_count": null,
   "id": "9f636b5e-d12d-4d35-a4f0-b9edb5f08f48",
   "metadata": {},
   "outputs": [],
   "source": []
  },
  {
   "cell_type": "markdown",
   "id": "ee8bde51-e095-431c-845d-54a65b2dabad",
   "metadata": {},
   "source": [
    "## Explainability SHAP"
   ]
  },
  {
   "cell_type": "markdown",
   "id": "fcb41869-cfc6-4371-ac66-528994f968c5",
   "metadata": {},
   "source": [
    "https://medium.com/dataman-in-ai/explain-your-model-with-the-shap-values-bc36aac4de3dù"
   ]
  },
  {
   "cell_type": "code",
   "execution_count": null,
   "id": "860aea00-f5ae-4b49-81e0-49ea9cefac55",
   "metadata": {},
   "outputs": [],
   "source": [
    "df = pd.read_csv(\"../data/pump_processed.csv\")\n",
    "df.drop(\"Unnamed: 0\", axis=1, inplace=True)\n",
    "df.head()"
   ]
  },
  {
   "cell_type": "code",
   "execution_count": null,
   "id": "b061614c-0242-4042-b2b1-86d84e06f702",
   "metadata": {},
   "outputs": [],
   "source": [
    "# read the rf model\n",
    "import mlflow\n",
    "import pandas as pd\n",
    "\n",
    "logged_model = '/home/cdsw/.experiments/n03k-3b0z-nbdp-wz8l/94k7-jivb-s3j1-g7r9/artifacts/model'\n",
    "\n",
    "loaded_model = mlflow.pyfunc.load_model(logged_model)\n",
    "\n",
    "# Predict on a Pandas DataFrame.\n",
    "#loaded_model.predict(pd.DataFrame(data))"
   ]
  },
  {
   "cell_type": "code",
   "execution_count": null,
   "id": "58140ed9-b656-4bee-b0df-b120ccb88efb",
   "metadata": {},
   "outputs": [],
   "source": []
  },
  {
   "cell_type": "code",
   "execution_count": null,
   "id": "d16fde1e-80f0-4484-a9d0-dae1ec271e65",
   "metadata": {},
   "outputs": [],
   "source": [
    "import pandas as pd\n",
    "import numpy as np\n",
    "np.random.seed(0)\n",
    "import matplotlib.pyplot as plt\n",
    "df = pd.read_csv('/winequality-red.csv') # Load the data\n",
    "\n",
    "from sklearn.model_selection import train_test_split\n",
    "from sklearn import preprocessing\n",
    "\n",
    "from sklearn.ensemble import RandomForestRegressor\n",
    "# The target variable is 'quality'.\n",
    "Y = df['quality']\n",
    "X =  df[['fixed acidity', 'volatile acidity', 'citric acid', 'residual sugar','chlorides', 'free sulfur dioxide', 'total sulfur dioxide', 'density','pH', 'sulphates', 'alcohol']]\n",
    "\n",
    "# Split the data into train and test data:\n",
    "X_train, X_test, Y_train, Y_test = train_test_split(X, Y, test_size = 0.2)\n",
    "# Build the model with the random forest regression algorithm:\n",
    "model = RandomForestRegressor(max_depth=6, random_state=0, n_estimators=10)\n",
    "model.fit(X_train, Y_train)"
   ]
  },
  {
   "cell_type": "markdown",
   "id": "71548501-8a34-47ac-8c06-8cdee4aeb056",
   "metadata": {},
   "source": [
    "#### Variable Importance Plot"
   ]
  },
  {
   "cell_type": "code",
   "execution_count": null,
   "id": "6235a38e-44f4-4e24-8293-c685cdfcd88f",
   "metadata": {},
   "outputs": [],
   "source": [
    "import shap\n",
    "shap_values = shap.TreeExplainer(model).shap_values(X_train)\n",
    "shap.summary_plot(shap_values, X_train, plot_type=\"bar\")"
   ]
  },
  {
   "cell_type": "code",
   "execution_count": null,
   "id": "5e9e9aec-cce4-40ec-8a15-b2d5e0dee50a",
   "metadata": {},
   "outputs": [],
   "source": [
    "import matplotlib.pyplot as plt\n",
    "f = plt.figure()\n",
    "shap.summary_plot(rf_shap_values, X_test)\n",
    "f.savefig(\"/summary_plot1.png\", bbox_inches='tight', dpi=600)"
   ]
  },
  {
   "cell_type": "markdown",
   "id": "d254af80-67a4-4ed8-a066-8d7237ff25a1",
   "metadata": {},
   "source": [
    "#### SHAP Dependence Plot — Global Interpretabilityù"
   ]
  },
  {
   "cell_type": "code",
   "execution_count": null,
   "id": "1b23c32c-f106-4408-9410-9d11fd174815",
   "metadata": {},
   "outputs": [],
   "source": [
    "shap.dependence_plot(“alcohol”, shap_values, X_train)"
   ]
  },
  {
   "cell_type": "markdown",
   "id": "19996be6-febb-467e-a25c-38096939e323",
   "metadata": {},
   "source": [
    "#### Individual SHAP Value Plot — Local Interpretability"
   ]
  },
  {
   "cell_type": "code",
   "execution_count": null,
   "id": "b30594d9-6980-4aa9-9d65-db3d8ef8970f",
   "metadata": {},
   "outputs": [],
   "source": []
  },
  {
   "cell_type": "code",
   "execution_count": null,
   "id": "c7af557d-81e6-4041-97df-357b6518ae9c",
   "metadata": {},
   "outputs": [],
   "source": []
  },
  {
   "cell_type": "code",
   "execution_count": null,
   "id": "a2769e28-a94e-41d1-a398-c24a6e5f9f14",
   "metadata": {},
   "outputs": [],
   "source": []
  },
  {
   "cell_type": "code",
   "execution_count": null,
   "id": "73ff6af0-d627-45d4-8089-45f7cd211628",
   "metadata": {},
   "outputs": [],
   "source": []
  },
  {
   "cell_type": "code",
   "execution_count": null,
   "id": "e2808716-7a60-4b5c-a30d-41e8918ca9e6",
   "metadata": {},
   "outputs": [],
   "source": []
  },
  {
   "cell_type": "code",
   "execution_count": null,
   "id": "ffec4f7c-5250-4c96-ba3f-638cf9cd4f0a",
   "metadata": {},
   "outputs": [],
   "source": []
  },
  {
   "cell_type": "code",
   "execution_count": null,
   "id": "ee10e091-ff6f-4d8c-a20e-898d39206f8c",
   "metadata": {},
   "outputs": [],
   "source": []
  },
  {
   "cell_type": "code",
   "execution_count": null,
   "id": "e1d9aaf9-7a98-4aee-916b-4c1b25cb571c",
   "metadata": {},
   "outputs": [],
   "source": []
  },
  {
   "cell_type": "code",
   "execution_count": null,
   "id": "c52354ee-35a2-4c8c-a629-efaf3e1c6f19",
   "metadata": {},
   "outputs": [],
   "source": []
  },
  {
   "cell_type": "code",
   "execution_count": null,
   "id": "e17db023-82b4-457c-8cb3-6b24fdc4a86f",
   "metadata": {},
   "outputs": [],
   "source": []
  },
  {
   "cell_type": "code",
   "execution_count": null,
   "id": "d72e8722-6b6e-4bb9-ad62-215f1953b3f7",
   "metadata": {},
   "outputs": [],
   "source": []
  },
  {
   "cell_type": "code",
   "execution_count": null,
   "id": "093cfc2d-8153-4ed8-b7be-69b4ba4cb30c",
   "metadata": {},
   "outputs": [],
   "source": []
  },
  {
   "cell_type": "code",
   "execution_count": null,
   "id": "cd348c8e-9743-439b-a5d0-eb8cee0c537e",
   "metadata": {},
   "outputs": [],
   "source": []
  },
  {
   "cell_type": "code",
   "execution_count": null,
   "id": "9102d202-1159-4ccf-931c-4f413cb044bb",
   "metadata": {},
   "outputs": [],
   "source": []
  },
  {
   "cell_type": "code",
   "execution_count": null,
   "id": "edf4b518-5240-4bfc-b89c-6b3d097e594c",
   "metadata": {},
   "outputs": [],
   "source": [
    "class ApiUtility:\n",
    "    \"\"\"A utility class for working with CML API_v2\n",
    "    This class contains methods that wrap API_v2 to achieve specific\n",
    "    needs that facilitate the simulation.\n",
    "    Attributes:\n",
    "        client (cmlapi.api.cml_service_api.CMLServiceApi)\n",
    "    \"\"\"\n",
    "\n",
    "    def __init__(self):\n",
    "        self.client = cmlapi.default_client()\n",
    "\n",
    "    def get_latest_deployment_details_allmodels(self):\n",
    "        \"\"\"\n",
    "        Given a APIv2 client object and Model Name, use APIv2 to retrieve details about the latest/current deployment.\n",
    "        This function only works for models deployed within the current project.\n",
    "        \"\"\"\n",
    "\n",
    "        project_id = os.environ[\"CDSW_PROJECT_ID\"]\n",
    "\n",
    "        # gather model details\n",
    "        models = (\n",
    "            self.client.list_models(project_id=project_id, async_req=True, page_size = 50)\n",
    "            .get()\n",
    "            .to_dict()\n",
    "        )\n",
    "        model_info = [\n",
    "            model for model in models[\"models\"]\n",
    "        ][-1]\n",
    "\n",
    "        model_id = model_info[\"id\"]\n",
    "        model_crn = model_info[\"crn\"]\n",
    "        model_access_key = model_info[\"access_key\"]\n",
    "\n",
    "        # gather latest build details\n",
    "        builds = (\n",
    "            self.client.list_model_builds(\n",
    "                project_id=project_id, model_id=model_id, async_req=True, page_size = 50\n",
    "            )\n",
    "            .get()\n",
    "            .to_dict()\n",
    "        )\n",
    "        build_info = builds[\"model_builds\"][-1]  # most recent build\n",
    "\n",
    "        build_id = build_info[\"id\"]\n",
    "\n",
    "        # gather latest deployment details\n",
    "        deployments = (\n",
    "            self.client.list_model_deployments(\n",
    "                project_id=project_id,\n",
    "                model_id=model_id,\n",
    "                build_id=build_id,\n",
    "                async_req=True,\n",
    "                page_size = 50\n",
    "            )\n",
    "            .get()\n",
    "            .to_dict()\n",
    "        )\n",
    "        deployment_info = deployments[\"model_deployments\"][-1]  # most recent deployment\n",
    "\n",
    "        model_deployment_crn = deployment_info[\"crn\"]\n",
    "\n",
    "        return {\n",
    "            \"model_id\": model_id,\n",
    "            \"model_crn\": model_crn,\n",
    "            \"model_access_key\": model_access_key,\n",
    "            \"latest_build_id\": build_id,\n",
    "            \"latest_deployment_crn\": model_deployment_crn,\n",
    "        }\n"
   ]
  },
  {
   "cell_type": "code",
   "execution_count": null,
   "id": "bc7cda68-ed7e-4ddb-aa49-a77ef2cd8442",
   "metadata": {},
   "outputs": [],
   "source": [
    "import cdsw, time, os\n",
    "import pandas as pd\n",
    "import matplotlib.pyplot as plt\n",
    "import numpy as np\n",
    "from sklearn.metrics import classification_report\n",
    "from cmlbootstrap import CMLBootstrap\n",
    "import seaborn as sns\n",
    "import cmlapi\n",
    "#from src.api import ApiUtility\n",
    "import sqlite3\n",
    "\n",
    "# You can access all models with API V2\n",
    "client = cmlapi.default_client()\n",
    "\n",
    "project_id = os.environ[\"CDSW_PROJECT_ID\"]\n",
    "\n",
    "# You can use an APIV2-based utility to access the latest model's metadata. For more, explore the src folder\n",
    "apiUtil = ApiUtility()\n",
    "\n",
    "Model_AccessKey = apiUtil.get_latest_deployment_details_allmodels()[\"model_access_key\"]\n",
    "Deployment_CRN = apiUtil.get_latest_deployment_details_allmodels()[\"latest_deployment_crn\"]\n",
    "Model_CRN = apiUtil.get_latest_deployment_details_allmodels()[\"model_crn\"]\n"
   ]
  },
  {
   "cell_type": "code",
   "execution_count": null,
   "id": "6af31886-3afe-49af-af82-d6e3abd6518f",
   "metadata": {},
   "outputs": [],
   "source": [
    "# Get the various Model Endpoint details\n",
    "HOST = os.getenv(\"CDSW_API_URL\").split(\":\")[0] + \"://\" + os.getenv(\"CDSW_DOMAIN\")\n",
    "model_endpoint = (\n",
    "    HOST.split(\"//\")[0] + \"//modelservice.\" + HOST.split(\"//\")[1] + \"/model\"\n",
    ")"
   ]
  },
  {
   "cell_type": "code",
   "execution_count": null,
   "id": "53f4202b-ad18-447b-9246-52a61b61fe1a",
   "metadata": {},
   "outputs": [],
   "source": [
    "model_endpoint"
   ]
  },
  {
   "cell_type": "code",
   "execution_count": null,
   "id": "f6894d58-ce92-4f17-94c8-85ab56dd211d",
   "metadata": {},
   "outputs": [],
   "source": [
    "# Read in the model metrics dict\n",
    "model_metrics = cdsw.read_metrics(\n",
    "    model_crn=Model_CRN, model_deployment_crn=Deployment_CRN\n",
    ")"
   ]
  },
  {
   "cell_type": "code",
   "execution_count": null,
   "id": "85715281-e7a2-4c1d-8b32-3a1299063a22",
   "metadata": {},
   "outputs": [],
   "source": [
    "model_metrics"
   ]
  },
  {
   "cell_type": "code",
   "execution_count": null,
   "id": "3a253ba0-22c5-4f5b-9a97-9884885b8139",
   "metadata": {},
   "outputs": [],
   "source": [
    "# This is a handy way to unravel the dict into a big pandas dataframe\n",
    "metrics_df = pd.io.json.json_normalize(model_metrics[\"metrics\"])\n",
    "metrics_df.tail().T\n"
   ]
  },
  {
   "cell_type": "code",
   "execution_count": null,
   "id": "4bc51f4d-1d9a-4a8e-8448-ec1f4a397a38",
   "metadata": {},
   "outputs": [],
   "source": [
    "# Write the data to SQL lite for visualization\n",
    "if not (os.path.exists(\"model_metrics.db\")):\n",
    "    conn = sqlite3.connect(\"model_metrics.db\")\n",
    "    metrics_df.to_sql(name=\"model_metrics\", con=conn)"
   ]
  },
  {
   "cell_type": "code",
   "execution_count": null,
   "id": "0cdc0536-dab6-4a44-826d-cf676c93711b",
   "metadata": {},
   "outputs": [],
   "source": [
    "# Do some conversions & calculations on the raw metrics\n",
    "metrics_df[\"startTimeStampMs\"] = pd.to_datetime(\n",
    "    metrics_df[\"startTimeStampMs\"], unit=\"ms\"\n",
    ")\n",
    "metrics_df[\"endTimeStampMs\"] = pd.to_datetime(metrics_df[\"endTimeStampMs\"], unit=\"ms\")\n",
    "metrics_df[\"processing_time\"] = (\n",
    "    metrics_df[\"endTimeStampMs\"] - metrics_df[\"startTimeStampMs\"]\n",
    ").dt.microseconds * 1000"
   ]
  },
  {
   "cell_type": "code",
   "execution_count": null,
   "id": "931199aa-3cb4-4034-85c7-194878a1eab8",
   "metadata": {},
   "outputs": [],
   "source": [
    "# Create plots for different tracked metrics\n",
    "sns.set_style(\"whitegrid\")\n",
    "sns.despine(left=True, bottom=True)\n"
   ]
  },
  {
   "cell_type": "code",
   "execution_count": null,
   "id": "dd569ba9-9b46-447e-881c-591d8691c120",
   "metadata": {},
   "outputs": [],
   "source": [
    "# Plot metrics.probability\n",
    "prob_metrics = metrics_df.dropna(subset=[\"metrics.accuracy\"]).sort_values(\n",
    "    \"startTimeStampMs\"\n",
    ")\n",
    "sns.lineplot(\n",
    "    x=range(len(prob_metrics)), y=\"metrics.accuracy\", data=prob_metrics, color=\"grey\"\n",
    ")\n",
    "\n",
    "# Plot processing time\n",
    "time_metrics = metrics_df.dropna(subset=[\"processing_time\"]).sort_values(\n",
    "    \"startTimeStampMs\"\n",
    ")\n",
    "sns.lineplot(\n",
    "    x=range(len(prob_metrics)), y=\"processing_time\", data=prob_metrics, color=\"grey\"\n",
    ")"
   ]
  },
  {
   "cell_type": "code",
   "execution_count": null,
   "id": "360cb8cc-af9c-4e10-ae15-39ffb747a3f5",
   "metadata": {},
   "outputs": [],
   "source": [
    "\n",
    "# Plot model accuracy drift over the simulated time period\n",
    "agg_metrics = metrics_df.dropna(subset=[\"metrics.accuracy\"]).sort_values(\n",
    "    \"startTimeStampMs\"\n",
    ")\n",
    "sns.barplot(\n",
    "    x=list(range(1, len(agg_metrics) + 1)),\n",
    "    y=\"metrics.accuracy\",\n",
    "    color=\"grey\",\n",
    "    data=agg_metrics,\n",
    ")"
   ]
  },
  {
   "cell_type": "code",
   "execution_count": null,
   "id": "518fa8e4-a02e-4099-a312-604a63c985e3",
   "metadata": {},
   "outputs": [],
   "source": [
    "import os\n",
    "import cmlapi\n",
    "from cmlapi.utils import Cursor\n",
    "import string\n",
    "import random\n",
    "import json\n",
    "\n",
    "cluster = os.getenv(\"CDSW_DOMAIN\")\n",
    "client = cmlapi.default_client()\n",
    "\n",
    "session_id = \"\".join([random.choice(string.ascii_lowercase) for _ in range(6)])\n",
    "\n",
    "# List projects using the default sort and default page size (10)\n",
    "client.list_projects(page_size = 20)\n",
    "\n",
    "project_id = os.environ[\"CDSW_PROJECT_ID\"]\n",
    "\n",
    "\n",
    "### CREATE AN ENDPOINT AND PUSH THE  MODEL ###\n",
    "\n",
    "# Would be nice to name it with job id rather than session id\n",
    "modelReq = cmlapi.CreateModelRequest(\n",
    "    name = \"pump-model-RF\",\n",
    "    description = \"Pump predictive mainten Model\",\n",
    "    project_id = project_id,\n",
    "    disable_authentication = True\n",
    ")\n",
    "\n",
    "model = client.create_model(modelReq, project_id)\n",
    "\n",
    "model_build_request = cmlapi.CreateModelBuildRequest(\n",
    "    project_id = project_id,\n",
    "    model_id = model.id,\n",
    "    comment = \"Deplying model as REST api model\",\n",
    "    file_path = \"model/model_endpoint.py\",\n",
    "    function_name = \"predict\",\n",
    "    kernel = \"python3\",\n",
    "    runtime_identifier = \"docker.repository.cloudera.com/cloudera/cdsw/ml-runtime-jupyterlab-python3.8-standard:2022.04.1-b6\"\n",
    ")\n",
    "\n",
    "modelBuild = client.create_model_build(\n",
    "    model_build_request, project_id, model.id\n",
    ")\n",
    "\n",
    "model_deployment = cmlapi.CreateModelDeploymentRequest(\n",
    "        project_id = project_id, \n",
    "        model_id = model.id, \n",
    "        build_id = modelBuild.id, \n",
    "        cpu = 1.00,\n",
    "        memory = 2.00,\n",
    "        replicas=4,\n",
    "    )\n",
    "\n",
    "model_deployment_response = client.create_model_deployment(\n",
    "        model_deployment, \n",
    "        project_id = project_id, \n",
    "        model_id = model.id, \n",
    "        build_id = modelBuild.id\n",
    "    )"
   ]
  },
  {
   "cell_type": "code",
   "execution_count": null,
   "id": "9983a30e-f504-4359-92de-a6115c2a641b",
   "metadata": {},
   "outputs": [],
   "source": []
  }
 ],
 "metadata": {
  "kernelspec": {
   "display_name": "Python 3 (ipykernel)",
   "language": "python",
   "name": "python3"
  },
  "language_info": {
   "codemirror_mode": {
    "name": "ipython",
    "version": 3
   },
   "file_extension": ".py",
   "mimetype": "text/x-python",
   "name": "python",
   "nbconvert_exporter": "python",
   "pygments_lexer": "ipython3",
   "version": "3.8.13"
  }
 },
 "nbformat": 4,
 "nbformat_minor": 5
}
