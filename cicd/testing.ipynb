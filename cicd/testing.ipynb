{
 "cells": [
  {
   "cell_type": "code",
   "execution_count": 14,
   "id": "6119b373-9290-4c9b-8fb7-8dfc88ca5e59",
   "metadata": {},
   "outputs": [],
   "source": [
    "import numpy as np\n",
    "import pandas as pd\n",
    "from sklearn import preprocessing\n",
    "import matplotlib.pyplot as plt\n",
    "import seaborn as sns \n",
    "import warnings\n",
    "warnings.filterwarnings(\"ignore\")\n",
    "\n",
    "import findspark\n",
    "findspark.init()\n",
    "\n",
    "from pyspark.sql import SparkSession\n",
    "from pyspark.sql.functions import *"
   ]
  },
  {
   "cell_type": "code",
   "execution_count": 15,
   "id": "10d0ef95-1f93-43e7-a6ea-2d528778a687",
   "metadata": {},
   "outputs": [
    {
     "ename": "ModuleNotFoundError",
     "evalue": "No module named 'pytest'",
     "output_type": "error",
     "traceback": [
      "\u001b[0;31m---------------------------------------------------------------------------\u001b[0m",
      "\u001b[0;31mModuleNotFoundError\u001b[0m                       Traceback (most recent call last)",
      "\u001b[0;32m/tmp/ipykernel_2316/2672148871.py\u001b[0m in \u001b[0;36m<module>\u001b[0;34m\u001b[0m\n\u001b[1;32m      1\u001b[0m \u001b[0;32mimport\u001b[0m \u001b[0munittest\u001b[0m\u001b[0;34m\u001b[0m\u001b[0;34m\u001b[0m\u001b[0m\n\u001b[0;32m----> 2\u001b[0;31m \u001b[0;32mimport\u001b[0m \u001b[0mpytest\u001b[0m\u001b[0;34m\u001b[0m\u001b[0;34m\u001b[0m\u001b[0m\n\u001b[0m",
      "\u001b[0;31mModuleNotFoundError\u001b[0m: No module named 'pytest'"
     ]
    }
   ],
   "source": [
    "import unittest\n",
    "import pytest"
   ]
  },
  {
   "cell_type": "code",
   "execution_count": 46,
   "id": "008eb80f-c5ff-42d3-9859-933927b6b9e6",
   "metadata": {},
   "outputs": [
    {
     "data": {
      "text/html": [
       "<div>\n",
       "<style scoped>\n",
       "    .dataframe tbody tr th:only-of-type {\n",
       "        vertical-align: middle;\n",
       "    }\n",
       "\n",
       "    .dataframe tbody tr th {\n",
       "        vertical-align: top;\n",
       "    }\n",
       "\n",
       "    .dataframe thead th {\n",
       "        text-align: right;\n",
       "    }\n",
       "</style>\n",
       "<table border=\"1\" class=\"dataframe\">\n",
       "  <thead>\n",
       "    <tr style=\"text-align: right;\">\n",
       "      <th></th>\n",
       "      <th>sensor_04</th>\n",
       "      <th>sensor_19</th>\n",
       "      <th>sensor_20</th>\n",
       "      <th>sensor_21</th>\n",
       "      <th>sensor_38</th>\n",
       "      <th>sensor_39</th>\n",
       "      <th>sensor_40</th>\n",
       "      <th>sensor_41</th>\n",
       "      <th>sensor_42</th>\n",
       "      <th>machine_status</th>\n",
       "    </tr>\n",
       "  </thead>\n",
       "  <tbody>\n",
       "    <tr>\n",
       "      <th>0</th>\n",
       "      <td>634.3750</td>\n",
       "      <td>665.3993</td>\n",
       "      <td>398.9862</td>\n",
       "      <td>880.0001</td>\n",
       "      <td>40.36458</td>\n",
       "      <td>31.51042</td>\n",
       "      <td>70.57291</td>\n",
       "      <td>30.98958</td>\n",
       "      <td>31.770832</td>\n",
       "      <td>1</td>\n",
       "    </tr>\n",
       "    <tr>\n",
       "      <th>1</th>\n",
       "      <td>638.8889</td>\n",
       "      <td>666.2234</td>\n",
       "      <td>399.9418</td>\n",
       "      <td>880.4237</td>\n",
       "      <td>41.40625</td>\n",
       "      <td>31.25000</td>\n",
       "      <td>69.53125</td>\n",
       "      <td>30.46875</td>\n",
       "      <td>31.770830</td>\n",
       "      <td>1</td>\n",
       "    </tr>\n",
       "    <tr>\n",
       "      <th>2</th>\n",
       "      <td>637.6157</td>\n",
       "      <td>663.4962</td>\n",
       "      <td>398.6428</td>\n",
       "      <td>872.4973</td>\n",
       "      <td>42.70833</td>\n",
       "      <td>31.77083</td>\n",
       "      <td>79.94791</td>\n",
       "      <td>30.98958</td>\n",
       "      <td>31.250000</td>\n",
       "      <td>1</td>\n",
       "    </tr>\n",
       "    <tr>\n",
       "      <th>3</th>\n",
       "      <td>633.3333</td>\n",
       "      <td>667.4751</td>\n",
       "      <td>401.1847</td>\n",
       "      <td>882.7164</td>\n",
       "      <td>42.70833</td>\n",
       "      <td>32.29166</td>\n",
       "      <td>79.94791</td>\n",
       "      <td>31.25000</td>\n",
       "      <td>31.510420</td>\n",
       "      <td>1</td>\n",
       "    </tr>\n",
       "    <tr>\n",
       "      <th>4</th>\n",
       "      <td>630.6713</td>\n",
       "      <td>662.9967</td>\n",
       "      <td>395.2946</td>\n",
       "      <td>864.6103</td>\n",
       "      <td>42.96875</td>\n",
       "      <td>32.55208</td>\n",
       "      <td>78.38541</td>\n",
       "      <td>30.98958</td>\n",
       "      <td>31.510416</td>\n",
       "      <td>1</td>\n",
       "    </tr>\n",
       "  </tbody>\n",
       "</table>\n",
       "</div>"
      ],
      "text/plain": [
       "   sensor_04  sensor_19  sensor_20  sensor_21  sensor_38  sensor_39  \\\n",
       "0   634.3750   665.3993   398.9862   880.0001   40.36458   31.51042   \n",
       "1   638.8889   666.2234   399.9418   880.4237   41.40625   31.25000   \n",
       "2   637.6157   663.4962   398.6428   872.4973   42.70833   31.77083   \n",
       "3   633.3333   667.4751   401.1847   882.7164   42.70833   32.29166   \n",
       "4   630.6713   662.9967   395.2946   864.6103   42.96875   32.55208   \n",
       "\n",
       "   sensor_40  sensor_41  sensor_42  machine_status  \n",
       "0   70.57291   30.98958  31.770832               1  \n",
       "1   69.53125   30.46875  31.770830               1  \n",
       "2   79.94791   30.98958  31.250000               1  \n",
       "3   79.94791   31.25000  31.510420               1  \n",
       "4   78.38541   30.98958  31.510416               1  "
      ]
     },
     "execution_count": 46,
     "metadata": {},
     "output_type": "execute_result"
    }
   ],
   "source": [
    "df = pd.read_csv(\"../data/pump_processed.csv\")\n",
    "df.drop(\"Unnamed: 0\", axis=1, inplace=True)\n",
    "df.head()"
   ]
  },
  {
   "cell_type": "markdown",
   "id": "ee8bde51-e095-431c-845d-54a65b2dabad",
   "metadata": {},
   "source": [
    "## Explainability SHAP"
   ]
  },
  {
   "cell_type": "markdown",
   "id": "fcb41869-cfc6-4371-ac66-528994f968c5",
   "metadata": {},
   "source": [
    "https://medium.com/dataman-in-ai/explain-your-model-with-the-shap-values-bc36aac4de3dù"
   ]
  },
  {
   "cell_type": "code",
   "execution_count": 1,
   "id": "b061614c-0242-4042-b2b1-86d84e06f702",
   "metadata": {},
   "outputs": [
    {
     "ename": "NameError",
     "evalue": "name 'data' is not defined",
     "output_type": "error",
     "traceback": [
      "\u001b[0;31m---------------------------------------------------------------------------\u001b[0m",
      "\u001b[0;31mNameError\u001b[0m                                 Traceback (most recent call last)",
      "\u001b[0;32m/tmp/ipykernel_2316/2428755861.py\u001b[0m in \u001b[0;36m<module>\u001b[0;34m\u001b[0m\n\u001b[1;32m      9\u001b[0m \u001b[0;31m# Predict on a Pandas DataFrame.\u001b[0m\u001b[0;34m\u001b[0m\u001b[0;34m\u001b[0m\u001b[0;34m\u001b[0m\u001b[0m\n\u001b[1;32m     10\u001b[0m \u001b[0;32mimport\u001b[0m \u001b[0mpandas\u001b[0m \u001b[0;32mas\u001b[0m \u001b[0mpd\u001b[0m\u001b[0;34m\u001b[0m\u001b[0;34m\u001b[0m\u001b[0m\n\u001b[0;32m---> 11\u001b[0;31m \u001b[0mloaded_model\u001b[0m\u001b[0;34m.\u001b[0m\u001b[0mpredict\u001b[0m\u001b[0;34m(\u001b[0m\u001b[0mpd\u001b[0m\u001b[0;34m.\u001b[0m\u001b[0mDataFrame\u001b[0m\u001b[0;34m(\u001b[0m\u001b[0mdata\u001b[0m\u001b[0;34m)\u001b[0m\u001b[0;34m)\u001b[0m\u001b[0;34m\u001b[0m\u001b[0;34m\u001b[0m\u001b[0m\n\u001b[0m",
      "\u001b[0;31mNameError\u001b[0m: name 'data' is not defined"
     ]
    }
   ],
   "source": [
    "# read the rf model\n",
    "import mlflow\n",
    "import pandas as pd\n",
    "\n",
    "logged_model = '/home/cdsw/.experiments/n03k-3b0z-nbdp-wz8l/94k7-jivb-s3j1-g7r9/artifacts/model'\n",
    "\n",
    "loaded_model = mlflow.pyfunc.load_model(logged_model)\n",
    "\n",
    "# Predict on a Pandas DataFrame.\n",
    "#loaded_model.predict(pd.DataFrame(data))"
   ]
  },
  {
   "cell_type": "code",
   "execution_count": null,
   "id": "58140ed9-b656-4bee-b0df-b120ccb88efb",
   "metadata": {},
   "outputs": [],
   "source": []
  },
  {
   "cell_type": "code",
   "execution_count": null,
   "id": "d16fde1e-80f0-4484-a9d0-dae1ec271e65",
   "metadata": {},
   "outputs": [],
   "source": [
    "import pandas as pd\n",
    "import numpy as np\n",
    "np.random.seed(0)\n",
    "import matplotlib.pyplot as plt\n",
    "df = pd.read_csv('/winequality-red.csv') # Load the data\n",
    "\n",
    "from sklearn.model_selection import train_test_split\n",
    "from sklearn import preprocessing\n",
    "\n",
    "from sklearn.ensemble import RandomForestRegressor\n",
    "# The target variable is 'quality'.\n",
    "Y = df['quality']\n",
    "X =  df[['fixed acidity', 'volatile acidity', 'citric acid', 'residual sugar','chlorides', 'free sulfur dioxide', 'total sulfur dioxide', 'density','pH', 'sulphates', 'alcohol']]\n",
    "\n",
    "# Split the data into train and test data:\n",
    "X_train, X_test, Y_train, Y_test = train_test_split(X, Y, test_size = 0.2)\n",
    "# Build the model with the random forest regression algorithm:\n",
    "model = RandomForestRegressor(max_depth=6, random_state=0, n_estimators=10)\n",
    "model.fit(X_train, Y_train)"
   ]
  },
  {
   "cell_type": "markdown",
   "id": "71548501-8a34-47ac-8c06-8cdee4aeb056",
   "metadata": {},
   "source": [
    "#### Variable Importance Plot"
   ]
  },
  {
   "cell_type": "code",
   "execution_count": null,
   "id": "6235a38e-44f4-4e24-8293-c685cdfcd88f",
   "metadata": {},
   "outputs": [],
   "source": [
    "import shap\n",
    "shap_values = shap.TreeExplainer(model).shap_values(X_train)\n",
    "shap.summary_plot(shap_values, X_train, plot_type=\"bar\")"
   ]
  },
  {
   "cell_type": "code",
   "execution_count": null,
   "id": "5e9e9aec-cce4-40ec-8a15-b2d5e0dee50a",
   "metadata": {},
   "outputs": [],
   "source": [
    "import matplotlib.pyplot as plt\n",
    "f = plt.figure()\n",
    "shap.summary_plot(rf_shap_values, X_test)\n",
    "f.savefig(\"/summary_plot1.png\", bbox_inches='tight', dpi=600)"
   ]
  },
  {
   "cell_type": "markdown",
   "id": "d254af80-67a4-4ed8-a066-8d7237ff25a1",
   "metadata": {},
   "source": [
    "#### SHAP Dependence Plot — Global Interpretabilityù"
   ]
  },
  {
   "cell_type": "code",
   "execution_count": 3,
   "id": "1b23c32c-f106-4408-9410-9d11fd174815",
   "metadata": {},
   "outputs": [
    {
     "ename": "SyntaxError",
     "evalue": "invalid character in identifier (1780575973.py, line 1)",
     "output_type": "error",
     "traceback": [
      "\u001b[0;36m  File \u001b[0;32m\"/tmp/ipykernel_319/1780575973.py\"\u001b[0;36m, line \u001b[0;32m1\u001b[0m\n\u001b[0;31m    shap.dependence_plot(“alcohol”, shap_values, X_train)\u001b[0m\n\u001b[0m                                 ^\u001b[0m\n\u001b[0;31mSyntaxError\u001b[0m\u001b[0;31m:\u001b[0m invalid character in identifier\n"
     ]
    }
   ],
   "source": [
    "shap.dependence_plot(“alcohol”, shap_values, X_train)"
   ]
  },
  {
   "cell_type": "markdown",
   "id": "19996be6-febb-467e-a25c-38096939e323",
   "metadata": {},
   "source": [
    "#### Individual SHAP Value Plot — Local Interpretability"
   ]
  },
  {
   "cell_type": "code",
   "execution_count": null,
   "id": "b30594d9-6980-4aa9-9d65-db3d8ef8970f",
   "metadata": {},
   "outputs": [],
   "source": []
  },
  {
   "cell_type": "code",
   "execution_count": null,
   "id": "c7af557d-81e6-4041-97df-357b6518ae9c",
   "metadata": {},
   "outputs": [],
   "source": []
  },
  {
   "cell_type": "code",
   "execution_count": null,
   "id": "a2769e28-a94e-41d1-a398-c24a6e5f9f14",
   "metadata": {},
   "outputs": [],
   "source": []
  },
  {
   "cell_type": "code",
   "execution_count": null,
   "id": "73ff6af0-d627-45d4-8089-45f7cd211628",
   "metadata": {},
   "outputs": [],
   "source": []
  },
  {
   "cell_type": "code",
   "execution_count": null,
   "id": "e2808716-7a60-4b5c-a30d-41e8918ca9e6",
   "metadata": {},
   "outputs": [],
   "source": []
  },
  {
   "cell_type": "code",
   "execution_count": null,
   "id": "ffec4f7c-5250-4c96-ba3f-638cf9cd4f0a",
   "metadata": {},
   "outputs": [],
   "source": []
  },
  {
   "cell_type": "code",
   "execution_count": null,
   "id": "ee10e091-ff6f-4d8c-a20e-898d39206f8c",
   "metadata": {},
   "outputs": [],
   "source": []
  },
  {
   "cell_type": "code",
   "execution_count": null,
   "id": "e1d9aaf9-7a98-4aee-916b-4c1b25cb571c",
   "metadata": {},
   "outputs": [],
   "source": []
  },
  {
   "cell_type": "code",
   "execution_count": null,
   "id": "c52354ee-35a2-4c8c-a629-efaf3e1c6f19",
   "metadata": {},
   "outputs": [],
   "source": []
  },
  {
   "cell_type": "code",
   "execution_count": null,
   "id": "e17db023-82b4-457c-8cb3-6b24fdc4a86f",
   "metadata": {},
   "outputs": [],
   "source": []
  },
  {
   "cell_type": "code",
   "execution_count": null,
   "id": "d72e8722-6b6e-4bb9-ad62-215f1953b3f7",
   "metadata": {},
   "outputs": [],
   "source": []
  },
  {
   "cell_type": "code",
   "execution_count": null,
   "id": "093cfc2d-8153-4ed8-b7be-69b4ba4cb30c",
   "metadata": {},
   "outputs": [],
   "source": []
  },
  {
   "cell_type": "code",
   "execution_count": null,
   "id": "cd348c8e-9743-439b-a5d0-eb8cee0c537e",
   "metadata": {},
   "outputs": [],
   "source": []
  },
  {
   "cell_type": "code",
   "execution_count": null,
   "id": "9102d202-1159-4ccf-931c-4f413cb044bb",
   "metadata": {},
   "outputs": [],
   "source": []
  },
  {
   "cell_type": "code",
   "execution_count": 43,
   "id": "edf4b518-5240-4bfc-b89c-6b3d097e594c",
   "metadata": {},
   "outputs": [],
   "source": [
    "class ApiUtility:\n",
    "    \"\"\"A utility class for working with CML API_v2\n",
    "    This class contains methods that wrap API_v2 to achieve specific\n",
    "    needs that facilitate the simulation.\n",
    "    Attributes:\n",
    "        client (cmlapi.api.cml_service_api.CMLServiceApi)\n",
    "    \"\"\"\n",
    "\n",
    "    def __init__(self):\n",
    "        self.client = cmlapi.default_client()\n",
    "\n",
    "    def get_latest_deployment_details_allmodels(self):\n",
    "        \"\"\"\n",
    "        Given a APIv2 client object and Model Name, use APIv2 to retrieve details about the latest/current deployment.\n",
    "        This function only works for models deployed within the current project.\n",
    "        \"\"\"\n",
    "\n",
    "        project_id = os.environ[\"CDSW_PROJECT_ID\"]\n",
    "\n",
    "        # gather model details\n",
    "        models = (\n",
    "            self.client.list_models(project_id=project_id, async_req=True, page_size = 50)\n",
    "            .get()\n",
    "            .to_dict()\n",
    "        )\n",
    "        model_info = [\n",
    "            model for model in models[\"models\"]\n",
    "        ][-1]\n",
    "\n",
    "        model_id = model_info[\"id\"]\n",
    "        model_crn = model_info[\"crn\"]\n",
    "        model_access_key = model_info[\"access_key\"]\n",
    "\n",
    "        # gather latest build details\n",
    "        builds = (\n",
    "            self.client.list_model_builds(\n",
    "                project_id=project_id, model_id=model_id, async_req=True, page_size = 50\n",
    "            )\n",
    "            .get()\n",
    "            .to_dict()\n",
    "        )\n",
    "        build_info = builds[\"model_builds\"][-1]  # most recent build\n",
    "\n",
    "        build_id = build_info[\"id\"]\n",
    "\n",
    "        # gather latest deployment details\n",
    "        deployments = (\n",
    "            self.client.list_model_deployments(\n",
    "                project_id=project_id,\n",
    "                model_id=model_id,\n",
    "                build_id=build_id,\n",
    "                async_req=True,\n",
    "                page_size = 50\n",
    "            )\n",
    "            .get()\n",
    "            .to_dict()\n",
    "        )\n",
    "        deployment_info = deployments[\"model_deployments\"][-1]  # most recent deployment\n",
    "\n",
    "        model_deployment_crn = deployment_info[\"crn\"]\n",
    "\n",
    "        return {\n",
    "            \"model_id\": model_id,\n",
    "            \"model_crn\": model_crn,\n",
    "            \"model_access_key\": model_access_key,\n",
    "            \"latest_build_id\": build_id,\n",
    "            \"latest_deployment_crn\": model_deployment_crn,\n",
    "        }\n"
   ]
  },
  {
   "cell_type": "code",
   "execution_count": 44,
   "id": "bc7cda68-ed7e-4ddb-aa49-a77ef2cd8442",
   "metadata": {},
   "outputs": [],
   "source": [
    "import cdsw, time, os\n",
    "import pandas as pd\n",
    "import matplotlib.pyplot as plt\n",
    "import numpy as np\n",
    "from sklearn.metrics import classification_report\n",
    "from cmlbootstrap import CMLBootstrap\n",
    "import seaborn as sns\n",
    "import cmlapi\n",
    "#from src.api import ApiUtility\n",
    "import sqlite3\n",
    "\n",
    "# You can access all models with API V2\n",
    "client = cmlapi.default_client()\n",
    "\n",
    "project_id = os.environ[\"CDSW_PROJECT_ID\"]\n",
    "\n",
    "# You can use an APIV2-based utility to access the latest model's metadata. For more, explore the src folder\n",
    "apiUtil = ApiUtility()\n",
    "\n",
    "Model_AccessKey = apiUtil.get_latest_deployment_details_allmodels()[\"model_access_key\"]\n",
    "Deployment_CRN = apiUtil.get_latest_deployment_details_allmodels()[\"latest_deployment_crn\"]\n",
    "Model_CRN = apiUtil.get_latest_deployment_details_allmodels()[\"model_crn\"]\n"
   ]
  },
  {
   "cell_type": "code",
   "execution_count": 48,
   "id": "6af31886-3afe-49af-af82-d6e3abd6518f",
   "metadata": {},
   "outputs": [],
   "source": [
    "# Get the various Model Endpoint details\n",
    "HOST = os.getenv(\"CDSW_API_URL\").split(\":\")[0] + \"://\" + os.getenv(\"CDSW_DOMAIN\")\n",
    "model_endpoint = (\n",
    "    HOST.split(\"//\")[0] + \"//modelservice.\" + HOST.split(\"//\")[1] + \"/model\"\n",
    ")"
   ]
  },
  {
   "cell_type": "code",
   "execution_count": 49,
   "id": "53f4202b-ad18-447b-9246-52a61b61fe1a",
   "metadata": {},
   "outputs": [
    {
     "data": {
      "text/plain": [
       "'https://modelservice.ml-95af2461-8a3.ps-sandb.a465-9q4k.cloudera.site/model'"
      ]
     },
     "execution_count": 49,
     "metadata": {},
     "output_type": "execute_result"
    }
   ],
   "source": [
    "model_endpoint"
   ]
  },
  {
   "cell_type": "code",
   "execution_count": 52,
   "id": "f6894d58-ce92-4f17-94c8-85ab56dd211d",
   "metadata": {},
   "outputs": [],
   "source": [
    "# Read in the model metrics dict\n",
    "model_metrics = cdsw.read_metrics(\n",
    "    model_crn=Model_CRN, model_deployment_crn=Deployment_CRN\n",
    ")"
   ]
  },
  {
   "cell_type": "code",
   "execution_count": 53,
   "id": "85715281-e7a2-4c1d-8b32-3a1299063a22",
   "metadata": {},
   "outputs": [
    {
     "data": {
      "text/plain": [
       "{'metrics': [{'modelDeploymentCrn': 'crn:cdp:ml:us-west-1:558bc1d2-8867-4357-8524-311d51259233:workspace:89b11538-6c14-45f1-a1e5-a77898deae34/5dd81621-f2bf-43e3-a745-f56bd111009a',\n",
       "   'modelBuildCrn': 'crn:cdp:ml:us-west-1:558bc1d2-8867-4357-8524-311d51259233:workspace:89b11538-6c14-45f1-a1e5-a77898deae34/b6f31e95-bb3d-4bc2-92bc-24ec9af37bbf',\n",
       "   'modelCrn': 'crn:cdp:ml:us-west-1:558bc1d2-8867-4357-8524-311d51259233:workspace:89b11538-6c14-45f1-a1e5-a77898deae34/cbcc3c1e-75b2-4f21-a322-2eab9565a858',\n",
       "   'startTimeStampMs': 1664398564477,\n",
       "   'endTimeStampMs': 1664398564554,\n",
       "   'predictionUuid': 'cacc1242-0c01-4b8b-b9cd-f605545c99da',\n",
       "   'metrics': {'data': {'sensor_04': '213214',\n",
       "     'sensor_19': '534',\n",
       "     'sensor_20': '6342',\n",
       "     'sensor_21': '234234',\n",
       "     'sensor_38': '647574',\n",
       "     'sensor_39': '64684',\n",
       "     'sensor_40': '6435',\n",
       "     'sensor_41': '223',\n",
       "     'sensor_42': '65784'},\n",
       "    'prediction': '[0.]'}},\n",
       "  {'modelDeploymentCrn': 'crn:cdp:ml:us-west-1:558bc1d2-8867-4357-8524-311d51259233:workspace:89b11538-6c14-45f1-a1e5-a77898deae34/5dd81621-f2bf-43e3-a745-f56bd111009a',\n",
       "   'modelBuildCrn': 'crn:cdp:ml:us-west-1:558bc1d2-8867-4357-8524-311d51259233:workspace:89b11538-6c14-45f1-a1e5-a77898deae34/b6f31e95-bb3d-4bc2-92bc-24ec9af37bbf',\n",
       "   'modelCrn': 'crn:cdp:ml:us-west-1:558bc1d2-8867-4357-8524-311d51259233:workspace:89b11538-6c14-45f1-a1e5-a77898deae34/cbcc3c1e-75b2-4f21-a322-2eab9565a858',\n",
       "   'startTimeStampMs': 1664399949235,\n",
       "   'endTimeStampMs': 1664399949263,\n",
       "   'predictionUuid': '801012ab-41fa-4a0c-a6e0-5f22b3859c83',\n",
       "   'metrics': {'data': {'sensor_04': '23',\n",
       "     'sensor_19': '32',\n",
       "     'sensor_20': '3',\n",
       "     'sensor_21': '12',\n",
       "     'sensor_38': '324',\n",
       "     'sensor_39': '5343',\n",
       "     'sensor_40': '321',\n",
       "     'sensor_41': '223',\n",
       "     'sensor_42': '65784'},\n",
       "    'prediction': '[0.]'}}]}"
      ]
     },
     "execution_count": 53,
     "metadata": {},
     "output_type": "execute_result"
    }
   ],
   "source": [
    "model_metrics"
   ]
  },
  {
   "cell_type": "code",
   "execution_count": 56,
   "id": "3a253ba0-22c5-4f5b-9a97-9884885b8139",
   "metadata": {},
   "outputs": [
    {
     "name": "stderr",
     "output_type": "stream",
     "text": [
      "/tmp/ipykernel_252/3551598782.py:2: FutureWarning: pandas.io.json.json_normalize is deprecated, use pandas.json_normalize instead.\n",
      "  metrics_df = pd.io.json.json_normalize(model_metrics[\"metrics\"])\n"
     ]
    },
    {
     "data": {
      "text/html": [
       "<div>\n",
       "<style scoped>\n",
       "    .dataframe tbody tr th:only-of-type {\n",
       "        vertical-align: middle;\n",
       "    }\n",
       "\n",
       "    .dataframe tbody tr th {\n",
       "        vertical-align: top;\n",
       "    }\n",
       "\n",
       "    .dataframe thead th {\n",
       "        text-align: right;\n",
       "    }\n",
       "</style>\n",
       "<table border=\"1\" class=\"dataframe\">\n",
       "  <thead>\n",
       "    <tr style=\"text-align: right;\">\n",
       "      <th></th>\n",
       "      <th>0</th>\n",
       "      <th>1</th>\n",
       "    </tr>\n",
       "  </thead>\n",
       "  <tbody>\n",
       "    <tr>\n",
       "      <th>modelDeploymentCrn</th>\n",
       "      <td>crn:cdp:ml:us-west-1:558bc1d2-8867-4357-8524-3...</td>\n",
       "      <td>crn:cdp:ml:us-west-1:558bc1d2-8867-4357-8524-3...</td>\n",
       "    </tr>\n",
       "    <tr>\n",
       "      <th>modelBuildCrn</th>\n",
       "      <td>crn:cdp:ml:us-west-1:558bc1d2-8867-4357-8524-3...</td>\n",
       "      <td>crn:cdp:ml:us-west-1:558bc1d2-8867-4357-8524-3...</td>\n",
       "    </tr>\n",
       "    <tr>\n",
       "      <th>modelCrn</th>\n",
       "      <td>crn:cdp:ml:us-west-1:558bc1d2-8867-4357-8524-3...</td>\n",
       "      <td>crn:cdp:ml:us-west-1:558bc1d2-8867-4357-8524-3...</td>\n",
       "    </tr>\n",
       "    <tr>\n",
       "      <th>startTimeStampMs</th>\n",
       "      <td>1664398564477</td>\n",
       "      <td>1664399949235</td>\n",
       "    </tr>\n",
       "    <tr>\n",
       "      <th>endTimeStampMs</th>\n",
       "      <td>1664398564554</td>\n",
       "      <td>1664399949263</td>\n",
       "    </tr>\n",
       "    <tr>\n",
       "      <th>predictionUuid</th>\n",
       "      <td>cacc1242-0c01-4b8b-b9cd-f605545c99da</td>\n",
       "      <td>801012ab-41fa-4a0c-a6e0-5f22b3859c83</td>\n",
       "    </tr>\n",
       "    <tr>\n",
       "      <th>metrics.data.sensor_04</th>\n",
       "      <td>213214</td>\n",
       "      <td>23</td>\n",
       "    </tr>\n",
       "    <tr>\n",
       "      <th>metrics.data.sensor_19</th>\n",
       "      <td>534</td>\n",
       "      <td>32</td>\n",
       "    </tr>\n",
       "    <tr>\n",
       "      <th>metrics.data.sensor_20</th>\n",
       "      <td>6342</td>\n",
       "      <td>3</td>\n",
       "    </tr>\n",
       "    <tr>\n",
       "      <th>metrics.data.sensor_21</th>\n",
       "      <td>234234</td>\n",
       "      <td>12</td>\n",
       "    </tr>\n",
       "    <tr>\n",
       "      <th>metrics.data.sensor_38</th>\n",
       "      <td>647574</td>\n",
       "      <td>324</td>\n",
       "    </tr>\n",
       "    <tr>\n",
       "      <th>metrics.data.sensor_39</th>\n",
       "      <td>64684</td>\n",
       "      <td>5343</td>\n",
       "    </tr>\n",
       "    <tr>\n",
       "      <th>metrics.data.sensor_40</th>\n",
       "      <td>6435</td>\n",
       "      <td>321</td>\n",
       "    </tr>\n",
       "    <tr>\n",
       "      <th>metrics.data.sensor_41</th>\n",
       "      <td>223</td>\n",
       "      <td>223</td>\n",
       "    </tr>\n",
       "    <tr>\n",
       "      <th>metrics.data.sensor_42</th>\n",
       "      <td>65784</td>\n",
       "      <td>65784</td>\n",
       "    </tr>\n",
       "    <tr>\n",
       "      <th>metrics.prediction</th>\n",
       "      <td>[0.]</td>\n",
       "      <td>[0.]</td>\n",
       "    </tr>\n",
       "  </tbody>\n",
       "</table>\n",
       "</div>"
      ],
      "text/plain": [
       "                                                                        0  \\\n",
       "modelDeploymentCrn      crn:cdp:ml:us-west-1:558bc1d2-8867-4357-8524-3...   \n",
       "modelBuildCrn           crn:cdp:ml:us-west-1:558bc1d2-8867-4357-8524-3...   \n",
       "modelCrn                crn:cdp:ml:us-west-1:558bc1d2-8867-4357-8524-3...   \n",
       "startTimeStampMs                                            1664398564477   \n",
       "endTimeStampMs                                              1664398564554   \n",
       "predictionUuid                       cacc1242-0c01-4b8b-b9cd-f605545c99da   \n",
       "metrics.data.sensor_04                                             213214   \n",
       "metrics.data.sensor_19                                                534   \n",
       "metrics.data.sensor_20                                               6342   \n",
       "metrics.data.sensor_21                                             234234   \n",
       "metrics.data.sensor_38                                             647574   \n",
       "metrics.data.sensor_39                                              64684   \n",
       "metrics.data.sensor_40                                               6435   \n",
       "metrics.data.sensor_41                                                223   \n",
       "metrics.data.sensor_42                                              65784   \n",
       "metrics.prediction                                                   [0.]   \n",
       "\n",
       "                                                                        1  \n",
       "modelDeploymentCrn      crn:cdp:ml:us-west-1:558bc1d2-8867-4357-8524-3...  \n",
       "modelBuildCrn           crn:cdp:ml:us-west-1:558bc1d2-8867-4357-8524-3...  \n",
       "modelCrn                crn:cdp:ml:us-west-1:558bc1d2-8867-4357-8524-3...  \n",
       "startTimeStampMs                                            1664399949235  \n",
       "endTimeStampMs                                              1664399949263  \n",
       "predictionUuid                       801012ab-41fa-4a0c-a6e0-5f22b3859c83  \n",
       "metrics.data.sensor_04                                                 23  \n",
       "metrics.data.sensor_19                                                 32  \n",
       "metrics.data.sensor_20                                                  3  \n",
       "metrics.data.sensor_21                                                 12  \n",
       "metrics.data.sensor_38                                                324  \n",
       "metrics.data.sensor_39                                               5343  \n",
       "metrics.data.sensor_40                                                321  \n",
       "metrics.data.sensor_41                                                223  \n",
       "metrics.data.sensor_42                                              65784  \n",
       "metrics.prediction                                                   [0.]  "
      ]
     },
     "execution_count": 56,
     "metadata": {},
     "output_type": "execute_result"
    }
   ],
   "source": [
    "# This is a handy way to unravel the dict into a big pandas dataframe\n",
    "metrics_df = pd.io.json.json_normalize(model_metrics[\"metrics\"])\n",
    "metrics_df.tail().T\n"
   ]
  },
  {
   "cell_type": "code",
   "execution_count": 57,
   "id": "4bc51f4d-1d9a-4a8e-8448-ec1f4a397a38",
   "metadata": {},
   "outputs": [],
   "source": [
    "# Write the data to SQL lite for visualization\n",
    "if not (os.path.exists(\"model_metrics.db\")):\n",
    "    conn = sqlite3.connect(\"model_metrics.db\")\n",
    "    metrics_df.to_sql(name=\"model_metrics\", con=conn)"
   ]
  },
  {
   "cell_type": "code",
   "execution_count": 61,
   "id": "0cdc0536-dab6-4a44-826d-cf676c93711b",
   "metadata": {},
   "outputs": [],
   "source": [
    "# Do some conversions & calculations on the raw metrics\n",
    "metrics_df[\"startTimeStampMs\"] = pd.to_datetime(\n",
    "    metrics_df[\"startTimeStampMs\"], unit=\"ms\"\n",
    ")\n",
    "metrics_df[\"endTimeStampMs\"] = pd.to_datetime(metrics_df[\"endTimeStampMs\"], unit=\"ms\")\n",
    "metrics_df[\"processing_time\"] = (\n",
    "    metrics_df[\"endTimeStampMs\"] - metrics_df[\"startTimeStampMs\"]\n",
    ").dt.microseconds * 1000"
   ]
  },
  {
   "cell_type": "code",
   "execution_count": 62,
   "id": "931199aa-3cb4-4034-85c7-194878a1eab8",
   "metadata": {},
   "outputs": [
    {
     "data": {
      "text/plain": [
       "<Figure size 432x288 with 0 Axes>"
      ]
     },
     "metadata": {},
     "output_type": "display_data"
    }
   ],
   "source": [
    "# Create plots for different tracked metrics\n",
    "sns.set_style(\"whitegrid\")\n",
    "sns.despine(left=True, bottom=True)\n"
   ]
  },
  {
   "cell_type": "code",
   "execution_count": 63,
   "id": "dd569ba9-9b46-447e-881c-591d8691c120",
   "metadata": {},
   "outputs": [
    {
     "ename": "KeyError",
     "evalue": "['metrics.accuracy']",
     "output_type": "error",
     "traceback": [
      "\u001b[0;31m---------------------------------------------------------------------------\u001b[0m",
      "\u001b[0;31mKeyError\u001b[0m                                  Traceback (most recent call last)",
      "\u001b[0;32m/tmp/ipykernel_252/3133139026.py\u001b[0m in \u001b[0;36m<module>\u001b[0;34m\u001b[0m\n\u001b[1;32m      1\u001b[0m \u001b[0;31m# Plot metrics.probability\u001b[0m\u001b[0;34m\u001b[0m\u001b[0;34m\u001b[0m\u001b[0;34m\u001b[0m\u001b[0m\n\u001b[0;32m----> 2\u001b[0;31m prob_metrics = metrics_df.dropna(subset=[\"metrics.accuracy\"]).sort_values(\n\u001b[0m\u001b[1;32m      3\u001b[0m     \u001b[0;34m\"startTimeStampMs\"\u001b[0m\u001b[0;34m\u001b[0m\u001b[0;34m\u001b[0m\u001b[0m\n\u001b[1;32m      4\u001b[0m )\n\u001b[1;32m      5\u001b[0m sns.lineplot(\n",
      "\u001b[0;32m~/.local/lib/python3.8/site-packages/pandas/util/_decorators.py\u001b[0m in \u001b[0;36mwrapper\u001b[0;34m(*args, **kwargs)\u001b[0m\n\u001b[1;32m    315\u001b[0m                     \u001b[0mstacklevel\u001b[0m\u001b[0;34m=\u001b[0m\u001b[0mfind_stack_level\u001b[0m\u001b[0;34m(\u001b[0m\u001b[0minspect\u001b[0m\u001b[0;34m.\u001b[0m\u001b[0mcurrentframe\u001b[0m\u001b[0;34m(\u001b[0m\u001b[0;34m)\u001b[0m\u001b[0;34m)\u001b[0m\u001b[0;34m,\u001b[0m\u001b[0;34m\u001b[0m\u001b[0;34m\u001b[0m\u001b[0m\n\u001b[1;32m    316\u001b[0m                 )\n\u001b[0;32m--> 317\u001b[0;31m             \u001b[0;32mreturn\u001b[0m \u001b[0mfunc\u001b[0m\u001b[0;34m(\u001b[0m\u001b[0;34m*\u001b[0m\u001b[0margs\u001b[0m\u001b[0;34m,\u001b[0m \u001b[0;34m**\u001b[0m\u001b[0mkwargs\u001b[0m\u001b[0;34m)\u001b[0m\u001b[0;34m\u001b[0m\u001b[0;34m\u001b[0m\u001b[0m\n\u001b[0m\u001b[1;32m    318\u001b[0m \u001b[0;34m\u001b[0m\u001b[0m\n\u001b[1;32m    319\u001b[0m         \u001b[0;32mreturn\u001b[0m \u001b[0mwrapper\u001b[0m\u001b[0;34m\u001b[0m\u001b[0;34m\u001b[0m\u001b[0m\n",
      "\u001b[0;32m~/.local/lib/python3.8/site-packages/pandas/core/frame.py\u001b[0m in \u001b[0;36mdropna\u001b[0;34m(self, axis, how, thresh, subset, inplace)\u001b[0m\n\u001b[1;32m   6551\u001b[0m             \u001b[0mcheck\u001b[0m \u001b[0;34m=\u001b[0m \u001b[0mindices\u001b[0m \u001b[0;34m==\u001b[0m \u001b[0;34m-\u001b[0m\u001b[0;36m1\u001b[0m\u001b[0;34m\u001b[0m\u001b[0;34m\u001b[0m\u001b[0m\n\u001b[1;32m   6552\u001b[0m             \u001b[0;32mif\u001b[0m \u001b[0mcheck\u001b[0m\u001b[0;34m.\u001b[0m\u001b[0many\u001b[0m\u001b[0;34m(\u001b[0m\u001b[0;34m)\u001b[0m\u001b[0;34m:\u001b[0m\u001b[0;34m\u001b[0m\u001b[0;34m\u001b[0m\u001b[0m\n\u001b[0;32m-> 6553\u001b[0;31m                 \u001b[0;32mraise\u001b[0m \u001b[0mKeyError\u001b[0m\u001b[0;34m(\u001b[0m\u001b[0mnp\u001b[0m\u001b[0;34m.\u001b[0m\u001b[0marray\u001b[0m\u001b[0;34m(\u001b[0m\u001b[0msubset\u001b[0m\u001b[0;34m)\u001b[0m\u001b[0;34m[\u001b[0m\u001b[0mcheck\u001b[0m\u001b[0;34m]\u001b[0m\u001b[0;34m.\u001b[0m\u001b[0mtolist\u001b[0m\u001b[0;34m(\u001b[0m\u001b[0;34m)\u001b[0m\u001b[0;34m)\u001b[0m\u001b[0;34m\u001b[0m\u001b[0;34m\u001b[0m\u001b[0m\n\u001b[0m\u001b[1;32m   6554\u001b[0m             \u001b[0magg_obj\u001b[0m \u001b[0;34m=\u001b[0m \u001b[0mself\u001b[0m\u001b[0;34m.\u001b[0m\u001b[0mtake\u001b[0m\u001b[0;34m(\u001b[0m\u001b[0mindices\u001b[0m\u001b[0;34m,\u001b[0m \u001b[0maxis\u001b[0m\u001b[0;34m=\u001b[0m\u001b[0magg_axis\u001b[0m\u001b[0;34m)\u001b[0m\u001b[0;34m\u001b[0m\u001b[0;34m\u001b[0m\u001b[0m\n\u001b[1;32m   6555\u001b[0m \u001b[0;34m\u001b[0m\u001b[0m\n",
      "\u001b[0;31mKeyError\u001b[0m: ['metrics.accuracy']"
     ]
    }
   ],
   "source": [
    "# Plot metrics.probability\n",
    "prob_metrics = metrics_df.dropna(subset=[\"metrics.accuracy\"]).sort_values(\n",
    "    \"startTimeStampMs\"\n",
    ")\n",
    "sns.lineplot(\n",
    "    x=range(len(prob_metrics)), y=\"metrics.accuracy\", data=prob_metrics, color=\"grey\"\n",
    ")\n",
    "\n",
    "# Plot processing time\n",
    "time_metrics = metrics_df.dropna(subset=[\"processing_time\"]).sort_values(\n",
    "    \"startTimeStampMs\"\n",
    ")\n",
    "sns.lineplot(\n",
    "    x=range(len(prob_metrics)), y=\"processing_time\", data=prob_metrics, color=\"grey\"\n",
    ")"
   ]
  },
  {
   "cell_type": "code",
   "execution_count": 64,
   "id": "360cb8cc-af9c-4e10-ae15-39ffb747a3f5",
   "metadata": {},
   "outputs": [
    {
     "ename": "KeyError",
     "evalue": "['metrics.accuracy']",
     "output_type": "error",
     "traceback": [
      "\u001b[0;31m---------------------------------------------------------------------------\u001b[0m",
      "\u001b[0;31mKeyError\u001b[0m                                  Traceback (most recent call last)",
      "\u001b[0;32m/tmp/ipykernel_252/1735011128.py\u001b[0m in \u001b[0;36m<module>\u001b[0;34m\u001b[0m\n\u001b[1;32m      1\u001b[0m \u001b[0;31m# Plot model accuracy drift over the simulated time period\u001b[0m\u001b[0;34m\u001b[0m\u001b[0;34m\u001b[0m\u001b[0;34m\u001b[0m\u001b[0m\n\u001b[0;32m----> 2\u001b[0;31m agg_metrics = metrics_df.dropna(subset=[\"metrics.accuracy\"]).sort_values(\n\u001b[0m\u001b[1;32m      3\u001b[0m     \u001b[0;34m\"startTimeStampMs\"\u001b[0m\u001b[0;34m\u001b[0m\u001b[0;34m\u001b[0m\u001b[0m\n\u001b[1;32m      4\u001b[0m )\n\u001b[1;32m      5\u001b[0m sns.barplot(\n",
      "\u001b[0;32m~/.local/lib/python3.8/site-packages/pandas/util/_decorators.py\u001b[0m in \u001b[0;36mwrapper\u001b[0;34m(*args, **kwargs)\u001b[0m\n\u001b[1;32m    315\u001b[0m                     \u001b[0mstacklevel\u001b[0m\u001b[0;34m=\u001b[0m\u001b[0mfind_stack_level\u001b[0m\u001b[0;34m(\u001b[0m\u001b[0minspect\u001b[0m\u001b[0;34m.\u001b[0m\u001b[0mcurrentframe\u001b[0m\u001b[0;34m(\u001b[0m\u001b[0;34m)\u001b[0m\u001b[0;34m)\u001b[0m\u001b[0;34m,\u001b[0m\u001b[0;34m\u001b[0m\u001b[0;34m\u001b[0m\u001b[0m\n\u001b[1;32m    316\u001b[0m                 )\n\u001b[0;32m--> 317\u001b[0;31m             \u001b[0;32mreturn\u001b[0m \u001b[0mfunc\u001b[0m\u001b[0;34m(\u001b[0m\u001b[0;34m*\u001b[0m\u001b[0margs\u001b[0m\u001b[0;34m,\u001b[0m \u001b[0;34m**\u001b[0m\u001b[0mkwargs\u001b[0m\u001b[0;34m)\u001b[0m\u001b[0;34m\u001b[0m\u001b[0;34m\u001b[0m\u001b[0m\n\u001b[0m\u001b[1;32m    318\u001b[0m \u001b[0;34m\u001b[0m\u001b[0m\n\u001b[1;32m    319\u001b[0m         \u001b[0;32mreturn\u001b[0m \u001b[0mwrapper\u001b[0m\u001b[0;34m\u001b[0m\u001b[0;34m\u001b[0m\u001b[0m\n",
      "\u001b[0;32m~/.local/lib/python3.8/site-packages/pandas/core/frame.py\u001b[0m in \u001b[0;36mdropna\u001b[0;34m(self, axis, how, thresh, subset, inplace)\u001b[0m\n\u001b[1;32m   6551\u001b[0m             \u001b[0mcheck\u001b[0m \u001b[0;34m=\u001b[0m \u001b[0mindices\u001b[0m \u001b[0;34m==\u001b[0m \u001b[0;34m-\u001b[0m\u001b[0;36m1\u001b[0m\u001b[0;34m\u001b[0m\u001b[0;34m\u001b[0m\u001b[0m\n\u001b[1;32m   6552\u001b[0m             \u001b[0;32mif\u001b[0m \u001b[0mcheck\u001b[0m\u001b[0;34m.\u001b[0m\u001b[0many\u001b[0m\u001b[0;34m(\u001b[0m\u001b[0;34m)\u001b[0m\u001b[0;34m:\u001b[0m\u001b[0;34m\u001b[0m\u001b[0;34m\u001b[0m\u001b[0m\n\u001b[0;32m-> 6553\u001b[0;31m                 \u001b[0;32mraise\u001b[0m \u001b[0mKeyError\u001b[0m\u001b[0;34m(\u001b[0m\u001b[0mnp\u001b[0m\u001b[0;34m.\u001b[0m\u001b[0marray\u001b[0m\u001b[0;34m(\u001b[0m\u001b[0msubset\u001b[0m\u001b[0;34m)\u001b[0m\u001b[0;34m[\u001b[0m\u001b[0mcheck\u001b[0m\u001b[0;34m]\u001b[0m\u001b[0;34m.\u001b[0m\u001b[0mtolist\u001b[0m\u001b[0;34m(\u001b[0m\u001b[0;34m)\u001b[0m\u001b[0;34m)\u001b[0m\u001b[0;34m\u001b[0m\u001b[0;34m\u001b[0m\u001b[0m\n\u001b[0m\u001b[1;32m   6554\u001b[0m             \u001b[0magg_obj\u001b[0m \u001b[0;34m=\u001b[0m \u001b[0mself\u001b[0m\u001b[0;34m.\u001b[0m\u001b[0mtake\u001b[0m\u001b[0;34m(\u001b[0m\u001b[0mindices\u001b[0m\u001b[0;34m,\u001b[0m \u001b[0maxis\u001b[0m\u001b[0;34m=\u001b[0m\u001b[0magg_axis\u001b[0m\u001b[0;34m)\u001b[0m\u001b[0;34m\u001b[0m\u001b[0;34m\u001b[0m\u001b[0m\n\u001b[1;32m   6555\u001b[0m \u001b[0;34m\u001b[0m\u001b[0m\n",
      "\u001b[0;31mKeyError\u001b[0m: ['metrics.accuracy']"
     ]
    }
   ],
   "source": [
    "\n",
    "# Plot model accuracy drift over the simulated time period\n",
    "agg_metrics = metrics_df.dropna(subset=[\"metrics.accuracy\"]).sort_values(\n",
    "    \"startTimeStampMs\"\n",
    ")\n",
    "sns.barplot(\n",
    "    x=list(range(1, len(agg_metrics) + 1)),\n",
    "    y=\"metrics.accuracy\",\n",
    "    color=\"grey\",\n",
    "    data=agg_metrics,\n",
    ")"
   ]
  },
  {
   "cell_type": "code",
   "execution_count": 1,
   "id": "518fa8e4-a02e-4099-a312-604a63c985e3",
   "metadata": {},
   "outputs": [],
   "source": [
    "import os\n",
    "import cmlapi\n",
    "from cmlapi.utils import Cursor\n",
    "import string\n",
    "import random\n",
    "import json\n",
    "\n",
    "cluster = os.getenv(\"CDSW_DOMAIN\")\n",
    "client = cmlapi.default_client()\n",
    "\n",
    "session_id = \"\".join([random.choice(string.ascii_lowercase) for _ in range(6)])\n",
    "\n",
    "# List projects using the default sort and default page size (10)\n",
    "client.list_projects(page_size = 20)\n",
    "\n",
    "project_id = os.environ[\"CDSW_PROJECT_ID\"]\n",
    "\n",
    "\n",
    "### CREATE AN ENDPOINT AND PUSH THE  MODEL ###\n",
    "\n",
    "# Would be nice to name it with job id rather than session id\n",
    "modelReq = cmlapi.CreateModelRequest(\n",
    "    name = \"pump-model-RF\",\n",
    "    description = \"Pump predictive mainten Model\",\n",
    "    project_id = project_id,\n",
    "    disable_authentication = True\n",
    ")\n",
    "\n",
    "model = client.create_model(modelReq, project_id)\n",
    "\n",
    "model_build_request = cmlapi.CreateModelBuildRequest(\n",
    "    project_id = project_id,\n",
    "    model_id = model.id,\n",
    "    comment = \"Deplying model as REST api model\",\n",
    "    file_path = \"model/model_endpoint.py\",\n",
    "    function_name = \"predict\",\n",
    "    kernel = \"python3\",\n",
    "    runtime_identifier = \"docker.repository.cloudera.com/cloudera/cdsw/ml-runtime-jupyterlab-python3.8-standard:2022.04.1-b6\"\n",
    ")\n",
    "\n",
    "modelBuild = client.create_model_build(\n",
    "    model_build_request, project_id, model.id\n",
    ")\n",
    "\n",
    "model_deployment = cmlapi.CreateModelDeploymentRequest(\n",
    "        project_id = project_id, \n",
    "        model_id = model.id, \n",
    "        build_id = modelBuild.id, \n",
    "        cpu = 1.00,\n",
    "        memory = 2.00,\n",
    "        replicas=4,\n",
    "    )\n",
    "\n",
    "model_deployment_response = client.create_model_deployment(\n",
    "        model_deployment, \n",
    "        project_id = project_id, \n",
    "        model_id = model.id, \n",
    "        build_id = modelBuild.id\n",
    "    )"
   ]
  },
  {
   "cell_type": "code",
   "execution_count": null,
   "id": "9983a30e-f504-4359-92de-a6115c2a641b",
   "metadata": {},
   "outputs": [],
   "source": []
  }
 ],
 "metadata": {
  "kernelspec": {
   "display_name": "Python 3 (ipykernel)",
   "language": "python",
   "name": "python3"
  },
  "language_info": {
   "codemirror_mode": {
    "name": "ipython",
    "version": 3
   },
   "file_extension": ".py",
   "mimetype": "text/x-python",
   "name": "python",
   "nbconvert_exporter": "python",
   "pygments_lexer": "ipython3",
   "version": "3.8.13"
  }
 },
 "nbformat": 4,
 "nbformat_minor": 5
}
